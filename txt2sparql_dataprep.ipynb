{
  "nbformat": 4,
  "nbformat_minor": 0,
  "metadata": {
    "colab": {
      "name": "txt2sparql-dataprep.ipynb",
      "provenance": [],
      "collapsed_sections": [],
      "authorship_tag": "ABX9TyPNWGymTzSIc+AEBftEbiop",
      "include_colab_link": true
    },
    "kernelspec": {
      "name": "python3",
      "display_name": "Python 3"
    },
    "language_info": {
      "name": "python"
    }
  },
  "cells": [
    {
      "cell_type": "markdown",
      "metadata": {
        "id": "view-in-github",
        "colab_type": "text"
      },
      "source": [
        "<a href=\"https://colab.research.google.com/github/yazdipour/rp2021/blob/main/txt2sparql_dataprep.ipynb\" target=\"_parent\"><img src=\"https://colab.research.google.com/assets/colab-badge.svg\" alt=\"Open In Colab\"/></a>"
      ]
    },
    {
      "cell_type": "code",
      "metadata": {
        "id": "Fc0EWil42KEy"
      },
      "source": [
        "import numpy as np\n",
        "import pandas as pd\n",
        "pd.options.display.max_colwidth = 150 #extend width"
      ],
      "execution_count": 8,
      "outputs": []
    },
    {
      "cell_type": "code",
      "metadata": {
        "id": "TV32lCnNtRNd"
      },
      "source": [
        "%matplotlib inline\n",
        "import matplotlib.pyplot as plt\n",
        "plt.style.use('seaborn-whitegrid')\n",
        "plt.rcParams[\"figure.figsize\"]=20,10 #increase plot size"
      ],
      "execution_count": 50,
      "outputs": []
    },
    {
      "cell_type": "code",
      "metadata": {
        "id": "Y--PHPc47JwW"
      },
      "source": [
        "def print_max_length(col):\n",
        "  print(col.name + ' max char length: ' + str(np.vectorize(len)(col.values.astype(str)).max(axis=0)))"
      ],
      "execution_count": 10,
      "outputs": []
    },
    {
      "cell_type": "code",
      "metadata": {
        "id": "MAW91d7Orzx5"
      },
      "source": [
        "def print_max_word(col):\n",
        "  print(col.name + ' max nr. words: ' + str((col.str.split().str.len()).max(axis=0)))"
      ],
      "execution_count": 11,
      "outputs": []
    },
    {
      "cell_type": "code",
      "metadata": {
        "id": "L3rm0dHc2KG4"
      },
      "source": [
        "def download_data_in_dataframe(url):\n",
        "  from urllib.request import urlopen\n",
        "  import json\n",
        "  import pandas as pd\n",
        "  response = urlopen(url)\n",
        "  json_data = response.read().decode('utf-8', 'replace')\n",
        "  d = json.loads(json_data)\n",
        "  df = pd.json_normalize(d[\"questions\"]).set_index('id')\n",
        "  return df"
      ],
      "execution_count": 12,
      "outputs": []
    },
    {
      "cell_type": "code",
      "metadata": {
        "id": "RgoLVjYZ9T5Z"
      },
      "source": [
        "def drop_columns(df):\n",
        "  del df['answertype']\n",
        "  del df['aggregation']\n",
        "  del df['onlydbo']\n",
        "  del df['hybrid']"
      ],
      "execution_count": 13,
      "outputs": []
    },
    {
      "cell_type": "code",
      "metadata": {
        "id": "VLqOERNG-Pzw"
      },
      "source": [
        "def save_csv_to_gdrive(df, filename):\n",
        "  from google.colab import drive\n",
        "  drive.mount('drive')\n",
        "  df.to_csv(filename)\n",
        "  !mkdir \"drive/My Drive/rp/\" -p\n",
        "  !cp \"{filename}\" \"drive/My Drive/rp/\""
      ],
      "execution_count": 14,
      "outputs": []
    },
    {
      "cell_type": "code",
      "metadata": {
        "id": "3zEEwg-8_Tye"
      },
      "source": [
        "def read_from_gdrive(filename):\n",
        "  from google.colab import drive\n",
        "  drive.mount('drive')\n",
        "  return pd.read_csv('drive/My Drive/rp/' + filename)"
      ],
      "execution_count": 15,
      "outputs": []
    },
    {
      "cell_type": "code",
      "metadata": {
        "id": "CZBfnks11-F_"
      },
      "source": [
        "trainingUrl=\"https://github.com/ag-sc/QALD/blob/master/9/data/qald-9-train-multilingual.json?raw=true\"\n",
        "testUrl=\"https://raw.githubusercontent.com/ag-sc/QALD/master/9/data/qald-9-test-multilingual.json\""
      ],
      "execution_count": 16,
      "outputs": []
    },
    {
      "cell_type": "code",
      "metadata": {
        "id": "l0D1a5s62KCw"
      },
      "source": [
        "df = download_data_in_dataframe(trainingUrl)"
      ],
      "execution_count": 17,
      "outputs": []
    },
    {
      "cell_type": "code",
      "metadata": {
        "colab": {
          "base_uri": "https://localhost:8080/",
          "height": 490
        },
        "id": "hgvkkURIe-aA",
        "outputId": "88d811ad-4988-41d6-e2aa-e65dcfcc640c"
      },
      "source": [
        "df.head()"
      ],
      "execution_count": 18,
      "outputs": [
        {
          "output_type": "execute_result",
          "data": {
            "text/html": [
              "<div>\n",
              "<style scoped>\n",
              "    .dataframe tbody tr th:only-of-type {\n",
              "        vertical-align: middle;\n",
              "    }\n",
              "\n",
              "    .dataframe tbody tr th {\n",
              "        vertical-align: top;\n",
              "    }\n",
              "\n",
              "    .dataframe thead th {\n",
              "        text-align: right;\n",
              "    }\n",
              "</style>\n",
              "<table border=\"1\" class=\"dataframe\">\n",
              "  <thead>\n",
              "    <tr style=\"text-align: right;\">\n",
              "      <th></th>\n",
              "      <th>answertype</th>\n",
              "      <th>aggregation</th>\n",
              "      <th>onlydbo</th>\n",
              "      <th>hybrid</th>\n",
              "      <th>question</th>\n",
              "      <th>answers</th>\n",
              "      <th>query.sparql</th>\n",
              "    </tr>\n",
              "    <tr>\n",
              "      <th>id</th>\n",
              "      <th></th>\n",
              "      <th></th>\n",
              "      <th></th>\n",
              "      <th></th>\n",
              "      <th></th>\n",
              "      <th></th>\n",
              "      <th></th>\n",
              "    </tr>\n",
              "  </thead>\n",
              "  <tbody>\n",
              "    <tr>\n",
              "      <th>1</th>\n",
              "      <td>resource</td>\n",
              "      <td>False</td>\n",
              "      <td>True</td>\n",
              "      <td>False</td>\n",
              "      <td>[{'language': 'de', 'string': 'Liste alle Brettspiele von GMT. ', 'keywords': 'Brettspiel ,  GMT'}, {'language': 'ru', 'string': 'Список все насто...</td>\n",
              "      <td>[{'head': {'vars': ['uri']}, 'results': {'bindings': [{'uri': {'type': 'uri', 'value': \"http://dbpedia.org/resource/Washington's_War\"}}, {'uri': {...</td>\n",
              "      <td>PREFIX dbo: &lt;http://dbpedia.org/ontology/&gt; PREFIX res: &lt;http://dbpedia.org/resource/&gt; PREFIX rdfs: &lt;http://www.w3.org/2000/01/rdf-schema#&gt; SELECT ...</td>\n",
              "    </tr>\n",
              "    <tr>\n",
              "      <th>2</th>\n",
              "      <td>resource</td>\n",
              "      <td>False</td>\n",
              "      <td>True</td>\n",
              "      <td>False</td>\n",
              "      <td>[{'language': 'de', 'string': 'Wer entwickelt Skype? ', 'keywords': 'entwickeln ,  Skype '}, {'language': 'ru', 'string': 'Кто развитая Skype? ', ...</td>\n",
              "      <td>[{'head': {'vars': ['uri']}, 'results': {'bindings': [{'uri': {'type': 'uri', 'value': 'http://dbpedia.org/resource/Microsoft'}}, {'uri': {'type':...</td>\n",
              "      <td>PREFIX dbo: &lt;http://dbpedia.org/ontology/&gt; PREFIX res: &lt;http://dbpedia.org/resource/&gt; PREFIX rdfs: &lt;http://www.w3.org/2000/01/rdf-schema#&gt; SELECT ...</td>\n",
              "    </tr>\n",
              "    <tr>\n",
              "      <th>3</th>\n",
              "      <td>resource</td>\n",
              "      <td>False</td>\n",
              "      <td>False</td>\n",
              "      <td>False</td>\n",
              "      <td>[{'language': 'de', 'string': 'Welche Menschen wurden geboren im Heraklion? ', 'keywords': 'Menschen ,  geboren ,  Heraklion '}, {'language': 'ru'...</td>\n",
              "      <td>[{'head': {'vars': ['uri']}, 'results': {'bindings': [{'uri': {'type': 'uri', 'value': 'http://dbpedia.org/resource/Kapsetaki_duo'}}, {'uri': {'ty...</td>\n",
              "      <td>PREFIX yago: &lt;http://dbpedia.org/class/yago/&gt; PREFIX rdfs: &lt;http://www.w3.org/2000/01/rdf-schema#&gt; PREFIX rdf: &lt;http://www.w3.org/1999/02/22-rdf-s...</td>\n",
              "    </tr>\n",
              "    <tr>\n",
              "      <th>4</th>\n",
              "      <td>resource</td>\n",
              "      <td>False</td>\n",
              "      <td>True</td>\n",
              "      <td>False</td>\n",
              "      <td>[{'language': 'de', 'string': 'Im welche US Zustand ist Bereich 51 gelegen? ', 'keywords': 'Bereich 51 ,  gelegen ,  US Zustand '}, {'language': '...</td>\n",
              "      <td>[{'head': {'vars': ['uri']}, 'results': {'bindings': [{'uri': {'type': 'uri', 'value': 'http://dbpedia.org/resource/Nevada'}}, {'uri': {'type': 'u...</td>\n",
              "      <td>PREFIX dbo: &lt;http://dbpedia.org/ontology/&gt; PREFIX res: &lt;http://dbpedia.org/resource/&gt; PREFIX rdfs: &lt;http://www.w3.org/2000/01/rdf-schema#&gt; SELECT ...</td>\n",
              "    </tr>\n",
              "    <tr>\n",
              "      <th>5</th>\n",
              "      <td>resource</td>\n",
              "      <td>False</td>\n",
              "      <td>True</td>\n",
              "      <td>False</td>\n",
              "      <td>[{'language': 'de', 'string': 'Wer ist der Bürgermeister von New York City?', 'keywords': 'New York City, Bürgermeister'}, {'language': 'ru', 'str...</td>\n",
              "      <td>[{'head': {'vars': ['uri']}, 'results': {'bindings': [{'uri': {'type': 'uri', 'value': 'http://dbpedia.org/resource/Bill_de_Blasio'}}]}}]</td>\n",
              "      <td>PREFIX dbo: &lt;http://dbpedia.org/ontology/&gt; PREFIX res: &lt;http://dbpedia.org/resource/&gt; SELECT DISTINCT ?uri WHERE { res:New_York_City dbo:leaderNam...</td>\n",
              "    </tr>\n",
              "  </tbody>\n",
              "</table>\n",
              "</div>"
            ],
            "text/plain": [
              "   answertype  ...                                                                                                                                           query.sparql\n",
              "id             ...                                                                                                                                                       \n",
              "1    resource  ...  PREFIX dbo: <http://dbpedia.org/ontology/> PREFIX res: <http://dbpedia.org/resource/> PREFIX rdfs: <http://www.w3.org/2000/01/rdf-schema#> SELECT ...\n",
              "2    resource  ...  PREFIX dbo: <http://dbpedia.org/ontology/> PREFIX res: <http://dbpedia.org/resource/> PREFIX rdfs: <http://www.w3.org/2000/01/rdf-schema#> SELECT ...\n",
              "3    resource  ...  PREFIX yago: <http://dbpedia.org/class/yago/> PREFIX rdfs: <http://www.w3.org/2000/01/rdf-schema#> PREFIX rdf: <http://www.w3.org/1999/02/22-rdf-s...\n",
              "4    resource  ...  PREFIX dbo: <http://dbpedia.org/ontology/> PREFIX res: <http://dbpedia.org/resource/> PREFIX rdfs: <http://www.w3.org/2000/01/rdf-schema#> SELECT ...\n",
              "5    resource  ...  PREFIX dbo: <http://dbpedia.org/ontology/> PREFIX res: <http://dbpedia.org/resource/> SELECT DISTINCT ?uri WHERE { res:New_York_City dbo:leaderNam...\n",
              "\n",
              "[5 rows x 7 columns]"
            ]
          },
          "metadata": {
            "tags": []
          },
          "execution_count": 18
        }
      ]
    },
    {
      "cell_type": "code",
      "metadata": {
        "colab": {
          "base_uri": "https://localhost:8080/"
        },
        "id": "dwfe8SAX2Ju6",
        "outputId": "028258e2-3090-48ce-f6ce-5423289f7fc3"
      },
      "source": [
        "print(df['answertype'].value_counts())\n",
        "print(df['aggregation'].value_counts())\n",
        "print(df['onlydbo'].value_counts())\n",
        "print(df['hybrid'].value_counts())"
      ],
      "execution_count": 19,
      "outputs": [
        {
          "output_type": "stream",
          "text": [
            "resource    292\n",
            "number       52\n",
            "boolean      37\n",
            "date         15\n",
            "string       11\n",
            "uri           1\n",
            "Name: answertype, dtype: int64\n",
            "False    382\n",
            "True      26\n",
            "Name: aggregation, dtype: int64\n",
            "True     396\n",
            "False     12\n",
            "Name: onlydbo, dtype: int64\n",
            "False    408\n",
            "Name: hybrid, dtype: int64\n"
          ],
          "name": "stdout"
        }
      ]
    },
    {
      "cell_type": "code",
      "metadata": {
        "id": "Mpmp-dk04wjQ"
      },
      "source": [
        "drop_columns(df)"
      ],
      "execution_count": 20,
      "outputs": []
    },
    {
      "cell_type": "code",
      "metadata": {
        "id": "HMET5HKqEHRl"
      },
      "source": [
        "prefixesSet = set()\n",
        "def fillPrefixes(prefixString):\n",
        "  for z in prefixString.strip().split('PREFIX'):\n",
        "    if ':' in z: prefixesSet.add(z.strip())\n",
        "def excludePrefixes(x):\n",
        "  threshold = x.find(\"SELECT\")\n",
        "  if threshold == -1: threshold = x.find(\"ASK\")\n",
        "  prefix = x[:threshold]\n",
        "  q = x[threshold:]\n",
        "  fillPrefixes(prefix)\n",
        "  return q"
      ],
      "execution_count": 21,
      "outputs": []
    },
    {
      "cell_type": "code",
      "metadata": {
        "id": "6eiYAmXtC-vQ"
      },
      "source": [
        "def simplify_columns():\n",
        "  def simpleAnswer(answer):\n",
        "    try: \n",
        "      if 'boolean' in str(answer): return answer['boolean']\n",
        "      else: return answer['results']['bindings'][0][answer['head']['vars'][0]]['value']\n",
        "    except: \n",
        "      print('Failure - Returning None:' + str(answer))\n",
        "      return None\n",
        "  df.question = df.question.apply(lambda x: [z['string'] for z in x if z['language']=='en'][0])\n",
        "  df.answers = df.answers.apply(lambda x: simpleAnswer(x[0]))\n",
        "  df['sparql'] = df['query.sparql'].apply(lambda x: excludePrefixes(x))\n",
        "  df.rename(columns = {'query.sparql':'orig_query'}, inplace = True)"
      ],
      "execution_count": 22,
      "outputs": []
    },
    {
      "cell_type": "code",
      "metadata": {
        "id": "E7O_XPkKC5bE"
      },
      "source": [
        "simplify_columns()"
      ],
      "execution_count": 23,
      "outputs": []
    },
    {
      "cell_type": "code",
      "metadata": {
        "colab": {
          "base_uri": "https://localhost:8080/",
          "height": 405
        },
        "id": "6i_99vZrDrsk",
        "outputId": "0dd73e5f-1677-4080-9f4c-8b2ae9778a2b"
      },
      "source": [
        "df.head()"
      ],
      "execution_count": 24,
      "outputs": [
        {
          "output_type": "execute_result",
          "data": {
            "text/html": [
              "<div>\n",
              "<style scoped>\n",
              "    .dataframe tbody tr th:only-of-type {\n",
              "        vertical-align: middle;\n",
              "    }\n",
              "\n",
              "    .dataframe tbody tr th {\n",
              "        vertical-align: top;\n",
              "    }\n",
              "\n",
              "    .dataframe thead th {\n",
              "        text-align: right;\n",
              "    }\n",
              "</style>\n",
              "<table border=\"1\" class=\"dataframe\">\n",
              "  <thead>\n",
              "    <tr style=\"text-align: right;\">\n",
              "      <th></th>\n",
              "      <th>question</th>\n",
              "      <th>answers</th>\n",
              "      <th>orig_query</th>\n",
              "      <th>sparql</th>\n",
              "    </tr>\n",
              "    <tr>\n",
              "      <th>id</th>\n",
              "      <th></th>\n",
              "      <th></th>\n",
              "      <th></th>\n",
              "      <th></th>\n",
              "    </tr>\n",
              "  </thead>\n",
              "  <tbody>\n",
              "    <tr>\n",
              "      <th>1</th>\n",
              "      <td>List all boardgames by GMT.</td>\n",
              "      <td>http://dbpedia.org/resource/Washington's_War</td>\n",
              "      <td>PREFIX dbo: &lt;http://dbpedia.org/ontology/&gt; PREFIX res: &lt;http://dbpedia.org/resource/&gt; PREFIX rdfs: &lt;http://www.w3.org/2000/01/rdf-schema#&gt; SELECT ...</td>\n",
              "      <td>SELECT ?uri WHERE { ?uri dbo:publisher res:GMT_Games }</td>\n",
              "    </tr>\n",
              "    <tr>\n",
              "      <th>2</th>\n",
              "      <td>Who developed Skype?</td>\n",
              "      <td>http://dbpedia.org/resource/Microsoft</td>\n",
              "      <td>PREFIX dbo: &lt;http://dbpedia.org/ontology/&gt; PREFIX res: &lt;http://dbpedia.org/resource/&gt; PREFIX rdfs: &lt;http://www.w3.org/2000/01/rdf-schema#&gt; SELECT ...</td>\n",
              "      <td>SELECT DISTINCT ?uri WHERE { res:Skype dbo:developer ?uri. }</td>\n",
              "    </tr>\n",
              "    <tr>\n",
              "      <th>3</th>\n",
              "      <td>Which people were born in Heraklion?</td>\n",
              "      <td>http://dbpedia.org/resource/Kapsetaki_duo</td>\n",
              "      <td>PREFIX yago: &lt;http://dbpedia.org/class/yago/&gt; PREFIX rdfs: &lt;http://www.w3.org/2000/01/rdf-schema#&gt; PREFIX rdf: &lt;http://www.w3.org/1999/02/22-rdf-s...</td>\n",
              "      <td>SELECT DISTINCT ?uri WHERE { ?uri rdf:type onto:Person ; onto:birthPlace &lt;http://dbpedia.org/resource/Heraklion&gt;. }</td>\n",
              "    </tr>\n",
              "    <tr>\n",
              "      <th>4</th>\n",
              "      <td>In which U.S. state is Area 51 located?</td>\n",
              "      <td>http://dbpedia.org/resource/Nevada</td>\n",
              "      <td>PREFIX dbo: &lt;http://dbpedia.org/ontology/&gt; PREFIX res: &lt;http://dbpedia.org/resource/&gt; PREFIX rdfs: &lt;http://www.w3.org/2000/01/rdf-schema#&gt; SELECT ...</td>\n",
              "      <td>SELECT DISTINCT ?uri WHERE { res:Area_51 dbo:location ?uri . ?uri dbo:country res:United_States. }</td>\n",
              "    </tr>\n",
              "    <tr>\n",
              "      <th>5</th>\n",
              "      <td>Who is the mayor of New York City?</td>\n",
              "      <td>http://dbpedia.org/resource/Bill_de_Blasio</td>\n",
              "      <td>PREFIX dbo: &lt;http://dbpedia.org/ontology/&gt; PREFIX res: &lt;http://dbpedia.org/resource/&gt; SELECT DISTINCT ?uri WHERE { res:New_York_City dbo:leaderNam...</td>\n",
              "      <td>SELECT DISTINCT ?uri WHERE { res:New_York_City dbo:leaderName ?uri }</td>\n",
              "    </tr>\n",
              "  </tbody>\n",
              "</table>\n",
              "</div>"
            ],
            "text/plain": [
              "                                   question  ...                                                                                                               sparql\n",
              "id                                           ...                                                                                                                     \n",
              "1               List all boardgames by GMT.  ...                                                               SELECT ?uri WHERE { ?uri dbo:publisher res:GMT_Games }\n",
              "2                      Who developed Skype?  ...                                                         SELECT DISTINCT ?uri WHERE { res:Skype dbo:developer ?uri. }\n",
              "3      Which people were born in Heraklion?  ...  SELECT DISTINCT ?uri WHERE { ?uri rdf:type onto:Person ; onto:birthPlace <http://dbpedia.org/resource/Heraklion>. }\n",
              "4   In which U.S. state is Area 51 located?  ...                   SELECT DISTINCT ?uri WHERE { res:Area_51 dbo:location ?uri . ?uri dbo:country res:United_States. }\n",
              "5        Who is the mayor of New York City?  ...                                                 SELECT DISTINCT ?uri WHERE { res:New_York_City dbo:leaderName ?uri }\n",
              "\n",
              "[5 rows x 4 columns]"
            ]
          },
          "metadata": {
            "tags": []
          },
          "execution_count": 24
        }
      ]
    },
    {
      "cell_type": "markdown",
      "metadata": {
        "id": "dgwJG9Ukr2LQ"
      },
      "source": [
        "## Prefix"
      ]
    },
    {
      "cell_type": "markdown",
      "metadata": {
        "id": "-yok23rbeboz"
      },
      "source": [
        "```\n",
        "SELECT DISTINCT ?uri WHERE { ?uri rdf:type onto:Person ; onto:birthPlace <http://dbpedia.org/resource/Heraklion>. }\n",
        "\n",
        "\n",
        "PREFIX dbr: <http://dbpedia.org/resource/> SELECT DISTINCT ?uri WHERE { ?uri rdf:type onto:Person ; onto:birthPlace dbr:Heraklion. }\n",
        "```"
      ]
    },
    {
      "cell_type": "code",
      "metadata": {
        "colab": {
          "base_uri": "https://localhost:8080/"
        },
        "id": "rQNYeaTsJk-M",
        "outputId": "3b9e644d-830c-4aca-fd6f-e642d4241162"
      },
      "source": [
        "prefixesSet"
      ],
      "execution_count": 25,
      "outputs": [
        {
          "output_type": "execute_result",
          "data": {
            "text/plain": [
              "{'dbc: <http://dbpedia.org/resource/Category:>',\n",
              " 'dbo: <http://dbpedia.org/ontology/>',\n",
              " 'dbp: <http://dbpedia.org/property/>',\n",
              " 'dbr: <http://dbpedia.org/resource/>',\n",
              " 'dct: <http://purl.org/dc/terms/>',\n",
              " 'foaf:<http://xmlns.com/foaf/0.1/>',\n",
              " 'onto: <http://dbpedia.org/ontology/>',\n",
              " 'rdf: <http://www.w3.org/1999/02/22-rdf-syntax-ns#>',\n",
              " 'rdfs: <http://www.w3.org/2000/01/rdf-schema#>',\n",
              " 'res: <http://dbpedia.org/resource/>',\n",
              " 'skos: <http://www.w3.org/2004/02/skos/core#>',\n",
              " 'yago: <http://dbpedia.org/class/yago/>'}"
            ]
          },
          "metadata": {
            "tags": []
          },
          "execution_count": 25
        }
      ]
    },
    {
      "cell_type": "code",
      "metadata": {
        "id": "novaWS1ZtbUg"
      },
      "source": [
        "import re\n",
        "pz = [re.split(':\\s?<', p.replace('>','')) for p in prefixesSet]"
      ],
      "execution_count": 26,
      "outputs": []
    },
    {
      "cell_type": "code",
      "metadata": {
        "colab": {
          "base_uri": "https://localhost:8080/"
        },
        "id": "8iOfXct1tp_Q",
        "outputId": "7ebcc380-3fb8-4713-cd4a-e456e8984f65"
      },
      "source": [
        "pz"
      ],
      "execution_count": 27,
      "outputs": [
        {
          "output_type": "execute_result",
          "data": {
            "text/plain": [
              "[['dbc', 'http://dbpedia.org/resource/Category:'],\n",
              " ['dbr', 'http://dbpedia.org/resource/'],\n",
              " ['dbo', 'http://dbpedia.org/ontology/'],\n",
              " ['dbp', 'http://dbpedia.org/property/'],\n",
              " ['foaf', 'http://xmlns.com/foaf/0.1/'],\n",
              " ['dct', 'http://purl.org/dc/terms/'],\n",
              " ['rdf', 'http://www.w3.org/1999/02/22-rdf-syntax-ns#'],\n",
              " ['rdfs', 'http://www.w3.org/2000/01/rdf-schema#'],\n",
              " ['yago', 'http://dbpedia.org/class/yago/'],\n",
              " ['skos', 'http://www.w3.org/2004/02/skos/core#'],\n",
              " ['res', 'http://dbpedia.org/resource/'],\n",
              " ['onto', 'http://dbpedia.org/ontology/']]"
            ]
          },
          "metadata": {
            "tags": []
          },
          "execution_count": 27
        }
      ]
    },
    {
      "cell_type": "code",
      "metadata": {
        "colab": {
          "base_uri": "https://localhost:8080/"
        },
        "id": "HGpeEp56sC4X",
        "outputId": "a72b844d-3de0-43b9-b669-f19962b6b9ae"
      },
      "source": [
        "df[df['sparql'].str.contains(r'<http://www.w3.org/1999/02/22-rdf-syntax-ns', na=True)].sparql"
      ],
      "execution_count": 28,
      "outputs": [
        {
          "output_type": "execute_result",
          "data": {
            "text/plain": [
              "id\n",
              "68     SELECT DISTINCT ?uri WHERE { ?uri <http://www.w3.org/1999/02/22-rdf-syntax-ns#type> <http://dbpedia.org/ontology/WorldHeritageSite> . { ?uri <http...\n",
              "69     SELECT DISTINCT ?uri WHERE { ?uri <http://www.w3.org/1999/02/22-rdf-syntax-ns#type> <http://dbpedia.org/ontology/Actor> . ?uri <http://dbpedia.org...\n",
              "84     SELECT DISTINCT ?uri WHERE { ?film <http://www.w3.org/1999/02/22-rdf-syntax-ns#type> <http://dbpedia.org/ontology/Film> . ?film <http://dbpedia.or...\n",
              "110    SELECT DISTINCT ?uri WHERE { ?uri <http://www.w3.org/1999/02/22-rdf-syntax-ns#type> <http://dbpedia.org/ontology/Country> . ?uri <http://dbpedia.o...\n",
              "121    SELECT DISTINCT ?uri WHERE { ?uri <http://dbpedia.org/ontology/occupation> <http://dbpedia.org/resource/Poet> . ?x <http://dbpedia.org/ontology/au...\n",
              "123    SELECT DISTINCT ?uri WHERE { ?uri <http://dbpedia.org/ontology/occupation> <http://dbpedia.org/resource/Musician> . ?x <http://dbpedia.org/ontolog...\n",
              "128    SELECT DISTINCT ?uri WHERE { ?uri foaf:surname 'Baldwin'@en . { ?uri <http://dbpedia.org/ontology/occupation> <http://dbpedia.org/resource/Actor> ...\n",
              "133    SELECT DISTINCT ?uri WHERE { ?uri <http://www.w3.org/1999/02/22-rdf-syntax-ns#type> <http://dbpedia.org/ontology/Actor> . ?f <http://www.w3.org/19...\n",
              "136    SELECT DISTINCT ?uri WHERE { ?uri <http://www.w3.org/1999/02/22-rdf-syntax-ns#type> <http://dbpedia.org/ontology/Song> . ?uri <http://dbpedia.org/...\n",
              "182    SELECT DISTINCT ?uri WHERE { ?uri <http://www.w3.org/1999/02/22-rdf-syntax-ns#type> <http://dbpedia.org/ontology/Film> . ?uri <http://dbpedia.org/...\n",
              "Name: sparql, dtype: object"
            ]
          },
          "metadata": {
            "tags": []
          },
          "execution_count": 28
        }
      ]
    },
    {
      "cell_type": "code",
      "metadata": {
        "id": "5AdmeZx1vcXr"
      },
      "source": [
        "def actually_use_prefix(s):\n",
        "  for p in pz:\n",
        "    res = \"<\" + p[1]\n",
        "    inx = s.find(res)\n",
        "    if inx != -1: return s[:inx] + s[inx:].replace( res , p[0]+':').replace('>', '', 1)\n",
        "  return s"
      ],
      "execution_count": 29,
      "outputs": []
    },
    {
      "cell_type": "code",
      "metadata": {
        "colab": {
          "base_uri": "https://localhost:8080/",
          "height": 35
        },
        "id": "XBY1d6VJ4hDT",
        "outputId": "63fa2b6c-eb2a-4ed6-bf1e-e631819b2da2"
      },
      "source": [
        "s = 'SELECT DISTINCT ?uri WHERE { ?uri rdf:type onto:<Person> ; onto:birthPlace <http://dbpedia.org/resource/Heraklion>. <aaa>}'\n",
        "actually_use_prefix(s)"
      ],
      "execution_count": 30,
      "outputs": [
        {
          "output_type": "execute_result",
          "data": {
            "application/vnd.google.colaboratory.intrinsic+json": {
              "type": "string"
            },
            "text/plain": [
              "'SELECT DISTINCT ?uri WHERE { ?uri rdf:type onto:<Person> ; onto:birthPlace dbr:Heraklion. <aaa>}'"
            ]
          },
          "metadata": {
            "tags": []
          },
          "execution_count": 30
        }
      ]
    },
    {
      "cell_type": "code",
      "metadata": {
        "id": "tBRC0CtE5JZw"
      },
      "source": [
        "df.sparql = df.sparql.apply(lambda x: actually_use_prefix(x))"
      ],
      "execution_count": 31,
      "outputs": []
    },
    {
      "cell_type": "code",
      "metadata": {
        "id": "kF2JtiNT8qum"
      },
      "source": [
        "def replace_dupl_prefix(s):\n",
        "  return s.replace('dbr:', 'res:').replace('dbo:','onto:')"
      ],
      "execution_count": 32,
      "outputs": []
    },
    {
      "cell_type": "code",
      "metadata": {
        "id": "XvRoMT8A85C1"
      },
      "source": [
        "df.sparql = df.sparql.apply(lambda x: replace_dupl_prefix(x))"
      ],
      "execution_count": 33,
      "outputs": []
    },
    {
      "cell_type": "code",
      "metadata": {
        "id": "oII-mZgv9qYg"
      },
      "source": [
        "# removing dbo dbr\n",
        "pz = [p for p in pz if not re.compile(r'dbo|dbr').search(p[0])]"
      ],
      "execution_count": 34,
      "outputs": []
    },
    {
      "cell_type": "code",
      "metadata": {
        "colab": {
          "base_uri": "https://localhost:8080/",
          "height": 405
        },
        "id": "KlBSlFtK5T2d",
        "outputId": "e3d74edb-970e-4757-db8d-1600862af4b6"
      },
      "source": [
        "df.head()"
      ],
      "execution_count": 35,
      "outputs": [
        {
          "output_type": "execute_result",
          "data": {
            "text/html": [
              "<div>\n",
              "<style scoped>\n",
              "    .dataframe tbody tr th:only-of-type {\n",
              "        vertical-align: middle;\n",
              "    }\n",
              "\n",
              "    .dataframe tbody tr th {\n",
              "        vertical-align: top;\n",
              "    }\n",
              "\n",
              "    .dataframe thead th {\n",
              "        text-align: right;\n",
              "    }\n",
              "</style>\n",
              "<table border=\"1\" class=\"dataframe\">\n",
              "  <thead>\n",
              "    <tr style=\"text-align: right;\">\n",
              "      <th></th>\n",
              "      <th>question</th>\n",
              "      <th>answers</th>\n",
              "      <th>orig_query</th>\n",
              "      <th>sparql</th>\n",
              "    </tr>\n",
              "    <tr>\n",
              "      <th>id</th>\n",
              "      <th></th>\n",
              "      <th></th>\n",
              "      <th></th>\n",
              "      <th></th>\n",
              "    </tr>\n",
              "  </thead>\n",
              "  <tbody>\n",
              "    <tr>\n",
              "      <th>1</th>\n",
              "      <td>List all boardgames by GMT.</td>\n",
              "      <td>http://dbpedia.org/resource/Washington's_War</td>\n",
              "      <td>PREFIX dbo: &lt;http://dbpedia.org/ontology/&gt; PREFIX res: &lt;http://dbpedia.org/resource/&gt; PREFIX rdfs: &lt;http://www.w3.org/2000/01/rdf-schema#&gt; SELECT ...</td>\n",
              "      <td>SELECT ?uri WHERE { ?uri onto:publisher res:GMT_Games }</td>\n",
              "    </tr>\n",
              "    <tr>\n",
              "      <th>2</th>\n",
              "      <td>Who developed Skype?</td>\n",
              "      <td>http://dbpedia.org/resource/Microsoft</td>\n",
              "      <td>PREFIX dbo: &lt;http://dbpedia.org/ontology/&gt; PREFIX res: &lt;http://dbpedia.org/resource/&gt; PREFIX rdfs: &lt;http://www.w3.org/2000/01/rdf-schema#&gt; SELECT ...</td>\n",
              "      <td>SELECT DISTINCT ?uri WHERE { res:Skype onto:developer ?uri. }</td>\n",
              "    </tr>\n",
              "    <tr>\n",
              "      <th>3</th>\n",
              "      <td>Which people were born in Heraklion?</td>\n",
              "      <td>http://dbpedia.org/resource/Kapsetaki_duo</td>\n",
              "      <td>PREFIX yago: &lt;http://dbpedia.org/class/yago/&gt; PREFIX rdfs: &lt;http://www.w3.org/2000/01/rdf-schema#&gt; PREFIX rdf: &lt;http://www.w3.org/1999/02/22-rdf-s...</td>\n",
              "      <td>SELECT DISTINCT ?uri WHERE { ?uri rdf:type onto:Person ; onto:birthPlace res:Heraklion. }</td>\n",
              "    </tr>\n",
              "    <tr>\n",
              "      <th>4</th>\n",
              "      <td>In which U.S. state is Area 51 located?</td>\n",
              "      <td>http://dbpedia.org/resource/Nevada</td>\n",
              "      <td>PREFIX dbo: &lt;http://dbpedia.org/ontology/&gt; PREFIX res: &lt;http://dbpedia.org/resource/&gt; PREFIX rdfs: &lt;http://www.w3.org/2000/01/rdf-schema#&gt; SELECT ...</td>\n",
              "      <td>SELECT DISTINCT ?uri WHERE { res:Area_51 onto:location ?uri . ?uri onto:country res:United_States. }</td>\n",
              "    </tr>\n",
              "    <tr>\n",
              "      <th>5</th>\n",
              "      <td>Who is the mayor of New York City?</td>\n",
              "      <td>http://dbpedia.org/resource/Bill_de_Blasio</td>\n",
              "      <td>PREFIX dbo: &lt;http://dbpedia.org/ontology/&gt; PREFIX res: &lt;http://dbpedia.org/resource/&gt; SELECT DISTINCT ?uri WHERE { res:New_York_City dbo:leaderNam...</td>\n",
              "      <td>SELECT DISTINCT ?uri WHERE { res:New_York_City onto:leaderName ?uri }</td>\n",
              "    </tr>\n",
              "  </tbody>\n",
              "</table>\n",
              "</div>"
            ],
            "text/plain": [
              "                                   question  ...                                                                                                sparql\n",
              "id                                           ...                                                                                                      \n",
              "1               List all boardgames by GMT.  ...                                               SELECT ?uri WHERE { ?uri onto:publisher res:GMT_Games }\n",
              "2                      Who developed Skype?  ...                                         SELECT DISTINCT ?uri WHERE { res:Skype onto:developer ?uri. }\n",
              "3      Which people were born in Heraklion?  ...             SELECT DISTINCT ?uri WHERE { ?uri rdf:type onto:Person ; onto:birthPlace res:Heraklion. }\n",
              "4   In which U.S. state is Area 51 located?  ...  SELECT DISTINCT ?uri WHERE { res:Area_51 onto:location ?uri . ?uri onto:country res:United_States. }\n",
              "5        Who is the mayor of New York City?  ...                                 SELECT DISTINCT ?uri WHERE { res:New_York_City onto:leaderName ?uri }\n",
              "\n",
              "[5 rows x 4 columns]"
            ]
          },
          "metadata": {
            "tags": []
          },
          "execution_count": 35
        }
      ]
    },
    {
      "cell_type": "code",
      "metadata": {
        "colab": {
          "base_uri": "https://localhost:8080/"
        },
        "id": "yZKDWCDG6PW3",
        "outputId": "e24afb74-26e9-4509-83f8-2e4a6aec633f"
      },
      "source": [
        "print_max_length(df.question)\n",
        "\n",
        "print_max_length(df.sparql)\n",
        "print_max_length(df.orig_query)\n",
        "\n",
        "print_max_word(df.sparql)\n",
        "print_max_word(df.orig_query)"
      ],
      "execution_count": 38,
      "outputs": [
        {
          "output_type": "stream",
          "text": [
            "question max char length: 85\n",
            "sparql max char length: 410\n",
            "orig_query max char length: 461\n",
            "sparql max nr. words: 37\n",
            "orig_query max nr. words: 44\n"
          ],
          "name": "stdout"
        }
      ]
    },
    {
      "cell_type": "code",
      "metadata": {
        "id": "7e0EiTcT8PYb",
        "colab": {
          "base_uri": "https://localhost:8080/"
        },
        "outputId": "0adbb3e7-277c-48ec-9737-2075ce3a1699"
      },
      "source": [
        "df.sparql.str.split().str.get(0).value_counts()"
      ],
      "execution_count": 39,
      "outputs": [
        {
          "output_type": "execute_result",
          "data": {
            "text/plain": [
              "SELECT    371\n",
              "ASK        37\n",
              "Name: sparql, dtype: int64"
            ]
          },
          "metadata": {
            "tags": []
          },
          "execution_count": 39
        }
      ]
    },
    {
      "cell_type": "code",
      "metadata": {
        "id": "dKqdyLj-madP"
      },
      "source": [
        "save_csv_to_gdrive(df, '04-19-2021-train.csv')"
      ],
      "execution_count": null,
      "outputs": []
    },
    {
      "cell_type": "code",
      "metadata": {
        "id": "hISJEqkanXem"
      },
      "source": [
        "save_csv_to_gdrive(pd.DataFrame(pz).set_index(0), 'prefix.csv')"
      ],
      "execution_count": null,
      "outputs": []
    },
    {
      "cell_type": "code",
      "metadata": {
        "id": "h76ChgfdwFdd"
      },
      "source": [
        "def plot_nr_word(col, col2):\n",
        "  plt.plot((col.str.split().str.len()).value_counts().sort_index(), label = col.name)\n",
        "  plt.plot((col2.str.split().str.len()).value_counts().sort_index(), label = col.name)\n",
        "  plt.legend()\n",
        "  plt.show()"
      ],
      "execution_count": 73,
      "outputs": []
    },
    {
      "cell_type": "code",
      "metadata": {
        "id": "G3OX-AmFyp3S"
      },
      "source": [
        "def print_stats(col):\n",
        "  x = (col.str.split().str.len()).value_counts().sort_index()\n",
        "  print(\n",
        "      'kurtosis:', pd.DataFrame(x).kurtosis()[0],\n",
        "       #For this measure, higher kurtosis corresponds to greater extremity of deviations (or outliers), and not the configuration of data near the mean.\n",
        "      '\\nskew:',   pd.DataFrame(x).skew()[0]\n",
        "  )"
      ],
      "execution_count": 75,
      "outputs": []
    },
    {
      "cell_type": "markdown",
      "metadata": {
        "id": "gWb_4f2C0xvz"
      },
      "source": [
        "![](https://upload.wikimedia.org/wikipedia/commons/c/cc/Relationship_between_mean_and_median_under_different_skewness.png)\n",
        "\n",
        "![](https://upload.wikimedia.org/wikipedia/commons/f/f8/Negative_and_positive_skew_diagrams_%28English%29.svg)"
      ]
    },
    {
      "cell_type": "code",
      "metadata": {
        "colab": {
          "base_uri": "https://localhost:8080/"
        },
        "id": "YMvhgjoczqsz",
        "outputId": "7c6bd7da-a0ab-4b5e-86b4-96803c570924"
      },
      "source": [
        "print_stats(df.sparql)\n",
        "print_stats(df.orig_query)"
      ],
      "execution_count": 76,
      "outputs": [
        {
          "output_type": "stream",
          "text": [
            "kurtosis: 18.03908480137187 \n",
            "skew: 4.047368876023154\n",
            "kurtosis: 11.85842939385114 \n",
            "skew: 3.1398147874773956\n"
          ],
          "name": "stdout"
        }
      ]
    },
    {
      "cell_type": "code",
      "metadata": {
        "colab": {
          "base_uri": "https://localhost:8080/",
          "height": 588
        },
        "id": "MTGqnKK1v2wd",
        "outputId": "c63ce35a-ac30-4520-bb85-8718e0bd6c87"
      },
      "source": [
        "plot_nr_word(df.sparql, df.orig_query)"
      ],
      "execution_count": 74,
      "outputs": [
        {
          "output_type": "display_data",
          "data": {
            "image/png": "[encoded data removed]",
            "text/plain": [
              "<Figure size 1440x720 with 1 Axes>"
            ]
          },
          "metadata": {
            "tags": []
          }
        }
      ]
    }
  ]
}