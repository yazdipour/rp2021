{
  "nbformat": 4,
  "nbformat_minor": 0,
  "metadata": {
    "colab": {
      "name": "try-tree-sitter.ipynb",
      "provenance": [],
      "authorship_tag": "ABX9TyM+c0t6iC+jeNUoRMAo8wEn",
      "include_colab_link": true
    },
    "kernelspec": {
      "name": "python3",
      "display_name": "Python 3"
    },
    "language_info": {
      "name": "python"
    }
  },
  "cells": [
    {
      "cell_type": "markdown",
      "metadata": {
        "id": "view-in-github",
        "colab_type": "text"
      },
      "source": [
        "<a href=\"https://colab.research.google.com/github/yazdipour/rp2021/blob/main/try_sparql_tree_sitter.ipynb\" target=\"_parent\"><img src=\"https://colab.research.google.com/assets/colab-badge.svg\" alt=\"Open In Colab\"/></a>"
      ]
    },
    {
      "cell_type": "code",
      "metadata": {
        "id": "kXhd5s8lWDS6"
      },
      "source": [
        "!pip install tree_sitter -qqq\n",
        "!git clone https://github.com/BonaBeavis/tree-sitter-sparql"
      ],
      "execution_count": null,
      "outputs": []
    },
    {
      "cell_type": "code",
      "metadata": {
        "id": "Ci2sdC0xyLeS"
      },
      "source": [
        "from tree_sitter import Language, Parser\n",
        "\n",
        "Language.build_library(\n",
        "  'build/my-languages.so',\n",
        "  ['tree-sitter-sparql']\n",
        ")\n",
        "\n",
        "SPARQL_LANGUAGE = Language('build/my-languages.so', 'sparql')\n",
        "parser = Parser()\n",
        "parser.set_language(SPARQL_LANGUAGE)"
      ],
      "execution_count": 4,
      "outputs": []
    },
    {
      "cell_type": "code",
      "metadata": {
        "id": "MgR59ORpyeGv"
      },
      "source": [
        "code = 'PREFIX foaf:  <http://xmlns.com/foaf/0.1/> SELECT ?name WHERE { ?person foaf:name ?name . }'"
      ],
      "execution_count": 7,
      "outputs": []
    },
    {
      "cell_type": "code",
      "metadata": {
        "id": "ZZRUwY_jySkB"
      },
      "source": [
        "tree = parser.parse(bytes(code, \"utf8\"))"
      ],
      "execution_count": 8,
      "outputs": []
    },
    {
      "cell_type": "code",
      "metadata": {
        "colab": {
          "base_uri": "https://localhost:8080/"
        },
        "id": "ghW_66oRyvbz",
        "outputId": "1e9db0db-0527-4122-e564-32a9f24522fb"
      },
      "source": [
        "tree.root_node.children"
      ],
      "execution_count": 13,
      "outputs": [
        {
          "output_type": "execute_result",
          "data": {
            "text/plain": [
              "[<Node kind=prologue, start_point=(0, 0), end_point=(0, 42)>,\n",
              " <Node kind=select_query, start_point=(0, 43), end_point=(0, 91)>]"
            ]
          },
          "metadata": {
            "tags": []
          },
          "execution_count": 13
        }
      ]
    },
    {
      "cell_type": "code",
      "metadata": {
        "colab": {
          "base_uri": "https://localhost:8080/"
        },
        "id": "vJFyCRuny8QK",
        "outputId": "bb26a4fc-dcb3-422a-da26-32baa1cf0409"
      },
      "source": [
        "tree.root_node.children[1].children"
      ],
      "execution_count": 22,
      "outputs": [
        {
          "output_type": "execute_result",
          "data": {
            "text/plain": [
              "[<Node kind=select_clause, start_point=(0, 43), end_point=(0, 55)>,\n",
              " <Node kind=where_clause, start_point=(0, 56), end_point=(0, 91)>]"
            ]
          },
          "metadata": {
            "tags": []
          },
          "execution_count": 22
        }
      ]
    }
  ]
}