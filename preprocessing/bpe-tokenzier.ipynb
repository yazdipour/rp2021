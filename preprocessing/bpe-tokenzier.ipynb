{
 "metadata": {
  "language_info": {
   "codemirror_mode": {
    "name": "ipython",
    "version": 3
   },
   "file_extension": ".py",
   "mimetype": "text/x-python",
   "name": "python",
   "nbconvert_exporter": "python",
   "pygments_lexer": "ipython3",
   "version": "3.8.5"
  },
  "orig_nbformat": 2,
  "kernelspec": {
   "name": "python385jvsc74a57bd0767d51c1340bd893661ea55ea3124f6de3c7a262a8b4abca0554b478b1e2ff90",
   "display_name": "Python 3.8.5 64-bit ('usr')"
  },
  "metadata": {
   "interpreter": {
    "hash": "767d51c1340bd893661ea55ea3124f6de3c7a262a8b4abca0554b478b1e2ff90"
   }
  }
 },
 "nbformat": 4,
 "nbformat_minor": 2,
 "cells": [
  {
   "cell_type": "code",
   "execution_count": 41,
   "metadata": {},
   "outputs": [],
   "source": [
    "paths = ['data/04-19-2021-train-sparql.txt']\n",
    "tokenizerDir = 'data/tokenizer-2021-05-30'"
   ]
  },
  {
   "cell_type": "code",
   "execution_count": 7,
   "metadata": {},
   "outputs": [],
   "source": [
    "import pandas as pd\r\n",
    "df = pd.read_csv('data/04-19-2021-train.csv')"
   ]
  },
  {
   "cell_type": "code",
   "execution_count": 44,
   "metadata": {},
   "outputs": [],
   "source": [
    "df.sparql.str.lower().to_csv(paths[0], sep=' ', index=False, header=False, quotechar=' ')\n"
   ]
  },
  {
   "cell_type": "code",
   "execution_count": 33,
   "metadata": {},
   "outputs": [],
   "source": [
    "from tokenizers import ByteLevelBPETokenizer\n",
    "tokenizer = ByteLevelBPETokenizer()"
   ]
  },
  {
   "cell_type": "code",
   "execution_count": 45,
   "metadata": {},
   "outputs": [],
   "source": [
    "tokenizer.train(files=paths, vocab_size=52_000, min_frequency=2, special_tokens=[\n",
    "    \"<s>\",\n",
    "    \"<pad>\",\n",
    "    \"</s>\",\n",
    "    \"<unk>\",\n",
    "    \"<mask>\",\n",
    "])"
   ]
  },
  {
   "cell_type": "code",
   "execution_count": 46,
   "metadata": {},
   "outputs": [
    {
     "output_type": "execute_result",
     "data": {
      "text/plain": [
       "['data/tokenizer-2021-05-30/vocab.json',\n",
       " 'data/tokenizer-2021-05-30/merges.txt']"
      ]
     },
     "metadata": {},
     "execution_count": 46
    }
   ],
   "source": [
    "!mkdir {tokenizerDir}\n",
    "tokenizer.save_model(tokenizerDir)"
   ]
  },
  {
   "cell_type": "code",
   "execution_count": 49,
   "metadata": {},
   "outputs": [],
   "source": [
    "sample = 'SELECT ?uri WHERE {?uri dbo:publisher dbr:GMT_Games}'.lower()\n",
    "t = tokenizer.encode(sample)"
   ]
  },
  {
   "cell_type": "code",
   "execution_count": 50,
   "metadata": {},
   "outputs": [
    {
     "output_type": "stream",
     "name": "stdout",
     "text": [
      "[274, 281, 262, 265, 279, 269, 35, 265, 267, 30, 864, 292, 30, 1358, 67, 753, 97]\n['se', 'lect', 'Ġ?', 'er', 'Ġwhere', 'in', '?', 'er', 'uri', ':', 'hav', 'ia', ':', 'gmt', '_', 'games', '}']\n"
     ]
    }
   ],
   "source": [
    "print(t.ids)\n",
    "print(t.tokens)"
   ]
  }
 ]
}