{
 "cells": [
  {
   "cell_type": "code",
   "execution_count": null,
   "metadata": {
    "id": "kXhd5s8lWDS6"
   },
   "outputs": [],
   "source": [
    "!pip install tree_sitter -qqq\n",
    "!git clone https://github.com/BonaBeavis/tree-sitter-sparql"
   ]
  },
  {
   "cell_type": "code",
   "execution_count": 4,
   "metadata": {
    "id": "Ci2sdC0xyLeS"
   },
   "outputs": [],
   "source": [
    "from tree_sitter import Language, Parser\n",
    "\n",
    "Language.build_library(\n",
    "  'build/my-languages.so',\n",
    "  ['tree-sitter-sparql']\n",
    ")\n",
    "\n",
    "SPARQL_LANGUAGE = Language('build/my-languages.so', 'sparql')\n",
    "parser = Parser()\n",
    "parser.set_language(SPARQL_LANGUAGE)"
   ]
  },
  {
   "cell_type": "code",
   "execution_count": 7,
   "metadata": {
    "id": "MgR59ORpyeGv"
   },
   "outputs": [],
   "source": [
    "code = 'PREFIX foaf:  <http://xmlns.com/foaf/0.1/> SELECT ?name WHERE { ?person foaf:name ?name . }'"
   ]
  },
  {
   "cell_type": "code",
   "execution_count": 8,
   "metadata": {
    "id": "ZZRUwY_jySkB"
   },
   "outputs": [],
   "source": [
    "tree = parser.parse(bytes(code, \"utf8\"))"
   ]
  },
  {
   "cell_type": "code",
   "execution_count": 13,
   "metadata": {
    "colab": {
     "base_uri": "https://localhost:8080/"
    },
    "id": "ghW_66oRyvbz",
    "outputId": "1e9db0db-0527-4122-e564-32a9f24522fb"
   },
   "outputs": [
    {
     "data": {
      "text/plain": [
       "[<Node kind=prologue, start_point=(0, 0), end_point=(0, 42)>,\n",
       " <Node kind=select_query, start_point=(0, 43), end_point=(0, 91)>]"
      ]
     },
     "execution_count": 13,
     "metadata": {
      "tags": []
     },
     "output_type": "execute_result"
    }
   ],
   "source": [
    "tree.root_node.children"
   ]
  },
  {
   "cell_type": "code",
   "execution_count": 22,
   "metadata": {
    "colab": {
     "base_uri": "https://localhost:8080/"
    },
    "id": "vJFyCRuny8QK",
    "outputId": "bb26a4fc-dcb3-422a-da26-32baa1cf0409"
   },
   "outputs": [
    {
     "data": {
      "text/plain": [
       "[<Node kind=select_clause, start_point=(0, 43), end_point=(0, 55)>,\n",
       " <Node kind=where_clause, start_point=(0, 56), end_point=(0, 91)>]"
      ]
     },
     "execution_count": 22,
     "metadata": {
      "tags": []
     },
     "output_type": "execute_result"
    }
   ],
   "source": [
    "tree.root_node.children[1].children"
   ]
  }
 ],
 "metadata": {
  "colab": {
   "authorship_tag": "ABX9TyM+c0t6iC+jeNUoRMAo8wEn",
   "include_colab_link": true,
   "name": "try-tree-sitter.ipynb",
   "provenance": []
  },
  "kernelspec": {
   "display_name": "Python 3",
   "language": "python",
   "name": "python3"
  },
  "language_info": {
   "codemirror_mode": {
    "name": "ipython",
    "version": 3
   },
   "file_extension": ".py",
   "mimetype": "text/x-python",
   "name": "python",
   "nbconvert_exporter": "python",
   "pygments_lexer": "ipython3",
   "version": "3.8.5"
  }
 },
 "nbformat": 4,
 "nbformat_minor": 1
}