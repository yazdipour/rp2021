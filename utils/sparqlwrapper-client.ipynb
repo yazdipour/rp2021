{
 "cells": [
  {
   "cell_type": "code",
   "execution_count": 1,
   "metadata": {
    "colab": {
     "base_uri": "https://localhost:8080/"
    },
    "executionInfo": {
     "elapsed": 5205,
     "status": "ok",
     "timestamp": 1611499772023,
     "user": {
      "displayName": "Shahriar Yazdipour",
      "photoUrl": "https://lh3.googleusercontent.com/a-/AOh14Gj7ldLv317JVrv6jtloGcYIgoqAhT08NCy6q5wtrA=s64",
      "userId": "06955205838397477388"
     },
     "user_tz": -60
    },
    "id": "WCQuuuEx3rWJ",
    "outputId": "f01cb6a8-e75d-4df1-cb29-bb96158c94af"
   },
   "outputs": [],
   "source": [
    "!pip install SPARQLWrapper -qqq"
   ]
  },
  {
   "cell_type": "code",
   "execution_count": 2,
   "metadata": {
    "id": "UmlxxDn63lNX"
   },
   "outputs": [],
   "source": [
    "from SPARQLWrapper import SPARQLWrapper, JSON"
   ]
  },
  {
   "cell_type": "code",
   "execution_count": 17,
   "metadata": {
    "executionInfo": {
     "elapsed": 878,
     "status": "ok",
     "timestamp": 1611500665968,
     "user": {
      "displayName": "Shahriar Yazdipour",
      "photoUrl": "https://lh3.googleusercontent.com/a-/AOh14Gj7ldLv317JVrv6jtloGcYIgoqAhT08NCy6q5wtrA=s64",
      "userId": "06955205838397477388"
     },
     "user_tz": -60
    },
    "id": "se3aJ1wb308N"
   },
   "outputs": [],
   "source": [
    "from SPARQLWrapper import SPARQLWrapper2"
   ]
  },
  {
   "cell_type": "code",
   "execution_count": 14,
   "metadata": {},
   "outputs": [],
   "source": [
    "def whatIs(term):\n",
    "  sparql = SPARQLWrapper(\"http://dbpedia.org/sparql\")\n",
    "  sql = \"\"\" \n",
    "  PREFIX w3-owl: <http://www.w3.org/2002/07/owl#>\n",
    "  SELECT ?thing, ?comment, ?label\n",
    "    WHERE {\n",
    "      ?thing rdf:type w3-owl:Thing.\n",
    "      ?thing rdfs:comment ?comment.\n",
    "      ?thing rdfs:label ?label.\n",
    "      FILTER regex(?label, \"^%s\", \"i\").\n",
    "      FILTER (lang(?comment) = 'en')\n",
    "    }\n",
    "  LIMIT 1\n",
    "  \"\"\" % ''.join((term))\n",
    "  print('1>> ' + sql)\n",
    "  sparql.setQuery(sql)\n",
    "\n",
    "  sparql.setReturnFormat(JSON)\n",
    "  results = sparql.query().convert()\n",
    "  print('2>> ' + str(results))\n",
    "  print('3>> ')\n",
    "  for result in results[\"results\"][\"bindings\"]:\n",
    "      print(result[\"comment\"][\"value\"])"
   ]
  },
  {
   "cell_type": "code",
   "execution_count": 15,
   "metadata": {},
   "outputs": [
    {
     "name": "stdout",
     "output_type": "stream",
     "text": [
      "1>>  \n",
      "  PREFIX w3-owl: <http://www.w3.org/2002/07/owl#>\n",
      "  SELECT ?thing, ?comment, ?label\n",
      "    WHERE {\n",
      "      ?thing rdf:type w3-owl:Thing.\n",
      "      ?thing rdfs:comment ?comment.\n",
      "      ?thing rdfs:label ?label.\n",
      "      FILTER regex(?label, \"^bit\", \"i\").\n",
      "      FILTER (lang(?comment) = 'en')\n",
      "    }\n",
      "  LIMIT 1\n",
      "  \n",
      "2>> {'head': {'link': [], 'vars': ['thing', 'comment', 'label']}, 'results': {'distinct': False, 'ordered': True, 'bindings': [{'thing': {'type': 'uri', 'value': 'http://dbpedia.org/resource/Biotechnology'}, 'comment': {'type': 'literal', 'xml:lang': 'en', 'value': 'Biotechnology is a broad area of biology, involving the use of living systems and organisms to develop or make products. Depending on the tools and applications, it often overlaps with related scientific fields. In the late 20th and early 21st centuries, biotechnology has expanded to include new and diverse sciences, such as genomics, recombinant gene techniques, applied immunology, and development of pharmaceutical therapies and diagnostic tests.'}, 'label': {'type': 'literal', 'xml:lang': 'ga', 'value': 'Biteicneolaíocht'}}]}}\n",
      "3>> \n",
      "Biotechnology is a broad area of biology, involving the use of living systems and organisms to develop or make products. Depending on the tools and applications, it often overlaps with related scientific fields. In the late 20th and early 21st centuries, biotechnology has expanded to include new and diverse sciences, such as genomics, recombinant gene techniques, applied immunology, and development of pharmaceutical therapies and diagnostic tests.\n"
     ]
    }
   ],
   "source": [
    "whatIs('bit')"
   ]
  },
  {
   "cell_type": "code",
   "execution_count": 19,
   "metadata": {},
   "outputs": [],
   "source": [
    "def whatIs2(term):\n",
    "  sparql = SPARQLWrapper2(\"http://dbpedia.org/sparql\")\n",
    "  sql = \"\"\" \n",
    "  PREFIX w3-owl: <http://www.w3.org/2002/07/owl#>\n",
    "  SELECT ?thing, ?comment, ?label\n",
    "    WHERE {\n",
    "      ?thing rdf:type w3-owl:Thing.\n",
    "      ?thing rdfs:comment ?comment.\n",
    "      ?thing rdfs:label ?label.\n",
    "      FILTER regex(?label, \"^%s\", \"i\").\n",
    "      FILTER (lang(?comment) = 'en')\n",
    "    }\n",
    "  LIMIT 1\n",
    "  \"\"\" % ''.join((term))\n",
    "  print('1>> ' + sql)\n",
    "  sparql.setQuery(sql)\n",
    "\n",
    "  for result in sparql.query().bindings:\n",
    "      print('%s: %s' % (result[\"label\"].lang, result[\"label\"].value))"
   ]
  },
  {
   "cell_type": "code",
   "execution_count": 20,
   "metadata": {},
   "outputs": [
    {
     "name": "stdout",
     "output_type": "stream",
     "text": [
      "1>>  \n",
      "  PREFIX w3-owl: <http://www.w3.org/2002/07/owl#>\n",
      "  SELECT ?thing, ?comment, ?label\n",
      "    WHERE {\n",
      "      ?thing rdf:type w3-owl:Thing.\n",
      "      ?thing rdfs:comment ?comment.\n",
      "      ?thing rdfs:label ?label.\n",
      "      FILTER regex(?label, \"^bitcoin\", \"i\").\n",
      "      FILTER (lang(?comment) = 'en')\n",
      "    }\n",
      "  LIMIT 1\n",
      "  \n",
      "en: Bitcoin Foundation\n"
     ]
    }
   ],
   "source": [
    "whatIs2('bitcoin')"
   ]
  },
  {
   "cell_type": "code",
   "execution_count": null,
   "metadata": {
    "id": "LMK15b3U38T3"
   },
   "outputs": [],
   "source": [
    "def toTerm(tagged_words):\n",
    "  if (tagged_words[0][1] == 'WP' and tagged_words[0][0] == 'What'):\n",
    "    term = ''\n",
    "    i = 0\n",
    "    for word in tagged_words:\n",
    "        if (word[1] != 'WP' and word[1] != '.'):\n",
    "            if (i == 0): term += word[0]\n",
    "            else: term += ' ' + word[0]\n",
    "            i += 1\n",
    "    return term"
   ]
  },
  {
   "cell_type": "code",
   "execution_count": null,
   "metadata": {
    "executionInfo": {
     "elapsed": 851,
     "status": "ok",
     "timestamp": 1611500626223,
     "user": {
      "displayName": "Shahriar Yazdipour",
      "photoUrl": "https://lh3.googleusercontent.com/a-/AOh14Gj7ldLv317JVrv6jtloGcYIgoqAhT08NCy6q5wtrA=s64",
      "userId": "06955205838397477388"
     },
     "user_tz": -60
    },
    "id": "pE_qEDDY4vtj"
   },
   "outputs": [],
   "source": [
    "t = toTerm([('What', 'WP'),\n",
    " ('bitcoin', 'NN'),\n",
    " ('?', '.')])"
   ]
  },
  {
   "cell_type": "code",
   "execution_count": null,
   "metadata": {
    "colab": {
     "base_uri": "https://localhost:8080/",
     "height": 35
    },
    "executionInfo": {
     "elapsed": 885,
     "status": "ok",
     "timestamp": 1611500630007,
     "user": {
      "displayName": "Shahriar Yazdipour",
      "photoUrl": "https://lh3.googleusercontent.com/a-/AOh14Gj7ldLv317JVrv6jtloGcYIgoqAhT08NCy6q5wtrA=s64",
      "userId": "06955205838397477388"
     },
     "user_tz": -60
    },
    "id": "02L4v14q47G8",
    "outputId": "f8219915-817b-4dbc-ced6-4e543a584ba4"
   },
   "outputs": [],
   "source": [
    "t"
   ]
  },
  {
   "cell_type": "code",
   "execution_count": null,
   "metadata": {
    "colab": {
     "base_uri": "https://localhost:8080/"
    },
    "executionInfo": {
     "elapsed": 6398,
     "status": "ok",
     "timestamp": 1611500673819,
     "user": {
      "displayName": "Shahriar Yazdipour",
      "photoUrl": "https://lh3.googleusercontent.com/a-/AOh14Gj7ldLv317JVrv6jtloGcYIgoqAhT08NCy6q5wtrA=s64",
      "userId": "06955205838397477388"
     },
     "user_tz": -60
    },
    "id": "3bsSZeCf4Fq6",
    "outputId": "84be64cd-ba27-4e9e-827c-a50f861ede36"
   },
   "outputs": [],
   "source": [
    "whatIs(t)"
   ]
  },
  {
   "cell_type": "code",
   "execution_count": null,
   "metadata": {},
   "outputs": [],
   "source": []
  }
 ],
 "metadata": {
  "colab": {
   "authorship_tag": "ABX9TyMkR24cN4Bb+oFcjsNVlRAy",
   "name": "sparql-client.ipynb",
   "provenance": []
  },
  "kernelspec": {
   "display_name": "Python 3",
   "language": "python",
   "name": "python3"
  },
  "language_info": {
   "codemirror_mode": {
    "name": "ipython",
    "version": 3
   },
   "file_extension": ".py",
   "mimetype": "text/x-python",
   "name": "python",
   "nbconvert_exporter": "python",
   "pygments_lexer": "ipython3",
   "version": "3.8.5"
  }
 },
 "nbformat": 4,
 "nbformat_minor": 1
}