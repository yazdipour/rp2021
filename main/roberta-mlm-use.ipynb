{
 "metadata": {
  "language_info": {
   "codemirror_mode": {
    "name": "ipython",
    "version": 3
   },
   "file_extension": ".py",
   "mimetype": "text/x-python",
   "name": "python",
   "nbconvert_exporter": "python",
   "pygments_lexer": "ipython3",
   "version": "3.8.5"
  },
  "orig_nbformat": 2,
  "kernelspec": {
   "name": "python385jvsc74a57bd0767d51c1340bd893661ea55ea3124f6de3c7a262a8b4abca0554b478b1e2ff90",
   "display_name": "Python 3.8.5 64-bit ('usr')"
  },
  "metadata": {
   "interpreter": {
    "hash": "767d51c1340bd893661ea55ea3124f6de3c7a262a8b4abca0554b478b1e2ff90"
   }
  }
 },
 "nbformat": 4,
 "nbformat_minor": 2,
 "cells": [
  {
   "cell_type": "code",
   "execution_count": 13,
   "metadata": {},
   "outputs": [],
   "source": [
    "%run -r params.py"
   ]
  },
  {
   "cell_type": "code",
   "execution_count": 14,
   "metadata": {},
   "outputs": [],
   "source": [
    "%run -r bpe-tokenizer-load.ipynb"
   ]
  },
  {
   "cell_type": "code",
   "execution_count": 15,
   "metadata": {},
   "outputs": [],
   "source": [
    "from transformers import RobertaForMaskedLM\n",
    "model = RobertaForMaskedLM.from_pretrained(model_roberta_mlm)#.to(\"cuda\")"
   ]
  },
  {
   "cell_type": "code",
   "execution_count": 39,
   "metadata": {},
   "outputs": [
    {
     "output_type": "execute_result",
     "data": {
      "text/plain": [
       "[{'sequence': 'SELECT? where',\n",
       "  'score': 0.09631776064634323,\n",
       "  'token': 279,\n",
       "  'token_str': ' where'},\n",
       " {'sequence': 'SELECT? ',\n",
       "  'score': 0.06965431571006775,\n",
       "  'token': 225,\n",
       "  'token_str': ' '},\n",
       " {'sequence': 'SELECT?:',\n",
       "  'score': 0.025731991976499557,\n",
       "  'token': 30,\n",
       "  'token_str': ':'},\n",
       " {'sequence': 'SELECT??',\n",
       "  'score': 0.01845799945294857,\n",
       "  'token': 262,\n",
       "  'token_str': '?'},\n",
       " {'sequence': 'SELECT?uri',\n",
       "  'score': 0.01422213762998581,\n",
       "  'token': 267,\n",
       "  'token_str': 'uri'}]"
      ]
     },
     "metadata": {},
     "execution_count": 39
    }
   ],
   "source": [
    "from transformers import pipeline\n",
    "\n",
    "fill_mask = pipeline(\n",
    "    \"fill-mask\",\n",
    "    model=model_roberta_mlm,\n",
    "    tokenizer=model_roberta_mlm\n",
    ")\n",
    "fill_mask(\"SELECT ?<mask>\")"
   ]
  },
  {
   "cell_type": "code",
   "execution_count": 40,
   "metadata": {},
   "outputs": [
    {
     "output_type": "execute_result",
     "data": {
      "text/plain": [
       "[{'sequence': 'SELECT? where WHERE',\n",
       "  'score': 0.09366748481988907,\n",
       "  'token': 279,\n",
       "  'token_str': ' where'},\n",
       " {'sequence': 'SELECT?  WHERE',\n",
       "  'score': 0.07080619037151337,\n",
       "  'token': 225,\n",
       "  'token_str': ' '},\n",
       " {'sequence': 'SELECT?: WHERE',\n",
       "  'score': 0.02758149243891239,\n",
       "  'token': 30,\n",
       "  'token_str': ':'},\n",
       " {'sequence': 'SELECT?? WHERE',\n",
       "  'score': 0.01879543997347355,\n",
       "  'token': 262,\n",
       "  'token_str': '?'},\n",
       " {'sequence': 'SELECT?uri WHERE',\n",
       "  'score': 0.01518378034234047,\n",
       "  'token': 267,\n",
       "  'token_str': 'uri'}]"
      ]
     },
     "metadata": {},
     "execution_count": 40
    }
   ],
   "source": [
    "fill_mask(\"SELECT ?<mask> WHERE\")"
   ]
  },
  {
   "cell_type": "code",
   "execution_count": 47,
   "metadata": {},
   "outputs": [
    {
     "output_type": "execute_result",
     "data": {
      "text/plain": [
       "[{'sequence': 'SELECT?uri WHERE {?uri dbo:publisher dbr ',\n",
       "  'score': 0.37995338439941406,\n",
       "  'token': 225,\n",
       "  'token_str': ' '},\n",
       " {'sequence': 'SELECT?uri WHERE {?uri dbo:publisher dbr?',\n",
       "  'score': 0.04210319370031357,\n",
       "  'token': 262,\n",
       "  'token_str': '?'},\n",
       " {'sequence': 'SELECT?uri WHERE {?uri dbo:publisher dbr:',\n",
       "  'score': 0.02423241175711155,\n",
       "  'token': 30,\n",
       "  'token_str': ':'},\n",
       " {'sequence': 'SELECT?uri WHERE {?uri dbo:publisher dbruri',\n",
       "  'score': 0.011747162789106369,\n",
       "  'token': 267,\n",
       "  'token_str': 'uri'},\n",
       " {'sequence': 'SELECT?uri WHERE {?uri dbo:publisher dbr dbo',\n",
       "  'score': 0.011697214096784592,\n",
       "  'token': 268,\n",
       "  'token_str': ' dbo'}]"
      ]
     },
     "metadata": {},
     "execution_count": 47
    }
   ],
   "source": [
    "fill_mask(\"SELECT ?uri WHERE {?uri dbo:publisher dbr<mask>\")"
   ]
  },
  {
   "cell_type": "code",
   "execution_count": 35,
   "metadata": {},
   "outputs": [],
   "source": [
    "# encoded_sample = tokenizer.encode(samples[0]).to('cuda')\n",
    "# beams = model.generate(\n",
    "#     encoded_sample,\n",
    "#     max_length = 128,\n",
    "#     num_beams = 8,\n",
    "#     temperature = 0.7,\n",
    "#     no_repeat_ngram_size = 5,\n",
    "#     num_return_sequences=1\n",
    "# )\n",
    "# tokenizer.decode(beam[0])"
   ]
  }
 ]
}