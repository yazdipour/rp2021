{
 "cells": [
  {
   "cell_type": "code",
   "execution_count": 1,
   "metadata": {},
   "outputs": [],
   "source": [
    "%run -r params.py"
   ]
  },
  {
   "cell_type": "code",
   "execution_count": 2,
   "metadata": {},
   "outputs": [],
   "source": [
    "# %run -r bpe-tokenizer-load.ipynb"
   ]
  },
  {
   "cell_type": "code",
   "execution_count": 3,
   "metadata": {},
   "outputs": [],
   "source": [
    "from transformers import RobertaForMaskedLM\n",
    "model = RobertaForMaskedLM.from_pretrained(model_roberta_mlm)#.to(\"cuda\")"
   ]
  },
  {
   "cell_type": "code",
   "execution_count": 8,
   "metadata": {},
   "outputs": [],
   "source": [
    "from transformers import pipeline\n",
    "\n",
    "fill_mask = pipeline(\n",
    "    \"fill-mask\",\n",
    "    model=model_roberta_mlm,\n",
    "    tokenizer=model_roberta_mlm\n",
    ")"
   ]
  },
  {
   "cell_type": "code",
   "execution_count": 5,
   "metadata": {},
   "outputs": [
    {
     "data": {
      "text/plain": [
       "[{'sequence': 'select?? where',\n",
       "  'score': 0.6014170050621033,\n",
       "  'token': 262,\n",
       "  'token_str': '?'},\n",
       " {'sequence': 'select? { where',\n",
       "  'score': 0.0532873161137104,\n",
       "  'token': 270,\n",
       "  'token_str': ' {'},\n",
       " {'sequence': 'select?uri where',\n",
       "  'score': 0.05101962387561798,\n",
       "  'token': 267,\n",
       "  'token_str': 'uri'},\n",
       " {'sequence': 'select? dbr where',\n",
       "  'score': 0.024441692978143692,\n",
       "  'token': 291,\n",
       "  'token_str': ' dbr'},\n",
       " {'sequence': 'select?: where',\n",
       "  'score': 0.014355730265378952,\n",
       "  'token': 30,\n",
       "  'token_str': ':'}]"
      ]
     },
     "execution_count": 5,
     "metadata": {},
     "output_type": "execute_result"
    }
   ],
   "source": [
    "fill_mask(\"SELECT ?<mask> WHERE\".lower())"
   ]
  },
  {
   "cell_type": "code",
   "execution_count": 6,
   "metadata": {},
   "outputs": [
    {
     "data": {
      "text/plain": [
       "[{'sequence': 'select?uri where {?uri dbo:publisher dbr dbo',\n",
       "  'score': 0.23800691962242126,\n",
       "  'token': 268,\n",
       "  'token_str': ' dbo'},\n",
       " {'sequence': 'select?uri where {?uri dbo:publisher dbr_',\n",
       "  'score': 0.11809195578098297,\n",
       "  'token': 67,\n",
       "  'token_str': '_'},\n",
       " {'sequence': 'select?uri where {?uri dbo:publisher dbr:',\n",
       "  'score': 0.08256802707910538,\n",
       "  'token': 30,\n",
       "  'token_str': ':'},\n",
       " {'sequence': 'select?uri where {?uri dbo:publisher dbr dbr',\n",
       "  'score': 0.059803556650877,\n",
       "  'token': 291,\n",
       "  'token_str': ' dbr'},\n",
       " {'sequence': 'select?uri where {?uri dbo:publisher dbr ',\n",
       "  'score': 0.029174305498600006,\n",
       "  'token': 225,\n",
       "  'token_str': ' '}]"
      ]
     },
     "execution_count": 6,
     "metadata": {},
     "output_type": "execute_result"
    }
   ],
   "source": [
    "fill_mask(\"SELECT ?uri WHERE {?uri dbo:publisher dbr<mask>\".lower())"
   ]
  },
  {
   "cell_type": "code",
   "execution_count": 20,
   "metadata": {},
   "outputs": [
    {
     "data": {
      "text/plain": [
       "[{'sequence': 'select?uri where {?uri dbo:: dbr',\n",
       "  'score': 0.24393433332443237,\n",
       "  'token': 30,\n",
       "  'token_str': ':'},\n",
       " {'sequence': 'select?uri where {?uri dbo:_ dbr',\n",
       "  'score': 0.18772535026073456,\n",
       "  'token': 67,\n",
       "  'token_str': '_'},\n",
       " {'sequence': 'select?uri where {?uri dbo: dbo dbr',\n",
       "  'score': 0.13610632717609406,\n",
       "  'token': 268,\n",
       "  'token_str': ' dbo'},\n",
       " {'sequence': 'select?uri where {?uri dbo:  dbr',\n",
       "  'score': 0.03041793219745159,\n",
       "  'token': 225,\n",
       "  'token_str': ' '},\n",
       " {'sequence': 'select?uri where {?uri dbo:? dbr',\n",
       "  'score': 0.029566751793026924,\n",
       "  'token': 262,\n",
       "  'token_str': '?'}]"
      ]
     },
     "execution_count": 20,
     "metadata": {},
     "output_type": "execute_result"
    }
   ],
   "source": [
    "fill_mask(\"SELECT ?uri WHERE {?uri dbo:<mask> dbr\".lower())"
   ]
  },
  {
   "cell_type": "code",
   "execution_count": 7,
   "metadata": {},
   "outputs": [],
   "source": [
    "# encoded_sample = tokenizer.encode(samples[0]).to('cuda')\n",
    "# beams = model.generate(\n",
    "#     encoded_sample,\n",
    "#     max_length = 128,\n",
    "#     num_beams = 8,\n",
    "#     temperature = 0.7,\n",
    "#     no_repeat_ngram_size = 5,\n",
    "#     num_return_sequences=1\n",
    "# )\n",
    "# tokenizer.decode(beam[0])"
   ]
  }
 ],
 "metadata": {
  "kernelspec": {
   "display_name": "Python 3",
   "language": "python",
   "name": "python3"
  },
  "language_info": {
   "codemirror_mode": {
    "name": "ipython",
    "version": 3
   },
   "file_extension": ".py",
   "mimetype": "text/x-python",
   "name": "python",
   "nbconvert_exporter": "python",
   "pygments_lexer": "ipython3",
   "version": "3.8.5"
  },
  "metadata": {
   "interpreter": {
    "hash": "767d51c1340bd893661ea55ea3124f6de3c7a262a8b4abca0554b478b1e2ff90"
   }
  }
 },
 "nbformat": 4,
 "nbformat_minor": 2
}