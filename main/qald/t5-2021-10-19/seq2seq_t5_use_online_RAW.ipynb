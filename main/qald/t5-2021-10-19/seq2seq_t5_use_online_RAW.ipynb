{
  "cells": [
    {
      "cell_type": "code",
      "execution_count": 1,
      "metadata": {
        "id": "dKV8MCK1Y12g"
      },
      "outputs": [],
      "source": [
        "!pip install datasets transformers pandasql dask -qqq\n",
        "# torch.cuda.empty_cache()"
      ]
    },
    {
      "cell_type": "code",
      "execution_count": 1,
      "metadata": {
        "id": "-oei2ojLYoHV"
      },
      "outputs": [],
      "source": [
        "model_checkpoint = \"t5-small\"\n",
        "model_path='yazdipour/sparql-qald9-t5-small-2021-10-19_07-12_RAW'"
      ]
    },
    {
      "cell_type": "code",
      "execution_count": 2,
      "metadata": {},
      "outputs": [
        {
          "data": {
            "application/vnd.jupyter.widget-view+json": {
              "model_id": "bde1f4be0c6543c39797ccd6a1408944",
              "version_major": 2,
              "version_minor": 0
            },
            "text/plain": [
              "HBox(children=(FloatProgress(value=0.0, description='Downloading', max=1380.0, style=ProgressStyle(description…"
            ]
          },
          "metadata": {},
          "output_type": "display_data"
        },
        {
          "name": "stdout",
          "output_type": "stream",
          "text": [
            "\n"
          ]
        },
        {
          "data": {
            "application/vnd.jupyter.widget-view+json": {
              "model_id": "9f80250ce75142e082248a600fbf8eb1",
              "version_major": 2,
              "version_minor": 0
            },
            "text/plain": [
              "HBox(children=(FloatProgress(value=0.0, description='Downloading', max=242085627.0, style=ProgressStyle(descri…"
            ]
          },
          "metadata": {},
          "output_type": "display_data"
        },
        {
          "name": "stdout",
          "output_type": "stream",
          "text": [
            "\n"
          ]
        }
      ],
      "source": [
        "from transformers import pipeline, AutoTokenizer, AutoModelForSeq2SeqLM\n",
        "model = AutoModelForSeq2SeqLM.from_pretrained(model_path).to(\"cuda\")"
      ]
    },
    {
      "cell_type": "code",
      "execution_count": 3,
      "metadata": {},
      "outputs": [],
      "source": [
        "prefix = \"translate english to sparql2: \"\n",
        "tokenizer = AutoTokenizer.from_pretrained(model_checkpoint)"
      ]
    },
    {
      "cell_type": "code",
      "execution_count": 4,
      "metadata": {},
      "outputs": [],
      "source": [
        "translator = pipeline(\n",
        "    \"translation_xx_to_yy\",\n",
        "    model=model,\n",
        "    tokenizer=tokenizer,\n",
        "    device=0 #0 for cuda, -1 for cpu\n",
        ")"
      ]
    },
    {
      "cell_type": "code",
      "execution_count": 5,
      "metadata": {},
      "outputs": [],
      "source": [
        "def replace_all(text, dict):\n",
        "    for i, j in dict.items():\n",
        "        text = text.replace(i, j)\n",
        "    return text"
      ]
    },
    {
      "cell_type": "code",
      "execution_count": 6,
      "metadata": {},
      "outputs": [],
      "source": [
        "def decode_props(qry):\n",
        "    qry = qry.replace('[','{').replace(']','}')\n",
        "    return qry"
      ]
    },
    {
      "cell_type": "code",
      "execution_count": 7,
      "metadata": {},
      "outputs": [],
      "source": [
        "translate= lambda q: decode_props(translator(prefix+q, max_length=100)[0]['translation_text'])"
      ]
    },
    {
      "cell_type": "code",
      "execution_count": 8,
      "metadata": {},
      "outputs": [],
      "source": [
        "!pip install beautifultable -qqq"
      ]
    },
    {
      "cell_type": "code",
      "execution_count": 9,
      "metadata": {},
      "outputs": [],
      "source": [
        "from beautifultable import BeautifulTable\n",
        "def pretty_translate(t,q): \n",
        "    ans = translate(q)\n",
        "    # print('QUESTION:\\n' + q + '\\nTARGET:\\n'+ t +'\\nRESULT:\\n' + ans[0]+ '\\nRESULT-DECODED:\\n' + ans[1])\n",
        "    table = BeautifulTable(maxwidth=140)\n",
        "    # table.column_headers = [\"\", \"Man Utd\",\"Man City\",\"T Hotspur\"]\n",
        "    table.rows.append(['QUESTION', q])\n",
        "    table.rows.append(['Target', t])\n",
        "    table.rows.append(['RESULT-Raw', ans])\n",
        "    print(table)"
      ]
    },
    {
      "cell_type": "markdown",
      "metadata": {},
      "source": [
        "# TESTING"
      ]
    },
    {
      "cell_type": "code",
      "execution_count": 10,
      "metadata": {},
      "outputs": [
        {
          "data": {
            "text/plain": [
              "'translate english to sparql2: '"
            ]
          },
          "execution_count": 10,
          "metadata": {},
          "output_type": "execute_result"
        }
      ],
      "source": [
        "prefix"
      ]
    },
    {
      "cell_type": "code",
      "execution_count": 11,
      "metadata": {},
      "outputs": [
        {
          "data": {
            "text/plain": [
              "[{'translation_text': 'select distinct ?uri where [ ?uri dbr:Marlin_Manson dbo:Marlin_Manson dbo:Marlin_Manson dbo:Marlin_Manson dbo:Marlin_Manson dbo:Marlin_Manson dbo:Marlin_Manson dbo:Marlin_Manson '}]"
            ]
          },
          "execution_count": 11,
          "metadata": {},
          "output_type": "execute_result"
        }
      ],
      "source": [
        "translator(prefix+'Who is Marlin Manson?', max_length=100)"
      ]
    },
    {
      "cell_type": "code",
      "execution_count": 12,
      "metadata": {},
      "outputs": [
        {
          "data": {
            "text/plain": [
              "'select distinct ?uri where { ?uri dbr:Marlin_Manson dbo:Marlin_Manson dbo:Marlin_Manson dbo:Marlin_Manson dbo:Marlin_Manson dbo:Marlin_Manson dbo:Marlin_Manson dbo:Marlin_Manson '"
            ]
          },
          "execution_count": 12,
          "metadata": {},
          "output_type": "execute_result"
        }
      ],
      "source": [
        "# <re.Match object; span=(52, 66), match=':marlin_manson'>\n",
        "# ('select distinct ?sbj where { ?sbj wdt:instance_of wd:marlin_manson . ?sbj wdt:instance_of wd:human }',\n",
        "#  'select distinct ?sbj where { ?sbj wdt:P31 wd:marlin_manson . ?sbj wdt:P31 wd:Q5 }')\n",
        "translate('Who is Marlin Manson?')"
      ]
    },
    {
      "cell_type": "code",
      "execution_count": 13,
      "metadata": {},
      "outputs": [
        {
          "data": {
            "text/plain": [
              "'select distinct ?uri where { ?uri dbr: Bill Gates dbo: Bill Gates dbo: Bill Gates dbo: Bill Gates dbo: Bill Gates dbo: Bill Gates dbo: Bill Gates dbo: Bill Gates dbo: Bill Gates dbo: Bill Gates dbo: Bill Gates '"
            ]
          },
          "execution_count": 13,
          "metadata": {},
          "output_type": "execute_result"
        }
      ],
      "source": [
        "translate('Who is Bill Gates?')"
      ]
    },
    {
      "cell_type": "code",
      "execution_count": 14,
      "metadata": {},
      "outputs": [
        {
          "data": {
            "text/plain": [
              "'select distinct ?uri where { dbr:Security dbo:Security dbo:Security dbo:Security dbo:Security dbo:Security dbo:Security dbo:Security dbo:Security dbo:Security }'"
            ]
          },
          "execution_count": 14,
          "metadata": {},
          "output_type": "execute_result"
        }
      ],
      "source": [
        "translate('what is?')"
      ]
    },
    {
      "cell_type": "code",
      "execution_count": 15,
      "metadata": {},
      "outputs": [
        {
          "name": "stdout",
          "output_type": "stream",
          "text": [
            "+------------+--------------------------------------------------------------------------------+\n",
            "|  QUESTION  |             Who is the country for head of state of Mahmoud Abbas?             |\n",
            "+------------+--------------------------------------------------------------------------------+\n",
            "|   Target   | select distinct ?sbj where { ?sbj wdt:P35 wd:Q127998 . ?sbj wdt:P31 wd:Q6256 } |\n",
            "+------------+--------------------------------------------------------------------------------+\n",
            "| RESULT-Raw | select distinct ?uri where { ?uri dbr:State dbo:Madoud Abbas dbo:State ?uri }  |\n",
            "+------------+--------------------------------------------------------------------------------+\n"
          ]
        }
      ],
      "source": [
        "pretty_translate('select distinct ?sbj where { ?sbj wdt:P35 wd:Q127998 . ?sbj wdt:P31 wd:Q6256 }','Who is the country for head of state of Mahmoud Abbas?')"
      ]
    },
    {
      "cell_type": "code",
      "execution_count": 16,
      "metadata": {},
      "outputs": [
        {
          "name": "stdout",
          "output_type": "stream",
          "text": [
            "+------------+-----------------------------------------------------------------------------------------+\n",
            "|  QUESTION  |                   What country is Mahmoud Abbas the head of state of?                   |\n",
            "+------------+-----------------------------------------------------------------------------------------+\n",
            "|   Target   |     select distinct ?sbj where { ?sbj wdt:P35 wd:Q127998 . ?sbj wdt:P31 wd:Q6256 }      |\n",
            "+------------+-----------------------------------------------------------------------------------------+\n",
            "| RESULT-Raw | select distinct ?uri where { ?uri dbr:Madoud_Abbas dbo:State dbo:State dbo:State ?uri } |\n",
            "+------------+-----------------------------------------------------------------------------------------+\n"
          ]
        }
      ],
      "source": [
        "pretty_translate('select distinct ?sbj where { ?sbj wdt:P35 wd:Q127998 . ?sbj wdt:P31 wd:Q6256 }',\"What country is Mahmoud Abbas the head of state of?\")"
      ]
    },
    {
      "cell_type": "code",
      "execution_count": 17,
      "metadata": {},
      "outputs": [
        {
          "name": "stdout",
          "output_type": "stream",
          "text": [
            "+------------+--------------------------------------------------------------------------------+\n",
            "|  QUESTION  |             Who is the country for head of state of Mahmoud Abbas?             |\n",
            "+------------+--------------------------------------------------------------------------------+\n",
            "|   Target   | select distinct ?sbj where { ?sbj wdt:P35 wd:Q127998 . ?sbj wdt:P31 wd:Q6256 } |\n",
            "+------------+--------------------------------------------------------------------------------+\n",
            "| RESULT-Raw | select distinct ?uri where { ?uri dbr:State dbo:Madoud Abbas dbo:State ?uri }  |\n",
            "+------------+--------------------------------------------------------------------------------+\n"
          ]
        }
      ],
      "source": [
        "pretty_translate('select distinct ?sbj where { ?sbj wdt:P35 wd:Q127998 . ?sbj wdt:P31 wd:Q6256 }','Who is the country for head of state of Mahmoud Abbas?')"
      ]
    },
    {
      "cell_type": "code",
      "execution_count": 18,
      "metadata": {},
      "outputs": [
        {
          "name": "stdout",
          "output_type": "stream",
          "text": [
            "+------------+-----------------------------------------------------------------------------------+\n",
            "|  QUESTION  | which female actress is the voice over on south park and is employed as a singer? |\n",
            "+------------+-----------------------------------------------------------------------------------+\n",
            "|   Target   | SELECT ?answer WHERE { wd:Q16538 wdt:P725 ?answer . ?answer wdt:P106 wd:Q177220}  |\n",
            "+------------+-----------------------------------------------------------------------------------+\n",
            "| RESULT-Raw |     select distinct ?uri where { ?uri dbr:State dbo:Single dbo:Single ?uri }      |\n",
            "+------------+-----------------------------------------------------------------------------------+\n"
          ]
        }
      ],
      "source": [
        "pretty_translate(\"SELECT ?answer WHERE { wd:Q16538 wdt:P725 ?answer . ?answer wdt:P106 wd:Q177220}\",\"Which female actress is the voice over on South Park and is employed as a singer?\".lower())"
      ]
    },
    {
      "cell_type": "code",
      "execution_count": 19,
      "metadata": {},
      "outputs": [
        {
          "name": "stdout",
          "output_type": "stream",
          "text": [
            "+------------+----------------------------------------------------------------------------------+\n",
            "|  QUESTION  |  Which female actress on South Park is the voice over and is used as a singer?   |\n",
            "+------------+----------------------------------------------------------------------------------+\n",
            "|   Target   | SELECT ?answer WHERE { wd:Q16538 wdt:P725 ?answer . ?answer wdt:P106 wd:Q177220} |\n",
            "+------------+----------------------------------------------------------------------------------+\n",
            "| RESULT-Raw |        select distinct ?uri where { ?uri dbr:Stateover dbo:Single ?uri }         |\n",
            "+------------+----------------------------------------------------------------------------------+\n"
          ]
        }
      ],
      "source": [
        "pretty_translate(\"SELECT ?answer WHERE { wd:Q16538 wdt:P725 ?answer . ?answer wdt:P106 wd:Q177220}\",\"Which female actress on South Park is the voice over and is used as a singer?\")"
      ]
    },
    {
      "cell_type": "code",
      "execution_count": 20,
      "metadata": {},
      "outputs": [
        {
          "name": "stdout",
          "output_type": "stream",
          "text": [
            "+------------+-------------------------------------------------------------------------+\n",
            "|  QUESTION  |               Which is the PIM authority ID of Paul Erd?                |\n",
            "+------------+-------------------------------------------------------------------------+\n",
            "|   Target   |      select distinct ?answer where { wd:Q173746 wdt:P3973 ?answer}      |\n",
            "+------------+-------------------------------------------------------------------------+\n",
            "| RESULT-Raw | select distinct ?uri where { ?uri dbr:PIM_ID dbo:Paul_ Erd dbo:PIM_ID } |\n",
            "+------------+-------------------------------------------------------------------------+\n"
          ]
        }
      ],
      "source": [
        "# Paul Erdős (Q173746)\n",
        "pretty_translate(\"select distinct ?answer where { wd:Q173746 wdt:P3973 ?answer}\",\"Which is the PIM authority ID of Paul Erd?\")"
      ]
    },
    {
      "cell_type": "code",
      "execution_count": null,
      "metadata": {},
      "outputs": [],
      "source": []
    },
    {
      "cell_type": "code",
      "execution_count": 21,
      "metadata": {},
      "outputs": [
        {
          "name": "stdout",
          "output_type": "stream",
          "text": [
            "+------------+-----------------------------------------------------------------------------------------------------------------------------+\n",
            "|  QUESTION  |                                       What was the population of Somalia in 2009-0-0?                                       |\n",
            "+------------+-----------------------------------------------------------------------------------------------------------------------------+\n",
            "|   Target   |       SELECT ?obj WHERE { wd:Q1045 p:P1082 ?s . ?s ps:P1082 ?obj . ?s pq:P585 ?x filter(contains(YEAR(?x),'2009')) }        |\n",
            "+------------+-----------------------------------------------------------------------------------------------------------------------------+\n",
            "| RESULT-Raw | select distinct ?uri where { dbr:Somala_Foto_Foto_Foto_Foto_Foto_Foto_Foto_Foto_Foto_Foto_Foto_Foto_Foto_Foto_Foto_Foto_Fot |\n",
            "|            |                                                    o_Foto_Foto_Foto_Foto                                                    |\n",
            "+------------+-----------------------------------------------------------------------------------------------------------------------------+\n"
          ]
        }
      ],
      "source": [
        "pretty_translate(\"SELECT ?obj WHERE { wd:Q1045 p:P1082 ?s . ?s ps:P1082 ?obj . ?s pq:P585 ?x filter(contains(YEAR(?x),'2009')) }\", \n",
        "            \"What was the population of Somalia in 2009-0-0?\")"
      ]
    },
    {
      "cell_type": "code",
      "execution_count": 22,
      "metadata": {},
      "outputs": [
        {
          "data": {
            "text/plain": [
              "'select distinct ?uri where { dbr:New York dbo:New York dbo:New York dbo:New York dbo:New York dbo:New York dbo:New York dbo:New York dbo:New York dbo:New York dbo:New York dbo:New York dbo:New York '"
            ]
          },
          "execution_count": 22,
          "metadata": {},
          "output_type": "execute_result"
        }
      ],
      "source": [
        "translate('Humans born in New York City') #random query - answer seems correct"
      ]
    },
    {
      "cell_type": "code",
      "execution_count": 23,
      "metadata": {},
      "outputs": [
        {
          "name": "stdout",
          "output_type": "stream",
          "text": [
            "+------------+-----------------------------------------------------------------------------------------------------------------------+\n",
            "|  QUESTION  |                                  Are Taiko some kind of Japanese musical instrument?                                  |\n",
            "+------------+-----------------------------------------------------------------------------------------------------------------------+\n",
            "|   Target   | ASK WHERE { <http://dbpedia.org/resource/Taiko> a <http://dbpedia.org/class/yago/WikicatJapaneseMusicalInstruments> } |\n",
            "+------------+-----------------------------------------------------------------------------------------------------------------------+\n",
            "| RESULT-Raw |                           select distinct ?uri where { ?uri dbo:Taiko dbo:Japan dbo:Japan }                           |\n",
            "+------------+-----------------------------------------------------------------------------------------------------------------------+\n"
          ]
        }
      ],
      "source": [
        "# From QALD\n",
        "target = \"ASK WHERE { <http://dbpedia.org/resource/Taiko> a <http://dbpedia.org/class/yago/WikicatJapaneseMusicalInstruments> }\"\n",
        "q =  \"Are Taiko some kind of Japanese musical instrument?\"\n",
        "pretty_translate(target, q)"
      ]
    },
    {
      "cell_type": "code",
      "execution_count": 24,
      "metadata": {},
      "outputs": [
        {
          "name": "stdout",
          "output_type": "stream",
          "text": [
            "+------------+-----------------------------------------------------------------------------------------------------------------------------+\n",
            "|  QUESTION  |                                                     Who killed Caesar?                                                      |\n",
            "+------------+-----------------------------------------------------------------------------------------------------------------------------+\n",
            "|   Target   | PREFIX dct: <http://purl.org/dc/terms/> PREFIX dbc: <http://dbpedia.org/resource/Category:> SELECT DISTINCT ?uri WHERE { ?u |\n",
            "|            |                                       ri dct:subject dbc:Assassins_of_Julius_Caesar }                                       |\n",
            "+------------+-----------------------------------------------------------------------------------------------------------------------------+\n",
            "| RESULT-Raw |                               select distinct ?uri where { dbr:Casino_Turn dbo:Casino_Turn }                                |\n",
            "+------------+-----------------------------------------------------------------------------------------------------------------------------+\n"
          ]
        }
      ],
      "source": [
        "# From QALD\n",
        "target = \"PREFIX dct: <http://purl.org/dc/terms/> PREFIX dbc: <http://dbpedia.org/resource/Category:> SELECT DISTINCT ?uri WHERE { ?uri dct:subject dbc:Assassins_of_Julius_Caesar }\"\n",
        "q =  \"Who killed Caesar?\"\n",
        "pretty_translate(target, q)"
      ]
    },
    {
      "cell_type": "code",
      "execution_count": 25,
      "metadata": {},
      "outputs": [
        {
          "name": "stdout",
          "output_type": "stream",
          "text": [
            "+------------+-----------------------------------------------------------------------------------------------------------------------------+\n",
            "|  QUESTION  |                                          What is the highest mountain in Germany?                                           |\n",
            "+------------+-----------------------------------------------------------------------------------------------------------------------------+\n",
            "|   Target   | PREFIX rdfs: <http://www.w3.org/2000/01/rdf-schema#> PREFIX rdf: <http://www.w3.org/1999/02/22-rdf-syntax-ns#> PREFIX onto: |\n",
            "|            |                                               <http://dbpedia.org/ontology/>                                                |\n",
            "|            | SELECT ?uri WHERE { ?uri rdf:type onto:Mountain ; onto:elevation ?elevation ; onto:locatedInArea <http://dbpedia.org/resour |\n",
            "|            |                                       ce/Germany> } ORDER BY DESC(?elevation) LIMIT 1                                       |\n",
            "+------------+-----------------------------------------------------------------------------------------------------------------------------+\n",
            "| RESULT-Raw |                            select distinct ?uri where { dbr:Highest dbo:Meer dbo:Highest ?uri }                             |\n",
            "+------------+-----------------------------------------------------------------------------------------------------------------------------+\n"
          ]
        }
      ],
      "source": [
        "# From QALD\n",
        "q = 'What is the highest mountain in Germany?'\n",
        "target = \"PREFIX rdfs: <http://www.w3.org/2000/01/rdf-schema#> PREFIX rdf: <http://www.w3.org/1999/02/22-rdf-syntax-ns#> PREFIX onto: <http://dbpedia.org/ontology/>  \\nSELECT ?uri WHERE { ?uri rdf:type onto:Mountain ; onto:elevation ?elevation ; onto:locatedInArea <http://dbpedia.org/resource/Germany> } ORDER BY DESC(?elevation) LIMIT 1\"\n",
        "pretty_translate(target, q)"
      ]
    },
    {
      "cell_type": "code",
      "execution_count": 26,
      "metadata": {},
      "outputs": [
        {
          "name": "stdout",
          "output_type": "stream",
          "text": [
            "+------------+-----------------------------------------------------------------------------------------------------------------------------+\n",
            "|  QUESTION  |                              Which American presidents were in office during the Vietnam War?                               |\n",
            "+------------+-----------------------------------------------------------------------------------------------------------------------------+\n",
            "|   Target   | PREFIX dbo: <http://dbpedia.org/ontology/> PREFIX res: <http://dbpedia.org/resource/> PREFIX dct: <http://purl.org/dc/terms |\n",
            "|            | /> PREFIX dbc: <http://dbpedia.org/resource/Category:> SELECT ?uri WHERE { ?uri dct:subject dbc:Presidents_of_the_United_St |\n",
            "|            |                                         ates . res:Vietnam_War dbo:commander ?uri }                                         |\n",
            "+------------+-----------------------------------------------------------------------------------------------------------------------------+\n",
            "| RESULT-Raw |                             select distinct ?uri where { ?uri dbr:American dbo:American ?uri }                              |\n",
            "+------------+-----------------------------------------------------------------------------------------------------------------------------+\n"
          ]
        }
      ],
      "source": [
        "# From QALD\n",
        "q = 'Which American presidents were in office during the Vietnam War?'\n",
        "target = \"PREFIX dbo: <http://dbpedia.org/ontology/> PREFIX res: <http://dbpedia.org/resource/> PREFIX dct: <http://purl.org/dc/terms/> PREFIX dbc: <http://dbpedia.org/resource/Category:> SELECT ?uri WHERE { ?uri dct:subject dbc:Presidents_of_the_United_States . res:Vietnam_War dbo:commander ?uri }\"\n",
        "pretty_translate(target, q)"
      ]
    },
    {
      "cell_type": "code",
      "execution_count": 27,
      "metadata": {},
      "outputs": [
        {
          "name": "stdout",
          "output_type": "stream",
          "text": [
            "+------------+-----------------------------------------------------------------------------------------------------------------------------+\n",
            "|  QUESTION  |                              How many gold medals did Michael Phelps win at the 2008 Olympics?                              |\n",
            "+------------+-----------------------------------------------------------------------------------------------------------------------------+\n",
            "|   Target   | PREFIX dbo: <http://dbpedia.org/ontology/> PREFIX dbr: <http://dbpedia.org/resource/> PREFIX rdf: <http://www.w3.org/1999/0 |\n",
            "|            | 2/22-rdf-syntax-ns#> PREFIX rdfs: <http://www.w3.org/2000/01/rdf-schema#> SELECT Count(?sub) as ?c WHERE { ?sub dbo:goldMed |\n",
            "|            |           alist dbr:Michael_Phelps . filter (contains (str(?sub), \"2008\") && contains (str(?sub), \"Olympics\")) }            |\n",
            "+------------+-----------------------------------------------------------------------------------------------------------------------------+\n",
            "| RESULT-Raw |                         select distinct ?uri where { ?uri dbr:MemoryPhelps dbo:Gold dbo:Gold ?uri }                         |\n",
            "+------------+-----------------------------------------------------------------------------------------------------------------------------+\n"
          ]
        }
      ],
      "source": [
        "# From QALD\n",
        "q = 'How many gold medals did Michael Phelps win at the 2008 Olympics?'\n",
        "target = \"PREFIX dbo: <http://dbpedia.org/ontology/> PREFIX dbr: <http://dbpedia.org/resource/> PREFIX rdf: <http://www.w3.org/1999/02/22-rdf-syntax-ns#> PREFIX rdfs: <http://www.w3.org/2000/01/rdf-schema#> SELECT Count(?sub) as ?c WHERE { ?sub dbo:goldMedalist dbr:Michael_Phelps . filter (contains (str(?sub), \\\"2008\\\") && contains (str(?sub), \\\"Olympics\\\")) }\"\n",
        "pretty_translate(target, q)"
      ]
    },
    {
      "cell_type": "code",
      "execution_count": 28,
      "metadata": {},
      "outputs": [
        {
          "name": "stdout",
          "output_type": "stream",
          "text": [
            "+------------+-----------------------------------------------------------------------------------------------------------------------------+\n",
            "|  QUESTION  |                                          What is the profession of Frank Herbert?                                           |\n",
            "+------------+-----------------------------------------------------------------------------------------------------------------------------+\n",
            "|   Target   | PREFIX dbpedia2: <http://dbpedia.org/property/> PREFIX res: <http://dbpedia.org/resource/> SELECT DISTINCT ?string WHERE {  |\n",
            "|            |                                       res:Frank_Herbert dbpedia2:occupation ?string }                                       |\n",
            "+------------+-----------------------------------------------------------------------------------------------------------------------------+\n",
            "| RESULT-Raw |                     select distinct ?uri where { ?uri dbr:Frank_Horror dbo:professional_Frank_Horror }                      |\n",
            "+------------+-----------------------------------------------------------------------------------------------------------------------------+\n"
          ]
        }
      ],
      "source": [
        "# From QALD\n",
        "q = 'What is the profession of Frank Herbert?'\n",
        "target = \"PREFIX dbpedia2: <http://dbpedia.org/property/> PREFIX res: <http://dbpedia.org/resource/> SELECT DISTINCT ?string WHERE { res:Frank_Herbert dbpedia2:occupation ?string }\"\n",
        "pretty_translate(target, q)"
      ]
    },
    {
      "cell_type": "code",
      "execution_count": 29,
      "metadata": {},
      "outputs": [
        {
          "name": "stdout",
          "output_type": "stream",
          "text": [
            "+------------+-----------------------------------------------------------------------------------------------------------------------------+\n",
            "|  QUESTION  |                                   How many seats does the home stadium of FC Porto have?                                    |\n",
            "+------------+-----------------------------------------------------------------------------------------------------------------------------+\n",
            "|   Target   | PREFIX dbo: <http://dbpedia.org/ontology/> PREFIX dbp: <http://dbpedia.org/property/> PREFIX dbr: <http://dbpedia.org/resou |\n",
            "|            | rce/> PREFIX rdf: <http://www.w3.org/1999/02/22-rdf-syntax-ns#> PREFIX rdfs: <http://www.w3.org/2000/01/rdf-schema#> PREFIX |\n",
            "|            |  db: <http://dbpedia.org/> SELECT ?capacity WHERE { { dbr:FC_Porto dbo:ground ?ground . ?ground dbo:capacity ?capacity } UN |\n",
            "|            |                         ION { dbr:FC_Porto dbo:ground ?ground . ?ground dbp:capacity ?capacity } }                          |\n",
            "+------------+-----------------------------------------------------------------------------------------------------------------------------+\n",
            "| RESULT-Raw |                 select distinct ?uri where { ?uri dbo:Home_Stadion dbo:Home_Stadion dbo:Home_Stadion ?uri }                 |\n",
            "+------------+-----------------------------------------------------------------------------------------------------------------------------+\n"
          ]
        }
      ],
      "source": [
        "# From QALD\n",
        "q = 'How many seats does the home stadium of FC Porto have?'\n",
        "target = \"PREFIX dbo: <http://dbpedia.org/ontology/> PREFIX dbp: <http://dbpedia.org/property/> PREFIX dbr: <http://dbpedia.org/resource/> PREFIX rdf: <http://www.w3.org/1999/02/22-rdf-syntax-ns#> PREFIX rdfs: <http://www.w3.org/2000/01/rdf-schema#> PREFIX db: <http://dbpedia.org/> SELECT ?capacity WHERE { { dbr:FC_Porto dbo:ground ?ground . ?ground dbo:capacity ?capacity } UNION { dbr:FC_Porto dbo:ground ?ground . ?ground dbp:capacity ?capacity } }\"\n",
        "pretty_translate(target, q)"
      ]
    },
    {
      "cell_type": "code",
      "execution_count": 30,
      "metadata": {},
      "outputs": [
        {
          "name": "stdout",
          "output_type": "stream",
          "text": [
            "+------------+-----------------------------------------------------------------------------------------------------------------------------+\n",
            "|  QUESTION  |                                     Which frequent flyer program has the most airlines?                                     |\n",
            "+------------+-----------------------------------------------------------------------------------------------------------------------------+\n",
            "|   Target   | SELECT ?uri WHERE { ?airline <http://www.w3.org/1999/02/22-rdf-syntax-ns#type> <http://dbpedia.org/ontology/Airline> . ?air |\n",
            "|            | line <http://dbpedia.org/property/frequentFlyer> ?uri. } GROUP BY ?uri ORDER BY DESC(COUNT(DISTINCT ?airline)) OFFSET 0 LIM |\n",
            "|            |                                                            IT 1                                                             |\n",
            "+------------+-----------------------------------------------------------------------------------------------------------------------------+\n",
            "| RESULT-Raw |                  select distinct ?uri where { dbr:French_Flyer dbo:Airline dbo:Airline dbo:Airline ?uri }                   |\n",
            "+------------+-----------------------------------------------------------------------------------------------------------------------------+\n"
          ]
        }
      ],
      "source": [
        "# From QALD\n",
        "q = 'Which frequent flyer program has the most airlines?'\n",
        "target = \"SELECT ?uri WHERE { ?airline <http://www.w3.org/1999/02/22-rdf-syntax-ns#type> <http://dbpedia.org/ontology/Airline> . ?airline <http://dbpedia.org/property/frequentFlyer> ?uri. } GROUP BY ?uri ORDER BY DESC(COUNT(DISTINCT ?airline)) OFFSET 0 LIMIT 1\"\n",
        "pretty_translate(target, q)"
      ]
    },
    {
      "cell_type": "code",
      "execution_count": 31,
      "metadata": {},
      "outputs": [
        {
          "name": "stdout",
          "output_type": "stream",
          "text": [
            "+------------+-----------------------------------------------------------------------------------------------------------------------------+\n",
            "|  QUESTION  |                                  Which European countries have a constitutional monarchy?                                   |\n",
            "+------------+-----------------------------------------------------------------------------------------------------------------------------+\n",
            "|   Target   | PREFIX dbo: <http://dbpedia.org/ontology/> PREFIX dct: <http://purl.org/dc/terms/> PREFIX dbc: <http://dbpedia.org/resource |\n",
            "|            | /Category:> PREFIX dbr: <http://dbpedia.org/resource/> SELECT ?uri WHERE { ?uri dct:subject dbc:Countries_in_Europe ; dbo:g |\n",
            "|            |                                         overnmentType dbr:Constitutional_monarchy }                                         |\n",
            "+------------+-----------------------------------------------------------------------------------------------------------------------------+\n",
            "| RESULT-Raw |                        select distinct ?uri where { dbr:Constitutional Monarchy dbo:European ?uri }                         |\n",
            "+------------+-----------------------------------------------------------------------------------------------------------------------------+\n"
          ]
        }
      ],
      "source": [
        "# From QALD\n",
        "q = 'Which European countries have a constitutional monarchy?'\n",
        "target = \"PREFIX dbo: <http://dbpedia.org/ontology/> PREFIX dct: <http://purl.org/dc/terms/> PREFIX dbc: <http://dbpedia.org/resource/Category:> PREFIX dbr: <http://dbpedia.org/resource/> SELECT ?uri WHERE { ?uri dct:subject dbc:Countries_in_Europe ; dbo:governmentType dbr:Constitutional_monarchy }\"\n",
        "pretty_translate(target, q)"
      ]
    },
    {
      "cell_type": "code",
      "execution_count": 32,
      "metadata": {},
      "outputs": [
        {
          "name": "stdout",
          "output_type": "stream",
          "text": [
            "+------------+-----------------------------------------------------------------------------------------------------------------------------+\n",
            "|  QUESTION  |                                    Which countries have places with more than two caves?                                    |\n",
            "+------------+-----------------------------------------------------------------------------------------------------------------------------+\n",
            "|   Target   | PREFIX dbo: <http://dbpedia.org/ontology/> PREFIX rdf: <http://www.w3.org/1999/02/22-rdf-syntax-ns#> SELECT DISTINCT ?uri W |\n",
            "|            | HERE { ?cave rdf:type dbo:Cave ; dbo:location ?uri . ?uri rdf:type dbo:Country } GROUP BY ?uri HAVING ( COUNT(?cave) > 2 )  |\n",
            "+------------+-----------------------------------------------------------------------------------------------------------------------------+\n",
            "| RESULT-Raw |                             select distinct ?uri where { ?uri dbr:Standard dbo:Standard ?uri }                              |\n",
            "+------------+-----------------------------------------------------------------------------------------------------------------------------+\n"
          ]
        }
      ],
      "source": [
        "# From QALD\n",
        "q = 'Which countries have places with more than two caves?'\n",
        "target = \"PREFIX dbo: <http://dbpedia.org/ontology/> PREFIX rdf: <http://www.w3.org/1999/02/22-rdf-syntax-ns#> SELECT DISTINCT ?uri WHERE { ?cave rdf:type dbo:Cave ; dbo:location ?uri . ?uri rdf:type dbo:Country } GROUP BY ?uri HAVING ( COUNT(?cave) > 2 )\"\n",
        "pretty_translate(target, q)"
      ]
    },
    {
      "cell_type": "code",
      "execution_count": 33,
      "metadata": {},
      "outputs": [
        {
          "name": "stdout",
          "output_type": "stream",
          "text": [
            "+------------+-----------------------------------------------------------------------------------------------------------------------------+\n",
            "|  QUESTION  |                                       Which airports are located in California, USA?                                        |\n",
            "+------------+-----------------------------------------------------------------------------------------------------------------------------+\n",
            "|   Target   | SELECT DISTINCT ?uri WHERE { ?uri a <http://dbpedia.org/ontology/Airport> { ?uri <http://dbpedia.org/ontology/location> <ht |\n",
            "|            | tp://dbpedia.org/resource/California> } UNION { ?uri <http://dbpedia.org/ontology/city> <http://dbpedia.org/resource/Califo |\n",
            "|            | rnia> } UNION { ?uri <http://dbpedia.org/ontology/city> ?city . ?city <http://dbpedia.org/ontology/isPartOf> <http://dbpedi |\n",
            "|            | a.org/resource/California> } UNION { ?uri <http://dbpedia.org/ontology/operator> <http://dbpedia.org/resource/California> } |\n",
            "|            |                                                              }                                                              |\n",
            "+------------+-----------------------------------------------------------------------------------------------------------------------------+\n",
            "| RESULT-Raw |                        select distinct ?uri where { ?uri dbr:Casino_USA dbo:Airport dbo:Casino_USA }                        |\n",
            "+------------+-----------------------------------------------------------------------------------------------------------------------------+\n"
          ]
        }
      ],
      "source": [
        "# From QALD\n",
        "q = 'Which airports are located in California, USA?'\n",
        "target = \"SELECT DISTINCT ?uri WHERE { ?uri a <http://dbpedia.org/ontology/Airport> { ?uri <http://dbpedia.org/ontology/location> <http://dbpedia.org/resource/California> } UNION { ?uri <http://dbpedia.org/ontology/city> <http://dbpedia.org/resource/California> } UNION { ?uri <http://dbpedia.org/ontology/city> ?city . ?city <http://dbpedia.org/ontology/isPartOf> <http://dbpedia.org/resource/California> } UNION { ?uri <http://dbpedia.org/ontology/operator> <http://dbpedia.org/resource/California> } }\"\n",
        "pretty_translate(target, q)"
      ]
    },
    {
      "cell_type": "code",
      "execution_count": 34,
      "metadata": {},
      "outputs": [
        {
          "name": "stdout",
          "output_type": "stream",
          "text": [
            "+------------+-------------------------------------------------------------------------------------------+\n",
            "|  QUESTION  |                         What are the nicknames of San Francisco?                          |\n",
            "+------------+-------------------------------------------------------------------------------------------+\n",
            "|   Target   |           SELECT DISTINCT ?string WHERE { res:San_Francisco foaf:nick ?string }           |\n",
            "+------------+-------------------------------------------------------------------------------------------+\n",
            "| RESULT-Raw | select distinct ?uri where { dbr:San Francisco dbo:name dbo:San Francisco dbo:name ?uri } |\n",
            "+------------+-------------------------------------------------------------------------------------------+\n"
          ]
        }
      ],
      "source": [
        "# From QALD\n",
        "q = \"What are the nicknames of San Francisco?\"\n",
        "target = \"SELECT DISTINCT ?string WHERE { res:San_Francisco foaf:nick ?string }\"\n",
        "pretty_translate(target, q)"
      ]
    },
    {
      "cell_type": "code",
      "execution_count": 35,
      "metadata": {},
      "outputs": [
        {
          "name": "stdout",
          "output_type": "stream",
          "text": [
            "+------------+-----------------------------------------------------------------------------+\n",
            "|  QUESTION  |                     What is Angela Merkel’s birth name?                     |\n",
            "+------------+-----------------------------------------------------------------------------+\n",
            "|   Target   |  SELECT DISTINCT ?string WHERE { res:Angela_Merkel dbp:birthName ?string }  |\n",
            "+------------+-----------------------------------------------------------------------------+\n",
            "| RESULT-Raw | select distinct ?uri where { ?uri dbr:Angela_Francais_Name dbo:birth_Name } |\n",
            "+------------+-----------------------------------------------------------------------------+\n"
          ]
        }
      ],
      "source": [
        "# From QALD\n",
        "q = \"What is Angela Merkel’s birth name?\"\n",
        "target = \"SELECT DISTINCT ?string WHERE { res:Angela_Merkel dbp:birthName ?string }\"\n",
        "pretty_translate(target, q)"
      ]
    },
    {
      "cell_type": "code",
      "execution_count": 36,
      "metadata": {},
      "outputs": [
        {
          "name": "stdout",
          "output_type": "stream",
          "text": [
            "+------------+-----------------------------------------------------------------------------------------------------------------------------+\n",
            "|  QUESTION  |                                                 Who is the mayor of Berlin?                                                 |\n",
            "+------------+-----------------------------------------------------------------------------------------------------------------------------+\n",
            "|   Target   |                                  SELECT DISTINCT ?uri WHERE { res:Berlin dbp:leader ?uri }                                  |\n",
            "+------------+-----------------------------------------------------------------------------------------------------------------------------+\n",
            "| RESULT-Raw | select distinct ?uri where { ?uri dbr:Berlin_City__________________________________________________________________________ |\n",
            "|            |                                                             ___                                                             |\n",
            "+------------+-----------------------------------------------------------------------------------------------------------------------------+\n"
          ]
        }
      ],
      "source": [
        "# From QALD\n",
        "q = \"Who is the mayor of Berlin?\"\n",
        "target = \"SELECT DISTINCT ?uri WHERE { res:Berlin dbp:leader ?uri }\"\n",
        "pretty_translate(target, q)"
      ]
    },
    {
      "cell_type": "code",
      "execution_count": 37,
      "metadata": {},
      "outputs": [
        {
          "name": "stdout",
          "output_type": "stream",
          "text": [
            "+------------+-----------------------------------------------------------------------------------------------------------------------------+\n",
            "|  QUESTION  |                                 Which software has been published by Mean Hamster Software?                                 |\n",
            "+------------+-----------------------------------------------------------------------------------------------------------------------------+\n",
            "|   Target   | SELECT DISTINCT ?uri WHERE { ?uri rdf:type onto:Software { ?uri prop:publisher \"Mean Hamster Software\"@en } UNION { ?uri on |\n",
            "|            |                                         to:publisher res:Mean_Hamster_Software } }                                          |\n",
            "+------------+-----------------------------------------------------------------------------------------------------------------------------+\n",
            "| RESULT-Raw |                       select distinct ?uri where { dbr:Meet Hamster dbo:Software dbo:Published ?uri }                       |\n",
            "+------------+-----------------------------------------------------------------------------------------------------------------------------+\n"
          ]
        }
      ],
      "source": [
        "# From QALD\n",
        "q = \"Which software has been published by Mean Hamster Software?\"\n",
        "target = \"SELECT DISTINCT ?uri WHERE { ?uri rdf:type onto:Software { ?uri prop:publisher \\\"Mean Hamster Software\\\"@en } UNION { ?uri onto:publisher res:Mean_Hamster_Software } }\"\n",
        "pretty_translate(target, q)"
      ]
    },
    {
      "cell_type": "code",
      "execution_count": 38,
      "metadata": {},
      "outputs": [
        {
          "name": "stdout",
          "output_type": "stream",
          "text": [
            "+------------+-----------------------------------------------------------------------------------------------------------------------------+\n",
            "|  QUESTION  |                                            Which country was Bill Gates born in?                                            |\n",
            "+------------+-----------------------------------------------------------------------------------------------------------------------------+\n",
            "|   Target   | SELECT DISTINCT ?country WHERE { { dbr:Bill_Gates dbo:birthPlace ?birthPlace . ?birthPlace dbo:country ?country } UNION { d |\n",
            "|            |        br:Bill_Gates dbo:birthPlace ?birthPlace . ?birthPlace dbo:isPartOf ?place . ?place dbo:country ?country } }         |\n",
            "+------------+-----------------------------------------------------------------------------------------------------------------------------+\n",
            "| RESULT-Raw | select distinct ?uri where { dbr:Gate_Page dbo:born________________________________________________________________________ |\n",
            "|            |                                                            ____                                                             |\n",
            "+------------+-----------------------------------------------------------------------------------------------------------------------------+\n"
          ]
        }
      ],
      "source": [
        "# From QALD\n",
        "q = \"Which country was Bill Gates born in?\"\n",
        "target = \"SELECT DISTINCT ?country WHERE { { dbr:Bill_Gates dbo:birthPlace ?birthPlace . ?birthPlace dbo:country ?country } UNION { dbr:Bill_Gates dbo:birthPlace ?birthPlace . ?birthPlace dbo:isPartOf ?place . ?place dbo:country ?country } }\"\n",
        "pretty_translate(target, q)"
      ]
    },
    {
      "cell_type": "code",
      "execution_count": 39,
      "metadata": {},
      "outputs": [
        {
          "name": "stdout",
          "output_type": "stream",
          "text": [
            "+------------+-----------------------------------------------------------------------------------------------------------------------------+\n",
            "|  QUESTION  |                                     How many grand-children did Jacques Cousteau have?                                      |\n",
            "+------------+-----------------------------------------------------------------------------------------------------------------------------+\n",
            "|   Target   | SELECT COUNT(DISTINCT ?y AS ?y) WHERE { <http://dbpedia.org/resource/Jacques_Cousteau> <http://dbpedia.org/ontology/child>  |\n",
            "|            |                                     ?x . ?x <http://dbpedia.org/ontology/child> ?y . }                                      |\n",
            "+------------+-----------------------------------------------------------------------------------------------------------------------------+\n",
            "| RESULT-Raw | select distinct ?uri where { ?uri dbr:Jacques_Casteau dbo:Church_Church_Church_Church_Church_Church_Church_Church_Church_Ch |\n",
            "|            |                               urch_Church_Church_Church_Church_Church_Church_Church_Church_Ch                               |\n",
            "+------------+-----------------------------------------------------------------------------------------------------------------------------+\n"
          ]
        }
      ],
      "source": [
        "# From QALD\n",
        "q = \"How many grand-children did Jacques Cousteau have?\"\n",
        "target = \"SELECT COUNT(DISTINCT ?y AS ?y) WHERE { <http://dbpedia.org/resource/Jacques_Cousteau> <http://dbpedia.org/ontology/child> ?x . ?x <http://dbpedia.org/ontology/child> ?y . }\"\n",
        "pretty_translate(target, q)"
      ]
    },
    {
      "cell_type": "code",
      "execution_count": 40,
      "metadata": {},
      "outputs": [
        {
          "name": "stdout",
          "output_type": "stream",
          "text": [
            "+------------+-----------------------------------------------------------------------------------------------------------------------------+\n",
            "|  QUESTION  |                                     Give me all professional skateboarders from Sweden.                                     |\n",
            "+------------+-----------------------------------------------------------------------------------------------------------------------------+\n",
            "|   Target   | SELECT DISTINCT ?uri WHERE { ?uri dbo:occupation dbr:Skateboarder { ?uri dbo:birthPlace dbr:Sweden } UNION { ?uri dbo:birth |\n",
            "|            |                                      Place ?place . ?place dbo:country dbr:Sweden } }                                       |\n",
            "+------------+-----------------------------------------------------------------------------------------------------------------------------+\n",
            "| RESULT-Raw | select distinct ?uri where { ?uri dbr:Skiboarder dbo:Snowboarder dbo:Snowboarder dbo:Snowboarder dbo:Snowboarder dbo:Snowbo |\n",
            "|            |                             arder dbo:Snowboarder dbo:Snowboarder dbo:Snowboarder dbo:Snowboard                             |\n",
            "+------------+-----------------------------------------------------------------------------------------------------------------------------+\n"
          ]
        }
      ],
      "source": [
        "# From QALD\n",
        "q = \"Give me all professional skateboarders from Sweden.\"\n",
        "target = \"SELECT DISTINCT ?uri WHERE { ?uri dbo:occupation dbr:Skateboarder { ?uri dbo:birthPlace dbr:Sweden } UNION { ?uri dbo:birthPlace ?place . ?place dbo:country dbr:Sweden } }\"\n",
        "pretty_translate(target, q)"
      ]
    },
    {
      "cell_type": "code",
      "execution_count": 41,
      "metadata": {},
      "outputs": [
        {
          "name": "stdout",
          "output_type": "stream",
          "text": [
            "+------------+-----------------------------------------------------------------------------------------------------------------------------+\n",
            "|  QUESTION  |                               Which monarchs of the United Kingdom were married to a German?                                |\n",
            "+------------+-----------------------------------------------------------------------------------------------------------------------------+\n",
            "|   Target   | SELECT DISTINCT ?uri WHERE { ?uri rdf:type yago:WikicatMonarchsOfTheUnitedKingdom ; dbo:spouse ?spouse . ?spouse dbo:birthP |\n",
            "|            |                                                     lace res:Germany }                                                      |\n",
            "+------------+-----------------------------------------------------------------------------------------------------------------------------+\n",
            "| RESULT-Raw |                                select distinct ?uri where { ?uri dbr:March dbo:German ?uri }                                |\n",
            "+------------+-----------------------------------------------------------------------------------------------------------------------------+\n"
          ]
        }
      ],
      "source": [
        "# From QALD\n",
        "q = \"Which monarchs of the United Kingdom were married to a German?\"\n",
        "target = \"SELECT DISTINCT ?uri WHERE { ?uri rdf:type yago:WikicatMonarchsOfTheUnitedKingdom ; dbo:spouse ?spouse . ?spouse dbo:birthPlace res:Germany }\"\n",
        "pretty_translate(target, q)"
      ]
    },
    {
      "cell_type": "code",
      "execution_count": 42,
      "metadata": {},
      "outputs": [
        {
          "name": "stdout",
          "output_type": "stream",
          "text": [
            "+------------+-----------------------------------------------------------------------------------------------------------------------------+\n",
            "|  QUESTION  |                                                Give me all Argentine films.                                                 |\n",
            "+------------+-----------------------------------------------------------------------------------------------------------------------------+\n",
            "|   Target   | SELECT DISTINCT ?uri WHERE { { ?uri rdf:type yago:ArgentineFilms } UNION { ?uri rdf:type dbo:Film { ?uri dbo:country res:Ar |\n",
            "|            |                                   gentina } UNION { ?uri dbp:country \"Argentina\"@en } } }                                   |\n",
            "+------------+-----------------------------------------------------------------------------------------------------------------------------+\n",
            "| RESULT-Raw |                              select distinct ?uri where { ?uri dbr:Argentine dbo:films ?uri }                               |\n",
            "+------------+-----------------------------------------------------------------------------------------------------------------------------+\n"
          ]
        }
      ],
      "source": [
        "# From QALD\n",
        "q = \"Give me all Argentine films.\"\n",
        "target = \"SELECT DISTINCT ?uri WHERE { { ?uri rdf:type yago:ArgentineFilms } UNION { ?uri rdf:type dbo:Film { ?uri dbo:country res:Argentina } UNION { ?uri dbp:country \\\"Argentina\\\"@en } } }\"\n",
        "pretty_translate(target, q)"
      ]
    },
    {
      "cell_type": "code",
      "execution_count": 43,
      "metadata": {},
      "outputs": [
        {
          "name": "stdout",
          "output_type": "stream",
          "text": [
            "+------------+-----------------------------------------------------------------------------------------------------------------------------+\n",
            "|  QUESTION  |                                                How did Michael Jackson die?                                                 |\n",
            "+------------+-----------------------------------------------------------------------------------------------------------------------------+\n",
            "|   Target   |   SELECT DISTINCT ?s WHERE { <http://dbpedia.org/resource/Michael_Jackson> <http://dbpedia.org/property/deathCause> ?s }    |\n",
            "+------------+-----------------------------------------------------------------------------------------------------------------------------+\n",
            "| RESULT-Raw | select distinct ?uri where { dbr:Michael Jackson dbo:Memory_Memory_Memory_Memory_Memory_Memory_Memory_Memory_Memory_Memory_ |\n",
            "|            |                                            Memory_Memory_Memory_Memory_Memory_M                                             |\n",
            "+------------+-----------------------------------------------------------------------------------------------------------------------------+\n"
          ]
        }
      ],
      "source": [
        "# From QALD\n",
        "q = \"How did Michael Jackson die?\"\n",
        "target = \"SELECT DISTINCT ?s WHERE { <http://dbpedia.org/resource/Michael_Jackson> <http://dbpedia.org/property/deathCause> ?s }\"\n",
        "pretty_translate(target, q)"
      ]
    },
    {
      "cell_type": "code",
      "execution_count": 44,
      "metadata": {},
      "outputs": [
        {
          "name": "stdout",
          "output_type": "stream",
          "text": [
            "+------------+-----------------------------------------------------------------------------------------------------------------------------+\n",
            "|  QUESTION  |                                               Where did Michael Jackson died?                                               |\n",
            "+------------+-----------------------------------------------------------------------------------------------------------------------------+\n",
            "|   Target   |                                                              .                                                              |\n",
            "+------------+-----------------------------------------------------------------------------------------------------------------------------+\n",
            "| RESULT-Raw | select distinct ?uri where { dbr:Michael Jackson dbo:Memory_Memory_Memory_Memory_Memory_Memory_Memory_Memory_Memory_Memory_ |\n",
            "|            |                                            Memory_Memory_Memory_Memory_Memory_M                                             |\n",
            "+------------+-----------------------------------------------------------------------------------------------------------------------------+\n"
          ]
        }
      ],
      "source": [
        "# From QALD\n",
        "q = \"Where did Michael Jackson died?\"\n",
        "target = \".\"\n",
        "pretty_translate(target, q)"
      ]
    },
    {
      "cell_type": "code",
      "execution_count": 45,
      "metadata": {},
      "outputs": [
        {
          "name": "stdout",
          "output_type": "stream",
          "text": [
            "+------------+-------------------------------------------------------------------+\n",
            "|  QUESTION  |            Which classes does the Millepede belong to?            |\n",
            "+------------+-------------------------------------------------------------------+\n",
            "|   Target   | SELECT DISTINCT ?String WHERE { res:Millipede dbp:taxon ?String } |\n",
            "+------------+-------------------------------------------------------------------+\n",
            "| RESULT-Raw |   select distinct ?uri where { dbr:Memorypede dbo:class ?uri }    |\n",
            "+------------+-------------------------------------------------------------------+\n"
          ]
        }
      ],
      "source": [
        "# From QALD\n",
        "q = \"Which classes does the Millepede belong to?\"\n",
        "target = \"SELECT DISTINCT ?String WHERE { res:Millipede dbp:taxon ?String }\"\n",
        "pretty_translate(target, q)"
      ]
    },
    {
      "cell_type": "code",
      "execution_count": 46,
      "metadata": {},
      "outputs": [
        {
          "name": "stdout",
          "output_type": "stream",
          "text": [
            "+------------+-------------------------------------------------------------------+\n",
            "|  QUESTION  |            Which classes does the Millepede belong to?            |\n",
            "+------------+-------------------------------------------------------------------+\n",
            "|   Target   | SELECT DISTINCT ?String WHERE { res:Millipede dbp:taxon ?String } |\n",
            "+------------+-------------------------------------------------------------------+\n",
            "| RESULT-Raw |   select distinct ?uri where { dbr:Memorypede dbo:class ?uri }    |\n",
            "+------------+-------------------------------------------------------------------+\n"
          ]
        }
      ],
      "source": [
        "# From QALD\n",
        "q = \"Which classes does the Millepede belong to?\"\n",
        "target = \"SELECT DISTINCT ?String WHERE { res:Millipede dbp:taxon ?String }\"\n",
        "pretty_translate(target, q)"
      ]
    }
  ],
  "metadata": {
    "colab": {
      "name": "seq2seq-t5-use.ipynb",
      "provenance": []
    },
    "interpreter": {
      "hash": "e7370f93d1d0cde622a1f8e1c04877d8463912d04d973331ad4851f04de6915a"
    },
    "kernelspec": {
      "display_name": "Python 3.8.5 64-bit",
      "name": "python3"
    },
    "language_info": {
      "codemirror_mode": {
        "name": "ipython",
        "version": 3
      },
      "file_extension": ".py",
      "mimetype": "text/x-python",
      "name": "python",
      "nbconvert_exporter": "python",
      "pygments_lexer": "ipython3",
      "version": "3.8.5"
    },
    "orig_nbformat": 4
  },
  "nbformat": 4,
  "nbformat_minor": 2
}
