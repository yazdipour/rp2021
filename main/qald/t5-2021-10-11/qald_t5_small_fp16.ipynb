{
  "nbformat": 4,
  "nbformat_minor": 0,
  "metadata": {
    "accelerator": "GPU",
    "colab": {
      "name": "qald_t5_small_fp16.ipynb",
      "provenance": [],
      "collapsed_sections": []
    },
    "interpreter": {
      "hash": "767d51c1340bd893661ea55ea3124f6de3c7a262a8b4abca0554b478b1e2ff90"
    },
    "kernelspec": {
      "display_name": "Python 3.8.5 64-bit",
      "name": "python3"
    },
    "language_info": {
      "codemirror_mode": {
        "name": "ipython",
        "version": 3
      },
      "file_extension": ".py",
      "mimetype": "text/x-python",
      "name": "python",
      "nbconvert_exporter": "python",
      "pygments_lexer": "ipython3",
      "version": "3.8.5"
    },
    "widgets": {
      "application/vnd.jupyter.widget-state+json": {
        "d8c48acaaea4424b92bb803679e364ce": {
          "model_module": "@jupyter-widgets/controls",
          "model_name": "HBoxModel",
          "model_module_version": "1.5.0",
          "state": {
            "_view_name": "HBoxView",
            "_dom_classes": [],
            "_model_name": "HBoxModel",
            "_view_module": "@jupyter-widgets/controls",
            "_model_module_version": "1.5.0",
            "_view_count": null,
            "_view_module_version": "1.5.0",
            "box_style": "",
            "layout": "IPY_MODEL_f9c69b74db89455d8cd0ca419efebc8f",
            "_model_module": "@jupyter-widgets/controls",
            "children": [
              "IPY_MODEL_9d48b04c6693425ba08e98eb69e7aa8a",
              "IPY_MODEL_b225c6578aa546afa282aa9d0f00ab17",
              "IPY_MODEL_e8e078571a874a6caf4267a8487fee39"
            ]
          }
        },
        "f9c69b74db89455d8cd0ca419efebc8f": {
          "model_module": "@jupyter-widgets/base",
          "model_name": "LayoutModel",
          "model_module_version": "1.2.0",
          "state": {
            "_view_name": "LayoutView",
            "grid_template_rows": null,
            "right": null,
            "justify_content": null,
            "_view_module": "@jupyter-widgets/base",
            "overflow": null,
            "_model_module_version": "1.2.0",
            "_view_count": null,
            "flex_flow": null,
            "width": null,
            "min_width": null,
            "border": null,
            "align_items": null,
            "bottom": null,
            "_model_module": "@jupyter-widgets/base",
            "top": null,
            "grid_column": null,
            "overflow_y": null,
            "overflow_x": null,
            "grid_auto_flow": null,
            "grid_area": null,
            "grid_template_columns": null,
            "flex": null,
            "_model_name": "LayoutModel",
            "justify_items": null,
            "grid_row": null,
            "max_height": null,
            "align_content": null,
            "visibility": null,
            "align_self": null,
            "height": null,
            "min_height": null,
            "padding": null,
            "grid_auto_rows": null,
            "grid_gap": null,
            "max_width": null,
            "order": null,
            "_view_module_version": "1.2.0",
            "grid_template_areas": null,
            "object_position": null,
            "object_fit": null,
            "grid_auto_columns": null,
            "margin": null,
            "display": null,
            "left": null
          }
        },
        "9d48b04c6693425ba08e98eb69e7aa8a": {
          "model_module": "@jupyter-widgets/controls",
          "model_name": "HTMLModel",
          "model_module_version": "1.5.0",
          "state": {
            "_view_name": "HTMLView",
            "style": "IPY_MODEL_abd3f6d2fd26424299fe3468dbcb6c17",
            "_dom_classes": [],
            "description": "",
            "_model_name": "HTMLModel",
            "placeholder": "​",
            "_view_module": "@jupyter-widgets/controls",
            "_model_module_version": "1.5.0",
            "value": "Downloading: 100%",
            "_view_count": null,
            "_view_module_version": "1.5.0",
            "description_tooltip": null,
            "_model_module": "@jupyter-widgets/controls",
            "layout": "IPY_MODEL_1dc478878b824ce08f7838c3357c9e9b"
          }
        },
        "b225c6578aa546afa282aa9d0f00ab17": {
          "model_module": "@jupyter-widgets/controls",
          "model_name": "FloatProgressModel",
          "model_module_version": "1.5.0",
          "state": {
            "_view_name": "ProgressView",
            "style": "IPY_MODEL_46bf56edee2e4ab8a62b9a343df0a694",
            "_dom_classes": [],
            "description": "",
            "_model_name": "FloatProgressModel",
            "bar_style": "success",
            "max": 1197,
            "_view_module": "@jupyter-widgets/controls",
            "_model_module_version": "1.5.0",
            "value": 1197,
            "_view_count": null,
            "_view_module_version": "1.5.0",
            "orientation": "horizontal",
            "min": 0,
            "description_tooltip": null,
            "_model_module": "@jupyter-widgets/controls",
            "layout": "IPY_MODEL_751492291d9246d7bd2f20e2817c6ef1"
          }
        },
        "e8e078571a874a6caf4267a8487fee39": {
          "model_module": "@jupyter-widgets/controls",
          "model_name": "HTMLModel",
          "model_module_version": "1.5.0",
          "state": {
            "_view_name": "HTMLView",
            "style": "IPY_MODEL_5ac0f60d9cc348a5a804562b3568c8d0",
            "_dom_classes": [],
            "description": "",
            "_model_name": "HTMLModel",
            "placeholder": "​",
            "_view_module": "@jupyter-widgets/controls",
            "_model_module_version": "1.5.0",
            "value": " 1.17k/1.17k [00:00&lt;00:00, 31.7kB/s]",
            "_view_count": null,
            "_view_module_version": "1.5.0",
            "description_tooltip": null,
            "_model_module": "@jupyter-widgets/controls",
            "layout": "IPY_MODEL_06625f18c42c4cdf95562ac1ccecc5ef"
          }
        },
        "abd3f6d2fd26424299fe3468dbcb6c17": {
          "model_module": "@jupyter-widgets/controls",
          "model_name": "DescriptionStyleModel",
          "model_module_version": "1.5.0",
          "state": {
            "_view_name": "StyleView",
            "_model_name": "DescriptionStyleModel",
            "description_width": "",
            "_view_module": "@jupyter-widgets/base",
            "_model_module_version": "1.5.0",
            "_view_count": null,
            "_view_module_version": "1.2.0",
            "_model_module": "@jupyter-widgets/controls"
          }
        },
        "1dc478878b824ce08f7838c3357c9e9b": {
          "model_module": "@jupyter-widgets/base",
          "model_name": "LayoutModel",
          "model_module_version": "1.2.0",
          "state": {
            "_view_name": "LayoutView",
            "grid_template_rows": null,
            "right": null,
            "justify_content": null,
            "_view_module": "@jupyter-widgets/base",
            "overflow": null,
            "_model_module_version": "1.2.0",
            "_view_count": null,
            "flex_flow": null,
            "width": null,
            "min_width": null,
            "border": null,
            "align_items": null,
            "bottom": null,
            "_model_module": "@jupyter-widgets/base",
            "top": null,
            "grid_column": null,
            "overflow_y": null,
            "overflow_x": null,
            "grid_auto_flow": null,
            "grid_area": null,
            "grid_template_columns": null,
            "flex": null,
            "_model_name": "LayoutModel",
            "justify_items": null,
            "grid_row": null,
            "max_height": null,
            "align_content": null,
            "visibility": null,
            "align_self": null,
            "height": null,
            "min_height": null,
            "padding": null,
            "grid_auto_rows": null,
            "grid_gap": null,
            "max_width": null,
            "order": null,
            "_view_module_version": "1.2.0",
            "grid_template_areas": null,
            "object_position": null,
            "object_fit": null,
            "grid_auto_columns": null,
            "margin": null,
            "display": null,
            "left": null
          }
        },
        "46bf56edee2e4ab8a62b9a343df0a694": {
          "model_module": "@jupyter-widgets/controls",
          "model_name": "ProgressStyleModel",
          "model_module_version": "1.5.0",
          "state": {
            "_view_name": "StyleView",
            "_model_name": "ProgressStyleModel",
            "description_width": "",
            "_view_module": "@jupyter-widgets/base",
            "_model_module_version": "1.5.0",
            "_view_count": null,
            "_view_module_version": "1.2.0",
            "bar_color": null,
            "_model_module": "@jupyter-widgets/controls"
          }
        },
        "751492291d9246d7bd2f20e2817c6ef1": {
          "model_module": "@jupyter-widgets/base",
          "model_name": "LayoutModel",
          "model_module_version": "1.2.0",
          "state": {
            "_view_name": "LayoutView",
            "grid_template_rows": null,
            "right": null,
            "justify_content": null,
            "_view_module": "@jupyter-widgets/base",
            "overflow": null,
            "_model_module_version": "1.2.0",
            "_view_count": null,
            "flex_flow": null,
            "width": null,
            "min_width": null,
            "border": null,
            "align_items": null,
            "bottom": null,
            "_model_module": "@jupyter-widgets/base",
            "top": null,
            "grid_column": null,
            "overflow_y": null,
            "overflow_x": null,
            "grid_auto_flow": null,
            "grid_area": null,
            "grid_template_columns": null,
            "flex": null,
            "_model_name": "LayoutModel",
            "justify_items": null,
            "grid_row": null,
            "max_height": null,
            "align_content": null,
            "visibility": null,
            "align_self": null,
            "height": null,
            "min_height": null,
            "padding": null,
            "grid_auto_rows": null,
            "grid_gap": null,
            "max_width": null,
            "order": null,
            "_view_module_version": "1.2.0",
            "grid_template_areas": null,
            "object_position": null,
            "object_fit": null,
            "grid_auto_columns": null,
            "margin": null,
            "display": null,
            "left": null
          }
        },
        "5ac0f60d9cc348a5a804562b3568c8d0": {
          "model_module": "@jupyter-widgets/controls",
          "model_name": "DescriptionStyleModel",
          "model_module_version": "1.5.0",
          "state": {
            "_view_name": "StyleView",
            "_model_name": "DescriptionStyleModel",
            "description_width": "",
            "_view_module": "@jupyter-widgets/base",
            "_model_module_version": "1.5.0",
            "_view_count": null,
            "_view_module_version": "1.2.0",
            "_model_module": "@jupyter-widgets/controls"
          }
        },
        "06625f18c42c4cdf95562ac1ccecc5ef": {
          "model_module": "@jupyter-widgets/base",
          "model_name": "LayoutModel",
          "model_module_version": "1.2.0",
          "state": {
            "_view_name": "LayoutView",
            "grid_template_rows": null,
            "right": null,
            "justify_content": null,
            "_view_module": "@jupyter-widgets/base",
            "overflow": null,
            "_model_module_version": "1.2.0",
            "_view_count": null,
            "flex_flow": null,
            "width": null,
            "min_width": null,
            "border": null,
            "align_items": null,
            "bottom": null,
            "_model_module": "@jupyter-widgets/base",
            "top": null,
            "grid_column": null,
            "overflow_y": null,
            "overflow_x": null,
            "grid_auto_flow": null,
            "grid_area": null,
            "grid_template_columns": null,
            "flex": null,
            "_model_name": "LayoutModel",
            "justify_items": null,
            "grid_row": null,
            "max_height": null,
            "align_content": null,
            "visibility": null,
            "align_self": null,
            "height": null,
            "min_height": null,
            "padding": null,
            "grid_auto_rows": null,
            "grid_gap": null,
            "max_width": null,
            "order": null,
            "_view_module_version": "1.2.0",
            "grid_template_areas": null,
            "object_position": null,
            "object_fit": null,
            "grid_auto_columns": null,
            "margin": null,
            "display": null,
            "left": null
          }
        },
        "6ee56acef5e04f61aa481c13573be291": {
          "model_module": "@jupyter-widgets/controls",
          "model_name": "HBoxModel",
          "model_module_version": "1.5.0",
          "state": {
            "_view_name": "HBoxView",
            "_dom_classes": [],
            "_model_name": "HBoxModel",
            "_view_module": "@jupyter-widgets/controls",
            "_model_module_version": "1.5.0",
            "_view_count": null,
            "_view_module_version": "1.5.0",
            "box_style": "",
            "layout": "IPY_MODEL_aa3a461bbffa487d8d190d666af7279b",
            "_model_module": "@jupyter-widgets/controls",
            "children": [
              "IPY_MODEL_56aace4f9b774acfb98f3579abe3b3f4",
              "IPY_MODEL_855009d9cc9646caa239a9f86f7a9a9a",
              "IPY_MODEL_d36d83873dcc458cbc7e982d0c4567d2"
            ]
          }
        },
        "aa3a461bbffa487d8d190d666af7279b": {
          "model_module": "@jupyter-widgets/base",
          "model_name": "LayoutModel",
          "model_module_version": "1.2.0",
          "state": {
            "_view_name": "LayoutView",
            "grid_template_rows": null,
            "right": null,
            "justify_content": null,
            "_view_module": "@jupyter-widgets/base",
            "overflow": null,
            "_model_module_version": "1.2.0",
            "_view_count": null,
            "flex_flow": null,
            "width": null,
            "min_width": null,
            "border": null,
            "align_items": null,
            "bottom": null,
            "_model_module": "@jupyter-widgets/base",
            "top": null,
            "grid_column": null,
            "overflow_y": null,
            "overflow_x": null,
            "grid_auto_flow": null,
            "grid_area": null,
            "grid_template_columns": null,
            "flex": null,
            "_model_name": "LayoutModel",
            "justify_items": null,
            "grid_row": null,
            "max_height": null,
            "align_content": null,
            "visibility": null,
            "align_self": null,
            "height": null,
            "min_height": null,
            "padding": null,
            "grid_auto_rows": null,
            "grid_gap": null,
            "max_width": null,
            "order": null,
            "_view_module_version": "1.2.0",
            "grid_template_areas": null,
            "object_position": null,
            "object_fit": null,
            "grid_auto_columns": null,
            "margin": null,
            "display": null,
            "left": null
          }
        },
        "56aace4f9b774acfb98f3579abe3b3f4": {
          "model_module": "@jupyter-widgets/controls",
          "model_name": "HTMLModel",
          "model_module_version": "1.5.0",
          "state": {
            "_view_name": "HTMLView",
            "style": "IPY_MODEL_d5b05e551a9f4bccb847d37507c3bc90",
            "_dom_classes": [],
            "description": "",
            "_model_name": "HTMLModel",
            "placeholder": "​",
            "_view_module": "@jupyter-widgets/controls",
            "_model_module_version": "1.5.0",
            "value": "100%",
            "_view_count": null,
            "_view_module_version": "1.5.0",
            "description_tooltip": null,
            "_model_module": "@jupyter-widgets/controls",
            "layout": "IPY_MODEL_f26389b76db5456baf0cdc363c5524dd"
          }
        },
        "855009d9cc9646caa239a9f86f7a9a9a": {
          "model_module": "@jupyter-widgets/controls",
          "model_name": "FloatProgressModel",
          "model_module_version": "1.5.0",
          "state": {
            "_view_name": "ProgressView",
            "style": "IPY_MODEL_3bb47ef65a734fa1b0f68a4e0df30b35",
            "_dom_classes": [],
            "description": "",
            "_model_name": "FloatProgressModel",
            "bar_style": "success",
            "max": 1,
            "_view_module": "@jupyter-widgets/controls",
            "_model_module_version": "1.5.0",
            "value": 1,
            "_view_count": null,
            "_view_module_version": "1.5.0",
            "orientation": "horizontal",
            "min": 0,
            "description_tooltip": null,
            "_model_module": "@jupyter-widgets/controls",
            "layout": "IPY_MODEL_3ca73849079741e7a91a2fae72f28d3c"
          }
        },
        "d36d83873dcc458cbc7e982d0c4567d2": {
          "model_module": "@jupyter-widgets/controls",
          "model_name": "HTMLModel",
          "model_module_version": "1.5.0",
          "state": {
            "_view_name": "HTMLView",
            "style": "IPY_MODEL_501c8198ae014651b969b5c32ee05f1a",
            "_dom_classes": [],
            "description": "",
            "_model_name": "HTMLModel",
            "placeholder": "​",
            "_view_module": "@jupyter-widgets/controls",
            "_model_module_version": "1.5.0",
            "value": " 1/1 [00:00&lt;00:00,  7.36ba/s]",
            "_view_count": null,
            "_view_module_version": "1.5.0",
            "description_tooltip": null,
            "_model_module": "@jupyter-widgets/controls",
            "layout": "IPY_MODEL_f6628949cf2a4ba19a91fb5be4d420d9"
          }
        },
        "d5b05e551a9f4bccb847d37507c3bc90": {
          "model_module": "@jupyter-widgets/controls",
          "model_name": "DescriptionStyleModel",
          "model_module_version": "1.5.0",
          "state": {
            "_view_name": "StyleView",
            "_model_name": "DescriptionStyleModel",
            "description_width": "",
            "_view_module": "@jupyter-widgets/base",
            "_model_module_version": "1.5.0",
            "_view_count": null,
            "_view_module_version": "1.2.0",
            "_model_module": "@jupyter-widgets/controls"
          }
        },
        "f26389b76db5456baf0cdc363c5524dd": {
          "model_module": "@jupyter-widgets/base",
          "model_name": "LayoutModel",
          "model_module_version": "1.2.0",
          "state": {
            "_view_name": "LayoutView",
            "grid_template_rows": null,
            "right": null,
            "justify_content": null,
            "_view_module": "@jupyter-widgets/base",
            "overflow": null,
            "_model_module_version": "1.2.0",
            "_view_count": null,
            "flex_flow": null,
            "width": null,
            "min_width": null,
            "border": null,
            "align_items": null,
            "bottom": null,
            "_model_module": "@jupyter-widgets/base",
            "top": null,
            "grid_column": null,
            "overflow_y": null,
            "overflow_x": null,
            "grid_auto_flow": null,
            "grid_area": null,
            "grid_template_columns": null,
            "flex": null,
            "_model_name": "LayoutModel",
            "justify_items": null,
            "grid_row": null,
            "max_height": null,
            "align_content": null,
            "visibility": null,
            "align_self": null,
            "height": null,
            "min_height": null,
            "padding": null,
            "grid_auto_rows": null,
            "grid_gap": null,
            "max_width": null,
            "order": null,
            "_view_module_version": "1.2.0",
            "grid_template_areas": null,
            "object_position": null,
            "object_fit": null,
            "grid_auto_columns": null,
            "margin": null,
            "display": null,
            "left": null
          }
        },
        "3bb47ef65a734fa1b0f68a4e0df30b35": {
          "model_module": "@jupyter-widgets/controls",
          "model_name": "ProgressStyleModel",
          "model_module_version": "1.5.0",
          "state": {
            "_view_name": "StyleView",
            "_model_name": "ProgressStyleModel",
            "description_width": "",
            "_view_module": "@jupyter-widgets/base",
            "_model_module_version": "1.5.0",
            "_view_count": null,
            "_view_module_version": "1.2.0",
            "bar_color": null,
            "_model_module": "@jupyter-widgets/controls"
          }
        },
        "3ca73849079741e7a91a2fae72f28d3c": {
          "model_module": "@jupyter-widgets/base",
          "model_name": "LayoutModel",
          "model_module_version": "1.2.0",
          "state": {
            "_view_name": "LayoutView",
            "grid_template_rows": null,
            "right": null,
            "justify_content": null,
            "_view_module": "@jupyter-widgets/base",
            "overflow": null,
            "_model_module_version": "1.2.0",
            "_view_count": null,
            "flex_flow": null,
            "width": null,
            "min_width": null,
            "border": null,
            "align_items": null,
            "bottom": null,
            "_model_module": "@jupyter-widgets/base",
            "top": null,
            "grid_column": null,
            "overflow_y": null,
            "overflow_x": null,
            "grid_auto_flow": null,
            "grid_area": null,
            "grid_template_columns": null,
            "flex": null,
            "_model_name": "LayoutModel",
            "justify_items": null,
            "grid_row": null,
            "max_height": null,
            "align_content": null,
            "visibility": null,
            "align_self": null,
            "height": null,
            "min_height": null,
            "padding": null,
            "grid_auto_rows": null,
            "grid_gap": null,
            "max_width": null,
            "order": null,
            "_view_module_version": "1.2.0",
            "grid_template_areas": null,
            "object_position": null,
            "object_fit": null,
            "grid_auto_columns": null,
            "margin": null,
            "display": null,
            "left": null
          }
        },
        "501c8198ae014651b969b5c32ee05f1a": {
          "model_module": "@jupyter-widgets/controls",
          "model_name": "DescriptionStyleModel",
          "model_module_version": "1.5.0",
          "state": {
            "_view_name": "StyleView",
            "_model_name": "DescriptionStyleModel",
            "description_width": "",
            "_view_module": "@jupyter-widgets/base",
            "_model_module_version": "1.5.0",
            "_view_count": null,
            "_view_module_version": "1.2.0",
            "_model_module": "@jupyter-widgets/controls"
          }
        },
        "f6628949cf2a4ba19a91fb5be4d420d9": {
          "model_module": "@jupyter-widgets/base",
          "model_name": "LayoutModel",
          "model_module_version": "1.2.0",
          "state": {
            "_view_name": "LayoutView",
            "grid_template_rows": null,
            "right": null,
            "justify_content": null,
            "_view_module": "@jupyter-widgets/base",
            "overflow": null,
            "_model_module_version": "1.2.0",
            "_view_count": null,
            "flex_flow": null,
            "width": null,
            "min_width": null,
            "border": null,
            "align_items": null,
            "bottom": null,
            "_model_module": "@jupyter-widgets/base",
            "top": null,
            "grid_column": null,
            "overflow_y": null,
            "overflow_x": null,
            "grid_auto_flow": null,
            "grid_area": null,
            "grid_template_columns": null,
            "flex": null,
            "_model_name": "LayoutModel",
            "justify_items": null,
            "grid_row": null,
            "max_height": null,
            "align_content": null,
            "visibility": null,
            "align_self": null,
            "height": null,
            "min_height": null,
            "padding": null,
            "grid_auto_rows": null,
            "grid_gap": null,
            "max_width": null,
            "order": null,
            "_view_module_version": "1.2.0",
            "grid_template_areas": null,
            "object_position": null,
            "object_fit": null,
            "grid_auto_columns": null,
            "margin": null,
            "display": null,
            "left": null
          }
        },
        "e4186ab9f15341279712830545cc3491": {
          "model_module": "@jupyter-widgets/controls",
          "model_name": "HBoxModel",
          "model_module_version": "1.5.0",
          "state": {
            "_view_name": "HBoxView",
            "_dom_classes": [],
            "_model_name": "HBoxModel",
            "_view_module": "@jupyter-widgets/controls",
            "_model_module_version": "1.5.0",
            "_view_count": null,
            "_view_module_version": "1.5.0",
            "box_style": "",
            "layout": "IPY_MODEL_6d852f366d8e442d859fa7c28e6b0715",
            "_model_module": "@jupyter-widgets/controls",
            "children": [
              "IPY_MODEL_767ee35f9959434385f233bb8cbf758d",
              "IPY_MODEL_4acb39d25cd14e809b26c5393b2c2a2f",
              "IPY_MODEL_040c121730cb483ab815e6e75eccc059"
            ]
          }
        },
        "6d852f366d8e442d859fa7c28e6b0715": {
          "model_module": "@jupyter-widgets/base",
          "model_name": "LayoutModel",
          "model_module_version": "1.2.0",
          "state": {
            "_view_name": "LayoutView",
            "grid_template_rows": null,
            "right": null,
            "justify_content": null,
            "_view_module": "@jupyter-widgets/base",
            "overflow": null,
            "_model_module_version": "1.2.0",
            "_view_count": null,
            "flex_flow": null,
            "width": null,
            "min_width": null,
            "border": null,
            "align_items": null,
            "bottom": null,
            "_model_module": "@jupyter-widgets/base",
            "top": null,
            "grid_column": null,
            "overflow_y": null,
            "overflow_x": null,
            "grid_auto_flow": null,
            "grid_area": null,
            "grid_template_columns": null,
            "flex": null,
            "_model_name": "LayoutModel",
            "justify_items": null,
            "grid_row": null,
            "max_height": null,
            "align_content": null,
            "visibility": null,
            "align_self": null,
            "height": null,
            "min_height": null,
            "padding": null,
            "grid_auto_rows": null,
            "grid_gap": null,
            "max_width": null,
            "order": null,
            "_view_module_version": "1.2.0",
            "grid_template_areas": null,
            "object_position": null,
            "object_fit": null,
            "grid_auto_columns": null,
            "margin": null,
            "display": null,
            "left": null
          }
        },
        "767ee35f9959434385f233bb8cbf758d": {
          "model_module": "@jupyter-widgets/controls",
          "model_name": "HTMLModel",
          "model_module_version": "1.5.0",
          "state": {
            "_view_name": "HTMLView",
            "style": "IPY_MODEL_5b8bba20b772443e8ce45cec6fd24b76",
            "_dom_classes": [],
            "description": "",
            "_model_name": "HTMLModel",
            "placeholder": "​",
            "_view_module": "@jupyter-widgets/controls",
            "_model_module_version": "1.5.0",
            "value": "100%",
            "_view_count": null,
            "_view_module_version": "1.5.0",
            "description_tooltip": null,
            "_model_module": "@jupyter-widgets/controls",
            "layout": "IPY_MODEL_5ac3ce3c15314141b906eab50c69a2d7"
          }
        },
        "4acb39d25cd14e809b26c5393b2c2a2f": {
          "model_module": "@jupyter-widgets/controls",
          "model_name": "FloatProgressModel",
          "model_module_version": "1.5.0",
          "state": {
            "_view_name": "ProgressView",
            "style": "IPY_MODEL_dcecb7c4db46462e9e2f4faf1b934227",
            "_dom_classes": [],
            "description": "",
            "_model_name": "FloatProgressModel",
            "bar_style": "success",
            "max": 1,
            "_view_module": "@jupyter-widgets/controls",
            "_model_module_version": "1.5.0",
            "value": 1,
            "_view_count": null,
            "_view_module_version": "1.5.0",
            "orientation": "horizontal",
            "min": 0,
            "description_tooltip": null,
            "_model_module": "@jupyter-widgets/controls",
            "layout": "IPY_MODEL_4ed635ee00444665927eb6822710e8f7"
          }
        },
        "040c121730cb483ab815e6e75eccc059": {
          "model_module": "@jupyter-widgets/controls",
          "model_name": "HTMLModel",
          "model_module_version": "1.5.0",
          "state": {
            "_view_name": "HTMLView",
            "style": "IPY_MODEL_41da7128f98a420a8bbe670320ba4266",
            "_dom_classes": [],
            "description": "",
            "_model_name": "HTMLModel",
            "placeholder": "​",
            "_view_module": "@jupyter-widgets/controls",
            "_model_module_version": "1.5.0",
            "value": " 1/1 [00:00&lt;00:00, 12.36ba/s]",
            "_view_count": null,
            "_view_module_version": "1.5.0",
            "description_tooltip": null,
            "_model_module": "@jupyter-widgets/controls",
            "layout": "IPY_MODEL_9e3d55ac9a8e49a2a4e449101c78394f"
          }
        },
        "5b8bba20b772443e8ce45cec6fd24b76": {
          "model_module": "@jupyter-widgets/controls",
          "model_name": "DescriptionStyleModel",
          "model_module_version": "1.5.0",
          "state": {
            "_view_name": "StyleView",
            "_model_name": "DescriptionStyleModel",
            "description_width": "",
            "_view_module": "@jupyter-widgets/base",
            "_model_module_version": "1.5.0",
            "_view_count": null,
            "_view_module_version": "1.2.0",
            "_model_module": "@jupyter-widgets/controls"
          }
        },
        "5ac3ce3c15314141b906eab50c69a2d7": {
          "model_module": "@jupyter-widgets/base",
          "model_name": "LayoutModel",
          "model_module_version": "1.2.0",
          "state": {
            "_view_name": "LayoutView",
            "grid_template_rows": null,
            "right": null,
            "justify_content": null,
            "_view_module": "@jupyter-widgets/base",
            "overflow": null,
            "_model_module_version": "1.2.0",
            "_view_count": null,
            "flex_flow": null,
            "width": null,
            "min_width": null,
            "border": null,
            "align_items": null,
            "bottom": null,
            "_model_module": "@jupyter-widgets/base",
            "top": null,
            "grid_column": null,
            "overflow_y": null,
            "overflow_x": null,
            "grid_auto_flow": null,
            "grid_area": null,
            "grid_template_columns": null,
            "flex": null,
            "_model_name": "LayoutModel",
            "justify_items": null,
            "grid_row": null,
            "max_height": null,
            "align_content": null,
            "visibility": null,
            "align_self": null,
            "height": null,
            "min_height": null,
            "padding": null,
            "grid_auto_rows": null,
            "grid_gap": null,
            "max_width": null,
            "order": null,
            "_view_module_version": "1.2.0",
            "grid_template_areas": null,
            "object_position": null,
            "object_fit": null,
            "grid_auto_columns": null,
            "margin": null,
            "display": null,
            "left": null
          }
        },
        "dcecb7c4db46462e9e2f4faf1b934227": {
          "model_module": "@jupyter-widgets/controls",
          "model_name": "ProgressStyleModel",
          "model_module_version": "1.5.0",
          "state": {
            "_view_name": "StyleView",
            "_model_name": "ProgressStyleModel",
            "description_width": "",
            "_view_module": "@jupyter-widgets/base",
            "_model_module_version": "1.5.0",
            "_view_count": null,
            "_view_module_version": "1.2.0",
            "bar_color": null,
            "_model_module": "@jupyter-widgets/controls"
          }
        },
        "4ed635ee00444665927eb6822710e8f7": {
          "model_module": "@jupyter-widgets/base",
          "model_name": "LayoutModel",
          "model_module_version": "1.2.0",
          "state": {
            "_view_name": "LayoutView",
            "grid_template_rows": null,
            "right": null,
            "justify_content": null,
            "_view_module": "@jupyter-widgets/base",
            "overflow": null,
            "_model_module_version": "1.2.0",
            "_view_count": null,
            "flex_flow": null,
            "width": null,
            "min_width": null,
            "border": null,
            "align_items": null,
            "bottom": null,
            "_model_module": "@jupyter-widgets/base",
            "top": null,
            "grid_column": null,
            "overflow_y": null,
            "overflow_x": null,
            "grid_auto_flow": null,
            "grid_area": null,
            "grid_template_columns": null,
            "flex": null,
            "_model_name": "LayoutModel",
            "justify_items": null,
            "grid_row": null,
            "max_height": null,
            "align_content": null,
            "visibility": null,
            "align_self": null,
            "height": null,
            "min_height": null,
            "padding": null,
            "grid_auto_rows": null,
            "grid_gap": null,
            "max_width": null,
            "order": null,
            "_view_module_version": "1.2.0",
            "grid_template_areas": null,
            "object_position": null,
            "object_fit": null,
            "grid_auto_columns": null,
            "margin": null,
            "display": null,
            "left": null
          }
        },
        "41da7128f98a420a8bbe670320ba4266": {
          "model_module": "@jupyter-widgets/controls",
          "model_name": "DescriptionStyleModel",
          "model_module_version": "1.5.0",
          "state": {
            "_view_name": "StyleView",
            "_model_name": "DescriptionStyleModel",
            "description_width": "",
            "_view_module": "@jupyter-widgets/base",
            "_model_module_version": "1.5.0",
            "_view_count": null,
            "_view_module_version": "1.2.0",
            "_model_module": "@jupyter-widgets/controls"
          }
        },
        "9e3d55ac9a8e49a2a4e449101c78394f": {
          "model_module": "@jupyter-widgets/base",
          "model_name": "LayoutModel",
          "model_module_version": "1.2.0",
          "state": {
            "_view_name": "LayoutView",
            "grid_template_rows": null,
            "right": null,
            "justify_content": null,
            "_view_module": "@jupyter-widgets/base",
            "overflow": null,
            "_model_module_version": "1.2.0",
            "_view_count": null,
            "flex_flow": null,
            "width": null,
            "min_width": null,
            "border": null,
            "align_items": null,
            "bottom": null,
            "_model_module": "@jupyter-widgets/base",
            "top": null,
            "grid_column": null,
            "overflow_y": null,
            "overflow_x": null,
            "grid_auto_flow": null,
            "grid_area": null,
            "grid_template_columns": null,
            "flex": null,
            "_model_name": "LayoutModel",
            "justify_items": null,
            "grid_row": null,
            "max_height": null,
            "align_content": null,
            "visibility": null,
            "align_self": null,
            "height": null,
            "min_height": null,
            "padding": null,
            "grid_auto_rows": null,
            "grid_gap": null,
            "max_width": null,
            "order": null,
            "_view_module_version": "1.2.0",
            "grid_template_areas": null,
            "object_position": null,
            "object_fit": null,
            "grid_auto_columns": null,
            "margin": null,
            "display": null,
            "left": null
          }
        },
        "5f3ebbdd22974d15a281b5b9a0183903": {
          "model_module": "@jupyter-widgets/controls",
          "model_name": "HBoxModel",
          "model_module_version": "1.5.0",
          "state": {
            "_view_name": "HBoxView",
            "_dom_classes": [],
            "_model_name": "HBoxModel",
            "_view_module": "@jupyter-widgets/controls",
            "_model_module_version": "1.5.0",
            "_view_count": null,
            "_view_module_version": "1.5.0",
            "box_style": "",
            "layout": "IPY_MODEL_3bc5f87b61064a4db87bc7e559dcbaae",
            "_model_module": "@jupyter-widgets/controls",
            "children": [
              "IPY_MODEL_f7ab2768c2684f09b44a922636cb09bd",
              "IPY_MODEL_dae0c10f8a4448fb983da246eb3ffc92",
              "IPY_MODEL_33cb0638f141482eb9ae4a2ed8bf394e"
            ]
          }
        },
        "3bc5f87b61064a4db87bc7e559dcbaae": {
          "model_module": "@jupyter-widgets/base",
          "model_name": "LayoutModel",
          "model_module_version": "1.2.0",
          "state": {
            "_view_name": "LayoutView",
            "grid_template_rows": null,
            "right": null,
            "justify_content": null,
            "_view_module": "@jupyter-widgets/base",
            "overflow": null,
            "_model_module_version": "1.2.0",
            "_view_count": null,
            "flex_flow": null,
            "width": null,
            "min_width": null,
            "border": null,
            "align_items": null,
            "bottom": null,
            "_model_module": "@jupyter-widgets/base",
            "top": null,
            "grid_column": null,
            "overflow_y": null,
            "overflow_x": null,
            "grid_auto_flow": null,
            "grid_area": null,
            "grid_template_columns": null,
            "flex": null,
            "_model_name": "LayoutModel",
            "justify_items": null,
            "grid_row": null,
            "max_height": null,
            "align_content": null,
            "visibility": null,
            "align_self": null,
            "height": null,
            "min_height": null,
            "padding": null,
            "grid_auto_rows": null,
            "grid_gap": null,
            "max_width": null,
            "order": null,
            "_view_module_version": "1.2.0",
            "grid_template_areas": null,
            "object_position": null,
            "object_fit": null,
            "grid_auto_columns": null,
            "margin": null,
            "display": null,
            "left": null
          }
        },
        "f7ab2768c2684f09b44a922636cb09bd": {
          "model_module": "@jupyter-widgets/controls",
          "model_name": "HTMLModel",
          "model_module_version": "1.5.0",
          "state": {
            "_view_name": "HTMLView",
            "style": "IPY_MODEL_5aed69c31a5b49499529e61a0e55ef32",
            "_dom_classes": [],
            "description": "",
            "_model_name": "HTMLModel",
            "placeholder": "​",
            "_view_module": "@jupyter-widgets/controls",
            "_model_module_version": "1.5.0",
            "value": "Downloading: 100%",
            "_view_count": null,
            "_view_module_version": "1.5.0",
            "description_tooltip": null,
            "_model_module": "@jupyter-widgets/controls",
            "layout": "IPY_MODEL_dd1f08d721204a13b58bdf0b95ebe947"
          }
        },
        "dae0c10f8a4448fb983da246eb3ffc92": {
          "model_module": "@jupyter-widgets/controls",
          "model_name": "FloatProgressModel",
          "model_module_version": "1.5.0",
          "state": {
            "_view_name": "ProgressView",
            "style": "IPY_MODEL_f3531af722fb443b9ac96bc646b43e1a",
            "_dom_classes": [],
            "description": "",
            "_model_name": "FloatProgressModel",
            "bar_style": "success",
            "max": 242065649,
            "_view_module": "@jupyter-widgets/controls",
            "_model_module_version": "1.5.0",
            "value": 242065649,
            "_view_count": null,
            "_view_module_version": "1.5.0",
            "orientation": "horizontal",
            "min": 0,
            "description_tooltip": null,
            "_model_module": "@jupyter-widgets/controls",
            "layout": "IPY_MODEL_43b484c97e594976b6fc74d13244b5c4"
          }
        },
        "33cb0638f141482eb9ae4a2ed8bf394e": {
          "model_module": "@jupyter-widgets/controls",
          "model_name": "HTMLModel",
          "model_module_version": "1.5.0",
          "state": {
            "_view_name": "HTMLView",
            "style": "IPY_MODEL_f7621ab16a8a40dc9b9117a17cdc522f",
            "_dom_classes": [],
            "description": "",
            "_model_name": "HTMLModel",
            "placeholder": "​",
            "_view_module": "@jupyter-widgets/controls",
            "_model_module_version": "1.5.0",
            "value": " 231M/231M [00:07&lt;00:00, 32.7MB/s]",
            "_view_count": null,
            "_view_module_version": "1.5.0",
            "description_tooltip": null,
            "_model_module": "@jupyter-widgets/controls",
            "layout": "IPY_MODEL_55195a6e91824c7fa09b945520ee8d1a"
          }
        },
        "5aed69c31a5b49499529e61a0e55ef32": {
          "model_module": "@jupyter-widgets/controls",
          "model_name": "DescriptionStyleModel",
          "model_module_version": "1.5.0",
          "state": {
            "_view_name": "StyleView",
            "_model_name": "DescriptionStyleModel",
            "description_width": "",
            "_view_module": "@jupyter-widgets/base",
            "_model_module_version": "1.5.0",
            "_view_count": null,
            "_view_module_version": "1.2.0",
            "_model_module": "@jupyter-widgets/controls"
          }
        },
        "dd1f08d721204a13b58bdf0b95ebe947": {
          "model_module": "@jupyter-widgets/base",
          "model_name": "LayoutModel",
          "model_module_version": "1.2.0",
          "state": {
            "_view_name": "LayoutView",
            "grid_template_rows": null,
            "right": null,
            "justify_content": null,
            "_view_module": "@jupyter-widgets/base",
            "overflow": null,
            "_model_module_version": "1.2.0",
            "_view_count": null,
            "flex_flow": null,
            "width": null,
            "min_width": null,
            "border": null,
            "align_items": null,
            "bottom": null,
            "_model_module": "@jupyter-widgets/base",
            "top": null,
            "grid_column": null,
            "overflow_y": null,
            "overflow_x": null,
            "grid_auto_flow": null,
            "grid_area": null,
            "grid_template_columns": null,
            "flex": null,
            "_model_name": "LayoutModel",
            "justify_items": null,
            "grid_row": null,
            "max_height": null,
            "align_content": null,
            "visibility": null,
            "align_self": null,
            "height": null,
            "min_height": null,
            "padding": null,
            "grid_auto_rows": null,
            "grid_gap": null,
            "max_width": null,
            "order": null,
            "_view_module_version": "1.2.0",
            "grid_template_areas": null,
            "object_position": null,
            "object_fit": null,
            "grid_auto_columns": null,
            "margin": null,
            "display": null,
            "left": null
          }
        },
        "f3531af722fb443b9ac96bc646b43e1a": {
          "model_module": "@jupyter-widgets/controls",
          "model_name": "ProgressStyleModel",
          "model_module_version": "1.5.0",
          "state": {
            "_view_name": "StyleView",
            "_model_name": "ProgressStyleModel",
            "description_width": "",
            "_view_module": "@jupyter-widgets/base",
            "_model_module_version": "1.5.0",
            "_view_count": null,
            "_view_module_version": "1.2.0",
            "bar_color": null,
            "_model_module": "@jupyter-widgets/controls"
          }
        },
        "43b484c97e594976b6fc74d13244b5c4": {
          "model_module": "@jupyter-widgets/base",
          "model_name": "LayoutModel",
          "model_module_version": "1.2.0",
          "state": {
            "_view_name": "LayoutView",
            "grid_template_rows": null,
            "right": null,
            "justify_content": null,
            "_view_module": "@jupyter-widgets/base",
            "overflow": null,
            "_model_module_version": "1.2.0",
            "_view_count": null,
            "flex_flow": null,
            "width": null,
            "min_width": null,
            "border": null,
            "align_items": null,
            "bottom": null,
            "_model_module": "@jupyter-widgets/base",
            "top": null,
            "grid_column": null,
            "overflow_y": null,
            "overflow_x": null,
            "grid_auto_flow": null,
            "grid_area": null,
            "grid_template_columns": null,
            "flex": null,
            "_model_name": "LayoutModel",
            "justify_items": null,
            "grid_row": null,
            "max_height": null,
            "align_content": null,
            "visibility": null,
            "align_self": null,
            "height": null,
            "min_height": null,
            "padding": null,
            "grid_auto_rows": null,
            "grid_gap": null,
            "max_width": null,
            "order": null,
            "_view_module_version": "1.2.0",
            "grid_template_areas": null,
            "object_position": null,
            "object_fit": null,
            "grid_auto_columns": null,
            "margin": null,
            "display": null,
            "left": null
          }
        },
        "f7621ab16a8a40dc9b9117a17cdc522f": {
          "model_module": "@jupyter-widgets/controls",
          "model_name": "DescriptionStyleModel",
          "model_module_version": "1.5.0",
          "state": {
            "_view_name": "StyleView",
            "_model_name": "DescriptionStyleModel",
            "description_width": "",
            "_view_module": "@jupyter-widgets/base",
            "_model_module_version": "1.5.0",
            "_view_count": null,
            "_view_module_version": "1.2.0",
            "_model_module": "@jupyter-widgets/controls"
          }
        },
        "55195a6e91824c7fa09b945520ee8d1a": {
          "model_module": "@jupyter-widgets/base",
          "model_name": "LayoutModel",
          "model_module_version": "1.2.0",
          "state": {
            "_view_name": "LayoutView",
            "grid_template_rows": null,
            "right": null,
            "justify_content": null,
            "_view_module": "@jupyter-widgets/base",
            "overflow": null,
            "_model_module_version": "1.2.0",
            "_view_count": null,
            "flex_flow": null,
            "width": null,
            "min_width": null,
            "border": null,
            "align_items": null,
            "bottom": null,
            "_model_module": "@jupyter-widgets/base",
            "top": null,
            "grid_column": null,
            "overflow_y": null,
            "overflow_x": null,
            "grid_auto_flow": null,
            "grid_area": null,
            "grid_template_columns": null,
            "flex": null,
            "_model_name": "LayoutModel",
            "justify_items": null,
            "grid_row": null,
            "max_height": null,
            "align_content": null,
            "visibility": null,
            "align_self": null,
            "height": null,
            "min_height": null,
            "padding": null,
            "grid_auto_rows": null,
            "grid_gap": null,
            "max_width": null,
            "order": null,
            "_view_module_version": "1.2.0",
            "grid_template_areas": null,
            "object_position": null,
            "object_fit": null,
            "grid_auto_columns": null,
            "margin": null,
            "display": null,
            "left": null
          }
        },
        "b8a2c1063afe4042bc65e0d12bca2ef3": {
          "model_module": "@jupyter-widgets/controls",
          "model_name": "HBoxModel",
          "model_module_version": "1.5.0",
          "state": {
            "_view_name": "HBoxView",
            "_dom_classes": [],
            "_model_name": "HBoxModel",
            "_view_module": "@jupyter-widgets/controls",
            "_model_module_version": "1.5.0",
            "_view_count": null,
            "_view_module_version": "1.5.0",
            "box_style": "",
            "layout": "IPY_MODEL_93598140ea744540987dc53d5b1714b2",
            "_model_module": "@jupyter-widgets/controls",
            "children": [
              "IPY_MODEL_878ab72abe58456b84b9958a6b753005",
              "IPY_MODEL_19b2acaa921f44ec8efe6ed166a021a6",
              "IPY_MODEL_707c3ec6af8e429ca9b8c8134a429a21"
            ]
          }
        },
        "93598140ea744540987dc53d5b1714b2": {
          "model_module": "@jupyter-widgets/base",
          "model_name": "LayoutModel",
          "model_module_version": "1.2.0",
          "state": {
            "_view_name": "LayoutView",
            "grid_template_rows": null,
            "right": null,
            "justify_content": null,
            "_view_module": "@jupyter-widgets/base",
            "overflow": null,
            "_model_module_version": "1.2.0",
            "_view_count": null,
            "flex_flow": null,
            "width": null,
            "min_width": null,
            "border": null,
            "align_items": null,
            "bottom": null,
            "_model_module": "@jupyter-widgets/base",
            "top": null,
            "grid_column": null,
            "overflow_y": null,
            "overflow_x": null,
            "grid_auto_flow": null,
            "grid_area": null,
            "grid_template_columns": null,
            "flex": null,
            "_model_name": "LayoutModel",
            "justify_items": null,
            "grid_row": null,
            "max_height": null,
            "align_content": null,
            "visibility": null,
            "align_self": null,
            "height": null,
            "min_height": null,
            "padding": null,
            "grid_auto_rows": null,
            "grid_gap": null,
            "max_width": null,
            "order": null,
            "_view_module_version": "1.2.0",
            "grid_template_areas": null,
            "object_position": null,
            "object_fit": null,
            "grid_auto_columns": null,
            "margin": null,
            "display": null,
            "left": null
          }
        },
        "878ab72abe58456b84b9958a6b753005": {
          "model_module": "@jupyter-widgets/controls",
          "model_name": "HTMLModel",
          "model_module_version": "1.5.0",
          "state": {
            "_view_name": "HTMLView",
            "style": "IPY_MODEL_ce8876d94f464f52b2e5e9cd78b80638",
            "_dom_classes": [],
            "description": "",
            "_model_name": "HTMLModel",
            "placeholder": "​",
            "_view_module": "@jupyter-widgets/controls",
            "_model_module_version": "1.5.0",
            "value": "Downloading: 100%",
            "_view_count": null,
            "_view_module_version": "1.5.0",
            "description_tooltip": null,
            "_model_module": "@jupyter-widgets/controls",
            "layout": "IPY_MODEL_2de794ef16184cf2990711ef45e14d61"
          }
        },
        "19b2acaa921f44ec8efe6ed166a021a6": {
          "model_module": "@jupyter-widgets/controls",
          "model_name": "FloatProgressModel",
          "model_module_version": "1.5.0",
          "state": {
            "_view_name": "ProgressView",
            "style": "IPY_MODEL_011c9cb7a51b4601bcedb94d09f768d9",
            "_dom_classes": [],
            "description": "",
            "_model_name": "FloatProgressModel",
            "bar_style": "success",
            "max": 482,
            "_view_module": "@jupyter-widgets/controls",
            "_model_module_version": "1.5.0",
            "value": 482,
            "_view_count": null,
            "_view_module_version": "1.5.0",
            "orientation": "horizontal",
            "min": 0,
            "description_tooltip": null,
            "_model_module": "@jupyter-widgets/controls",
            "layout": "IPY_MODEL_781a4379eb934c7b99f22c7bb65ac3ba"
          }
        },
        "707c3ec6af8e429ca9b8c8134a429a21": {
          "model_module": "@jupyter-widgets/controls",
          "model_name": "HTMLModel",
          "model_module_version": "1.5.0",
          "state": {
            "_view_name": "HTMLView",
            "style": "IPY_MODEL_d2d65f1be6a5462f85f4e832b0215239",
            "_dom_classes": [],
            "description": "",
            "_model_name": "HTMLModel",
            "placeholder": "​",
            "_view_module": "@jupyter-widgets/controls",
            "_model_module_version": "1.5.0",
            "value": " 482/482 [00:00&lt;00:00, 6.68kB/s]",
            "_view_count": null,
            "_view_module_version": "1.5.0",
            "description_tooltip": null,
            "_model_module": "@jupyter-widgets/controls",
            "layout": "IPY_MODEL_cf234807890c4391828adc3e00ce6ecd"
          }
        },
        "ce8876d94f464f52b2e5e9cd78b80638": {
          "model_module": "@jupyter-widgets/controls",
          "model_name": "DescriptionStyleModel",
          "model_module_version": "1.5.0",
          "state": {
            "_view_name": "StyleView",
            "_model_name": "DescriptionStyleModel",
            "description_width": "",
            "_view_module": "@jupyter-widgets/base",
            "_model_module_version": "1.5.0",
            "_view_count": null,
            "_view_module_version": "1.2.0",
            "_model_module": "@jupyter-widgets/controls"
          }
        },
        "2de794ef16184cf2990711ef45e14d61": {
          "model_module": "@jupyter-widgets/base",
          "model_name": "LayoutModel",
          "model_module_version": "1.2.0",
          "state": {
            "_view_name": "LayoutView",
            "grid_template_rows": null,
            "right": null,
            "justify_content": null,
            "_view_module": "@jupyter-widgets/base",
            "overflow": null,
            "_model_module_version": "1.2.0",
            "_view_count": null,
            "flex_flow": null,
            "width": null,
            "min_width": null,
            "border": null,
            "align_items": null,
            "bottom": null,
            "_model_module": "@jupyter-widgets/base",
            "top": null,
            "grid_column": null,
            "overflow_y": null,
            "overflow_x": null,
            "grid_auto_flow": null,
            "grid_area": null,
            "grid_template_columns": null,
            "flex": null,
            "_model_name": "LayoutModel",
            "justify_items": null,
            "grid_row": null,
            "max_height": null,
            "align_content": null,
            "visibility": null,
            "align_self": null,
            "height": null,
            "min_height": null,
            "padding": null,
            "grid_auto_rows": null,
            "grid_gap": null,
            "max_width": null,
            "order": null,
            "_view_module_version": "1.2.0",
            "grid_template_areas": null,
            "object_position": null,
            "object_fit": null,
            "grid_auto_columns": null,
            "margin": null,
            "display": null,
            "left": null
          }
        },
        "011c9cb7a51b4601bcedb94d09f768d9": {
          "model_module": "@jupyter-widgets/controls",
          "model_name": "ProgressStyleModel",
          "model_module_version": "1.5.0",
          "state": {
            "_view_name": "StyleView",
            "_model_name": "ProgressStyleModel",
            "description_width": "",
            "_view_module": "@jupyter-widgets/base",
            "_model_module_version": "1.5.0",
            "_view_count": null,
            "_view_module_version": "1.2.0",
            "bar_color": null,
            "_model_module": "@jupyter-widgets/controls"
          }
        },
        "781a4379eb934c7b99f22c7bb65ac3ba": {
          "model_module": "@jupyter-widgets/base",
          "model_name": "LayoutModel",
          "model_module_version": "1.2.0",
          "state": {
            "_view_name": "LayoutView",
            "grid_template_rows": null,
            "right": null,
            "justify_content": null,
            "_view_module": "@jupyter-widgets/base",
            "overflow": null,
            "_model_module_version": "1.2.0",
            "_view_count": null,
            "flex_flow": null,
            "width": null,
            "min_width": null,
            "border": null,
            "align_items": null,
            "bottom": null,
            "_model_module": "@jupyter-widgets/base",
            "top": null,
            "grid_column": null,
            "overflow_y": null,
            "overflow_x": null,
            "grid_auto_flow": null,
            "grid_area": null,
            "grid_template_columns": null,
            "flex": null,
            "_model_name": "LayoutModel",
            "justify_items": null,
            "grid_row": null,
            "max_height": null,
            "align_content": null,
            "visibility": null,
            "align_self": null,
            "height": null,
            "min_height": null,
            "padding": null,
            "grid_auto_rows": null,
            "grid_gap": null,
            "max_width": null,
            "order": null,
            "_view_module_version": "1.2.0",
            "grid_template_areas": null,
            "object_position": null,
            "object_fit": null,
            "grid_auto_columns": null,
            "margin": null,
            "display": null,
            "left": null
          }
        },
        "d2d65f1be6a5462f85f4e832b0215239": {
          "model_module": "@jupyter-widgets/controls",
          "model_name": "DescriptionStyleModel",
          "model_module_version": "1.5.0",
          "state": {
            "_view_name": "StyleView",
            "_model_name": "DescriptionStyleModel",
            "description_width": "",
            "_view_module": "@jupyter-widgets/base",
            "_model_module_version": "1.5.0",
            "_view_count": null,
            "_view_module_version": "1.2.0",
            "_model_module": "@jupyter-widgets/controls"
          }
        },
        "cf234807890c4391828adc3e00ce6ecd": {
          "model_module": "@jupyter-widgets/base",
          "model_name": "LayoutModel",
          "model_module_version": "1.2.0",
          "state": {
            "_view_name": "LayoutView",
            "grid_template_rows": null,
            "right": null,
            "justify_content": null,
            "_view_module": "@jupyter-widgets/base",
            "overflow": null,
            "_model_module_version": "1.2.0",
            "_view_count": null,
            "flex_flow": null,
            "width": null,
            "min_width": null,
            "border": null,
            "align_items": null,
            "bottom": null,
            "_model_module": "@jupyter-widgets/base",
            "top": null,
            "grid_column": null,
            "overflow_y": null,
            "overflow_x": null,
            "grid_auto_flow": null,
            "grid_area": null,
            "grid_template_columns": null,
            "flex": null,
            "_model_name": "LayoutModel",
            "justify_items": null,
            "grid_row": null,
            "max_height": null,
            "align_content": null,
            "visibility": null,
            "align_self": null,
            "height": null,
            "min_height": null,
            "padding": null,
            "grid_auto_rows": null,
            "grid_gap": null,
            "max_width": null,
            "order": null,
            "_view_module_version": "1.2.0",
            "grid_template_areas": null,
            "object_position": null,
            "object_fit": null,
            "grid_auto_columns": null,
            "margin": null,
            "display": null,
            "left": null
          }
        }
      }
    }
  },
  "cells": [
    {
      "cell_type": "code",
      "metadata": {
        "id": "fTZYaL1ANwxu"
      },
      "source": [
        "# Following https://github.com/huggingface/notebooks/blob/master/examples/translation.ipynb"
      ],
      "execution_count": 1,
      "outputs": []
    },
    {
      "cell_type": "code",
      "metadata": {
        "colab": {
          "base_uri": "https://localhost:8080/"
        },
        "id": "566GHCfaILnG",
        "outputId": "c8d18ecf-c945-4f5c-839f-7890a053ea9c"
      },
      "source": [
        "!pip install wandb datasets transformers sacrebleu==1.5.1 -qqq"
      ],
      "execution_count": 2,
      "outputs": [
        {
          "output_type": "stream",
          "name": "stdout",
          "text": [
            "\u001b[K     |████████████████████████████████| 1.7 MB 4.5 MB/s \n",
            "\u001b[K     |████████████████████████████████| 270 kB 44.4 MB/s \n",
            "\u001b[K     |████████████████████████████████| 2.9 MB 38.0 MB/s \n",
            "\u001b[K     |████████████████████████████████| 54 kB 2.9 MB/s \n",
            "\u001b[K     |████████████████████████████████| 97 kB 6.9 MB/s \n",
            "\u001b[K     |████████████████████████████████| 139 kB 48.2 MB/s \n",
            "\u001b[K     |████████████████████████████████| 180 kB 53.0 MB/s \n",
            "\u001b[K     |████████████████████████████████| 63 kB 1.6 MB/s \n",
            "\u001b[K     |████████████████████████████████| 56 kB 4.6 MB/s \n",
            "\u001b[K     |████████████████████████████████| 1.3 MB 30.8 MB/s \n",
            "\u001b[K     |████████████████████████████████| 243 kB 53.0 MB/s \n",
            "\u001b[K     |████████████████████████████████| 125 kB 49.1 MB/s \n",
            "\u001b[K     |████████████████████████████████| 3.3 MB 36.8 MB/s \n",
            "\u001b[K     |████████████████████████████████| 636 kB 36.6 MB/s \n",
            "\u001b[K     |████████████████████████████████| 895 kB 48.2 MB/s \n",
            "\u001b[K     |████████████████████████████████| 160 kB 46.6 MB/s \n",
            "\u001b[K     |████████████████████████████████| 271 kB 42.1 MB/s \n",
            "\u001b[?25h  Building wheel for subprocess32 (setup.py) ... \u001b[?25l\u001b[?25hdone\n",
            "  Building wheel for pathtools (setup.py) ... \u001b[?25l\u001b[?25hdone\n"
          ]
        }
      ]
    },
    {
      "cell_type": "code",
      "metadata": {
        "colab": {
          "base_uri": "https://localhost:8080/"
        },
        "id": "nYAJwVTidmMe",
        "outputId": "f465f222-3b2a-4028-f86e-848eb1ff9046"
      },
      "source": [
        "!pip install bert-score -qqq"
      ],
      "execution_count": 3,
      "outputs": [
        {
          "output_type": "stream",
          "name": "stdout",
          "text": [
            "\u001b[?25l\r\u001b[K     |█████▌                          | 10 kB 25.1 MB/s eta 0:00:01\r\u001b[K     |███████████                     | 20 kB 8.8 MB/s eta 0:00:01\r\u001b[K     |████████████████▍               | 30 kB 7.4 MB/s eta 0:00:01\r\u001b[K     |██████████████████████          | 40 kB 6.9 MB/s eta 0:00:01\r\u001b[K     |███████████████████████████▍    | 51 kB 2.9 MB/s eta 0:00:01\r\u001b[K     |████████████████████████████████| 59 kB 2.2 MB/s \n",
            "\u001b[?25h"
          ]
        }
      ]
    },
    {
      "cell_type": "code",
      "metadata": {
        "colab": {
          "base_uri": "https://localhost:8080/"
        },
        "id": "CpHoG6l5Nx1E",
        "outputId": "c669e465-f4da-4ba7-9845-c696207377c5"
      },
      "source": [
        "from google.colab import drive\n",
        "drive.mount('drive')"
      ],
      "execution_count": 5,
      "outputs": [
        {
          "output_type": "stream",
          "name": "stdout",
          "text": [
            "Mounted at drive\n"
          ]
        }
      ]
    },
    {
      "cell_type": "code",
      "metadata": {
        "colab": {
          "base_uri": "https://localhost:8080/"
        },
        "id": "EXgnU7gQOGGS",
        "outputId": "0c751d47-7c4a-4b00-ab86-5b00e22f3811"
      },
      "source": [
        "!nvidia-smi"
      ],
      "execution_count": 6,
      "outputs": [
        {
          "output_type": "stream",
          "name": "stdout",
          "text": [
            "Wed Oct 13 09:10:38 2021       \n",
            "+-----------------------------------------------------------------------------+\n",
            "| NVIDIA-SMI 470.74       Driver Version: 460.32.03    CUDA Version: 11.2     |\n",
            "|-------------------------------+----------------------+----------------------+\n",
            "| GPU  Name        Persistence-M| Bus-Id        Disp.A | Volatile Uncorr. ECC |\n",
            "| Fan  Temp  Perf  Pwr:Usage/Cap|         Memory-Usage | GPU-Util  Compute M. |\n",
            "|                               |                      |               MIG M. |\n",
            "|===============================+======================+======================|\n",
            "|   0  Tesla K80           Off  | 00000000:00:04.0 Off |                    0 |\n",
            "| N/A   38C    P8    27W / 149W |      0MiB / 11441MiB |      0%      Default |\n",
            "|                               |                      |                  N/A |\n",
            "+-------------------------------+----------------------+----------------------+\n",
            "                                                                               \n",
            "+-----------------------------------------------------------------------------+\n",
            "| Processes:                                                                  |\n",
            "|  GPU   GI   CI        PID   Type   Process name                  GPU Memory |\n",
            "|        ID   ID                                                   Usage      |\n",
            "|=============================================================================|\n",
            "|  No running processes found                                                 |\n",
            "+-----------------------------------------------------------------------------+\n"
          ]
        }
      ]
    },
    {
      "cell_type": "code",
      "metadata": {
        "colab": {
          "base_uri": "https://localhost:8080/"
        },
        "id": "Q9TjriZbNwxy",
        "outputId": "2f74123e-5fa4-419f-dec5-b996b108a3ee"
      },
      "source": [
        "import datetime\n",
        "model_checkpoint = 't5-small'\n",
        "fp16 = True\n",
        "todaydate = datetime.datetime.now().strftime(\"%Y-%m-%d\")\n",
        "print(todaydate)\n",
        "gdir = f'drive/My Drive/Colab Notebooks/{todaydate}/'\n",
        "model_name=f'qald9-translator-{todaydate}-{model_checkpoint}' + '-fp16' if fp16 else ''\n",
        "model_path='./models/'+model_name\n",
        "ds_path= 'qald-text-to-sparql'"
      ],
      "execution_count": 7,
      "outputs": [
        {
          "output_type": "stream",
          "name": "stdout",
          "text": [
            "2021-10-13\n"
          ]
        }
      ]
    },
    {
      "cell_type": "code",
      "metadata": {
        "colab": {
          "base_uri": "https://localhost:8080/"
        },
        "id": "zy8e5cH_0anq",
        "outputId": "da3db9d1-39e5-40eb-b3d2-db4291824907"
      },
      "source": [
        "!unzip qald-text-to-sparql.zip"
      ],
      "execution_count": 8,
      "outputs": [
        {
          "output_type": "stream",
          "name": "stdout",
          "text": [
            "Archive:  qald-text-to-sparql.zip\n",
            " extracting: qald-text-to-sparql/dataset_dict.json  \n",
            "  inflating: qald-text-to-sparql/test.csv  \n",
            "   creating: qald-text-to-sparql/test/\n",
            "  inflating: qald-text-to-sparql/test/dataset.arrow  \n",
            "  inflating: qald-text-to-sparql/test/dataset_info.json  \n",
            "  inflating: qald-text-to-sparql/test/state.json  \n",
            "  inflating: qald-text-to-sparql/train.csv  \n",
            "   creating: qald-text-to-sparql/train/\n",
            "  inflating: qald-text-to-sparql/train/dataset.arrow  \n",
            "  inflating: qald-text-to-sparql/train/dataset_info.json  \n",
            "  inflating: qald-text-to-sparql/train/state.json  \n"
          ]
        }
      ]
    },
    {
      "cell_type": "code",
      "metadata": {
        "colab": {
          "base_uri": "https://localhost:8080/",
          "height": 102
        },
        "id": "ueKQ2exH7rX-",
        "outputId": "eeb6a4a4-d655-41fb-c35b-9ed4b4c31235"
      },
      "source": [
        "# Flexible integration for any Python script\n",
        "import wandb\n",
        "\n",
        "# 1. Start a W&B run\n",
        "wandb.init(project='text-to-sparql', entity='shahriar', name= f'{todaydate}-{model_checkpoint}-QALD')\n",
        "\n",
        "# 2. Save model inputs and hyperparameters\n",
        "config = wandb.config\n",
        "config.learning_rate = 0.01"
      ],
      "execution_count": 9,
      "outputs": [
        {
          "output_type": "display_data",
          "data": {
            "application/javascript": [
              "\n",
              "        window._wandbApiKey = new Promise((resolve, reject) => {\n",
              "            function loadScript(url) {\n",
              "            return new Promise(function(resolve, reject) {\n",
              "                let newScript = document.createElement(\"script\");\n",
              "                newScript.onerror = reject;\n",
              "                newScript.onload = resolve;\n",
              "                document.body.appendChild(newScript);\n",
              "                newScript.src = url;\n",
              "            });\n",
              "            }\n",
              "            loadScript(\"https://cdn.jsdelivr.net/npm/postmate/build/postmate.min.js\").then(() => {\n",
              "            const iframe = document.createElement('iframe')\n",
              "            iframe.style.cssText = \"width:0;height:0;border:none\"\n",
              "            document.body.appendChild(iframe)\n",
              "            const handshake = new Postmate({\n",
              "                container: iframe,\n",
              "                url: 'https://wandb.ai/authorize'\n",
              "            });\n",
              "            const timeout = setTimeout(() => reject(\"Couldn't auto authenticate\"), 5000)\n",
              "            handshake.then(function(child) {\n",
              "                child.on('authorize', data => {\n",
              "                    clearTimeout(timeout)\n",
              "                    resolve(data)\n",
              "                });\n",
              "            });\n",
              "            })\n",
              "        });\n",
              "    "
            ],
            "text/plain": [
              "<IPython.core.display.Javascript object>"
            ]
          },
          "metadata": {}
        },
        {
          "output_type": "stream",
          "name": "stderr",
          "text": [
            "\u001b[34m\u001b[1mwandb\u001b[0m: You can find your API key in your browser here: https://wandb.ai/authorize\n"
          ]
        },
        {
          "name": "stdout",
          "output_type": "stream",
          "text": [
            "wandb: Paste an API key from your profile and hit enter: ··········\n"
          ]
        },
        {
          "output_type": "stream",
          "name": "stderr",
          "text": [
            "\u001b[34m\u001b[1mwandb\u001b[0m: Appending key for api.wandb.ai to your netrc file: /root/.netrc\n"
          ]
        },
        {
          "output_type": "display_data",
          "data": {
            "text/html": [
              "\n",
              "                    Syncing run <strong><a href=\"https://wandb.ai/shahriar/text-to-sparql/runs/ef740o86\" target=\"_blank\">2021-10-13-t5-small-QALD</a></strong> to <a href=\"https://wandb.ai/shahriar/text-to-sparql\" target=\"_blank\">Weights & Biases</a> (<a href=\"https://docs.wandb.com/integrations/jupyter.html\" target=\"_blank\">docs</a>).<br/>\n",
              "\n",
              "                "
            ],
            "text/plain": [
              "<IPython.core.display.HTML object>"
            ]
          },
          "metadata": {}
        }
      ]
    },
    {
      "cell_type": "code",
      "metadata": {
        "colab": {
          "base_uri": "https://localhost:8080/",
          "height": 35
        },
        "id": "Wpgv7Jit9qN5",
        "outputId": "f8bb9fe2-3888-4db2-a972-36d4af6f1b08"
      },
      "source": [
        "model_name"
      ],
      "execution_count": 10,
      "outputs": [
        {
          "output_type": "execute_result",
          "data": {
            "application/vnd.google.colaboratory.intrinsic+json": {
              "type": "string"
            },
            "text/plain": [
              "'qald9-translator-2021-10-13-t5-small-fp16'"
            ]
          },
          "metadata": {},
          "execution_count": 10
        }
      ]
    },
    {
      "cell_type": "code",
      "metadata": {
        "id": "Acx8YqC8Ok-H"
      },
      "source": [
        "!mkdir models"
      ],
      "execution_count": 11,
      "outputs": []
    },
    {
      "cell_type": "code",
      "metadata": {
        "id": "I0gq9_ijtbHt"
      },
      "source": [
        "from datasets import load_dataset, load_metric, Dataset, load_from_disk"
      ],
      "execution_count": 12,
      "outputs": []
    },
    {
      "cell_type": "code",
      "metadata": {
        "id": "WGFsMmwlNwxz"
      },
      "source": [
        "raw_datasets = load_from_disk(ds_path)"
      ],
      "execution_count": 13,
      "outputs": []
    },
    {
      "cell_type": "code",
      "metadata": {
        "id": "k2iDM_pKTyP3"
      },
      "source": [
        "# raw_datasets = load_dataset(\"yazdipour/text-to-sparql-t5-lc-quad-v2\", data_files={\"train\": \"train.csv\", \"test\": \"test.csv\"})"
      ],
      "execution_count": null,
      "outputs": []
    },
    {
      "cell_type": "code",
      "metadata": {
        "id": "ak3Fc0pDUG8_"
      },
      "source": [
        "# !pip install tqdm==4.49.0"
      ],
      "execution_count": null,
      "outputs": []
    },
    {
      "cell_type": "code",
      "metadata": {
        "id": "-dRUZHjeNwxz"
      },
      "source": [
        "from tqdm import tqdm"
      ],
      "execution_count": 20,
      "outputs": []
    },
    {
      "cell_type": "code",
      "metadata": {
        "id": "HGDdBpGfNwxz"
      },
      "source": [
        "# Preprocessing"
      ],
      "execution_count": null,
      "outputs": []
    },
    {
      "cell_type": "code",
      "metadata": {
        "colab": {
          "base_uri": "https://localhost:8080/",
          "height": 113,
          "referenced_widgets": [
            "d8c48acaaea4424b92bb803679e364ce",
            "f9c69b74db89455d8cd0ca419efebc8f",
            "9d48b04c6693425ba08e98eb69e7aa8a",
            "b225c6578aa546afa282aa9d0f00ab17",
            "e8e078571a874a6caf4267a8487fee39",
            "abd3f6d2fd26424299fe3468dbcb6c17",
            "1dc478878b824ce08f7838c3357c9e9b",
            "46bf56edee2e4ab8a62b9a343df0a694",
            "751492291d9246d7bd2f20e2817c6ef1",
            "5ac0f60d9cc348a5a804562b3568c8d0",
            "06625f18c42c4cdf95562ac1ccecc5ef"
          ]
        },
        "id": "UnY4aKkPNwx0",
        "outputId": "d2fad389-3f2a-4a25-a5b2-cfe825d82b2e"
      },
      "source": [
        "from transformers import AutoTokenizer\n",
        "tokenizer = AutoTokenizer.from_pretrained(model_checkpoint)"
      ],
      "execution_count": 17,
      "outputs": [
        {
          "output_type": "display_data",
          "data": {
            "application/vnd.jupyter.widget-view+json": {
              "model_id": "d8c48acaaea4424b92bb803679e364ce",
              "version_minor": 0,
              "version_major": 2
            },
            "text/plain": [
              "Downloading:   0%|          | 0.00/1.17k [00:00<?, ?B/s]"
            ]
          },
          "metadata": {}
        },
        {
          "output_type": "display_data",
          "data": {
            "application/vnd.jupyter.widget-view+json": {
              "model_id": "f96c09e74d244c29a8abcab1beaf5611",
              "version_minor": 0,
              "version_major": 2
            },
            "text/plain": [
              "Downloading:   0%|          | 0.00/773k [00:00<?, ?B/s]"
            ]
          },
          "metadata": {}
        },
        {
          "output_type": "display_data",
          "data": {
            "application/vnd.jupyter.widget-view+json": {
              "model_id": "17fe87c93cfa4697ad6d4840c8edd06a",
              "version_minor": 0,
              "version_major": 2
            },
            "text/plain": [
              "Downloading:   0%|          | 0.00/1.32M [00:00<?, ?B/s]"
            ]
          },
          "metadata": {}
        }
      ]
    },
    {
      "cell_type": "code",
      "metadata": {
        "colab": {
          "base_uri": "https://localhost:8080/"
        },
        "id": "EZdjRilTNwx1",
        "outputId": "8fa0604d-712b-4c10-fb57-0322fe897b6a"
      },
      "source": [
        "print(raw_datasets['test']['translation'][0]['sparql'],'\\n',\n",
        "      raw_datasets['test']['translation'][0]['en'],'\\n',\n",
        "      tokenizer(raw_datasets['test']['translation'][0]['en']))"
      ],
      "execution_count": 18,
      "outputs": [
        {
          "output_type": "stream",
          "name": "stdout",
          "text": [
            "select distinct ?uri where [ res:Salt_Lake_City onto:timeZone ?uri ] \n",
            " what is the time zone of salt lake city? \n",
            " {'input_ids': [125, 19, 8, 97, 2901, 13, 3136, 6957, 690, 58, 1], 'attention_mask': [1, 1, 1, 1, 1, 1, 1, 1, 1, 1, 1]}\n"
          ]
        }
      ]
    },
    {
      "cell_type": "code",
      "metadata": {
        "colab": {
          "base_uri": "https://localhost:8080/"
        },
        "id": "kkidcZ_hNwx2",
        "outputId": "3b4b558f-31d9-4a03-d128-b17eb88ee633"
      },
      "source": [
        "max_input_length = 0 \n",
        "max_target_length = 0\n",
        "for d in tqdm(raw_datasets['train']['translation']):\n",
        "    len_en = len(d['en'])\n",
        "    len_qry = len(d['sparql'])\n",
        "    if len_en > max_input_length: max_input_length=len_en\n",
        "    if len_qry > max_target_length: max_target_length=len_qry\n",
        "print('\\n',max_input_length, max_target_length)"
      ],
      "execution_count": 21,
      "outputs": [
        {
          "output_type": "stream",
          "name": "stderr",
          "text": [
            "100%|██████████| 408/408 [00:00<00:00, 994349.82it/s]"
          ]
        },
        {
          "output_type": "stream",
          "name": "stdout",
          "text": [
            "\n",
            " 85 299\n"
          ]
        },
        {
          "output_type": "stream",
          "name": "stderr",
          "text": [
            "\n"
          ]
        }
      ]
    },
    {
      "cell_type": "code",
      "metadata": {
        "id": "OXiURhR-Nwx3"
      },
      "source": [
        "source_lang = \"en\"\n",
        "target_lang = \"sparql\"\n",
        "prefix = \"translate en to sparql: \"\n",
        "\n",
        "def preprocess_function(examples):\n",
        "    inputs = []\n",
        "    targets= []\n",
        "    for ex in examples[\"translation\"]:\n",
        "      inputs.append(prefix + ex[source_lang])\n",
        "      targets.append(ex[target_lang])\n",
        "    model_inputs = tokenizer(inputs, max_length=max_input_length, truncation=True)\n",
        "\n",
        "    # Setup the tokenizer for targets\n",
        "    with tokenizer.as_target_tokenizer():\n",
        "      labels = tokenizer(targets, max_length=max_target_length, truncation=True)\n",
        "      \n",
        "    model_inputs[\"labels\"] = labels[\"input_ids\"]\n",
        "    return model_inputs"
      ],
      "execution_count": 22,
      "outputs": []
    },
    {
      "cell_type": "code",
      "metadata": {
        "colab": {
          "base_uri": "https://localhost:8080/",
          "height": 81,
          "referenced_widgets": [
            "6ee56acef5e04f61aa481c13573be291",
            "aa3a461bbffa487d8d190d666af7279b",
            "56aace4f9b774acfb98f3579abe3b3f4",
            "855009d9cc9646caa239a9f86f7a9a9a",
            "d36d83873dcc458cbc7e982d0c4567d2",
            "d5b05e551a9f4bccb847d37507c3bc90",
            "f26389b76db5456baf0cdc363c5524dd",
            "3bb47ef65a734fa1b0f68a4e0df30b35",
            "3ca73849079741e7a91a2fae72f28d3c",
            "501c8198ae014651b969b5c32ee05f1a",
            "f6628949cf2a4ba19a91fb5be4d420d9",
            "e4186ab9f15341279712830545cc3491",
            "6d852f366d8e442d859fa7c28e6b0715",
            "767ee35f9959434385f233bb8cbf758d",
            "4acb39d25cd14e809b26c5393b2c2a2f",
            "040c121730cb483ab815e6e75eccc059",
            "5b8bba20b772443e8ce45cec6fd24b76",
            "5ac3ce3c15314141b906eab50c69a2d7",
            "dcecb7c4db46462e9e2f4faf1b934227",
            "4ed635ee00444665927eb6822710e8f7",
            "41da7128f98a420a8bbe670320ba4266",
            "9e3d55ac9a8e49a2a4e449101c78394f"
          ]
        },
        "id": "qmaK1UX0Nwx3",
        "outputId": "e3fcf4d3-6911-4a24-d88c-a6df51083f65"
      },
      "source": [
        "tokenized_datasets = raw_datasets.map(preprocess_function, batched=True)"
      ],
      "execution_count": 23,
      "outputs": [
        {
          "output_type": "display_data",
          "data": {
            "application/vnd.jupyter.widget-view+json": {
              "model_id": "6ee56acef5e04f61aa481c13573be291",
              "version_minor": 0,
              "version_major": 2
            },
            "text/plain": [
              "  0%|          | 0/1 [00:00<?, ?ba/s]"
            ]
          },
          "metadata": {}
        },
        {
          "output_type": "display_data",
          "data": {
            "application/vnd.jupyter.widget-view+json": {
              "model_id": "e4186ab9f15341279712830545cc3491",
              "version_minor": 0,
              "version_major": 2
            },
            "text/plain": [
              "  0%|          | 0/1 [00:00<?, ?ba/s]"
            ]
          },
          "metadata": {}
        }
      ]
    },
    {
      "cell_type": "code",
      "metadata": {
        "colab": {
          "base_uri": "https://localhost:8080/"
        },
        "id": "knRoh_8wNwx4",
        "outputId": "5afffdd7-0e33-4673-ad0b-8a645aa5fe7f"
      },
      "source": [
        "tokenized_datasets"
      ],
      "execution_count": 24,
      "outputs": [
        {
          "output_type": "execute_result",
          "data": {
            "text/plain": [
              "DatasetDict({\n",
              "    train: Dataset({\n",
              "        features: ['attention_mask', 'input_ids', 'labels', 'translation'],\n",
              "        num_rows: 408\n",
              "    })\n",
              "    test: Dataset({\n",
              "        features: ['attention_mask', 'input_ids', 'labels', 'translation'],\n",
              "        num_rows: 150\n",
              "    })\n",
              "})"
            ]
          },
          "metadata": {},
          "execution_count": 24
        }
      ]
    },
    {
      "cell_type": "code",
      "metadata": {
        "id": "eUiaZ1Y0Nwx4"
      },
      "source": [
        "# Fine-tuning the model"
      ],
      "execution_count": null,
      "outputs": []
    },
    {
      "cell_type": "code",
      "metadata": {
        "colab": {
          "base_uri": "https://localhost:8080/",
          "height": 49,
          "referenced_widgets": [
            "5f3ebbdd22974d15a281b5b9a0183903",
            "3bc5f87b61064a4db87bc7e559dcbaae",
            "f7ab2768c2684f09b44a922636cb09bd",
            "dae0c10f8a4448fb983da246eb3ffc92",
            "33cb0638f141482eb9ae4a2ed8bf394e",
            "5aed69c31a5b49499529e61a0e55ef32",
            "dd1f08d721204a13b58bdf0b95ebe947",
            "f3531af722fb443b9ac96bc646b43e1a",
            "43b484c97e594976b6fc74d13244b5c4",
            "f7621ab16a8a40dc9b9117a17cdc522f",
            "55195a6e91824c7fa09b945520ee8d1a"
          ]
        },
        "id": "rUJNfPjvNwx5",
        "outputId": "4f6b41b6-3f45-4bd9-94a0-4ce38b69db6f"
      },
      "source": [
        "from transformers import AutoModelForSeq2SeqLM, DataCollatorForSeq2Seq, Seq2SeqTrainingArguments, Seq2SeqTrainer\n",
        "model = AutoModelForSeq2SeqLM.from_pretrained(model_checkpoint)"
      ],
      "execution_count": 28,
      "outputs": [
        {
          "output_type": "display_data",
          "data": {
            "application/vnd.jupyter.widget-view+json": {
              "model_id": "5f3ebbdd22974d15a281b5b9a0183903",
              "version_minor": 0,
              "version_major": 2
            },
            "text/plain": [
              "Downloading:   0%|          | 0.00/231M [00:00<?, ?B/s]"
            ]
          },
          "metadata": {}
        }
      ]
    },
    {
      "cell_type": "code",
      "metadata": {
        "id": "Qt8rECNwNwx5"
      },
      "source": [
        "batch_size = 4\n",
        "args = Seq2SeqTrainingArguments(\n",
        "    model_name,\n",
        "    evaluation_strategy = \"epoch\",\n",
        "    learning_rate=2e-5,\n",
        "    per_device_train_batch_size=batch_size,\n",
        "    per_device_eval_batch_size=batch_size,\n",
        "    weight_decay=0.01,\n",
        "    save_total_limit=3,\n",
        "    num_train_epochs=1,\n",
        "    predict_with_generate=True,\n",
        "    fp16=fp16,\n",
        ")"
      ],
      "execution_count": 29,
      "outputs": []
    },
    {
      "cell_type": "code",
      "metadata": {
        "id": "wHZPXO3lNwx5"
      },
      "source": [
        "data_collator = DataCollatorForSeq2Seq(tokenizer, model=model)"
      ],
      "execution_count": 30,
      "outputs": []
    },
    {
      "cell_type": "code",
      "metadata": {
        "id": "5E_b1Wc4gbMf"
      },
      "source": [
        "import numpy as np\n",
        "def postprocess_text(preds, labels):\n",
        "    preds = [pred.replace('?',' ?').replace('.', ' .').strip() for pred in preds]\n",
        "    labels = [[label.replace('?',' ?').replace('.', ' .').strip()] for label in labels]\n",
        "    return preds, labels"
      ],
      "execution_count": 31,
      "outputs": []
    },
    {
      "cell_type": "code",
      "metadata": {
        "id": "BQyXIlPMgqzO"
      },
      "source": [
        "# The last thing to define for our Seq2SeqTrainer is how to compute \n",
        "# the metrics from the predictions. We need to define \n",
        "# a function for this, which will just use the metric we loaded earlier, \n",
        "# and we have to do a bit of pre-processing to decode the predictions into texts:"
      ],
      "execution_count": null,
      "outputs": []
    },
    {
      "cell_type": "code",
      "metadata": {
        "colab": {
          "base_uri": "https://localhost:8080/",
          "height": 280,
          "referenced_widgets": [
            "b8a2c1063afe4042bc65e0d12bca2ef3",
            "93598140ea744540987dc53d5b1714b2",
            "878ab72abe58456b84b9958a6b753005",
            "19b2acaa921f44ec8efe6ed166a021a6",
            "707c3ec6af8e429ca9b8c8134a429a21",
            "ce8876d94f464f52b2e5e9cd78b80638",
            "2de794ef16184cf2990711ef45e14d61",
            "011c9cb7a51b4601bcedb94d09f768d9",
            "781a4379eb934c7b99f22c7bb65ac3ba",
            "d2d65f1be6a5462f85f4e832b0215239",
            "cf234807890c4391828adc3e00ce6ecd"
          ]
        },
        "id": "6e8FOhSBjZKM",
        "outputId": "7395eb87-1740-4453-a692-9ac7984a733e"
      },
      "source": [
        "from bert_score import BERTScorer\n",
        "scorer = BERTScorer(lang=\"en\", rescale_with_baseline=True)\n",
        "metric = load_metric(\"sacrebleu\")"
      ],
      "execution_count": 32,
      "outputs": [
        {
          "output_type": "display_data",
          "data": {
            "application/vnd.jupyter.widget-view+json": {
              "model_id": "b8a2c1063afe4042bc65e0d12bca2ef3",
              "version_minor": 0,
              "version_major": 2
            },
            "text/plain": [
              "Downloading:   0%|          | 0.00/482 [00:00<?, ?B/s]"
            ]
          },
          "metadata": {}
        },
        {
          "output_type": "display_data",
          "data": {
            "application/vnd.jupyter.widget-view+json": {
              "model_id": "c82e703d1dd44e5980878f9990f8d9a6",
              "version_minor": 0,
              "version_major": 2
            },
            "text/plain": [
              "Downloading:   0%|          | 0.00/878k [00:00<?, ?B/s]"
            ]
          },
          "metadata": {}
        },
        {
          "output_type": "display_data",
          "data": {
            "application/vnd.jupyter.widget-view+json": {
              "model_id": "e0fa779e73db4a7f9395cde942fa6f7f",
              "version_minor": 0,
              "version_major": 2
            },
            "text/plain": [
              "Downloading:   0%|          | 0.00/446k [00:00<?, ?B/s]"
            ]
          },
          "metadata": {}
        },
        {
          "output_type": "display_data",
          "data": {
            "application/vnd.jupyter.widget-view+json": {
              "model_id": "39adc81b963647cf8e93a878ee569977",
              "version_minor": 0,
              "version_major": 2
            },
            "text/plain": [
              "Downloading:   0%|          | 0.00/1.29M [00:00<?, ?B/s]"
            ]
          },
          "metadata": {}
        },
        {
          "output_type": "display_data",
          "data": {
            "application/vnd.jupyter.widget-view+json": {
              "model_id": "93489f2d0203487c87a50a0108958001",
              "version_minor": 0,
              "version_major": 2
            },
            "text/plain": [
              "Downloading:   0%|          | 0.00/1.33G [00:00<?, ?B/s]"
            ]
          },
          "metadata": {}
        },
        {
          "output_type": "stream",
          "name": "stderr",
          "text": [
            "Some weights of the model checkpoint at roberta-large were not used when initializing RobertaModel: ['lm_head.decoder.weight', 'lm_head.bias', 'lm_head.dense.weight', 'lm_head.layer_norm.weight', 'lm_head.layer_norm.bias', 'lm_head.dense.bias']\n",
            "- This IS expected if you are initializing RobertaModel from the checkpoint of a model trained on another task or with another architecture (e.g. initializing a BertForSequenceClassification model from a BertForPreTraining model).\n",
            "- This IS NOT expected if you are initializing RobertaModel from the checkpoint of a model that you expect to be exactly identical (initializing a BertForSequenceClassification model from a BertForSequenceClassification model).\n"
          ]
        },
        {
          "output_type": "display_data",
          "data": {
            "application/vnd.jupyter.widget-view+json": {
              "model_id": "701e55f1ebdd4c6db012a497f328aed6",
              "version_minor": 0,
              "version_major": 2
            },
            "text/plain": [
              "Downloading:   0%|          | 0.00/2.37k [00:00<?, ?B/s]"
            ]
          },
          "metadata": {}
        }
      ]
    },
    {
      "cell_type": "code",
      "metadata": {
        "id": "CxB0Sih5fsYd"
      },
      "source": [
        "def compute_metrics(eval_preds):\n",
        "    preds, labels = eval_preds\n",
        "    if isinstance(preds, tuple):\n",
        "        preds = preds[0]\n",
        "    decoded_preds = tokenizer.batch_decode(preds, skip_special_tokens=True)\n",
        "\n",
        "    # Replace -100 in the labels as we can't decode them.\n",
        "    labels = np.where(labels != -100, labels, tokenizer.pad_token_id)\n",
        "    decoded_labels = tokenizer.batch_decode(labels, skip_special_tokens=True)\n",
        "\n",
        "    # Some simple post-processing\n",
        "    decoded_preds, decoded_labels = postprocess_text(decoded_preds, decoded_labels)\n",
        "\n",
        "    P, R, F1 = scorer.score(decoded_preds, decoded_labels)\n",
        "    result = metric.compute(predictions=decoded_preds, references=decoded_labels)\n",
        "    \n",
        "    prediction_lens = [np.count_nonzero(pred != tokenizer.pad_token_id) for pred in preds]\n",
        "    gen_len = np.mean(prediction_lens)\n",
        "    \n",
        "    return {\"gen_len\":gen_len, 'P':P.mean(), 'R':R.mean(), 'F1':F1.mean(), \"bleu-score\": result[\"score\"], \"bleu-precisions\": result[\"precisions\"], \"bleu-bp\": result[\"bp\"]}"
      ],
      "execution_count": 36,
      "outputs": []
    },
    {
      "cell_type": "code",
      "metadata": {
        "colab": {
          "base_uri": "https://localhost:8080/"
        },
        "id": "9ZhWPx09Nwx6",
        "outputId": "695babcf-72ae-4942-b3d0-3c542291f001"
      },
      "source": [
        "trainer = Seq2SeqTrainer(\n",
        "    model,\n",
        "    args,\n",
        "    train_dataset=tokenized_datasets[\"train\"],\n",
        "    eval_dataset=tokenized_datasets[\"test\"],\n",
        "    data_collator=data_collator,\n",
        "    tokenizer=tokenizer,\n",
        "    compute_metrics=compute_metrics\n",
        ")"
      ],
      "execution_count": 40,
      "outputs": [
        {
          "output_type": "stream",
          "name": "stderr",
          "text": [
            "Using amp fp16 backend\n"
          ]
        }
      ]
    },
    {
      "cell_type": "code",
      "metadata": {
        "colab": {
          "base_uri": "https://localhost:8080/",
          "height": 1000
        },
        "id": "qS5Q9hT2Nwx6",
        "outputId": "e1464793-3f3d-4724-feae-f3a4ef5c4091"
      },
      "source": [
        "trainer.train()"
      ],
      "execution_count": 41,
      "outputs": [
        {
          "output_type": "stream",
          "name": "stderr",
          "text": [
            "The following columns in the training set  don't have a corresponding argument in `T5ForConditionalGeneration.forward` and have been ignored: translation.\n",
            "***** Running training *****\n",
            "  Num examples = 408\n",
            "  Num Epochs = 1\n",
            "  Instantaneous batch size per device = 4\n",
            "  Total train batch size (w. parallel, distributed & accumulation) = 4\n",
            "  Gradient Accumulation steps = 1\n",
            "  Total optimization steps = 102\n",
            "Automatic Weights & Biases logging enabled, to disable set os.environ[\"WANDB_DISABLED\"] = \"true\"\n",
            "/usr/local/lib/python3.7/dist-packages/transformers/trainer.py:1357: FutureWarning: Non-finite norm encountered in torch.nn.utils.clip_grad_norm_; continuing anyway. Note that the default behavior will change in a future release to error out if a non-finite total norm is encountered. At that point, setting error_if_nonfinite=false will be required to retain the old behavior.\n",
            "  args.max_grad_norm,\n"
          ]
        },
        {
          "output_type": "display_data",
          "data": {
            "text/html": [
              "\n",
              "    <div>\n",
              "      \n",
              "      <progress value='102' max='102' style='width:300px; height:20px; vertical-align: middle;'></progress>\n",
              "      [102/102 00:45, Epoch 1/1]\n",
              "    </div>\n",
              "    <table border=\"1\" class=\"dataframe\">\n",
              "  <thead>\n",
              "    <tr style=\"text-align: left;\">\n",
              "      <th>Epoch</th>\n",
              "      <th>Training Loss</th>\n",
              "      <th>Validation Loss</th>\n",
              "      <th>Gen Len</th>\n",
              "      <th>P</th>\n",
              "      <th>R</th>\n",
              "      <th>F1</th>\n",
              "      <th>Bleu-score</th>\n",
              "      <th>Bleu-precisions</th>\n",
              "      <th>Bleu-bp</th>\n",
              "    </tr>\n",
              "  </thead>\n",
              "  <tbody>\n",
              "    <tr>\n",
              "      <td>1</td>\n",
              "      <td>No log</td>\n",
              "      <td>3.809998</td>\n",
              "      <td>15.793333</td>\n",
              "      <td>tensor([ 0.1156,  0.0478, -0.1363,  0.0619, -0.0619, -0.0015, -0.0685,  0.0677,\n",
              "         0.0599, -0.1583,  0.0166,  0.0908, -0.0844, -0.1028,  0.1284,  0.1247,\n",
              "         0.0481, -0.0196,  0.0215, -0.1423, -0.1358,  0.1307,  0.0221,  0.0572,\n",
              "        -0.0715, -0.1952, -0.1560, -0.3864,  0.1809, -0.0732,  0.0195, -0.3665,\n",
              "        -0.0450, -0.0293, -0.0336,  0.1327, -0.3169, -0.1182, -0.2928, -0.0932,\n",
              "        -0.0584,  0.0142, -0.2605, -0.0062, -0.2775, -0.0189, -0.0899, -0.0610,\n",
              "         0.0228, -0.0441, -0.4377,  0.0893, -0.4569, -0.0068, -0.2029,  0.0330,\n",
              "         0.1465,  0.0163,  0.0121, -0.1958,  0.0041, -0.0581,  0.0331,  0.0543,\n",
              "        -0.3803, -0.3923,  0.0008,  0.0658, -0.0335,  0.2491, -0.0356,  0.0622,\n",
              "        -0.0529, -0.0495, -0.0804,  0.0881, -0.1528,  0.0330, -0.0126,  0.0599,\n",
              "        -0.1202, -0.1063,  0.0328,  0.0638, -0.0959, -0.0593, -0.2081, -0.5551,\n",
              "        -0.0082, -0.1639, -0.3326,  0.0112, -0.3745, -0.1734, -0.0191, -0.1882,\n",
              "        -0.0250,  0.0386,  0.0230, -0.0194, -0.0637,  0.0751, -0.0216,  0.0565,\n",
              "         0.0230, -0.0565,  0.1204, -0.0694,  0.1260, -0.4153, -0.0909, -0.2736,\n",
              "         0.0689,  0.1506, -0.5067, -0.0789,  0.0952,  0.0097, -0.2407, -0.0821,\n",
              "        -0.0532, -0.3515,  0.0751,  0.1221, -0.4603, -0.3947,  0.0504, -0.0204,\n",
              "         0.0450, -0.0955, -0.0626, -0.5034,  0.0486,  0.1199, -0.4109,  0.1597,\n",
              "        -0.0200, -0.0792,  0.0471, -0.0050, -0.3023,  0.0137, -0.3143,  0.1465,\n",
              "        -0.2656,  0.0943,  0.0093,  0.0784, -0.4917, -0.2353])</td>\n",
              "      <td>tensor([-0.2637, -0.2946, -0.5433, -0.3912, -0.3972, -0.5682, -0.4814, -0.2743,\n",
              "        -0.1824, -0.3942, -0.5119, -0.3619, -0.4845, -0.6629, -0.3746, -0.2197,\n",
              "        -0.3294, -0.5080, -0.4468, -0.5816, -0.4520, -0.4759, -0.4552, -0.5454,\n",
              "        -0.3053, -0.4533, -0.2942, -0.3337, -0.2650, -0.4640, -0.2354, -0.4735,\n",
              "        -0.3893, -0.4695, -0.3393, -0.3530, -0.5231, -0.3746, -0.4583, -0.5653,\n",
              "        -0.5303, -0.2778, -0.5848, -0.5292, -0.4269, -0.3042, -0.4201, -0.3280,\n",
              "        -0.2556, -0.2893, -0.6235, -0.3416, -0.4556, -0.3771, -0.4137, -0.2353,\n",
              "        -0.4610, -0.5053, -0.4472, -0.5010, -0.2794, -0.4755, -0.3565, -0.2567,\n",
              "        -0.4280, -0.6268, -0.3725, -0.5272, -0.6732, -0.2729, -0.4704, -0.4112,\n",
              "        -0.5781, -0.5477, -0.5425, -0.4792, -0.3277, -0.3561, -0.2115, -0.4090,\n",
              "        -0.2800, -0.3912, -0.4088, -0.3619, -0.2965, -0.3434, -0.4317, -0.6106,\n",
              "        -0.4261, -0.3824, -0.4793, -0.5535, -0.5887, -0.3535, -0.4972, -0.4155,\n",
              "        -0.4898, -0.2915, -0.3111, -0.3408, -0.4290, -0.4141, -0.3855, -0.5343,\n",
              "        -0.4528, -0.4275, -0.1712, -0.4066, -0.3302, -0.6064, -0.3345, -0.4107,\n",
              "        -0.4274, -0.2669, -0.4513, -0.4221, -0.5416, -0.4406, -0.4701, -0.4093,\n",
              "        -0.3804, -0.3594, -0.2590, -0.3313, -0.7349, -0.3929, -0.2961, -0.3941,\n",
              "        -0.3746, -0.3357, -0.3780, -0.5630, -0.4069, -0.3309, -0.5085, -0.4077,\n",
              "        -0.4345, -0.3000, -0.5226, -0.2940, -0.5722, -0.2826, -0.4175, -0.3932,\n",
              "        -0.4524, -0.4334, -0.4582, -0.4645, -0.4956, -0.5632])</td>\n",
              "      <td>tensor([-0.0797, -0.1276, -0.3466, -0.1735, -0.2335, -0.3000, -0.2820, -0.1076,\n",
              "        -0.0625, -0.2772, -0.2605, -0.1444, -0.2909, -0.3978, -0.1344, -0.0519,\n",
              "        -0.1462, -0.2745, -0.2223, -0.3703, -0.2971, -0.1900, -0.2266, -0.2614,\n",
              "        -0.1893, -0.3257, -0.2241, -0.3580, -0.0505, -0.2747, -0.1096, -0.4183,\n",
              "        -0.2214, -0.2577, -0.1895, -0.1206, -0.4200, -0.2479, -0.3748, -0.3391,\n",
              "        -0.3043, -0.1344, -0.4262, -0.2803, -0.3512, -0.1639, -0.2588, -0.1963,\n",
              "        -0.1186, -0.1680, -0.5300, -0.1340, -0.4539, -0.1973, -0.3086, -0.1031,\n",
              "        -0.1747, -0.2570, -0.2268, -0.3513, -0.1400, -0.2741, -0.1678, -0.1044,\n",
              "        -0.4020, -0.5102, -0.1913, -0.2474, -0.3734, -0.0240, -0.2611, -0.1843,\n",
              "        -0.3283, -0.3099, -0.3208, -0.2106, -0.2399, -0.1676, -0.1123, -0.1842,\n",
              "        -0.1995, -0.2511, -0.1963, -0.1567, -0.1964, -0.2037, -0.3205, -0.5804,\n",
              "        -0.2244, -0.2736, -0.4048, -0.2862, -0.4817, -0.2631, -0.2683, -0.3025,\n",
              "        -0.2669, -0.1303, -0.1480, -0.1836, -0.2514, -0.1802, -0.2086, -0.2555,\n",
              "        -0.2249, -0.2473, -0.0281, -0.2421, -0.1110, -0.5104, -0.2138, -0.3410,\n",
              "        -0.1903, -0.0654, -0.4768, -0.2548, -0.2427, -0.2242, -0.3561, -0.2494,\n",
              "        -0.2205, -0.3533, -0.0959, -0.1134, -0.5993, -0.3915, -0.1272, -0.2127,\n",
              "        -0.1721, -0.2167, -0.2236, -0.5309, -0.1881, -0.1142, -0.4578, -0.1389,\n",
              "        -0.2344, -0.1902, -0.2530, -0.1520, -0.4390, -0.1372, -0.3643, -0.1366,\n",
              "        -0.3587, -0.1822, -0.2340, -0.2066, -0.4912, -0.4029])</td>\n",
              "      <td>0.022325</td>\n",
              "      <td>[19.970523212969788, 0.08285004142502071, 0.04730368968779565, 0.027502750275027504]</td>\n",
              "      <td>0.103647</td>\n",
              "    </tr>\n",
              "  </tbody>\n",
              "</table><p>"
            ],
            "text/plain": [
              "<IPython.core.display.HTML object>"
            ]
          },
          "metadata": {}
        },
        {
          "output_type": "stream",
          "name": "stderr",
          "text": [
            "The following columns in the evaluation set  don't have a corresponding argument in `T5ForConditionalGeneration.forward` and have been ignored: translation.\n",
            "***** Running Evaluation *****\n",
            "  Num examples = 150\n",
            "  Batch size = 4\n",
            "Trainer is attempting to log a value of \"tensor([ 0.1156,  0.0478, -0.1363,  0.0619, -0.0619, -0.0015, -0.0685,  0.0677,\n",
            "         0.0599, -0.1583,  0.0166,  0.0908, -0.0844, -0.1028,  0.1284,  0.1247,\n",
            "         0.0481, -0.0196,  0.0215, -0.1423, -0.1358,  0.1307,  0.0221,  0.0572,\n",
            "        -0.0715, -0.1952, -0.1560, -0.3864,  0.1809, -0.0732,  0.0195, -0.3665,\n",
            "        -0.0450, -0.0293, -0.0336,  0.1327, -0.3169, -0.1182, -0.2928, -0.0932,\n",
            "        -0.0584,  0.0142, -0.2605, -0.0062, -0.2775, -0.0189, -0.0899, -0.0610,\n",
            "         0.0228, -0.0441, -0.4377,  0.0893, -0.4569, -0.0068, -0.2029,  0.0330,\n",
            "         0.1465,  0.0163,  0.0121, -0.1958,  0.0041, -0.0581,  0.0331,  0.0543,\n",
            "        -0.3803, -0.3923,  0.0008,  0.0658, -0.0335,  0.2491, -0.0356,  0.0622,\n",
            "        -0.0529, -0.0495, -0.0804,  0.0881, -0.1528,  0.0330, -0.0126,  0.0599,\n",
            "        -0.1202, -0.1063,  0.0328,  0.0638, -0.0959, -0.0593, -0.2081, -0.5551,\n",
            "        -0.0082, -0.1639, -0.3326,  0.0112, -0.3745, -0.1734, -0.0191, -0.1882,\n",
            "        -0.0250,  0.0386,  0.0230, -0.0194, -0.0637,  0.0751, -0.0216,  0.0565,\n",
            "         0.0230, -0.0565,  0.1204, -0.0694,  0.1260, -0.4153, -0.0909, -0.2736,\n",
            "         0.0689,  0.1506, -0.5067, -0.0789,  0.0952,  0.0097, -0.2407, -0.0821,\n",
            "        -0.0532, -0.3515,  0.0751,  0.1221, -0.4603, -0.3947,  0.0504, -0.0204,\n",
            "         0.0450, -0.0955, -0.0626, -0.5034,  0.0486,  0.1199, -0.4109,  0.1597,\n",
            "        -0.0200, -0.0792,  0.0471, -0.0050, -0.3023,  0.0137, -0.3143,  0.1465,\n",
            "        -0.2656,  0.0943,  0.0093,  0.0784, -0.4917, -0.2353])\" of type <class 'torch.Tensor'> for key \"eval/P\" as a scalar. This invocation of Tensorboard's writer.add_scalar() is incorrect so we dropped this attribute.\n",
            "Trainer is attempting to log a value of \"tensor([-0.2637, -0.2946, -0.5433, -0.3912, -0.3972, -0.5682, -0.4814, -0.2743,\n",
            "        -0.1824, -0.3942, -0.5119, -0.3619, -0.4845, -0.6629, -0.3746, -0.2197,\n",
            "        -0.3294, -0.5080, -0.4468, -0.5816, -0.4520, -0.4759, -0.4552, -0.5454,\n",
            "        -0.3053, -0.4533, -0.2942, -0.3337, -0.2650, -0.4640, -0.2354, -0.4735,\n",
            "        -0.3893, -0.4695, -0.3393, -0.3530, -0.5231, -0.3746, -0.4583, -0.5653,\n",
            "        -0.5303, -0.2778, -0.5848, -0.5292, -0.4269, -0.3042, -0.4201, -0.3280,\n",
            "        -0.2556, -0.2893, -0.6235, -0.3416, -0.4556, -0.3771, -0.4137, -0.2353,\n",
            "        -0.4610, -0.5053, -0.4472, -0.5010, -0.2794, -0.4755, -0.3565, -0.2567,\n",
            "        -0.4280, -0.6268, -0.3725, -0.5272, -0.6732, -0.2729, -0.4704, -0.4112,\n",
            "        -0.5781, -0.5477, -0.5425, -0.4792, -0.3277, -0.3561, -0.2115, -0.4090,\n",
            "        -0.2800, -0.3912, -0.4088, -0.3619, -0.2965, -0.3434, -0.4317, -0.6106,\n",
            "        -0.4261, -0.3824, -0.4793, -0.5535, -0.5887, -0.3535, -0.4972, -0.4155,\n",
            "        -0.4898, -0.2915, -0.3111, -0.3408, -0.4290, -0.4141, -0.3855, -0.5343,\n",
            "        -0.4528, -0.4275, -0.1712, -0.4066, -0.3302, -0.6064, -0.3345, -0.4107,\n",
            "        -0.4274, -0.2669, -0.4513, -0.4221, -0.5416, -0.4406, -0.4701, -0.4093,\n",
            "        -0.3804, -0.3594, -0.2590, -0.3313, -0.7349, -0.3929, -0.2961, -0.3941,\n",
            "        -0.3746, -0.3357, -0.3780, -0.5630, -0.4069, -0.3309, -0.5085, -0.4077,\n",
            "        -0.4345, -0.3000, -0.5226, -0.2940, -0.5722, -0.2826, -0.4175, -0.3932,\n",
            "        -0.4524, -0.4334, -0.4582, -0.4645, -0.4956, -0.5632])\" of type <class 'torch.Tensor'> for key \"eval/R\" as a scalar. This invocation of Tensorboard's writer.add_scalar() is incorrect so we dropped this attribute.\n",
            "Trainer is attempting to log a value of \"tensor([-0.0797, -0.1276, -0.3466, -0.1735, -0.2335, -0.3000, -0.2820, -0.1076,\n",
            "        -0.0625, -0.2772, -0.2605, -0.1444, -0.2909, -0.3978, -0.1344, -0.0519,\n",
            "        -0.1462, -0.2745, -0.2223, -0.3703, -0.2971, -0.1900, -0.2266, -0.2614,\n",
            "        -0.1893, -0.3257, -0.2241, -0.3580, -0.0505, -0.2747, -0.1096, -0.4183,\n",
            "        -0.2214, -0.2577, -0.1895, -0.1206, -0.4200, -0.2479, -0.3748, -0.3391,\n",
            "        -0.3043, -0.1344, -0.4262, -0.2803, -0.3512, -0.1639, -0.2588, -0.1963,\n",
            "        -0.1186, -0.1680, -0.5300, -0.1340, -0.4539, -0.1973, -0.3086, -0.1031,\n",
            "        -0.1747, -0.2570, -0.2268, -0.3513, -0.1400, -0.2741, -0.1678, -0.1044,\n",
            "        -0.4020, -0.5102, -0.1913, -0.2474, -0.3734, -0.0240, -0.2611, -0.1843,\n",
            "        -0.3283, -0.3099, -0.3208, -0.2106, -0.2399, -0.1676, -0.1123, -0.1842,\n",
            "        -0.1995, -0.2511, -0.1963, -0.1567, -0.1964, -0.2037, -0.3205, -0.5804,\n",
            "        -0.2244, -0.2736, -0.4048, -0.2862, -0.4817, -0.2631, -0.2683, -0.3025,\n",
            "        -0.2669, -0.1303, -0.1480, -0.1836, -0.2514, -0.1802, -0.2086, -0.2555,\n",
            "        -0.2249, -0.2473, -0.0281, -0.2421, -0.1110, -0.5104, -0.2138, -0.3410,\n",
            "        -0.1903, -0.0654, -0.4768, -0.2548, -0.2427, -0.2242, -0.3561, -0.2494,\n",
            "        -0.2205, -0.3533, -0.0959, -0.1134, -0.5993, -0.3915, -0.1272, -0.2127,\n",
            "        -0.1721, -0.2167, -0.2236, -0.5309, -0.1881, -0.1142, -0.4578, -0.1389,\n",
            "        -0.2344, -0.1902, -0.2530, -0.1520, -0.4390, -0.1372, -0.3643, -0.1366,\n",
            "        -0.3587, -0.1822, -0.2340, -0.2066, -0.4912, -0.4029])\" of type <class 'torch.Tensor'> for key \"eval/F1\" as a scalar. This invocation of Tensorboard's writer.add_scalar() is incorrect so we dropped this attribute.\n",
            "Trainer is attempting to log a value of \"[19.970523212969788, 0.08285004142502071, 0.04730368968779565, 0.027502750275027504]\" of type <class 'list'> for key \"eval/bleu-precisions\" as a scalar. This invocation of Tensorboard's writer.add_scalar() is incorrect so we dropped this attribute.\n",
            "\n",
            "\n",
            "Training completed. Do not forget to share your model on huggingface.co/models =)\n",
            "\n",
            "\n"
          ]
        },
        {
          "output_type": "execute_result",
          "data": {
            "text/plain": [
              "TrainOutput(global_step=102, training_loss=3.6453139361213234, metrics={'train_runtime': 46.0558, 'train_samples_per_second': 8.859, 'train_steps_per_second': 2.215, 'total_flos': 9937048829952.0, 'train_loss': 3.6453139361213234, 'epoch': 1.0})"
            ]
          },
          "metadata": {},
          "execution_count": 41
        }
      ]
    },
    {
      "cell_type": "code",
      "metadata": {
        "id": "MFJC8gDl8zN4"
      },
      "source": [
        ""
      ],
      "execution_count": null,
      "outputs": []
    },
    {
      "cell_type": "code",
      "metadata": {
        "id": "MdHQ-R8XNwx6"
      },
      "source": [
        "trainer.save_model(model_path)"
      ],
      "execution_count": null,
      "outputs": []
    },
    {
      "cell_type": "code",
      "metadata": {
        "id": "MeNvtqwLfj4H"
      },
      "source": [
        "!ls -l --block-size=M {model_path}"
      ],
      "execution_count": null,
      "outputs": []
    },
    {
      "cell_type": "code",
      "metadata": {
        "id": "NivCzVmChYft"
      },
      "source": [
        "!mkdir drive/MyDrive/models/{model_name}"
      ],
      "execution_count": null,
      "outputs": []
    },
    {
      "cell_type": "code",
      "metadata": {
        "id": "ueXkcK7rf5SI"
      },
      "source": [
        "!cp {model_path}/* drive/MyDrive/models/{model_name}/"
      ],
      "execution_count": null,
      "outputs": []
    }
  ]
}