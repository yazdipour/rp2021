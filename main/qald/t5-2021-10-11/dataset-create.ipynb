{
 "cells": [
  {
   "cell_type": "code",
   "execution_count": 85,
   "metadata": {},
   "outputs": [],
   "source": [
    "from datasets import load_dataset, Dataset, DatasetDict\n",
    "import pandas as pd\n",
    "from tqdm import tqdm"
   ]
  },
  {
   "cell_type": "code",
   "execution_count": 86,
   "metadata": {},
   "outputs": [],
   "source": [
    "df_test = pd.read_csv('../../../data/qald-9-preprocess/2021-04-19/test.csv')\n",
    "df_train = pd.read_csv('../../../data/qald-9-preprocess/2021-04-19/train.csv')"
   ]
  },
  {
   "cell_type": "code",
   "execution_count": 87,
   "metadata": {},
   "outputs": [],
   "source": [
    "del df_test['id']\n",
    "del df_test['orig_query']\n",
    "del df_test['answers']\n",
    "del df_train['id']\n",
    "del df_train['orig_query']\n",
    "del df_train['answers']"
   ]
  },
  {
   "cell_type": "code",
   "execution_count": 88,
   "metadata": {},
   "outputs": [
    {
     "data": {
      "text/html": [
       "<div>\n",
       "<style scoped>\n",
       "    .dataframe tbody tr th:only-of-type {\n",
       "        vertical-align: middle;\n",
       "    }\n",
       "\n",
       "    .dataframe tbody tr th {\n",
       "        vertical-align: top;\n",
       "    }\n",
       "\n",
       "    .dataframe thead th {\n",
       "        text-align: right;\n",
       "    }\n",
       "</style>\n",
       "<table border=\"1\" class=\"dataframe\">\n",
       "  <thead>\n",
       "    <tr style=\"text-align: right;\">\n",
       "      <th></th>\n",
       "      <th>question</th>\n",
       "      <th>sparql</th>\n",
       "    </tr>\n",
       "  </thead>\n",
       "  <tbody>\n",
       "    <tr>\n",
       "      <th>0</th>\n",
       "      <td>What is the time zone of Salt Lake City?</td>\n",
       "      <td>SELECT DISTINCT ?uri WHERE { res:Salt_Lake_City onto:timeZone ?uri }</td>\n",
       "    </tr>\n",
       "    <tr>\n",
       "      <th>1</th>\n",
       "      <td>Who killed Caesar?</td>\n",
       "      <td>SELECT DISTINCT ?uri WHERE { ?uri dct:subject dbc:Assassins_of_Julius_Caesar }</td>\n",
       "    </tr>\n",
       "  </tbody>\n",
       "</table>\n",
       "</div>"
      ],
      "text/plain": [
       "                                   question  \\\n",
       "0  What is the time zone of Salt Lake City?   \n",
       "1                        Who killed Caesar?   \n",
       "\n",
       "                                                                           sparql  \n",
       "0            SELECT DISTINCT ?uri WHERE { res:Salt_Lake_City onto:timeZone ?uri }  \n",
       "1  SELECT DISTINCT ?uri WHERE { ?uri dct:subject dbc:Assassins_of_Julius_Caesar }  "
      ]
     },
     "execution_count": 88,
     "metadata": {},
     "output_type": "execute_result"
    }
   ],
   "source": [
    "df_test.head(2)"
   ]
  },
  {
   "cell_type": "code",
   "execution_count": 89,
   "metadata": {},
   "outputs": [],
   "source": [
    "df_prefix = pd.read_csv('../../../data/qald-9-preprocess/2021-04-19/prefix.csv', index_col=1, squeeze = True)"
   ]
  },
  {
   "cell_type": "code",
   "execution_count": 90,
   "metadata": {},
   "outputs": [],
   "source": [
    "prefix_dict = df_prefix.to_dict()"
   ]
  },
  {
   "cell_type": "code",
   "execution_count": 91,
   "metadata": {},
   "outputs": [
    {
     "data": {
      "text/plain": [
       "{'http://www.w3.org/1999/02/22-rdf-syntax-ns#': 'rdf:',\n",
       " 'http://dbpedia.org/ontology/': 'onto:',\n",
       " 'http://dbpedia.org/property/': 'dbpedia2:',\n",
       " 'http://dbpedia.org/resource/': 'res:',\n",
       " 'http://www.w3.org/2004/02/skos/core#': 'skos:',\n",
       " 'http://purl.org/dc/terms/': 'dct:',\n",
       " 'http://xmlns.com/foaf/0.1/': 'foaf:',\n",
       " 'http://dbpedia.org/resource/Category:': 'dbc:',\n",
       " 'http://www.w3.org/2000/01/rdf-schema#': 'rdfs:',\n",
       " 'http://dbpedia.org/class/yago/': 'yago:',\n",
       " 'http://www.w3.org/2002/07/owl#': 'owl:',\n",
       " 'http://www.w3.org/2001/XMLSchema#': 'xsd:',\n",
       " 'http://dbpedia.org/': 'db:'}"
      ]
     },
     "execution_count": 91,
     "metadata": {},
     "output_type": "execute_result"
    }
   ],
   "source": [
    "prefix_dict"
   ]
  },
  {
   "cell_type": "code",
   "execution_count": 92,
   "metadata": {},
   "outputs": [],
   "source": [
    "rep_dict = {\n",
    "    \"ASK\": \"ask\",\n",
    "    \"WHERE\": \"where\",\n",
    "    \"SELECT\": \"select\",\n",
    "    \"{\": \"[\",\n",
    "    \"}\": \"]\",\n",
    "    \"DISTINCT\": \"distinct\",\n",
    "    \"ORDER\": \"order\",\n",
    "    \"LIMIT\": \"limit\",\n",
    "    \"FILTER\": \"filter\",\n",
    "    \"?sbj\": \"?subject\",\n",
    "    \"?obj\": \"?object\",\n",
    "}\n",
    "rep_dict2 = {\"{\": \"\", \"}\": \"\"}\n",
    "\n",
    "\n",
    "def replace_all(text, dict):\n",
    "    for i, j in dict.items():\n",
    "        text = text.replace(i, j)\n",
    "    return text\n"
   ]
  },
  {
   "cell_type": "markdown",
   "metadata": {},
   "source": [
    "## Goal: Trim + Replace LowerCase + Remove weirdly long Question + replaceQ/P"
   ]
  },
  {
   "cell_type": "code",
   "execution_count": 93,
   "metadata": {},
   "outputs": [],
   "source": [
    "def prepare(ds):\n",
    "    col = 'translation'\n",
    "    df = pd.DataFrame(columns=[col])\n",
    "    for d in tqdm(ds):\n",
    "        try:\n",
    "            qry = replace_all(d['sparql'], prefix_dict)\n",
    "            qry = replace_all(qry, rep_dict)\n",
    "            q = d['question'].strip().strip(\"\\\"\").lower()\n",
    "            q = replace_all(q, rep_dict2)\n",
    "            df = df.append({col: {'en':q, 'sparql': qry}}, ignore_index=True)\n",
    "        except: \n",
    "            print(\"err:\"+d)\n",
    "    return df"
   ]
  },
  {
   "cell_type": "code",
   "execution_count": 94,
   "metadata": {},
   "outputs": [],
   "source": [
    "ds_train = Dataset.from_pandas(df_train)\n",
    "ds_test = Dataset.from_pandas(df_test)"
   ]
  },
  {
   "cell_type": "code",
   "execution_count": 95,
   "metadata": {
    "tags": []
   },
   "outputs": [
    {
     "name": "stderr",
     "output_type": "stream",
     "text": [
      "100%|██████████| 150/150 [00:00<00:00, 707.68it/s]\n"
     ]
    }
   ],
   "source": [
    "df_test2 = prepare(ds_test)"
   ]
  },
  {
   "cell_type": "code",
   "execution_count": 96,
   "metadata": {},
   "outputs": [
    {
     "name": "stderr",
     "output_type": "stream",
     "text": [
      "100%|██████████| 408/408 [00:00<00:00, 744.80it/s]\n"
     ]
    }
   ],
   "source": [
    "df_train2 = prepare(ds_train)"
   ]
  },
  {
   "cell_type": "code",
   "execution_count": 97,
   "metadata": {},
   "outputs": [
    {
     "name": "stdout",
     "output_type": "stream",
     "text": [
      "(150, 1)\n",
      "(408, 1)\n"
     ]
    }
   ],
   "source": [
    "print(df_test2.shape)\n",
    "print(df_train2.shape)"
   ]
  },
  {
   "cell_type": "code",
   "execution_count": 98,
   "metadata": {},
   "outputs": [
    {
     "data": {
      "text/html": [
       "<div>\n",
       "<style scoped>\n",
       "    .dataframe tbody tr th:only-of-type {\n",
       "        vertical-align: middle;\n",
       "    }\n",
       "\n",
       "    .dataframe tbody tr th {\n",
       "        vertical-align: top;\n",
       "    }\n",
       "\n",
       "    .dataframe thead th {\n",
       "        text-align: right;\n",
       "    }\n",
       "</style>\n",
       "<table border=\"1\" class=\"dataframe\">\n",
       "  <thead>\n",
       "    <tr style=\"text-align: right;\">\n",
       "      <th></th>\n",
       "      <th>translation</th>\n",
       "    </tr>\n",
       "  </thead>\n",
       "  <tbody>\n",
       "    <tr>\n",
       "      <th>0</th>\n",
       "      <td>{'en': 'what is the time zone of salt lake city?', 'sparql': 'select distinct ?uri where [ res:S...</td>\n",
       "    </tr>\n",
       "    <tr>\n",
       "      <th>1</th>\n",
       "      <td>{'en': 'who killed caesar?', 'sparql': 'select distinct ?uri where [ ?uri dct:subject dbc:Assass...</td>\n",
       "    </tr>\n",
       "    <tr>\n",
       "      <th>2</th>\n",
       "      <td>{'en': 'what is the highest mountain in germany?', 'sparql': 'select ?uri where [ ?uri rdf:type ...</td>\n",
       "    </tr>\n",
       "    <tr>\n",
       "      <th>3</th>\n",
       "      <td>{'en': 'which american presidents were in office during the vietnam war?', 'sparql': 'select ?ur...</td>\n",
       "    </tr>\n",
       "    <tr>\n",
       "      <th>4</th>\n",
       "      <td>{'en': 'butch otter is the governor of which u.s. state?', 'sparql': 'select distinct ?uri where...</td>\n",
       "    </tr>\n",
       "  </tbody>\n",
       "</table>\n",
       "</div>"
      ],
      "text/plain": [
       "                                                                                           translation\n",
       "0  {'en': 'what is the time zone of salt lake city?', 'sparql': 'select distinct ?uri where [ res:S...\n",
       "1  {'en': 'who killed caesar?', 'sparql': 'select distinct ?uri where [ ?uri dct:subject dbc:Assass...\n",
       "2  {'en': 'what is the highest mountain in germany?', 'sparql': 'select ?uri where [ ?uri rdf:type ...\n",
       "3  {'en': 'which american presidents were in office during the vietnam war?', 'sparql': 'select ?ur...\n",
       "4  {'en': 'butch otter is the governor of which u.s. state?', 'sparql': 'select distinct ?uri where..."
      ]
     },
     "execution_count": 98,
     "metadata": {},
     "output_type": "execute_result"
    }
   ],
   "source": [
    "pd.options.display.max_colwidth = 100\n",
    "df_test2.head()"
   ]
  },
  {
   "cell_type": "code",
   "execution_count": 99,
   "metadata": {},
   "outputs": [],
   "source": [
    "ds_train = Dataset.from_pandas(df_train2)\n",
    "ds_test = Dataset.from_pandas(df_test2)"
   ]
  },
  {
   "cell_type": "code",
   "execution_count": 100,
   "metadata": {},
   "outputs": [],
   "source": [
    "mother_ds = DatasetDict({'train': ds_train, 'test':ds_test})"
   ]
  },
  {
   "cell_type": "code",
   "execution_count": 101,
   "metadata": {},
   "outputs": [],
   "source": [
    "ds_path='../../../data/dataset/qald-text-to-sparql'\n",
    "mother_ds.save_to_disk(ds_path)"
   ]
  },
  {
   "cell_type": "code",
   "execution_count": 102,
   "metadata": {},
   "outputs": [],
   "source": [
    "df_train2.to_csv(f'{ds_path}/train.csv')\n",
    "df_test2.to_csv(f'{ds_path}/test.csv')"
   ]
  },
  {
   "cell_type": "code",
   "execution_count": 103,
   "metadata": {},
   "outputs": [
    {
     "data": {
      "text/plain": [
       "'select ?uri where [ ?airline <rdf:type> <onto:Airline> . ?airline dbp:frequentFlyer ?uri. ] GROUP BY ?uri order BY DESC(COUNT(distinct ?airline)) OFFSET 0 limit 1'"
      ]
     },
     "execution_count": 103,
     "metadata": {},
     "output_type": "execute_result"
    }
   ],
   "source": [
    "df_test2.iloc[10]['translation']['sparql']"
   ]
  },
  {
   "cell_type": "code",
   "execution_count": 104,
   "metadata": {},
   "outputs": [
    {
     "data": {
      "text/plain": [
       "'SELECT ?uri WHERE { ?airline <http://www.w3.org/1999/02/22-rdf-syntax-ns#type> <http://dbpedia.org/ontology/Airline> . ?airline dbp:frequentFlyer ?uri. } GROUP BY ?uri ORDER BY DESC(COUNT(DISTINCT ?airline)) OFFSET 0 LIMIT 1'"
      ]
     },
     "execution_count": 104,
     "metadata": {},
     "output_type": "execute_result"
    }
   ],
   "source": [
    "df_test.iloc[10]['sparql']"
   ]
  }
 ],
 "metadata": {
  "interpreter": {
   "hash": "e7370f93d1d0cde622a1f8e1c04877d8463912d04d973331ad4851f04de6915a"
  },
  "kernelspec": {
   "display_name": "Python 3.8.5 64-bit",
   "name": "python3"
  },
  "language_info": {
   "codemirror_mode": {
    "name": "ipython",
    "version": 3
   },
   "file_extension": ".py",
   "mimetype": "text/x-python",
   "name": "python",
   "nbconvert_exporter": "python",
   "pygments_lexer": "ipython3",
   "version": "3.8.5"
  },
  "orig_nbformat": 4
 },
 "nbformat": 4,
 "nbformat_minor": 2
}
