{
  "cells": [
    {
      "cell_type": "code",
      "execution_count": 2,
      "metadata": {
        "id": "dKV8MCK1Y12g"
      },
      "outputs": [],
      "source": [
        "!pip install datasets transformers pandasql dask -qqq\n",
        "# torch.cuda.empty_cache()"
      ]
    },
    {
      "cell_type": "code",
      "execution_count": 4,
      "metadata": {
        "id": "-oei2ojLYoHV"
      },
      "outputs": [],
      "source": [
        "model_checkpoint = \"t5-small\"\n",
        "model_date = '2021-10-11`'\n",
        "model_path=f'yazdipour/text-to-sparql-t5-small-2021-10-15_01-00'"
      ]
    },
    {
      "cell_type": "code",
      "execution_count": 5,
      "metadata": {},
      "outputs": [
        {
          "data": {
            "application/vnd.jupyter.widget-view+json": {
              "model_id": "762a1a0542794015973d7267a797879a",
              "version_major": 2,
              "version_minor": 0
            },
            "text/plain": [
              "HBox(children=(FloatProgress(value=0.0, description='Downloading', max=1422.0, style=ProgressStyle(description…"
            ]
          },
          "metadata": {},
          "output_type": "display_data"
        },
        {
          "name": "stdout",
          "output_type": "stream",
          "text": [
            "\n"
          ]
        },
        {
          "data": {
            "application/vnd.jupyter.widget-view+json": {
              "model_id": "871b120bd8204b20a7196013553d5a1e",
              "version_major": 2,
              "version_minor": 0
            },
            "text/plain": [
              "HBox(children=(FloatProgress(value=0.0, description='Downloading', max=1387489.0, style=ProgressStyle(descript…"
            ]
          },
          "metadata": {},
          "output_type": "display_data"
        },
        {
          "name": "stdout",
          "output_type": "stream",
          "text": [
            "\n"
          ]
        },
        {
          "data": {
            "application/vnd.jupyter.widget-view+json": {
              "model_id": "dfb945ec696548d8ba619aa4e4dd5e3a",
              "version_major": 2,
              "version_minor": 0
            },
            "text/plain": [
              "HBox(children=(FloatProgress(value=0.0, description='Downloading', max=1966.0, style=ProgressStyle(description…"
            ]
          },
          "metadata": {},
          "output_type": "display_data"
        },
        {
          "name": "stdout",
          "output_type": "stream",
          "text": [
            "\n"
          ]
        },
        {
          "data": {
            "application/vnd.jupyter.widget-view+json": {
              "model_id": "d639c89add474277a28410d7c4a28904",
              "version_major": 2,
              "version_minor": 0
            },
            "text/plain": [
              "HBox(children=(FloatProgress(value=0.0, description='Downloading', max=242085627.0, style=ProgressStyle(descri…"
            ]
          },
          "metadata": {},
          "output_type": "display_data"
        },
        {
          "name": "stdout",
          "output_type": "stream",
          "text": [
            "\n"
          ]
        }
      ],
      "source": [
        "from transformers import pipeline, AutoTokenizer, AutoModelForSeq2SeqLM\n",
        "prefix = \"translate english to sparql: \"\n",
        "  \n",
        "tokenizer = AutoTokenizer.from_pretrained(model_path)\n",
        "\n",
        "model = AutoModelForSeq2SeqLM.from_pretrained(model_path).to(\"cuda\")"
      ]
    },
    {
      "cell_type": "code",
      "execution_count": 8,
      "metadata": {},
      "outputs": [],
      "source": [
        "translator = pipeline(\n",
        "    \"translation_xx_to_yy\",\n",
        "    model=model,\n",
        "    tokenizer=tokenizer,\n",
        "    device=0 #0 for cuda, -1 for cpu\n",
        ")"
      ]
    },
    {
      "cell_type": "code",
      "execution_count": 9,
      "metadata": {},
      "outputs": [],
      "source": [
        "def replace_all(text, dict):\n",
        "    for i, j in dict.items():\n",
        "        text = text.replace(i, j)\n",
        "    return text"
      ]
    },
    {
      "cell_type": "code",
      "execution_count": 10,
      "metadata": {},
      "outputs": [],
      "source": [
        "def decode_props(qry):\n",
        "    qry = qry.replace('[','{').replace(']','}')\n",
        "    return qry"
      ]
    },
    {
      "cell_type": "code",
      "execution_count": 11,
      "metadata": {},
      "outputs": [],
      "source": [
        "translate= lambda q: decode_props(translator(prefix+q, max_length=100)[0]['translation_text'])"
      ]
    },
    {
      "cell_type": "code",
      "execution_count": 12,
      "metadata": {},
      "outputs": [],
      "source": [
        "!pip install beautifultable -qqq"
      ]
    },
    {
      "cell_type": "code",
      "execution_count": 13,
      "metadata": {},
      "outputs": [],
      "source": [
        "from beautifultable import BeautifulTable\n",
        "def pretty_translate(t,q): \n",
        "    ans = translate(q)\n",
        "    # print('QUESTION:\\n' + q + '\\nTARGET:\\n'+ t +'\\nRESULT:\\n' + ans[0]+ '\\nRESULT-DECODED:\\n' + ans[1])\n",
        "    table = BeautifulTable(maxwidth=140)\n",
        "    # table.column_headers = [\"\", \"Man Utd\",\"Man City\",\"T Hotspur\"]\n",
        "    table.rows.append(['QUESTION', q])\n",
        "    table.rows.append(['Target', t])\n",
        "    table.rows.append(['RESULT-Raw', ans])\n",
        "    print(table)"
      ]
    },
    {
      "cell_type": "markdown",
      "metadata": {},
      "source": [
        "# TESTING"
      ]
    },
    {
      "cell_type": "code",
      "execution_count": 14,
      "metadata": {},
      "outputs": [
        {
          "data": {
            "text/plain": [
              "'translate en to sparql: '"
            ]
          },
          "execution_count": 14,
          "metadata": {},
          "output_type": "execute_result"
        }
      ],
      "source": [
        "prefix"
      ]
    },
    {
      "cell_type": "code",
      "execution_count": 15,
      "metadata": {},
      "outputs": [
        {
          "data": {
            "text/plain": [
              "[{'translation_text': 'SELECT ?answer WHERE [ wd:marlin manson> wdt:instance of> ?answer . ?answer wdt:instance of> wd:marlin manson> ]'}]"
            ]
          },
          "execution_count": 15,
          "metadata": {},
          "output_type": "execute_result"
        }
      ],
      "source": [
        "translator(prefix+'Who is Marlin Manson?', max_length=100)"
      ]
    },
    {
      "cell_type": "code",
      "execution_count": 16,
      "metadata": {},
      "outputs": [
        {
          "data": {
            "text/plain": [
              "'SELECT ?answer WHERE { wd:marlin manson> wdt:instance of> ?answer . ?answer wdt:instance of> wd:marlin manson> }'"
            ]
          },
          "execution_count": 16,
          "metadata": {},
          "output_type": "execute_result"
        }
      ],
      "source": [
        "# <re.Match object; span=(52, 66), match=':marlin_manson'>\n",
        "# ('select distinct ?sbj where { ?sbj wdt:instance_of wd:marlin_manson . ?sbj wdt:instance_of wd:human }',\n",
        "#  'select distinct ?sbj where { ?sbj wdt:P31 wd:marlin_manson . ?sbj wdt:P31 wd:Q5 }')\n",
        "translate('Who is Marlin Manson?')"
      ]
    },
    {
      "cell_type": "code",
      "execution_count": 17,
      "metadata": {},
      "outputs": [
        {
          "data": {
            "text/plain": [
              "'SELECT ?answer WHERE { wd:bilbert gates> wdt:instance of> ?answer . ?answer wdt:instance of> wd:bilbert gates>}'"
            ]
          },
          "execution_count": 17,
          "metadata": {},
          "output_type": "execute_result"
        }
      ],
      "source": [
        "translate('Who is Bill Gates?')"
      ]
    },
    {
      "cell_type": "code",
      "execution_count": 18,
      "metadata": {},
      "outputs": [
        {
          "data": {
            "text/plain": [
              "'SELECT ?answer WHERE { wd:assailant> wdt:instance of> ?answer . ?answer wdt:instance of> wd:instance of> wd:instance of> }'"
            ]
          },
          "execution_count": 18,
          "metadata": {},
          "output_type": "execute_result"
        }
      ],
      "source": [
        "translate('what is?')"
      ]
    },
    {
      "cell_type": "code",
      "execution_count": 19,
      "metadata": {},
      "outputs": [
        {
          "name": "stdout",
          "output_type": "stream",
          "text": [
            "+------------+-----------------------------------------------------------------------------------------------------------------------------+\n",
            "|  QUESTION  |                                   Who is the country for head of state of Mahmoud Abbas?                                    |\n",
            "+------------+-----------------------------------------------------------------------------------------------------------------------------+\n",
            "|   Target   |                       select distinct ?sbj where { ?sbj wdt:P35 wd:Q127998 . ?sbj wdt:P31 wd:Q6256 }                        |\n",
            "+------------+-----------------------------------------------------------------------------------------------------------------------------+\n",
            "| RESULT-Raw | SELECT ?answer WHERE { wd:mahmoud abbas> wdt:country> ?answer . ?answer wdt:head of state> ?answer . ?answer wdt:country> ? |\n",
            "|            |                                                          answer }                                                           |\n",
            "+------------+-----------------------------------------------------------------------------------------------------------------------------+\n"
          ]
        }
      ],
      "source": [
        "pretty_translate('select distinct ?sbj where { ?sbj wdt:P35 wd:Q127998 . ?sbj wdt:P31 wd:Q6256 }','Who is the country for head of state of Mahmoud Abbas?')"
      ]
    },
    {
      "cell_type": "code",
      "execution_count": 20,
      "metadata": {},
      "outputs": [
        {
          "name": "stdout",
          "output_type": "stream",
          "text": [
            "+------------+------------------------------------------------------------------------------------------------------+\n",
            "|  QUESTION  |                         What country is Mahmoud Abbas the head of state of?                          |\n",
            "+------------+------------------------------------------------------------------------------------------------------+\n",
            "|   Target   |            select distinct ?sbj where { ?sbj wdt:P35 wd:Q127998 . ?sbj wdt:P31 wd:Q6256 }            |\n",
            "+------------+------------------------------------------------------------------------------------------------------+\n",
            "| RESULT-Raw | SELECT ?answer WHERE { wd:mahmoud abbas> wdt:head of state> ?answer . ?answer wdt:country> ?answer } |\n",
            "+------------+------------------------------------------------------------------------------------------------------+\n"
          ]
        }
      ],
      "source": [
        "pretty_translate('select distinct ?sbj where { ?sbj wdt:P35 wd:Q127998 . ?sbj wdt:P31 wd:Q6256 }',\"What country is Mahmoud Abbas the head of state of?\")"
      ]
    },
    {
      "cell_type": "code",
      "execution_count": 21,
      "metadata": {},
      "outputs": [
        {
          "name": "stdout",
          "output_type": "stream",
          "text": [
            "+------------+-----------------------------------------------------------------------------------------------------------------------------+\n",
            "|  QUESTION  |                                   Who is the country for head of state of Mahmoud Abbas?                                    |\n",
            "+------------+-----------------------------------------------------------------------------------------------------------------------------+\n",
            "|   Target   |                       select distinct ?sbj where { ?sbj wdt:P35 wd:Q127998 . ?sbj wdt:P31 wd:Q6256 }                        |\n",
            "+------------+-----------------------------------------------------------------------------------------------------------------------------+\n",
            "| RESULT-Raw | SELECT ?answer WHERE { wd:mahmoud abbas> wdt:country> ?answer . ?answer wdt:head of state> ?answer . ?answer wdt:country> ? |\n",
            "|            |                                                          answer }                                                           |\n",
            "+------------+-----------------------------------------------------------------------------------------------------------------------------+\n"
          ]
        }
      ],
      "source": [
        "pretty_translate('select distinct ?sbj where { ?sbj wdt:P35 wd:Q127998 . ?sbj wdt:P31 wd:Q6256 }','Who is the country for head of state of Mahmoud Abbas?')"
      ]
    },
    {
      "cell_type": "code",
      "execution_count": 22,
      "metadata": {},
      "outputs": [
        {
          "name": "stdout",
          "output_type": "stream",
          "text": [
            "+------------+-----------------------------------------------------------------------------------------------------------------------------+\n",
            "|  QUESTION  |                      which female actress is the voice over on south park and is employed as a singer?                      |\n",
            "+------------+-----------------------------------------------------------------------------------------------------------------------------+\n",
            "|   Target   |                      SELECT ?answer WHERE { wd:Q16538 wdt:P725 ?answer . ?answer wdt:P106 wd:Q177220}                       |\n",
            "+------------+-----------------------------------------------------------------------------------------------------------------------------+\n",
            "| RESULT-Raw | SELECT ?answer WHERE { wd:south park> wdt:voice over> ?answer . ?answer wdt:voice over> ?answer . ?answer wdt:voice over> ? |\n",
            "|            |                                                          answer }                                                           |\n",
            "+------------+-----------------------------------------------------------------------------------------------------------------------------+\n"
          ]
        }
      ],
      "source": [
        "pretty_translate(\"SELECT ?answer WHERE { wd:Q16538 wdt:P725 ?answer . ?answer wdt:P106 wd:Q177220}\",\"Which female actress is the voice over on South Park and is employed as a singer?\".lower())"
      ]
    },
    {
      "cell_type": "code",
      "execution_count": 23,
      "metadata": {},
      "outputs": [
        {
          "name": "stdout",
          "output_type": "stream",
          "text": [
            "+------------+-----------------------------------------------------------------------------------------------------------------------------+\n",
            "|  QUESTION  |                        Which female actress on South Park is the voice over and is used as a singer?                        |\n",
            "+------------+-----------------------------------------------------------------------------------------------------------------------------+\n",
            "|   Target   |                      SELECT ?answer WHERE { wd:Q16538 wdt:P725 ?answer . ?answer wdt:P106 wd:Q177220}                       |\n",
            "+------------+-----------------------------------------------------------------------------------------------------------------------------+\n",
            "| RESULT-Raw | SELECT ?answer WHERE { wd:south park> wdt:voice over> ?answer . ?answer wdt:voice over> ?answer . ?answer wdt:voice over> ? |\n",
            "|            |                                                          answer }                                                           |\n",
            "+------------+-----------------------------------------------------------------------------------------------------------------------------+\n"
          ]
        }
      ],
      "source": [
        "pretty_translate(\"SELECT ?answer WHERE { wd:Q16538 wdt:P725 ?answer . ?answer wdt:P106 wd:Q177220}\",\"Which female actress on South Park is the voice over and is used as a singer?\")"
      ]
    },
    {
      "cell_type": "code",
      "execution_count": 24,
      "metadata": {},
      "outputs": [
        {
          "name": "stdout",
          "output_type": "stream",
          "text": [
            "+------------+-----------------------------------------------------------------------------------------------------------------------------+\n",
            "|  QUESTION  |                                         Which is the PIM authority ID of Paul Erd?                                          |\n",
            "+------------+-----------------------------------------------------------------------------------------------------------------------------+\n",
            "|   Target   |                                select distinct ?answer where { wd:Q173746 wdt:P3973 ?answer}                                |\n",
            "+------------+-----------------------------------------------------------------------------------------------------------------------------+\n",
            "| RESULT-Raw | SELECT ?answer WHERE { wd:Paul Erd> wdt:authority ID> ?answer . ?answer wdt:authority ID> ?answer . ?answer wdt:authority I |\n",
            "|            |                                                        D> ?answer }                                                         |\n",
            "+------------+-----------------------------------------------------------------------------------------------------------------------------+\n"
          ]
        }
      ],
      "source": [
        "# Paul Erdős (Q173746)\n",
        "pretty_translate(\"select distinct ?answer where { wd:Q173746 wdt:P3973 ?answer}\",\"Which is the PIM authority ID of Paul Erd?\")"
      ]
    },
    {
      "cell_type": "code",
      "execution_count": null,
      "metadata": {},
      "outputs": [],
      "source": []
    },
    {
      "cell_type": "code",
      "execution_count": 25,
      "metadata": {},
      "outputs": [
        {
          "name": "stdout",
          "output_type": "stream",
          "text": [
            "+------------+-----------------------------------------------------------------------------------------------------------------------------+\n",
            "|  QUESTION  |                                       What was the population of Somalia in 2009-0-0?                                       |\n",
            "+------------+-----------------------------------------------------------------------------------------------------------------------------+\n",
            "|   Target   |       SELECT ?obj WHERE { wd:Q1045 p:P1082 ?s . ?s ps:P1082 ?obj . ?s pq:P585 ?x filter(contains(YEAR(?x),'2009')) }        |\n",
            "+------------+-----------------------------------------------------------------------------------------------------------------------------+\n",
            "| RESULT-Raw | SELECT ?answer WHERE { wd:simala> wdt:population> ?answer . ?answer wdt:population> ?answer . ?answer wdt:population> ?answ |\n",
            "|            |                                                            er }                                                             |\n",
            "+------------+-----------------------------------------------------------------------------------------------------------------------------+\n"
          ]
        }
      ],
      "source": [
        "pretty_translate(\"SELECT ?obj WHERE { wd:Q1045 p:P1082 ?s . ?s ps:P1082 ?obj . ?s pq:P585 ?x filter(contains(YEAR(?x),'2009')) }\", \n",
        "            \"What was the population of Somalia in 2009-0-0?\")"
      ]
    },
    {
      "cell_type": "code",
      "execution_count": 26,
      "metadata": {},
      "outputs": [
        {
          "data": {
            "text/plain": [
              "'SELECT ?answer WHERE { wd:new york city> wdt:humans born in> wd:new york city> }'"
            ]
          },
          "execution_count": 26,
          "metadata": {},
          "output_type": "execute_result"
        }
      ],
      "source": [
        "translate('Humans born in New York City') #random query - answer seems correct"
      ]
    },
    {
      "cell_type": "code",
      "execution_count": 27,
      "metadata": {},
      "outputs": [
        {
          "name": "stdout",
          "output_type": "stream",
          "text": [
            "+------------+-----------------------------------------------------------------------------------------------------------------------------+\n",
            "|  QUESTION  |                                     Are Taiko some kind of Japanese musical instrument?                                     |\n",
            "+------------+-----------------------------------------------------------------------------------------------------------------------------+\n",
            "|   Target   |    ASK WHERE { <http://dbpedia.org/resource/Taiko> a <http://dbpedia.org/class/yago/WikicatJapaneseMusicalInstruments> }    |\n",
            "+------------+-----------------------------------------------------------------------------------------------------------------------------+\n",
            "| RESULT-Raw | SELECT ?answer WHERE { wd:taiko> wdt:musical instrument> ?answer . ?answer wdt:musical instrument> ?answer . ?answer wdt:mu |\n",
            "|            |                                                 sical instrument> ?answer }                                                 |\n",
            "+------------+-----------------------------------------------------------------------------------------------------------------------------+\n"
          ]
        }
      ],
      "source": [
        "# From QALD\n",
        "target = \"ASK WHERE { <http://dbpedia.org/resource/Taiko> a <http://dbpedia.org/class/yago/WikicatJapaneseMusicalInstruments> }\"\n",
        "q =  \"Are Taiko some kind of Japanese musical instrument?\"\n",
        "pretty_translate(target, q)"
      ]
    },
    {
      "cell_type": "code",
      "execution_count": 28,
      "metadata": {},
      "outputs": [
        {
          "name": "stdout",
          "output_type": "stream",
          "text": [
            "+------------+-----------------------------------------------------------------------------------------------------------------------------+\n",
            "|  QUESTION  |                                                     Who killed Caesar?                                                      |\n",
            "+------------+-----------------------------------------------------------------------------------------------------------------------------+\n",
            "|   Target   | PREFIX dct: <http://purl.org/dc/terms/> PREFIX dbc: <http://dbpedia.org/resource/Category:> SELECT DISTINCT ?uri WHERE { ?u |\n",
            "|            |                                       ri dct:subject dbc:Assassins_of_Julius_Caesar }                                       |\n",
            "+------------+-----------------------------------------------------------------------------------------------------------------------------+\n",
            "| RESULT-Raw | SELECT ?answer WHERE { wd:césar> wdt:mortified> ?answer . ?answer wdt:mortified> ?answer . ?answer wdt:instance of> wd:césa |\n",
            "|            |                                                            r> }                                                             |\n",
            "+------------+-----------------------------------------------------------------------------------------------------------------------------+\n"
          ]
        }
      ],
      "source": [
        "# From QALD\n",
        "target = \"PREFIX dct: <http://purl.org/dc/terms/> PREFIX dbc: <http://dbpedia.org/resource/Category:> SELECT DISTINCT ?uri WHERE { ?uri dct:subject dbc:Assassins_of_Julius_Caesar }\"\n",
        "q =  \"Who killed Caesar?\"\n",
        "pretty_translate(target, q)"
      ]
    },
    {
      "cell_type": "code",
      "execution_count": 29,
      "metadata": {},
      "outputs": [
        {
          "name": "stdout",
          "output_type": "stream",
          "text": [
            "+------------+-----------------------------------------------------------------------------------------------------------------------------+\n",
            "|  QUESTION  |                                          What is the highest mountain in Germany?                                           |\n",
            "+------------+-----------------------------------------------------------------------------------------------------------------------------+\n",
            "|   Target   | PREFIX rdfs: <http://www.w3.org/2000/01/rdf-schema#> PREFIX rdf: <http://www.w3.org/1999/02/22-rdf-syntax-ns#> PREFIX onto: |\n",
            "|            |                                               <http://dbpedia.org/ontology/>                                                |\n",
            "|            | SELECT ?uri WHERE { ?uri rdf:type onto:Mountain ; onto:elevation ?elevation ; onto:locatedInArea <http://dbpedia.org/resour |\n",
            "|            |                                       ce/Germany> } ORDER BY DESC(?elevation) LIMIT 1                                       |\n",
            "+------------+-----------------------------------------------------------------------------------------------------------------------------+\n",
            "| RESULT-Raw | SELECT ?answer WHERE { wd:dfeet> wdt:highest mountain in the world> ?answer . ?answer wdt:highest mountain in the world> ?a |\n",
            "|            |                      nswer . ?answer wdt:highest mountain in the world> ?answer . ?answer wdt:instance                      |\n",
            "+------------+-----------------------------------------------------------------------------------------------------------------------------+\n"
          ]
        }
      ],
      "source": [
        "# From QALD\n",
        "q = 'What is the highest mountain in Germany?'\n",
        "target = \"PREFIX rdfs: <http://www.w3.org/2000/01/rdf-schema#> PREFIX rdf: <http://www.w3.org/1999/02/22-rdf-syntax-ns#> PREFIX onto: <http://dbpedia.org/ontology/>  \\nSELECT ?uri WHERE { ?uri rdf:type onto:Mountain ; onto:elevation ?elevation ; onto:locatedInArea <http://dbpedia.org/resource/Germany> } ORDER BY DESC(?elevation) LIMIT 1\"\n",
        "pretty_translate(target, q)"
      ]
    },
    {
      "cell_type": "code",
      "execution_count": 30,
      "metadata": {},
      "outputs": [
        {
          "name": "stdout",
          "output_type": "stream",
          "text": [
            "+------------+-----------------------------------------------------------------------------------------------------------------------------+\n",
            "|  QUESTION  |                              Which American presidents were in office during the Vietnam War?                               |\n",
            "+------------+-----------------------------------------------------------------------------------------------------------------------------+\n",
            "|   Target   | PREFIX dbo: <http://dbpedia.org/ontology/> PREFIX res: <http://dbpedia.org/resource/> PREFIX dct: <http://purl.org/dc/terms |\n",
            "|            | /> PREFIX dbc: <http://dbpedia.org/resource/Category:> SELECT ?uri WHERE { ?uri dct:subject dbc:Presidents_of_the_United_St |\n",
            "|            |                                         ates . res:Vietnam_War dbo:commander ?uri }                                         |\n",
            "+------------+-----------------------------------------------------------------------------------------------------------------------------+\n",
            "| RESULT-Raw | SELECT ?answer WHERE { wd:vietnam> wdt:instance of> ?answer . ?answer wdt:instance of> wd:american president> ?answer . ?an |\n",
            "|            |                                       swer wdt:instance of> wd:américain president>}                                        |\n",
            "+------------+-----------------------------------------------------------------------------------------------------------------------------+\n"
          ]
        }
      ],
      "source": [
        "# From QALD\n",
        "q = 'Which American presidents were in office during the Vietnam War?'\n",
        "target = \"PREFIX dbo: <http://dbpedia.org/ontology/> PREFIX res: <http://dbpedia.org/resource/> PREFIX dct: <http://purl.org/dc/terms/> PREFIX dbc: <http://dbpedia.org/resource/Category:> SELECT ?uri WHERE { ?uri dct:subject dbc:Presidents_of_the_United_States . res:Vietnam_War dbo:commander ?uri }\"\n",
        "pretty_translate(target, q)"
      ]
    },
    {
      "cell_type": "code",
      "execution_count": 31,
      "metadata": {},
      "outputs": [
        {
          "name": "stdout",
          "output_type": "stream",
          "text": [
            "+------------+-----------------------------------------------------------------------------------------------------------------------------+\n",
            "|  QUESTION  |                              How many gold medals did Michael Phelps win at the 2008 Olympics?                              |\n",
            "+------------+-----------------------------------------------------------------------------------------------------------------------------+\n",
            "|   Target   | PREFIX dbo: <http://dbpedia.org/ontology/> PREFIX dbr: <http://dbpedia.org/resource/> PREFIX rdf: <http://www.w3.org/1999/0 |\n",
            "|            | 2/22-rdf-syntax-ns#> PREFIX rdfs: <http://www.w3.org/2000/01/rdf-schema#> SELECT Count(?sub) as ?c WHERE { ?sub dbo:goldMed |\n",
            "|            |           alist dbr:Michael_Phelps . filter (contains (str(?sub), \"2008\") && contains (str(?sub), \"Olympics\")) }            |\n",
            "+------------+-----------------------------------------------------------------------------------------------------------------------------+\n",
            "| RESULT-Raw | SELECT ?answer WHERE { wd:falquier phelps> wdt:gold medals win> ?answer . ?answer wdt:gold medals win> ?answer . ?answer wd |\n",
            "|            |                                     t:olympics 2008> ?answer . ?answer wdt:gold medals                                      |\n",
            "+------------+-----------------------------------------------------------------------------------------------------------------------------+\n"
          ]
        }
      ],
      "source": [
        "# From QALD\n",
        "q = 'How many gold medals did Michael Phelps win at the 2008 Olympics?'\n",
        "target = \"PREFIX dbo: <http://dbpedia.org/ontology/> PREFIX dbr: <http://dbpedia.org/resource/> PREFIX rdf: <http://www.w3.org/1999/02/22-rdf-syntax-ns#> PREFIX rdfs: <http://www.w3.org/2000/01/rdf-schema#> SELECT Count(?sub) as ?c WHERE { ?sub dbo:goldMedalist dbr:Michael_Phelps . filter (contains (str(?sub), \\\"2008\\\") && contains (str(?sub), \\\"Olympics\\\")) }\"\n",
        "pretty_translate(target, q)"
      ]
    },
    {
      "cell_type": "code",
      "execution_count": 32,
      "metadata": {},
      "outputs": [
        {
          "name": "stdout",
          "output_type": "stream",
          "text": [
            "+------------+-----------------------------------------------------------------------------------------------------------------------------+\n",
            "|  QUESTION  |                                          What is the profession of Frank Herbert?                                           |\n",
            "+------------+-----------------------------------------------------------------------------------------------------------------------------+\n",
            "|   Target   | PREFIX dbpedia2: <http://dbpedia.org/property/> PREFIX res: <http://dbpedia.org/resource/> SELECT DISTINCT ?string WHERE {  |\n",
            "|            |                                       res:Frank_Herbert dbpedia2:occupation ?string }                                       |\n",
            "+------------+-----------------------------------------------------------------------------------------------------------------------------+\n",
            "| RESULT-Raw | SELECT ?answer WHERE { wd:franc hrw> wdt:profession> ?answer . ?answer wdt:profession> ?answer . ?answer wdt:profession> ?a |\n",
            "|            |                                                           nswer }                                                           |\n",
            "+------------+-----------------------------------------------------------------------------------------------------------------------------+\n"
          ]
        }
      ],
      "source": [
        "# From QALD\n",
        "q = 'What is the profession of Frank Herbert?'\n",
        "target = \"PREFIX dbpedia2: <http://dbpedia.org/property/> PREFIX res: <http://dbpedia.org/resource/> SELECT DISTINCT ?string WHERE { res:Frank_Herbert dbpedia2:occupation ?string }\"\n",
        "pretty_translate(target, q)"
      ]
    },
    {
      "cell_type": "code",
      "execution_count": 33,
      "metadata": {},
      "outputs": [
        {
          "name": "stdout",
          "output_type": "stream",
          "text": [
            "+------------+-----------------------------------------------------------------------------------------------------------------------------+\n",
            "|  QUESTION  |                                   How many seats does the home stadium of FC Porto have?                                    |\n",
            "+------------+-----------------------------------------------------------------------------------------------------------------------------+\n",
            "|   Target   | PREFIX dbo: <http://dbpedia.org/ontology/> PREFIX dbp: <http://dbpedia.org/property/> PREFIX dbr: <http://dbpedia.org/resou |\n",
            "|            | rce/> PREFIX rdf: <http://www.w3.org/1999/02/22-rdf-syntax-ns#> PREFIX rdfs: <http://www.w3.org/2000/01/rdf-schema#> PREFIX |\n",
            "|            |  db: <http://dbpedia.org/> SELECT ?capacity WHERE { { dbr:FC_Porto dbo:ground ?ground . ?ground dbo:capacity ?capacity } UN |\n",
            "|            |                         ION { dbr:FC_Porto dbo:ground ?ground . ?ground dbp:capacity ?capacity } }                          |\n",
            "+------------+-----------------------------------------------------------------------------------------------------------------------------+\n",
            "| RESULT-Raw | SELECT ?answer WHERE { wd:FC porto> wdt:place of residence> ?answer . ?answer wdt:place of residence> ?answer . ?answer wdt |\n",
            "|            |                                               :place of residence> ?answer }                                                |\n",
            "+------------+-----------------------------------------------------------------------------------------------------------------------------+\n"
          ]
        }
      ],
      "source": [
        "# From QALD\n",
        "q = 'How many seats does the home stadium of FC Porto have?'\n",
        "target = \"PREFIX dbo: <http://dbpedia.org/ontology/> PREFIX dbp: <http://dbpedia.org/property/> PREFIX dbr: <http://dbpedia.org/resource/> PREFIX rdf: <http://www.w3.org/1999/02/22-rdf-syntax-ns#> PREFIX rdfs: <http://www.w3.org/2000/01/rdf-schema#> PREFIX db: <http://dbpedia.org/> SELECT ?capacity WHERE { { dbr:FC_Porto dbo:ground ?ground . ?ground dbo:capacity ?capacity } UNION { dbr:FC_Porto dbo:ground ?ground . ?ground dbp:capacity ?capacity } }\"\n",
        "pretty_translate(target, q)"
      ]
    },
    {
      "cell_type": "code",
      "execution_count": 34,
      "metadata": {},
      "outputs": [
        {
          "name": "stdout",
          "output_type": "stream",
          "text": [
            "+------------+-----------------------------------------------------------------------------------------------------------------------------+\n",
            "|  QUESTION  |                                     Which frequent flyer program has the most airlines?                                     |\n",
            "+------------+-----------------------------------------------------------------------------------------------------------------------------+\n",
            "|   Target   | SELECT ?uri WHERE { ?airline <http://www.w3.org/1999/02/22-rdf-syntax-ns#type> <http://dbpedia.org/ontology/Airline> . ?air |\n",
            "|            | line <http://dbpedia.org/property/frequentFlyer> ?uri. } GROUP BY ?uri ORDER BY DESC(COUNT(DISTINCT ?airline)) OFFSET 0 LIM |\n",
            "|            |                                                            IT 1                                                             |\n",
            "+------------+-----------------------------------------------------------------------------------------------------------------------------+\n",
            "| RESULT-Raw | SELECT ?answer WHERE { wd:french flyer program> wdt:instance of> ?answer . ?answer wdt:instance of> wd:french flyer program |\n",
            "|            |                               > ?answer . ?answer wdt:instance of> wd:french flyer program>}                                |\n",
            "+------------+-----------------------------------------------------------------------------------------------------------------------------+\n"
          ]
        }
      ],
      "source": [
        "# From QALD\n",
        "q = 'Which frequent flyer program has the most airlines?'\n",
        "target = \"SELECT ?uri WHERE { ?airline <http://www.w3.org/1999/02/22-rdf-syntax-ns#type> <http://dbpedia.org/ontology/Airline> . ?airline <http://dbpedia.org/property/frequentFlyer> ?uri. } GROUP BY ?uri ORDER BY DESC(COUNT(DISTINCT ?airline)) OFFSET 0 LIMIT 1\"\n",
        "pretty_translate(target, q)"
      ]
    },
    {
      "cell_type": "code",
      "execution_count": 35,
      "metadata": {},
      "outputs": [
        {
          "name": "stdout",
          "output_type": "stream",
          "text": [
            "+------------+-----------------------------------------------------------------------------------------------------------------------------+\n",
            "|  QUESTION  |                                  Which European countries have a constitutional monarchy?                                   |\n",
            "+------------+-----------------------------------------------------------------------------------------------------------------------------+\n",
            "|   Target   | PREFIX dbo: <http://dbpedia.org/ontology/> PREFIX dct: <http://purl.org/dc/terms/> PREFIX dbc: <http://dbpedia.org/resource |\n",
            "|            | /Category:> PREFIX dbr: <http://dbpedia.org/resource/> SELECT ?uri WHERE { ?uri dct:subject dbc:Countries_in_Europe ; dbo:g |\n",
            "|            |                                         overnmentType dbr:Constitutional_monarchy }                                         |\n",
            "+------------+-----------------------------------------------------------------------------------------------------------------------------+\n",
            "| RESULT-Raw | SELECT ?answer WHERE { wd:european countries> wdt:constitutional monarchy> ?answer . ?answer wdt:instance of> wd:european c |\n",
            "|            |                                                         ountries> }                                                         |\n",
            "+------------+-----------------------------------------------------------------------------------------------------------------------------+\n"
          ]
        }
      ],
      "source": [
        "# From QALD\n",
        "q = 'Which European countries have a constitutional monarchy?'\n",
        "target = \"PREFIX dbo: <http://dbpedia.org/ontology/> PREFIX dct: <http://purl.org/dc/terms/> PREFIX dbc: <http://dbpedia.org/resource/Category:> PREFIX dbr: <http://dbpedia.org/resource/> SELECT ?uri WHERE { ?uri dct:subject dbc:Countries_in_Europe ; dbo:governmentType dbr:Constitutional_monarchy }\"\n",
        "pretty_translate(target, q)"
      ]
    },
    {
      "cell_type": "code",
      "execution_count": 36,
      "metadata": {},
      "outputs": [
        {
          "name": "stdout",
          "output_type": "stream",
          "text": [
            "+------------+-----------------------------------------------------------------------------------------------------------------------------+\n",
            "|  QUESTION  |                                    Which countries have places with more than two caves?                                    |\n",
            "+------------+-----------------------------------------------------------------------------------------------------------------------------+\n",
            "|   Target   | PREFIX dbo: <http://dbpedia.org/ontology/> PREFIX rdf: <http://www.w3.org/1999/02/22-rdf-syntax-ns#> SELECT DISTINCT ?uri W |\n",
            "|            | HERE { ?cave rdf:type dbo:Cave ; dbo:location ?uri . ?uri rdf:type dbo:Country } GROUP BY ?uri HAVING ( COUNT(?cave) > 2 )  |\n",
            "+------------+-----------------------------------------------------------------------------------------------------------------------------+\n",
            "| RESULT-Raw | SELECT ?answer WHERE { wd:höhle> wdt:place of birth> ?answer . ?answer wdt:place of birth> ?answer . ?answer wdt:place of b |\n",
            "|            |                                    irth> ?answer . ?answer wdt:place of birth> ?answer }                                    |\n",
            "+------------+-----------------------------------------------------------------------------------------------------------------------------+\n"
          ]
        }
      ],
      "source": [
        "# From QALD\n",
        "q = 'Which countries have places with more than two caves?'\n",
        "target = \"PREFIX dbo: <http://dbpedia.org/ontology/> PREFIX rdf: <http://www.w3.org/1999/02/22-rdf-syntax-ns#> SELECT DISTINCT ?uri WHERE { ?cave rdf:type dbo:Cave ; dbo:location ?uri . ?uri rdf:type dbo:Country } GROUP BY ?uri HAVING ( COUNT(?cave) > 2 )\"\n",
        "pretty_translate(target, q)"
      ]
    },
    {
      "cell_type": "code",
      "execution_count": 37,
      "metadata": {},
      "outputs": [
        {
          "name": "stdout",
          "output_type": "stream",
          "text": [
            "+------------+-----------------------------------------------------------------------------------------------------------------------------+\n",
            "|  QUESTION  |                                       Which airports are located in California, USA?                                        |\n",
            "+------------+-----------------------------------------------------------------------------------------------------------------------------+\n",
            "|   Target   | SELECT DISTINCT ?uri WHERE { ?uri a <http://dbpedia.org/ontology/Airport> { ?uri <http://dbpedia.org/ontology/location> <ht |\n",
            "|            | tp://dbpedia.org/resource/California> } UNION { ?uri <http://dbpedia.org/ontology/city> <http://dbpedia.org/resource/Califo |\n",
            "|            | rnia> } UNION { ?uri <http://dbpedia.org/ontology/city> ?city . ?city <http://dbpedia.org/ontology/isPartOf> <http://dbpedi |\n",
            "|            | a.org/resource/California> } UNION { ?uri <http://dbpedia.org/ontology/operator> <http://dbpedia.org/resource/California> } |\n",
            "|            |                                                              }                                                              |\n",
            "+------------+-----------------------------------------------------------------------------------------------------------------------------+\n",
            "| RESULT-Raw | SELECT ?answer WHERE { wd:california> wdt:local airport> ?answer . ?answer wdt:local airport> ?answer . ?answer wdt:local a |\n",
            "|            |                                                      irport> ?answer }                                                      |\n",
            "+------------+-----------------------------------------------------------------------------------------------------------------------------+\n"
          ]
        }
      ],
      "source": [
        "# From QALD\n",
        "q = 'Which airports are located in California, USA?'\n",
        "target = \"SELECT DISTINCT ?uri WHERE { ?uri a <http://dbpedia.org/ontology/Airport> { ?uri <http://dbpedia.org/ontology/location> <http://dbpedia.org/resource/California> } UNION { ?uri <http://dbpedia.org/ontology/city> <http://dbpedia.org/resource/California> } UNION { ?uri <http://dbpedia.org/ontology/city> ?city . ?city <http://dbpedia.org/ontology/isPartOf> <http://dbpedia.org/resource/California> } UNION { ?uri <http://dbpedia.org/ontology/operator> <http://dbpedia.org/resource/California> } }\"\n",
        "pretty_translate(target, q)"
      ]
    },
    {
      "cell_type": "code",
      "execution_count": 38,
      "metadata": {},
      "outputs": [
        {
          "name": "stdout",
          "output_type": "stream",
          "text": [
            "+------------+-----------------------------------------------------------------------------------------------------------------------------+\n",
            "|  QUESTION  |                                          What are the nicknames of San Francisco?                                           |\n",
            "+------------+-----------------------------------------------------------------------------------------------------------------------------+\n",
            "|   Target   |                            SELECT DISTINCT ?string WHERE { res:San_Francisco foaf:nick ?string }                            |\n",
            "+------------+-----------------------------------------------------------------------------------------------------------------------------+\n",
            "| RESULT-Raw | SELECT ?answer WHERE { wd:san francisco> wdt:named after> ?answer . ?answer wdt:named after> ?answer . ?answer wdt:named af |\n",
            "|            |                                      ter> ?answer . ?answer wdt:named after> ?answer }                                      |\n",
            "+------------+-----------------------------------------------------------------------------------------------------------------------------+\n"
          ]
        }
      ],
      "source": [
        "# From QALD\n",
        "q = \"What are the nicknames of San Francisco?\"\n",
        "target = \"SELECT DISTINCT ?string WHERE { res:San_Francisco foaf:nick ?string }\"\n",
        "pretty_translate(target, q)"
      ]
    },
    {
      "cell_type": "code",
      "execution_count": 39,
      "metadata": {},
      "outputs": [
        {
          "name": "stdout",
          "output_type": "stream",
          "text": [
            "+------------+-----------------------------------------------------------------------------------------------------------------------------+\n",
            "|  QUESTION  |                                             What is Angela Merkel’s birth name?                                             |\n",
            "+------------+-----------------------------------------------------------------------------------------------------------------------------+\n",
            "|   Target   |                          SELECT DISTINCT ?string WHERE { res:Angela_Merkel dbp:birthName ?string }                          |\n",
            "+------------+-----------------------------------------------------------------------------------------------------------------------------+\n",
            "| RESULT-Raw | SELECT ?answer WHERE { wd:anthona faschina> wdt:birth name> ?answer . ?answer wdt:name of birth> ?answer . ?answer wdt:name |\n",
            "|            |                                                     of birth> ?answer }                                                     |\n",
            "+------------+-----------------------------------------------------------------------------------------------------------------------------+\n"
          ]
        }
      ],
      "source": [
        "# From QALD\n",
        "q = \"What is Angela Merkel’s birth name?\"\n",
        "target = \"SELECT DISTINCT ?string WHERE { res:Angela_Merkel dbp:birthName ?string }\"\n",
        "pretty_translate(target, q)"
      ]
    },
    {
      "cell_type": "code",
      "execution_count": 40,
      "metadata": {},
      "outputs": [
        {
          "name": "stdout",
          "output_type": "stream",
          "text": [
            "+------------+------------------------------------------------------------------------------------------------+\n",
            "|  QUESTION  |                                  Who is the mayor of Berlin?                                   |\n",
            "+------------+------------------------------------------------------------------------------------------------+\n",
            "|   Target   |                   SELECT DISTINCT ?uri WHERE { res:Berlin dbp:leader ?uri }                    |\n",
            "+------------+------------------------------------------------------------------------------------------------+\n",
            "| RESULT-Raw | SELECT ?answer WHERE { wd:berlin> wdt:prime of> ?answer . ?answer wdt:instance of> wd:mayor> } |\n",
            "+------------+------------------------------------------------------------------------------------------------+\n"
          ]
        }
      ],
      "source": [
        "# From QALD\n",
        "q = \"Who is the mayor of Berlin?\"\n",
        "target = \"SELECT DISTINCT ?uri WHERE { res:Berlin dbp:leader ?uri }\"\n",
        "pretty_translate(target, q)"
      ]
    },
    {
      "cell_type": "code",
      "execution_count": 41,
      "metadata": {},
      "outputs": [
        {
          "name": "stdout",
          "output_type": "stream",
          "text": [
            "+------------+-----------------------------------------------------------------------------------------------------------------------------+\n",
            "|  QUESTION  |                                 Which software has been published by Mean Hamster Software?                                 |\n",
            "+------------+-----------------------------------------------------------------------------------------------------------------------------+\n",
            "|   Target   | SELECT DISTINCT ?uri WHERE { ?uri rdf:type onto:Software { ?uri prop:publisher \"Mean Hamster Software\"@en } UNION { ?uri on |\n",
            "|            |                                         to:publisher res:Mean_Hamster_Software } }                                          |\n",
            "+------------+-----------------------------------------------------------------------------------------------------------------------------+\n",
            "| RESULT-Raw | SELECT ?answer WHERE { wd:moyen hamster software> wdt:published by> ?answer . ?answer wdt:published by> ?answer . ?answer w |\n",
            "|            |                                               dt:instance of> wd:software> }                                                |\n",
            "+------------+-----------------------------------------------------------------------------------------------------------------------------+\n"
          ]
        }
      ],
      "source": [
        "# From QALD\n",
        "q = \"Which software has been published by Mean Hamster Software?\"\n",
        "target = \"SELECT DISTINCT ?uri WHERE { ?uri rdf:type onto:Software { ?uri prop:publisher \\\"Mean Hamster Software\\\"@en } UNION { ?uri onto:publisher res:Mean_Hamster_Software } }\"\n",
        "pretty_translate(target, q)"
      ]
    },
    {
      "cell_type": "code",
      "execution_count": 42,
      "metadata": {},
      "outputs": [
        {
          "name": "stdout",
          "output_type": "stream",
          "text": [
            "+------------+-----------------------------------------------------------------------------------------------------------------------------+\n",
            "|  QUESTION  |                                            Which country was Bill Gates born in?                                            |\n",
            "+------------+-----------------------------------------------------------------------------------------------------------------------------+\n",
            "|   Target   | SELECT DISTINCT ?country WHERE { { dbr:Bill_Gates dbo:birthPlace ?birthPlace . ?birthPlace dbo:country ?country } UNION { d |\n",
            "|            |        br:Bill_Gates dbo:birthPlace ?birthPlace . ?birthPlace dbo:isPartOf ?place . ?place dbo:country ?country } }         |\n",
            "+------------+-----------------------------------------------------------------------------------------------------------------------------+\n",
            "| RESULT-Raw |                 SELECT ?answer WHERE { wd:bill gates> wdt:country> ?answer . ?answer wdt:country> ?answer }                 |\n",
            "+------------+-----------------------------------------------------------------------------------------------------------------------------+\n"
          ]
        }
      ],
      "source": [
        "# From QALD\n",
        "q = \"Which country was Bill Gates born in?\"\n",
        "target = \"SELECT DISTINCT ?country WHERE { { dbr:Bill_Gates dbo:birthPlace ?birthPlace . ?birthPlace dbo:country ?country } UNION { dbr:Bill_Gates dbo:birthPlace ?birthPlace . ?birthPlace dbo:isPartOf ?place . ?place dbo:country ?country } }\"\n",
        "pretty_translate(target, q)"
      ]
    },
    {
      "cell_type": "code",
      "execution_count": 43,
      "metadata": {},
      "outputs": [
        {
          "name": "stdout",
          "output_type": "stream",
          "text": [
            "+------------+-----------------------------------------------------------------------------------------------------------------------------+\n",
            "|  QUESTION  |                                     How many grand-children did Jacques Cousteau have?                                      |\n",
            "+------------+-----------------------------------------------------------------------------------------------------------------------------+\n",
            "|   Target   | SELECT COUNT(DISTINCT ?y AS ?y) WHERE { <http://dbpedia.org/resource/Jacques_Cousteau> <http://dbpedia.org/ontology/child>  |\n",
            "|            |                                     ?x . ?x <http://dbpedia.org/ontology/child> ?y . }                                      |\n",
            "+------------+-----------------------------------------------------------------------------------------------------------------------------+\n",
            "| RESULT-Raw | SELECT ?answer WHERE { wd:Jacques Cousteau> wdt:grandchildren> ?answer . ?answer wdt:grandchildren> ?answer . ?answer wdt:g |\n",
            "|            |                                                   randchildren> ?answer }                                                   |\n",
            "+------------+-----------------------------------------------------------------------------------------------------------------------------+\n"
          ]
        }
      ],
      "source": [
        "# From QALD\n",
        "q = \"How many grand-children did Jacques Cousteau have?\"\n",
        "target = \"SELECT COUNT(DISTINCT ?y AS ?y) WHERE { <http://dbpedia.org/resource/Jacques_Cousteau> <http://dbpedia.org/ontology/child> ?x . ?x <http://dbpedia.org/ontology/child> ?y . }\"\n",
        "pretty_translate(target, q)"
      ]
    },
    {
      "cell_type": "code",
      "execution_count": 44,
      "metadata": {},
      "outputs": [
        {
          "name": "stdout",
          "output_type": "stream",
          "text": [
            "+------------+-----------------------------------------------------------------------------------------------------------------------------+\n",
            "|  QUESTION  |                                     Give me all professional skateboarders from Sweden.                                     |\n",
            "+------------+-----------------------------------------------------------------------------------------------------------------------------+\n",
            "|   Target   | SELECT DISTINCT ?uri WHERE { ?uri dbo:occupation dbr:Skateboarder { ?uri dbo:birthPlace dbr:Sweden } UNION { ?uri dbo:birth |\n",
            "|            |                                      Place ?place . ?place dbo:country dbr:Sweden } }                                       |\n",
            "+------------+-----------------------------------------------------------------------------------------------------------------------------+\n",
            "| RESULT-Raw |                         select distinct ?object where { wd:suède> wdt:professional skateboarder> }                          |\n",
            "+------------+-----------------------------------------------------------------------------------------------------------------------------+\n"
          ]
        }
      ],
      "source": [
        "# From QALD\n",
        "q = \"Give me all professional skateboarders from Sweden.\"\n",
        "target = \"SELECT DISTINCT ?uri WHERE { ?uri dbo:occupation dbr:Skateboarder { ?uri dbo:birthPlace dbr:Sweden } UNION { ?uri dbo:birthPlace ?place . ?place dbo:country dbr:Sweden } }\"\n",
        "pretty_translate(target, q)"
      ]
    },
    {
      "cell_type": "code",
      "execution_count": 45,
      "metadata": {},
      "outputs": [
        {
          "name": "stdout",
          "output_type": "stream",
          "text": [
            "+------------+-----------------------------------------------------------------------------------------------------------------------------+\n",
            "|  QUESTION  |                               Which monarchs of the United Kingdom were married to a German?                                |\n",
            "+------------+-----------------------------------------------------------------------------------------------------------------------------+\n",
            "|   Target   | SELECT DISTINCT ?uri WHERE { ?uri rdf:type yago:WikicatMonarchsOfTheUnitedKingdom ; dbo:spouse ?spouse . ?spouse dbo:birthP |\n",
            "|            |                                                     lace res:Germany }                                                      |\n",
            "+------------+-----------------------------------------------------------------------------------------------------------------------------+\n",
            "| RESULT-Raw | SELECT ?answer WHERE { wd:u.s.> wdt:heirated monarch> ?answer . ?answer wdt:heirated monarch> ?answer . ?answer wdt:instanc |\n",
            "|            |                                                 e of> wd:educated monarch>}                                                 |\n",
            "+------------+-----------------------------------------------------------------------------------------------------------------------------+\n"
          ]
        }
      ],
      "source": [
        "# From QALD\n",
        "q = \"Which monarchs of the United Kingdom were married to a German?\"\n",
        "target = \"SELECT DISTINCT ?uri WHERE { ?uri rdf:type yago:WikicatMonarchsOfTheUnitedKingdom ; dbo:spouse ?spouse . ?spouse dbo:birthPlace res:Germany }\"\n",
        "pretty_translate(target, q)"
      ]
    },
    {
      "cell_type": "code",
      "execution_count": 46,
      "metadata": {},
      "outputs": [
        {
          "name": "stdout",
          "output_type": "stream",
          "text": [
            "+------------+-----------------------------------------------------------------------------------------------------------------------------+\n",
            "|  QUESTION  |                                                Give me all Argentine films.                                                 |\n",
            "+------------+-----------------------------------------------------------------------------------------------------------------------------+\n",
            "|   Target   | SELECT DISTINCT ?uri WHERE { { ?uri rdf:type yago:ArgentineFilms } UNION { ?uri rdf:type dbo:Film { ?uri dbo:country res:Ar |\n",
            "|            |                                   gentina } UNION { ?uri dbp:country \"Argentina\"@en } } }                                   |\n",
            "+------------+-----------------------------------------------------------------------------------------------------------------------------+\n",
            "| RESULT-Raw | SELECT DISTINCT ?subject ?subject_label WHERE { ?subject wdt:instance of> wd:argentina> . ?subject rdfs:label ?subject_labe |\n",
            "|            |                              l . FILTER(STRSTARTS(lcase(?subject_label), 'en')) . FILTER (lang                              |\n",
            "+------------+-----------------------------------------------------------------------------------------------------------------------------+\n"
          ]
        }
      ],
      "source": [
        "# From QALD\n",
        "q = \"Give me all Argentine films.\"\n",
        "target = \"SELECT DISTINCT ?uri WHERE { { ?uri rdf:type yago:ArgentineFilms } UNION { ?uri rdf:type dbo:Film { ?uri dbo:country res:Argentina } UNION { ?uri dbp:country \\\"Argentina\\\"@en } } }\"\n",
        "pretty_translate(target, q)"
      ]
    },
    {
      "cell_type": "code",
      "execution_count": 47,
      "metadata": {},
      "outputs": [
        {
          "name": "stdout",
          "output_type": "stream",
          "text": [
            "+------------+------------------------------------------------------------------------------------------------------------------------+\n",
            "|  QUESTION  |                                              How did Michael Jackson die?                                              |\n",
            "+------------+------------------------------------------------------------------------------------------------------------------------+\n",
            "|   Target   | SELECT DISTINCT ?s WHERE { <http://dbpedia.org/resource/Michael_Jackson> <http://dbpedia.org/property/deathCause> ?s } |\n",
            "+------------+------------------------------------------------------------------------------------------------------------------------+\n",
            "| RESULT-Raw |       SELECT ?answer WHERE { wd:fjord jillson> wdt:mortem time> ?answer . ?answer wdt:representation> ?answer }        |\n",
            "+------------+------------------------------------------------------------------------------------------------------------------------+\n"
          ]
        }
      ],
      "source": [
        "# From QALD\n",
        "q = \"How did Michael Jackson die?\"\n",
        "target = \"SELECT DISTINCT ?s WHERE { <http://dbpedia.org/resource/Michael_Jackson> <http://dbpedia.org/property/deathCause> ?s }\"\n",
        "pretty_translate(target, q)"
      ]
    },
    {
      "cell_type": "code",
      "execution_count": 48,
      "metadata": {},
      "outputs": [
        {
          "name": "stdout",
          "output_type": "stream",
          "text": [
            "+------------+-----------------------------------------------------------------------------------------------------------------------------+\n",
            "|  QUESTION  |                                               Where did Michael Jackson died?                                               |\n",
            "+------------+-----------------------------------------------------------------------------------------------------------------------------+\n",
            "|   Target   |                                                              .                                                              |\n",
            "+------------+-----------------------------------------------------------------------------------------------------------------------------+\n",
            "| RESULT-Raw | SELECT ?answer WHERE { wd:michael jong> wdt:place of death> ?answer . ?answer wdt:place of death> ?answer . ?answer wdt:pla |\n",
            "|            |                                                   ce of death> ?answer }                                                    |\n",
            "+------------+-----------------------------------------------------------------------------------------------------------------------------+\n"
          ]
        }
      ],
      "source": [
        "# From QALD\n",
        "q = \"Where did Michael Jackson died?\"\n",
        "target = \".\"\n",
        "pretty_translate(target, q)"
      ]
    },
    {
      "cell_type": "code",
      "execution_count": 49,
      "metadata": {},
      "outputs": [
        {
          "name": "stdout",
          "output_type": "stream",
          "text": [
            "+------------+----------------------------------------------------------------------------------------+\n",
            "|  QUESTION  |                      Which classes does the Millepede belong to?                       |\n",
            "+------------+----------------------------------------------------------------------------------------+\n",
            "|   Target   |           SELECT DISTINCT ?String WHERE { res:Millipede dbp:taxon ?String }            |\n",
            "+------------+----------------------------------------------------------------------------------------+\n",
            "| RESULT-Raw | SELECT ?answer WHERE { wd:millepede> wdt:class> ?answer . ?answer wdt:class> ?answer } |\n",
            "+------------+----------------------------------------------------------------------------------------+\n"
          ]
        }
      ],
      "source": [
        "# From QALD\n",
        "q = \"Which classes does the Millepede belong to?\"\n",
        "target = \"SELECT DISTINCT ?String WHERE { res:Millipede dbp:taxon ?String }\"\n",
        "pretty_translate(target, q)"
      ]
    },
    {
      "cell_type": "code",
      "execution_count": 50,
      "metadata": {},
      "outputs": [
        {
          "name": "stdout",
          "output_type": "stream",
          "text": [
            "+------------+----------------------------------------------------------------------------------------+\n",
            "|  QUESTION  |                      Which classes does the Millepede belong to?                       |\n",
            "+------------+----------------------------------------------------------------------------------------+\n",
            "|   Target   |           SELECT DISTINCT ?String WHERE { res:Millipede dbp:taxon ?String }            |\n",
            "+------------+----------------------------------------------------------------------------------------+\n",
            "| RESULT-Raw | SELECT ?answer WHERE { wd:millepede> wdt:class> ?answer . ?answer wdt:class> ?answer } |\n",
            "+------------+----------------------------------------------------------------------------------------+\n"
          ]
        }
      ],
      "source": [
        "# From QALD\n",
        "q = \"Which classes does the Millepede belong to?\"\n",
        "target = \"SELECT DISTINCT ?String WHERE { res:Millipede dbp:taxon ?String }\"\n",
        "pretty_translate(target, q)"
      ]
    }
  ],
  "metadata": {
    "colab": {
      "name": "seq2seq-t5-use.ipynb",
      "provenance": []
    },
    "interpreter": {
      "hash": "e7370f93d1d0cde622a1f8e1c04877d8463912d04d973331ad4851f04de6915a"
    },
    "kernelspec": {
      "display_name": "Python 3.8.5 64-bit",
      "name": "python3"
    },
    "language_info": {
      "codemirror_mode": {
        "name": "ipython",
        "version": 3
      },
      "file_extension": ".py",
      "mimetype": "text/x-python",
      "name": "python",
      "nbconvert_exporter": "python",
      "pygments_lexer": "ipython3",
      "version": "3.8.5"
    },
    "orig_nbformat": 4
  },
  "nbformat": 4,
  "nbformat_minor": 2
}
