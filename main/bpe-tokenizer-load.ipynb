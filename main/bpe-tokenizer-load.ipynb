{
 "cells": [
  {
   "cell_type": "code",
   "execution_count": 1,
   "id": "20bc2acc",
   "metadata": {},
   "outputs": [],
   "source": [
    "%run -r params.py"
   ]
  },
  {
   "cell_type": "code",
   "execution_count": 2,
   "id": "b429f6b7",
   "metadata": {},
   "outputs": [],
   "source": [
    "from tokenizers.implementations import ByteLevelBPETokenizer\n",
    "from tokenizers.processors import BertProcessing"
   ]
  },
  {
   "cell_type": "code",
   "execution_count": 3,
   "id": "ad81d09b",
   "metadata": {},
   "outputs": [],
   "source": [
    "tokenizer = ByteLevelBPETokenizer(\n",
    "    tokenizer_dir+ \"/vocab.json\",\n",
    "    tokenizer_dir+ \"/merges.txt\"\n",
    ")"
   ]
  },
  {
   "cell_type": "code",
   "execution_count": 4,
   "id": "d4de9a05",
   "metadata": {},
   "outputs": [],
   "source": [
    "tokenizer.enable_truncation(max_length=512)"
   ]
  },
  {
   "cell_type": "code",
   "execution_count": 5,
   "id": "97d23085",
   "metadata": {},
   "outputs": [
    {
     "output_type": "stream",
     "name": "stdout",
     "text": [
      "[274, 281, 262, 267, 279, 270, 35, 267, 268, 30, 819, 291, 30, 1358, 67, 753, 97]\n['se', 'lect', 'Ġ?', 'uri', 'Ġwhere', 'Ġ{', '?', 'uri', 'Ġdbo', ':', 'publisher', 'Ġdbr', ':', 'gmt', '_', 'games', '}']\n"
     ]
    }
   ],
   "source": [
    "# sample = 'SELECT ?uri WHERE {?uri dbo:publisher dbr:GMT_Games}'.lower()\n",
    "# t = tokenizer.encode(sample)\n",
    "# print(t.ids)\n",
    "# print(t.tokens)"
   ]
  },
  {
   "cell_type": "code",
   "execution_count": 23,
   "id": "a4bcd26c",
   "metadata": {},
   "outputs": [],
   "source": [
    "# tokenizer._tokenizer.post_processor = BertProcessing(\n",
    "#     (\"</s>\", tokenizer.token_to_id(\"</s>\")),\n",
    "#     (\"<s>\", tokenizer.token_to_id(\"<s>\")),\n",
    "# )"
   ]
  },
  {
   "cell_type": "code",
   "execution_count": 24,
   "id": "17d2a07f",
   "metadata": {},
   "outputs": [
    {
     "name": "stdout",
     "output_type": "stream",
     "text": [
      "[0, 274, 281, 262, 267, 279, 270, 35, 267, 268, 30, 819, 291, 30, 1358, 67, 753, 97, 2]\n",
      "['<s>', 'se', 'lect', 'Ġ?', 'uri', 'Ġwhere', 'Ġ{', '?', 'uri', 'Ġdbo', ':', 'publisher', 'Ġdbr', ':', 'gmt', '_', 'games', '}', '</s>']\n"
     ]
    }
   ],
   "source": [
    "# sample = 'SELECT ?uri WHERE {?uri dbo:publisher dbr:GMT_Games}'.lower()\n",
    "# t = tokenizer.encode(sample)\n",
    "# print(t.ids)\n",
    "# print(t.tokens)"
   ]
  }
 ],
 "metadata": {
  "kernelspec": {
   "display_name": "Python 3",
   "language": "python",
   "name": "python3"
  },
  "language_info": {
   "codemirror_mode": {
    "name": "ipython",
    "version": 3
   },
   "file_extension": ".py",
   "mimetype": "text/x-python",
   "name": "python",
   "nbconvert_exporter": "python",
   "pygments_lexer": "ipython3",
   "version": "3.8.5"
  }
 },
 "nbformat": 4,
 "nbformat_minor": 5
}