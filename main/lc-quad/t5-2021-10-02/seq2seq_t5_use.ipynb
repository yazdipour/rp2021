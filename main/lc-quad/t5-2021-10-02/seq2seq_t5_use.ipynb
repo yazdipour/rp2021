{
  "cells": [
    {
      "cell_type": "code",
      "execution_count": 2,
      "metadata": {
        "id": "dKV8MCK1Y12g"
      },
      "outputs": [],
      "source": [
        "!pip install datasets transformers pandasql dask -qqq"
      ]
    },
    {
      "cell_type": "code",
      "execution_count": 3,
      "metadata": {
        "id": "-oei2ojLYoHV"
      },
      "outputs": [],
      "source": [
        "from transformers import T5TokenizerFast\n",
        "model_checkpoint = \"t5-small\"\n",
        "model_date = '2021-10-01'\n",
        "prefix = \"translate English to Sparql: \"\n",
        "model_path=f'../../../data/models/sparql-translator-{model_date}-{model_checkpoint}-fp16'\n",
        "model_path='../../../data/models/sparql-translator-t5-2021-07-09'\n",
        "tokenizer = T5TokenizerFast.from_pretrained(model_checkpoint, src_lang=\"en\", tgt_lang=\"sparql\")"
      ]
    },
    {
      "cell_type": "code",
      "execution_count": 4,
      "metadata": {
        "id": "qqNrJWWEYoHa"
      },
      "outputs": [],
      "source": [
        "from transformers import pipeline\n",
        "from transformers import AutoModelForSeq2SeqLM\n",
        "model = AutoModelForSeq2SeqLM.from_pretrained(model_path).to(\"cuda\")\n",
        "translator = pipeline(\n",
        "    \"translation_xx_to_yy\",\n",
        "    model=model,\n",
        "    tokenizer=tokenizer,\n",
        "    device=0 #0 for cuda, -1 for cpu\n",
        ")"
      ]
    },
    {
      "cell_type": "code",
      "execution_count": 5,
      "metadata": {},
      "outputs": [],
      "source": [
        "import pandas as pd\n",
        "import re\n",
        "df_q = pd.read_csv('../../../data/kdwd/q_19174151.csv').set_index('item_id')\n",
        "df_p = pd.read_csv('../../../data/kdwd/p_12267.csv').set_index('property_id')"
      ]
    },
    {
      "cell_type": "code",
      "execution_count": 6,
      "metadata": {},
      "outputs": [
        {
          "name": "stdout",
          "output_type": "stream",
          "text": [
            "(12267, 1) (19174151, 1)\n"
          ]
        }
      ],
      "source": [
        "print(df_p.shape, df_q.shape)"
      ]
    },
    {
      "cell_type": "code",
      "execution_count": 7,
      "metadata": {},
      "outputs": [],
      "source": [
        "from pandasql import sqldf\n",
        "pysqldf = lambda q: sqldf(q, globals())"
      ]
    },
    {
      "cell_type": "code",
      "execution_count": 8,
      "metadata": {},
      "outputs": [
        {
          "data": {
            "text/html": [
              "<div>\n",
              "<style scoped>\n",
              "    .dataframe tbody tr th:only-of-type {\n",
              "        vertical-align: middle;\n",
              "    }\n",
              "\n",
              "    .dataframe tbody tr th {\n",
              "        vertical-align: top;\n",
              "    }\n",
              "\n",
              "    .dataframe thead th {\n",
              "        text-align: right;\n",
              "    }\n",
              "</style>\n",
              "<table border=\"1\" class=\"dataframe\">\n",
              "  <thead>\n",
              "    <tr style=\"text-align: right;\">\n",
              "      <th></th>\n",
              "      <th>property_id</th>\n",
              "      <th>en_label</th>\n",
              "    </tr>\n",
              "  </thead>\n",
              "  <tbody>\n",
              "    <tr>\n",
              "      <th>0</th>\n",
              "      <td>15</td>\n",
              "      <td>route map</td>\n",
              "    </tr>\n",
              "    <tr>\n",
              "      <th>1</th>\n",
              "      <td>181</td>\n",
              "      <td>taxon range map image</td>\n",
              "    </tr>\n",
              "    <tr>\n",
              "      <th>2</th>\n",
              "      <td>242</td>\n",
              "      <td>locator map image</td>\n",
              "    </tr>\n",
              "    <tr>\n",
              "      <th>3</th>\n",
              "      <td>1621</td>\n",
              "      <td>detail map</td>\n",
              "    </tr>\n",
              "    <tr>\n",
              "      <th>4</th>\n",
              "      <td>1846</td>\n",
              "      <td>distribution map</td>\n",
              "    </tr>\n",
              "  </tbody>\n",
              "</table>\n",
              "</div>"
            ],
            "text/plain": [
              "   property_id               en_label\n",
              "0           15              route map\n",
              "1          181  taxon range map image\n",
              "2          242      locator map image\n",
              "3         1621             detail map\n",
              "4         1846       distribution map"
            ]
          },
          "execution_count": 8,
          "metadata": {},
          "output_type": "execute_result"
        }
      ],
      "source": [
        "pysqldf(\"SELECT * FROM df_p WHERE en_label LIKE '%map%' LIMIT 10;\").head()"
      ]
    },
    {
      "cell_type": "code",
      "execution_count": 9,
      "metadata": {},
      "outputs": [
        {
          "name": "stdout",
          "output_type": "stream",
          "text": [
            "1053\n"
          ]
        }
      ],
      "source": [
        "query_result = pysqldf(\"SELECT * FROM df_p WHERE en_label LIKE '%web%science%' LIMIT 1;\")\n",
        "if ~query_result.empty:\n",
        "    print(query_result.iloc[0]['property_id'])"
      ]
    },
    {
      "cell_type": "code",
      "execution_count": 10,
      "metadata": {},
      "outputs": [
        {
          "data": {
            "text/plain": [
              "\"SELECT ?obj WHERE { wd:somalia p:population ?s . ?s ps:population ?obj . ?s pq:point_in_time ?x filter(contains(YEAR(?x),'2009')) }\""
            ]
          },
          "execution_count": 10,
          "metadata": {},
          "output_type": "execute_result"
        }
      ],
      "source": [
        "def encode_props(qry):\n",
        "    # Q\n",
        "    for m in re.finditer(\":Q\\d+\", qry):\n",
        "        x = m.group(0)[1:]\n",
        "        newstring = df_q.loc[int(x[1:])]['en_label'].iloc[0].replace(\" \", \"_\").replace(\"-\", \"_\")\n",
        "        qry = qry.replace(x, newstring)\n",
        "    # P\n",
        "    for m in re.finditer(\":P\\d+\", qry):\n",
        "        x = m.group(0)[1:]\n",
        "        newstring = df_p.loc[int(x[1:])]['en_label'].iloc[0].replace(\" \", \"_\").replace(\"-\", \"_\")\n",
        "        qry = qry.replace(x, newstring)\n",
        "    return qry\n",
        "# Test\n",
        "encode_props('SELECT ?obj WHERE { wd:Q1045 p:P1082 ?s . ?s ps:P1082 ?obj . ?s pq:P585 ?x filter(contains(YEAR(?x),\\'2009\\')) }')\n",
        "# \"select ?obj where [ wd:somalia p:population ?s . ?s ps:population ?obj . ?s pq:point_in_time ?x filter(contains(YEAR(?x),'2009')) ]\""
      ]
    },
    {
      "cell_type": "code",
      "execution_count": 11,
      "metadata": {},
      "outputs": [
        {
          "data": {
            "text/plain": [
              "(\"select ?obj where { wd:somalia p:population ?s . ?s ps:population ?obj . ?s pq:point_in_time ?x filter(contains(YEAR(?x),'2009')) }\",\n",
              " \"select ?obj where { wd:Q1045 p:P1082 ?s . ?s ps:P1082 ?obj . ?s pq:point_in_time ?x filter(contains(YEAR(?x),'2009')) }\")"
            ]
          },
          "execution_count": 11,
          "metadata": {},
          "output_type": "execute_result"
        }
      ],
      "source": [
        "def replace_all(text, dict):\n",
        "    for i, j in dict.items():\n",
        "        text = text.replace(i, j)\n",
        "    return text\n",
        "\n",
        "\n",
        "def decode_props(qry):\n",
        "    rep_dict = {}\n",
        "    qry = qry.replace(\"[\", \"{\").replace(\"]\", \"}\")\n",
        "    for m in re.finditer(\":\\w+\", qry):\n",
        "        pref = qry[m.start(0) - 2 : m.start(0)]\n",
        "        try:\n",
        "            x = m.group(0)[1:].replace(\"_\", \" \")\n",
        "            if \"wd\" not in pref:\n",
        "                word = x.replace(\"-\", \"%\").replace(\" \", \"%\")\n",
        "                query_result = pysqldf(\n",
        "                    f\"SELECT * FROM df_p WHERE en_label LIKE '%{word}%' LIMIT 1;\"\n",
        "                )\n",
        "                if not query_result.empty:\n",
        "                    rep_dict[x] = \"P\" + str(query_result.iloc[0][\"property_id\"])\n",
        "                    continue\n",
        "                # s = df_p[df_p[\"en_label\"] == x.replace(\"_\", \" \")]\n",
        "                # if len(s) > 0:\n",
        "                # rep_dict[x] = \"P\" + str(s.iloc[0][0])\n",
        "                # continue\n",
        "            # Use else to do not replace missing Ps with Qs\n",
        "            # s = df_q[df_q[\"en_label\"] == x]\n",
        "            s = df_q[df_q.en_label.str.contains(x, na=False)].sort_values(by='item_id')\n",
        "            rep_dict[x] = \"Q\" + str(s.iloc[0].name)\n",
        "        except:\n",
        "            print(f\"Could not find {x} in our database.\")\n",
        "    return (qry, replace_all(qry, rep_dict))\n",
        "\n",
        "\n",
        "# Test\n",
        "decode_props(\n",
        "    \"select ?obj where [ wd:somalia p:population ?s . ?s ps:population ?obj . ?s pq:point_in_time ?x filter(contains(YEAR(?x),'2009')) ]\"\n",
        ")\n",
        "# rplc_props('SELECT ?obj WHERE { wd:Q1045 p:P1082 ?s . ?s ps:P1082 ?obj . ?s pq:P585 ?x filter(contains(YEAR(?x),\\'2009\\')) }')\n"
      ]
    },
    {
      "cell_type": "code",
      "execution_count": 12,
      "metadata": {},
      "outputs": [],
      "source": [
        "translate= lambda q: decode_props(translator(prefix+q, max_length=100)[0]['translation_text'])"
      ]
    },
    {
      "cell_type": "code",
      "execution_count": 13,
      "metadata": {},
      "outputs": [],
      "source": [
        "!pip install beautifultable -qqq"
      ]
    },
    {
      "cell_type": "code",
      "execution_count": 14,
      "metadata": {},
      "outputs": [],
      "source": [
        "def pretty_translate(t,q): \n",
        "    ans = translate(q)\n",
        "    # print('QUESTION:\\n' + q + '\\nTARGET:\\n'+ t +'\\nRESULT:\\n' + ans[0]+ '\\nRESULT-DECODED:\\n' + ans[1])\n",
        "    from beautifultable import BeautifulTable\n",
        "    table = BeautifulTable(maxwidth=140)\n",
        "    # table.column_headers = [\"\", \"Man Utd\",\"Man City\",\"T Hotspur\"]\n",
        "    table.rows.append(['QUESTION', q])\n",
        "    table.rows.append(['Target', t])\n",
        "    table.rows.append(['RESULT-DECODED', ans[1]])\n",
        "    table.rows.append(['RESULT-Raw', ans[0]])\n",
        "    print(table)"
      ]
    },
    {
      "cell_type": "markdown",
      "metadata": {},
      "source": [
        "# TESTING"
      ]
    },
    {
      "cell_type": "code",
      "execution_count": 15,
      "metadata": {},
      "outputs": [
        {
          "data": {
            "text/plain": [
              "[{'translation_text': 'select distinct ?sbj where [ ?sbj wdt:instance_of wd:marlin_manson . ?sbj wdt:instance_of wd:human ]'}]"
            ]
          },
          "execution_count": 15,
          "metadata": {},
          "output_type": "execute_result"
        }
      ],
      "source": [
        "translator(prefix+'Who is Marlin Manson?', max_length=100)"
      ]
    },
    {
      "cell_type": "code",
      "execution_count": 107,
      "metadata": {},
      "outputs": [
        {
          "data": {
            "text/plain": [
              "\"select distinct ?obj where [ wd:Q218 p:P31 ?s . ?s ps:P31 wd:Q218 . ?s pq:P585 ?x filter(contains(YEAR(?x),'Marlin Manson')) ]\""
            ]
          },
          "execution_count": 107,
          "metadata": {},
          "output_type": "execute_result"
        }
      ],
      "source": [
        "translate('Who is Marlin Manson?')"
      ]
    },
    {
      "cell_type": "code",
      "execution_count": 36,
      "metadata": {},
      "outputs": [
        {
          "name": "stdout",
          "output_type": "stream",
          "text": [
            "<re.Match object; span=(31, 36), match=':Q219'>\n",
            "<re.Match object; span=(38, 42), match=':P31'>\n",
            "<re.Match object; span=(53, 57), match=':P31'>\n",
            "<re.Match object; span=(60, 65), match=':Q219'>\n"
          ]
        },
        {
          "data": {
            "text/plain": [
              "('select distinct ?obj where { wd:Q219 p:P31 ?s . ?s ps:P31 wd:Q219 }',\n",
              " 'select distinct ?obj where { wd:Q219 p:P31 ?s . ?s ps:P31 wd:Q219 }')"
            ]
          },
          "execution_count": 36,
          "metadata": {},
          "output_type": "execute_result"
        }
      ],
      "source": [
        "translate('Who is Bill Gates?')"
      ]
    },
    {
      "cell_type": "code",
      "execution_count": 37,
      "metadata": {},
      "outputs": [
        {
          "name": "stdout",
          "output_type": "stream",
          "text": [
            "<re.Match object; span=(25, 30), match=':Q218'>\n",
            "<re.Match object; span=(34, 38), match=':P31'>\n",
            "<re.Match object; span=(50, 54), match=':P31'>\n"
          ]
        },
        {
          "data": {
            "text/plain": [
              "('select ?answer where { wd:Q218 wdt:P31 ?X . ?X wdt:P31 ?answer}',\n",
              " 'select ?answer where { wd:Q218 wdt:P31 ?X . ?X wdt:P31 ?answer}')"
            ]
          },
          "execution_count": 37,
          "metadata": {},
          "output_type": "execute_result"
        }
      ],
      "source": [
        "translate('What is the time zone of Salt Lake City?')"
      ]
    },
    {
      "cell_type": "code",
      "execution_count": 105,
      "metadata": {},
      "outputs": [
        {
          "name": "stdout",
          "output_type": "stream",
          "text": [
            "Could not find Q1980 in our database.\n",
            "Could not find P31 in our database.\n",
            "Could not find P31 in our database.\n",
            "Could not find Q1980 in our database.\n",
            "+----------------+--------------------------------------------------------------------------------+\n",
            "|    QUESTION    |             Who is the country for head of state of Mahmoud Abbas?             |\n",
            "+----------------+--------------------------------------------------------------------------------+\n",
            "|     Target     | select distinct ?sbj where { ?sbj wdt:P35 wd:Q127998 . ?sbj wdt:P31 wd:Q6256 } |\n",
            "+----------------+--------------------------------------------------------------------------------+\n",
            "| RESULT-DECODED |  select ?answer where { wd:Q1980 wdt:P31 ?answer . ?answer wdt:P31 wd:Q1980 }  |\n",
            "+----------------+--------------------------------------------------------------------------------+\n",
            "|   RESULT-Raw   |  select ?answer where { wd:Q1980 wdt:P31 ?answer . ?answer wdt:P31 wd:Q1980 }  |\n",
            "+----------------+--------------------------------------------------------------------------------+\n"
          ]
        }
      ],
      "source": [
        "pretty_translate('select distinct ?sbj where { ?sbj wdt:P35 wd:Q127998 . ?sbj wdt:P31 wd:Q6256 }','Who is the country for head of state of Mahmoud Abbas?')"
      ]
    },
    {
      "cell_type": "code",
      "execution_count": 21,
      "metadata": {},
      "outputs": [
        {
          "name": "stdout",
          "output_type": "stream",
          "text": [
            "+----------------+----------------------------------------------------------------------------------------------------------+\n",
            "|    QUESTION    |                           What country is Mahmoud Abbas the head of state of?                            |\n",
            "+----------------+----------------------------------------------------------------------------------------------------------+\n",
            "|     Target     |              select distinct ?sbj where { ?sbj wdt:P35 wd:Q127998 . ?sbj wdt:P31 wd:Q6256 }              |\n",
            "+----------------+----------------------------------------------------------------------------------------------------------+\n",
            "| RESULT-DECODED |              select distinct ?sbj where { ?sbj wdt:P35 wd:Q127998 . ?sbj wdt:P31 wd:Q6256 }              |\n",
            "+----------------+----------------------------------------------------------------------------------------------------------+\n",
            "|   RESULT-Raw   | select distinct ?sbj where { ?sbj wdt:head_of_state wd:mahmoud_abbas . ?sbj wdt:instance_of wd:country } |\n",
            "+----------------+----------------------------------------------------------------------------------------------------------+\n"
          ]
        }
      ],
      "source": [
        "pretty_translate('select distinct ?sbj where { ?sbj wdt:P35 wd:Q127998 . ?sbj wdt:P31 wd:Q6256 }',\"What country is Mahmoud Abbas the head of state of?\")"
      ]
    },
    {
      "cell_type": "code",
      "execution_count": 22,
      "metadata": {},
      "outputs": [
        {
          "name": "stdout",
          "output_type": "stream",
          "text": [
            "+----------------+----------------------------------------------------------------------------------------------------------+\n",
            "|    QUESTION    |                          Who is the country for head of state of Mahmoud Abbas?                          |\n",
            "+----------------+----------------------------------------------------------------------------------------------------------+\n",
            "|     Target     |              select distinct ?sbj where { ?sbj wdt:P35 wd:Q127998 . ?sbj wdt:P31 wd:Q6256 }              |\n",
            "+----------------+----------------------------------------------------------------------------------------------------------+\n",
            "| RESULT-DECODED |              select distinct ?obj where { wd:Q127998 wdt:P35 ?obj . ?obj wdt:P31 wd:Q6256 }              |\n",
            "+----------------+----------------------------------------------------------------------------------------------------------+\n",
            "|   RESULT-Raw   | select distinct ?obj where { wd:mahmoud_abbas wdt:head_of_state ?obj . ?obj wdt:instance_of wd:country } |\n",
            "+----------------+----------------------------------------------------------------------------------------------------------+\n"
          ]
        }
      ],
      "source": [
        "pretty_translate('select distinct ?sbj where { ?sbj wdt:P35 wd:Q127998 . ?sbj wdt:P31 wd:Q6256 }','Who is the country for head of state of Mahmoud Abbas?')"
      ]
    },
    {
      "cell_type": "code",
      "execution_count": 23,
      "metadata": {},
      "outputs": [
        {
          "name": "stdout",
          "output_type": "stream",
          "text": [
            "+----------------+-----------------------------------------------------------------------------------------------+\n",
            "|    QUESTION    |       which female actress is the voice over on south park and is employed as a singer?       |\n",
            "+----------------+-----------------------------------------------------------------------------------------------+\n",
            "|     Target     |       SELECT ?answer WHERE { wd:Q16538 wdt:P725 ?answer . ?answer wdt:P106 wd:Q177220}        |\n",
            "+----------------+-----------------------------------------------------------------------------------------------+\n",
            "| RESULT-DECODED |     select ?answer where { wd:Q16538 wdt:Q12280274 ?answer . ?answer wdt:P108 wd:Q177220}     |\n",
            "+----------------+-----------------------------------------------------------------------------------------------+\n",
            "|   RESULT-Raw   | select ?answer where { wd:south_park wdt:voice_over ?answer . ?answer wdt:employer wd:singer} |\n",
            "+----------------+-----------------------------------------------------------------------------------------------+\n"
          ]
        }
      ],
      "source": [
        "pretty_translate(\"SELECT ?answer WHERE { wd:Q16538 wdt:P725 ?answer . ?answer wdt:P106 wd:Q177220}\",\"Which female actress is the voice over on South Park and is employed as a singer?\".lower())"
      ]
    },
    {
      "cell_type": "code",
      "execution_count": 24,
      "metadata": {},
      "outputs": [
        {
          "name": "stdout",
          "output_type": "stream",
          "text": [
            "+----------------+-----------------------------------------------------------------------------------+\n",
            "|    QUESTION    |   Which female actress on South Park is the voice over and is used as a singer?   |\n",
            "+----------------+-----------------------------------------------------------------------------------+\n",
            "|     Target     | SELECT ?answer WHERE { wd:Q16538 wdt:P725 ?answer . ?answer wdt:P106 wd:Q177220}  |\n",
            "+----------------+-----------------------------------------------------------------------------------+\n",
            "| RESULT-DECODED |   select ?answer where { wd:Q16538 wdt:Q12280274 ?answer . ?answer wdt:Q177220}   |\n",
            "+----------------+-----------------------------------------------------------------------------------+\n",
            "|   RESULT-Raw   | select ?answer where { wd:south_park wdt:voice_over ?answer . ?answer wdt:singer} |\n",
            "+----------------+-----------------------------------------------------------------------------------+\n"
          ]
        }
      ],
      "source": [
        "pretty_translate(\"SELECT ?answer WHERE { wd:Q16538 wdt:P725 ?answer . ?answer wdt:P106 wd:Q177220}\",\"Which female actress on South Park is the voice over and is used as a singer?\")"
      ]
    },
    {
      "cell_type": "code",
      "execution_count": 25,
      "metadata": {},
      "outputs": [
        {
          "name": "stdout",
          "output_type": "stream",
          "text": [
            "<re.Match object; span=(25, 34), match=':paul_erd'>\n",
            "+----------------+-----------------------------------------------------------------------------------+\n",
            "|    QUESTION    |                    Which is the PIM authority ID of Paul Erd?                     |\n",
            "+----------------+-----------------------------------------------------------------------------------+\n",
            "|     Target     |           select distinct ?answer where { wd:Q173746 wdt:P3973 ?answer}           |\n",
            "+----------------+-----------------------------------------------------------------------------------+\n",
            "| RESULT-DECODED |       select ?answer where { wd:paul_erd wdt:P797 ?X . ?X wdt:P31 ?answer}        |\n",
            "+----------------+-----------------------------------------------------------------------------------+\n",
            "|   RESULT-Raw   | select ?answer where { wd:paul_erd wdt:authority ?X . ?X wdt:instance_of ?answer} |\n",
            "+----------------+-----------------------------------------------------------------------------------+\n"
          ]
        }
      ],
      "source": [
        "# Paul Erdős (Q173746)\n",
        "pretty_translate(\"select distinct ?answer where { wd:Q173746 wdt:P3973 ?answer}\",\"Which is the PIM authority ID of Paul Erd?\")"
      ]
    },
    {
      "cell_type": "code",
      "execution_count": null,
      "metadata": {},
      "outputs": [],
      "source": []
    },
    {
      "cell_type": "code",
      "execution_count": 26,
      "metadata": {},
      "outputs": [
        {
          "name": "stdout",
          "output_type": "stream",
          "text": [
            "+----------------+-------------------------------------------------------------------------------------------------------------------------+\n",
            "|    QUESTION    |                                     What was the population of Somalia in 2009-0-0?                                     |\n",
            "+----------------+-------------------------------------------------------------------------------------------------------------------------+\n",
            "|     Target     |     SELECT ?obj WHERE { wd:Q1045 p:P1082 ?s . ?s ps:P1082 ?obj . ?s pq:P585 ?x filter(contains(YEAR(?x),'2009')) }      |\n",
            "+----------------+-------------------------------------------------------------------------------------------------------------------------+\n",
            "| RESULT-DECODED |     select ?obj where { wd:Q1045 p:P1082 ?s . ?s ps:P1082 ?obj . ?s pq:P585 ?x filter(contains(YEAR(?x),'2009')) }      |\n",
            "+----------------+-------------------------------------------------------------------------------------------------------------------------+\n",
            "|   RESULT-Raw   | select ?obj where { wd:somalia p:population ?s . ?s ps:population ?obj . ?s pq:point_in_time ?x filter(contains(YEAR(?x |\n",
            "|                |                                                      ),'2009')) }                                                       |\n",
            "+----------------+-------------------------------------------------------------------------------------------------------------------------+\n"
          ]
        }
      ],
      "source": [
        "pretty_translate(\"SELECT ?obj WHERE { wd:Q1045 p:P1082 ?s . ?s ps:P1082 ?obj . ?s pq:P585 ?x filter(contains(YEAR(?x),'2009')) }\", \n",
        "            \"What was the population of Somalia in 2009-0-0?\")"
      ]
    },
    {
      "cell_type": "code",
      "execution_count": 27,
      "metadata": {},
      "outputs": [
        {
          "data": {
            "text/plain": [
              "('select distinct ?sbj where { ?sbj wdt:place_of_birth wd:new_york_city . ?sbj wdt:instance_of wd:human }',\n",
              " 'select distinct ?sbj where { ?sbj wdt:P19 wd:Q60 . ?sbj wdt:P31 wd:Q5 }')"
            ]
          },
          "execution_count": 27,
          "metadata": {},
          "output_type": "execute_result"
        }
      ],
      "source": [
        "translate('Humans born in New York City') #random query - answer seems correct"
      ]
    },
    {
      "cell_type": "code",
      "execution_count": 28,
      "metadata": {},
      "outputs": [
        {
          "name": "stdout",
          "output_type": "stream",
          "text": [
            "+----------------+-----------------------------------------------------------------------------------------------------------------------+\n",
            "|    QUESTION    |                                  Are Taiko some kind of Japanese musical instrument?                                  |\n",
            "+----------------+-----------------------------------------------------------------------------------------------------------------------+\n",
            "|     Target     | ASK WHERE { <http://dbpedia.org/resource/Taiko> a <http://dbpedia.org/class/yago/WikicatJapaneseMusicalInstruments> } |\n",
            "+----------------+-----------------------------------------------------------------------------------------------------------------------+\n",
            "| RESULT-DECODED |                                      ask where { wd:Q221769 wdt:P1303 wd:Q5287 }                                      |\n",
            "+----------------+-----------------------------------------------------------------------------------------------------------------------+\n",
            "|   RESULT-Raw   |                                   ask where { wd:taiko wdt:instrument wd:japanese }                                   |\n",
            "+----------------+-----------------------------------------------------------------------------------------------------------------------+\n"
          ]
        }
      ],
      "source": [
        "# From QALD\n",
        "target = \"ASK WHERE { <http://dbpedia.org/resource/Taiko> a <http://dbpedia.org/class/yago/WikicatJapaneseMusicalInstruments> }\"\n",
        "q =  \"Are Taiko some kind of Japanese musical instrument?\"\n",
        "pretty_translate(target, q)"
      ]
    },
    {
      "cell_type": "code",
      "execution_count": 29,
      "metadata": {},
      "outputs": [
        {
          "name": "stdout",
          "output_type": "stream",
          "text": [
            "<re.Match object; span=(37, 46), match=':death_of'>\n",
            "+----------------+-------------------------------------------------------------------------------------------------------------------------+\n",
            "|    QUESTION    |                                                   Who killed Caesar?                                                    |\n",
            "+----------------+-------------------------------------------------------------------------------------------------------------------------+\n",
            "|     Target     | PREFIX dct: <http://purl.org/dc/terms/> PREFIX dbc: <http://dbpedia.org/resource/Category:> SELECT DISTINCT ?uri WHERE  |\n",
            "|                |                                   { ?uri dct:subject dbc:Assassins_of_Julius_Caesar }                                   |\n",
            "+----------------+-------------------------------------------------------------------------------------------------------------------------+\n",
            "| RESULT-DECODED |                     select distinct ?sbj where { ?sbj wdt:death_of wd:Q29288 . ?sbj wdt:P31 wd:Q5 }                     |\n",
            "+----------------+-------------------------------------------------------------------------------------------------------------------------+\n",
            "|   RESULT-Raw   |               select distinct ?sbj where { ?sbj wdt:death_of wd:caesar . ?sbj wdt:instance_of wd:human }                |\n",
            "+----------------+-------------------------------------------------------------------------------------------------------------------------+\n"
          ]
        }
      ],
      "source": [
        "# From QALD\n",
        "target = \"PREFIX dct: <http://purl.org/dc/terms/> PREFIX dbc: <http://dbpedia.org/resource/Category:> SELECT DISTINCT ?uri WHERE { ?uri dct:subject dbc:Assassins_of_Julius_Caesar }\"\n",
        "q =  \"Who killed Caesar?\"\n",
        "pretty_translate(target, q)"
      ]
    },
    {
      "cell_type": "code",
      "execution_count": 30,
      "metadata": {},
      "outputs": [
        {
          "name": "stdout",
          "output_type": "stream",
          "text": [
            "+----------------+-------------------------------------------------------------------------------------------------------------------------+\n",
            "|    QUESTION    |                                        What is the highest mountain in Germany?                                         |\n",
            "+----------------+-------------------------------------------------------------------------------------------------------------------------+\n",
            "|     Target     | PREFIX rdfs: <http://www.w3.org/2000/01/rdf-schema#> PREFIX rdf: <http://www.w3.org/1999/02/22-rdf-syntax-ns#> PREFIX o |\n",
            "|                |                                          nto: <http://dbpedia.org/ontology/>                                            |\n",
            "|                | SELECT ?uri WHERE { ?uri rdf:type onto:Mountain ; onto:elevation ?elevation ; onto:locatedInArea <http://dbpedia.org/re |\n",
            "|                |                                   source/Germany> } ORDER BY DESC(?elevation) LIMIT 1                                   |\n",
            "+----------------+-------------------------------------------------------------------------------------------------------------------------+\n",
            "| RESULT-DECODED |                      select distinct ?sbj where { ?sbj wdt:P131 wd:Q183 . ?sbj wdt:P31 wd:Q8502 }                       |\n",
            "+----------------+-------------------------------------------------------------------------------------------------------------------------+\n",
            "|   RESULT-Raw   | select distinct ?sbj where { ?sbj wdt:located_in_the_administrative_territorial_entity wd:germany . ?sbj wdt:instance_o |\n",
            "|                |                                                     f wd:mountain }                                                     |\n",
            "+----------------+-------------------------------------------------------------------------------------------------------------------------+\n"
          ]
        }
      ],
      "source": [
        "# From QALD\n",
        "q = 'What is the highest mountain in Germany?'\n",
        "target = \"PREFIX rdfs: <http://www.w3.org/2000/01/rdf-schema#> PREFIX rdf: <http://www.w3.org/1999/02/22-rdf-syntax-ns#> PREFIX onto: <http://dbpedia.org/ontology/>  \\nSELECT ?uri WHERE { ?uri rdf:type onto:Mountain ; onto:elevation ?elevation ; onto:locatedInArea <http://dbpedia.org/resource/Germany> } ORDER BY DESC(?elevation) LIMIT 1\"\n",
        "pretty_translate(target, q)"
      ]
    },
    {
      "cell_type": "code",
      "execution_count": 31,
      "metadata": {},
      "outputs": [
        {
          "name": "stdout",
          "output_type": "stream",
          "text": [
            "<re.Match object; span=(90, 110), match=':american_presidency'>\n",
            "+----------------+-------------------------------------------------------------------------------------------------------------------------+\n",
            "|    QUESTION    |                            Which American presidents were in office during the Vietnam War?                             |\n",
            "+----------------+-------------------------------------------------------------------------------------------------------------------------+\n",
            "|     Target     | PREFIX dbo: <http://dbpedia.org/ontology/> PREFIX res: <http://dbpedia.org/resource/> PREFIX dct: <http://purl.org/dc/t |\n",
            "|                | erms/> PREFIX dbc: <http://dbpedia.org/resource/Category:> SELECT ?uri WHERE { ?uri dct:subject dbc:Presidents_of_the_U |\n",
            "|                |                                   nited_States . res:Vietnam_War dbo:commander ?uri }                                   |\n",
            "+----------------+-------------------------------------------------------------------------------------------------------------------------+\n",
            "| RESULT-DECODED |               select distinct ?sbj where { ?sbj wdt:P39 wd:Q8740 . ?sbj wdt:P31 wd:american_presidency }                |\n",
            "+----------------+-------------------------------------------------------------------------------------------------------------------------+\n",
            "|   RESULT-Raw   |    select distinct ?sbj where { ?sbj wdt:office_held wd:vietnam_war . ?sbj wdt:instance_of wd:american_presidency }     |\n",
            "+----------------+-------------------------------------------------------------------------------------------------------------------------+\n"
          ]
        }
      ],
      "source": [
        "# From QALD\n",
        "q = 'Which American presidents were in office during the Vietnam War?'\n",
        "target = \"PREFIX dbo: <http://dbpedia.org/ontology/> PREFIX res: <http://dbpedia.org/resource/> PREFIX dct: <http://purl.org/dc/terms/> PREFIX dbc: <http://dbpedia.org/resource/Category:> SELECT ?uri WHERE { ?uri dct:subject dbc:Presidents_of_the_United_States . res:Vietnam_War dbo:commander ?uri }\"\n",
        "pretty_translate(target, q)"
      ]
    },
    {
      "cell_type": "code",
      "execution_count": 32,
      "metadata": {},
      "outputs": [
        {
          "name": "stdout",
          "output_type": "stream",
          "text": [
            "<re.Match object; span=(42, 60), match=':gold_medal_winner'>\n",
            "+----------------+-------------------------------------------------------------------------------------------------------------------------+\n",
            "|    QUESTION    |                            How many gold medals did Michael Phelps win at the 2008 Olympics?                            |\n",
            "+----------------+-------------------------------------------------------------------------------------------------------------------------+\n",
            "|     Target     | PREFIX dbo: <http://dbpedia.org/ontology/> PREFIX dbr: <http://dbpedia.org/resource/> PREFIX rdf: <http://www.w3.org/19 |\n",
            "|                | 99/02/22-rdf-syntax-ns#> PREFIX rdfs: <http://www.w3.org/2000/01/rdf-schema#> SELECT Count(?sub) as ?c WHERE { ?sub dbo |\n",
            "|                |     :goldMedalist dbr:Michael_Phelps . filter (contains (str(?sub), \"2008\") && contains (str(?sub), \"Olympics\")) }      |\n",
            "+----------------+-------------------------------------------------------------------------------------------------------------------------+\n",
            "| RESULT-DECODED |                        select (COUNT(?sub) AS ?value ) { ?sub wdt:gold_medal_winner wd:Q39562 }                         |\n",
            "+----------------+-------------------------------------------------------------------------------------------------------------------------+\n",
            "|   RESULT-Raw   |                    select (COUNT(?sub) AS ?value ) { ?sub wdt:gold_medal_winner wd:michael_phelps }                     |\n",
            "+----------------+-------------------------------------------------------------------------------------------------------------------------+\n"
          ]
        }
      ],
      "source": [
        "# From QALD\n",
        "q = 'How many gold medals did Michael Phelps win at the 2008 Olympics?'\n",
        "target = \"PREFIX dbo: <http://dbpedia.org/ontology/> PREFIX dbr: <http://dbpedia.org/resource/> PREFIX rdf: <http://www.w3.org/1999/02/22-rdf-syntax-ns#> PREFIX rdfs: <http://www.w3.org/2000/01/rdf-schema#> SELECT Count(?sub) as ?c WHERE { ?sub dbo:goldMedalist dbr:Michael_Phelps . filter (contains (str(?sub), \\\"2008\\\") && contains (str(?sub), \\\"Olympics\\\")) }\"\n",
        "pretty_translate(target, q)"
      ]
    },
    {
      "cell_type": "code",
      "execution_count": 33,
      "metadata": {},
      "outputs": [
        {
          "name": "stdout",
          "output_type": "stream",
          "text": [
            "<re.Match object; span=(31, 45), match=':franc_herbert'>\n",
            "<re.Match object; span=(91, 108), match=':professional_job'>\n",
            "+----------------+-------------------------------------------------------------------------------------------------------------------------+\n",
            "|    QUESTION    |                                        What is the profession of Frank Herbert?                                         |\n",
            "+----------------+-------------------------------------------------------------------------------------------------------------------------+\n",
            "|     Target     | PREFIX dbpedia2: <http://dbpedia.org/property/> PREFIX res: <http://dbpedia.org/resource/> SELECT DISTINCT ?string WHER |\n",
            "|                |                                   E { res:Frank_Herbert dbpedia2:occupation ?string }                                   |\n",
            "+----------------+-------------------------------------------------------------------------------------------------------------------------+\n",
            "| RESULT-DECODED |            select distinct ?obj where { wd:franc_herbert wdt:P106 ?obj . ?obj wdt:P31 wd:professional_job }             |\n",
            "+----------------+-------------------------------------------------------------------------------------------------------------------------+\n",
            "|   RESULT-Raw   |     select distinct ?obj where { wd:franc_herbert wdt:occupation ?obj . ?obj wdt:instance_of wd:professional_job }      |\n",
            "+----------------+-------------------------------------------------------------------------------------------------------------------------+\n"
          ]
        }
      ],
      "source": [
        "# From QALD\n",
        "q = 'What is the profession of Frank Herbert?'\n",
        "target = \"PREFIX dbpedia2: <http://dbpedia.org/property/> PREFIX res: <http://dbpedia.org/resource/> SELECT DISTINCT ?string WHERE { res:Frank_Herbert dbpedia2:occupation ?string }\"\n",
        "pretty_translate(target, q)"
      ]
    },
    {
      "cell_type": "code",
      "execution_count": 34,
      "metadata": {},
      "outputs": [
        {
          "name": "stdout",
          "output_type": "stream",
          "text": [
            "<re.Match object; span=(42, 55), match=':home_stadium'>\n",
            "<re.Match object; span=(58, 67), match=':fc_porto'>\n",
            "+----------------+-------------------------------------------------------------------------------------------------------------------------+\n",
            "|    QUESTION    |                                 How many seats does the home stadium of FC Porto have?                                  |\n",
            "+----------------+-------------------------------------------------------------------------------------------------------------------------+\n",
            "|     Target     | PREFIX dbo: <http://dbpedia.org/ontology/> PREFIX dbp: <http://dbpedia.org/property/> PREFIX dbr: <http://dbpedia.org/r |\n",
            "|                | esource/> PREFIX rdf: <http://www.w3.org/1999/02/22-rdf-syntax-ns#> PREFIX rdfs: <http://www.w3.org/2000/01/rdf-schema# |\n",
            "|                | > PREFIX db: <http://dbpedia.org/> SELECT ?capacity WHERE { { dbr:FC_Porto dbo:ground ?ground . ?ground dbo:capacity ?c |\n",
            "|                |                 apacity } UNION { dbr:FC_Porto dbo:ground ?ground . ?ground dbp:capacity ?capacity } }                  |\n",
            "+----------------+-------------------------------------------------------------------------------------------------------------------------+\n",
            "| RESULT-DECODED |                          select (COUNT(?sub) AS ?value ) { ?sub wdt:home_stadium wd:fc_porto }                          |\n",
            "+----------------+-------------------------------------------------------------------------------------------------------------------------+\n",
            "|   RESULT-Raw   |                          select (COUNT(?sub) AS ?value ) { ?sub wdt:home_stadium wd:fc_porto }                          |\n",
            "+----------------+-------------------------------------------------------------------------------------------------------------------------+\n"
          ]
        }
      ],
      "source": [
        "# From QALD\n",
        "q = 'How many seats does the home stadium of FC Porto have?'\n",
        "target = \"PREFIX dbo: <http://dbpedia.org/ontology/> PREFIX dbp: <http://dbpedia.org/property/> PREFIX dbr: <http://dbpedia.org/resource/> PREFIX rdf: <http://www.w3.org/1999/02/22-rdf-syntax-ns#> PREFIX rdfs: <http://www.w3.org/2000/01/rdf-schema#> PREFIX db: <http://dbpedia.org/> SELECT ?capacity WHERE { { dbr:FC_Porto dbo:ground ?ground . ?ground dbo:capacity ?capacity } UNION { dbr:FC_Porto dbo:ground ?ground . ?ground dbp:capacity ?capacity } }\"\n",
        "pretty_translate(target, q)"
      ]
    },
    {
      "cell_type": "code",
      "execution_count": 35,
      "metadata": {},
      "outputs": [
        {
          "name": "stdout",
          "output_type": "stream",
          "text": [
            "<re.Match object; span=(77, 89), match=':flight_time'>\n",
            "+----------------+-------------------------------------------------------------------------------------------------------------------------+\n",
            "|    QUESTION    |                                   Which frequent flyer program has the most airlines?                                   |\n",
            "+----------------+-------------------------------------------------------------------------------------------------------------------------+\n",
            "|     Target     | SELECT ?uri WHERE { ?airline <http://www.w3.org/1999/02/22-rdf-syntax-ns#type> <http://dbpedia.org/ontology/Airline> .  |\n",
            "|                | ?airline <http://dbpedia.org/property/frequentFlyer> ?uri. } GROUP BY ?uri ORDER BY DESC(COUNT(DISTINCT ?airline)) OFFS |\n",
            "|                |                                                      ET 0 LIMIT 1                                                       |\n",
            "+----------------+-------------------------------------------------------------------------------------------------------------------------+\n",
            "| RESULT-DECODED |          select ?ent where { ?ent wdt:P31 wd:Q5502885 . ?ent wdt:flight_time ?obj } ORDER BY DESC(?obj)LIMIT 5          |\n",
            "+----------------+-------------------------------------------------------------------------------------------------------------------------+\n",
            "|   RESULT-Raw   | select ?ent where { ?ent wdt:instance_of wd:frequent_flyer_program . ?ent wdt:flight_time ?obj } ORDER BY DESC(?obj)LIM |\n",
            "|                |                                                          IT 5                                                           |\n",
            "+----------------+-------------------------------------------------------------------------------------------------------------------------+\n"
          ]
        }
      ],
      "source": [
        "# From QALD\n",
        "q = 'Which frequent flyer program has the most airlines?'\n",
        "target = \"SELECT ?uri WHERE { ?airline <http://www.w3.org/1999/02/22-rdf-syntax-ns#type> <http://dbpedia.org/ontology/Airline> . ?airline <http://dbpedia.org/property/frequentFlyer> ?uri. } GROUP BY ?uri ORDER BY DESC(COUNT(DISTINCT ?airline)) OFFSET 0 LIMIT 1\"\n",
        "pretty_translate(target, q)"
      ]
    },
    {
      "cell_type": "code",
      "execution_count": 36,
      "metadata": {},
      "outputs": [
        {
          "name": "stdout",
          "output_type": "stream",
          "text": [
            "+----------------+-------------------------------------------------------------------------------------------------------------------------+\n",
            "|    QUESTION    |                                Which European countries have a constitutional monarchy?                                 |\n",
            "+----------------+-------------------------------------------------------------------------------------------------------------------------+\n",
            "|     Target     | PREFIX dbo: <http://dbpedia.org/ontology/> PREFIX dct: <http://purl.org/dc/terms/> PREFIX dbc: <http://dbpedia.org/reso |\n",
            "|                | urce/Category:> PREFIX dbr: <http://dbpedia.org/resource/> SELECT ?uri WHERE { ?uri dct:subject dbc:Countries_in_Europe |\n",
            "|                |                                    ; dbo:governmentType dbr:Constitutional_monarchy }                                   |\n",
            "+----------------+-------------------------------------------------------------------------------------------------------------------------+\n",
            "| RESULT-DECODED |                      select distinct ?sbj where { ?sbj wdt:Q41614 wd:Q46 . ?sbj wdt:P31 wd:Q6256 }                      |\n",
            "+----------------+-------------------------------------------------------------------------------------------------------------------------+\n",
            "|   RESULT-Raw   |       select distinct ?sbj where { ?sbj wdt:constitutional_monarchy wd:europe . ?sbj wdt:instance_of wd:country }       |\n",
            "+----------------+-------------------------------------------------------------------------------------------------------------------------+\n"
          ]
        }
      ],
      "source": [
        "# From QALD\n",
        "q = 'Which European countries have a constitutional monarchy?'\n",
        "target = \"PREFIX dbo: <http://dbpedia.org/ontology/> PREFIX dct: <http://purl.org/dc/terms/> PREFIX dbc: <http://dbpedia.org/resource/Category:> PREFIX dbr: <http://dbpedia.org/resource/> SELECT ?uri WHERE { ?uri dct:subject dbc:Countries_in_Europe ; dbo:governmentType dbr:Constitutional_monarchy }\"\n",
        "pretty_translate(target, q)"
      ]
    },
    {
      "cell_type": "code",
      "execution_count": 37,
      "metadata": {},
      "outputs": [
        {
          "name": "stdout",
          "output_type": "stream",
          "text": [
            "+----------------+-------------------------------------------------------------------------------------------------------------------------+\n",
            "|    QUESTION    |                                  Which countries have places with more than two caves?                                  |\n",
            "+----------------+-------------------------------------------------------------------------------------------------------------------------+\n",
            "|     Target     | PREFIX dbo: <http://dbpedia.org/ontology/> PREFIX rdf: <http://www.w3.org/1999/02/22-rdf-syntax-ns#> SELECT DISTINCT ?u |\n",
            "|                | ri WHERE { ?cave rdf:type dbo:Cave ; dbo:location ?uri . ?uri rdf:type dbo:Country } GROUP BY ?uri HAVING ( COUNT(?cave |\n",
            "|                |                                                         ) > 2 )                                                         |\n",
            "+----------------+-------------------------------------------------------------------------------------------------------------------------+\n",
            "| RESULT-DECODED |                     select distinct ?obj where { wd:Q200886 wdt:P131 ?obj . ?obj wdt:P31 wd:Q6256 }                     |\n",
            "+----------------+-------------------------------------------------------------------------------------------------------------------------+\n",
            "|   RESULT-Raw   | select distinct ?obj where { wd:caves wdt:located_in_the_administrative_territorial_entity ?obj . ?obj wdt:instance_of  |\n",
            "|                |                                                      wd:country }                                                       |\n",
            "+----------------+-------------------------------------------------------------------------------------------------------------------------+\n"
          ]
        }
      ],
      "source": [
        "# From QALD\n",
        "q = 'Which countries have places with more than two caves?'\n",
        "target = \"PREFIX dbo: <http://dbpedia.org/ontology/> PREFIX rdf: <http://www.w3.org/1999/02/22-rdf-syntax-ns#> SELECT DISTINCT ?uri WHERE { ?cave rdf:type dbo:Cave ; dbo:location ?uri . ?uri rdf:type dbo:Country } GROUP BY ?uri HAVING ( COUNT(?cave) > 2 )\"\n",
        "pretty_translate(target, q)"
      ]
    },
    {
      "cell_type": "code",
      "execution_count": 38,
      "metadata": {},
      "outputs": [
        {
          "name": "stdout",
          "output_type": "stream",
          "text": [
            "<re.Match object; span=(89, 101), match=':california_'>\n",
            "+----------------+-------------------------------------------------------------------------------------------------------------------------+\n",
            "|    QUESTION    |                                     Which airports are located in California, USA?                                      |\n",
            "+----------------+-------------------------------------------------------------------------------------------------------------------------+\n",
            "|     Target     | SELECT DISTINCT ?uri WHERE { ?uri a <http://dbpedia.org/ontology/Airport> { ?uri <http://dbpedia.org/ontology/location> |\n",
            "|                |  <http://dbpedia.org/resource/California> } UNION { ?uri <http://dbpedia.org/ontology/city> <http://dbpedia.org/resourc |\n",
            "|                | e/California> } UNION { ?uri <http://dbpedia.org/ontology/city> ?city . ?city <http://dbpedia.org/ontology/isPartOf> <h |\n",
            "|                | ttp://dbpedia.org/resource/California> } UNION { ?uri <http://dbpedia.org/ontology/operator> <http://dbpedia.org/resour |\n",
            "|                |                                                   ce/California> } }                                                    |\n",
            "+----------------+-------------------------------------------------------------------------------------------------------------------------+\n",
            "| RESULT-DECODED |               select distinct ?sbj where { ?sbj wdt:P131 wd:california_,_usa . ?sbj wdt:P31 wd:Q409022 }                |\n",
            "+----------------+-------------------------------------------------------------------------------------------------------------------------+\n",
            "|   RESULT-Raw   | select distinct ?sbj where { ?sbj wdt:located_in_the_administrative_territorial_entity wd:california_,_usa . ?sbj wdt:i |\n",
            "|                |                                                 nstance_of wd:airport }                                                 |\n",
            "+----------------+-------------------------------------------------------------------------------------------------------------------------+\n"
          ]
        }
      ],
      "source": [
        "# From QALD\n",
        "q = 'Which airports are located in California, USA?'\n",
        "target = \"SELECT DISTINCT ?uri WHERE { ?uri a <http://dbpedia.org/ontology/Airport> { ?uri <http://dbpedia.org/ontology/location> <http://dbpedia.org/resource/California> } UNION { ?uri <http://dbpedia.org/ontology/city> <http://dbpedia.org/resource/California> } UNION { ?uri <http://dbpedia.org/ontology/city> ?city . ?city <http://dbpedia.org/ontology/isPartOf> <http://dbpedia.org/resource/California> } UNION { ?uri <http://dbpedia.org/ontology/operator> <http://dbpedia.org/resource/California> } }\"\n",
        "pretty_translate(target, q)"
      ]
    },
    {
      "cell_type": "code",
      "execution_count": 42,
      "metadata": {},
      "outputs": [
        {
          "name": "stdout",
          "output_type": "stream",
          "text": [
            "+----------------+-----------------------------------------------------------------------------------------------------+\n",
            "|    QUESTION    |                              What are the nicknames of San Francisco?                               |\n",
            "+----------------+-----------------------------------------------------------------------------------------------------+\n",
            "|     Target     |                SELECT DISTINCT ?string WHERE { res:San_Francisco foaf:nick ?string }                |\n",
            "+----------------+-----------------------------------------------------------------------------------------------------+\n",
            "| RESULT-DECODED |            select distinct ?sbj where { ?sbj wdt:P138 wd:Q62 . ?sbj wdt:P31 wd:Q82799 }             |\n",
            "+----------------+-----------------------------------------------------------------------------------------------------+\n",
            "|   RESULT-Raw   | select distinct ?sbj where { ?sbj wdt:named_after wd:san_francisco . ?sbj wdt:instance_of wd:name } |\n",
            "+----------------+-----------------------------------------------------------------------------------------------------+\n"
          ]
        }
      ],
      "source": [
        "# From QALD\n",
        "q = \"What are the nicknames of San Francisco?\"\n",
        "target = \"SELECT DISTINCT ?string WHERE { res:San_Francisco foaf:nick ?string }\"\n",
        "pretty_translate(target, q)"
      ]
    },
    {
      "cell_type": "code",
      "execution_count": 43,
      "metadata": {},
      "outputs": [
        {
          "name": "stdout",
          "output_type": "stream",
          "text": [
            "+----------------+------------------------------------------------------------------------------------------------+\n",
            "|    QUESTION    |                              What is Angela Merkel’s birth name?                               |\n",
            "+----------------+------------------------------------------------------------------------------------------------+\n",
            "|     Target     |           SELECT DISTINCT ?string WHERE { res:Angela_Merkel dbp:birthName ?string }            |\n",
            "+----------------+------------------------------------------------------------------------------------------------+\n",
            "| RESULT-DECODED |                select ?answer where { wd:Q567 wdt:P19 ?X . ?X wdt:P19 ?answer}                 |\n",
            "+----------------+------------------------------------------------------------------------------------------------+\n",
            "|   RESULT-Raw   | select ?answer where { wd:angela_merkel wdt:place_of_birth ?X . ?X wdt:place_of_birth ?answer} |\n",
            "+----------------+------------------------------------------------------------------------------------------------+\n"
          ]
        }
      ],
      "source": [
        "# From QALD\n",
        "q = \"What is Angela Merkel’s birth name?\"\n",
        "target = \"SELECT DISTINCT ?string WHERE { res:Angela_Merkel dbp:birthName ?string }\"\n",
        "pretty_translate(target, q)"
      ]
    },
    {
      "cell_type": "code",
      "execution_count": 44,
      "metadata": {},
      "outputs": [
        {
          "name": "stdout",
          "output_type": "stream",
          "text": [
            "+----------------+------------------------------------------------------------------------------------------------------+\n",
            "|    QUESTION    |                                     Who is the mayor of Berlin?                                      |\n",
            "+----------------+------------------------------------------------------------------------------------------------------+\n",
            "|     Target     |                      SELECT DISTINCT ?uri WHERE { res:Berlin dbp:leader ?uri }                       |\n",
            "+----------------+------------------------------------------------------------------------------------------------------+\n",
            "| RESULT-DECODED |                select distinct ?sbj where { ?sbj wdt:P6 wd:Q64 . ?sbj wdt:P31 wd:Q5 }                |\n",
            "+----------------+------------------------------------------------------------------------------------------------------+\n",
            "|   RESULT-Raw   | select distinct ?sbj where { ?sbj wdt:head_of_government wd:berlin . ?sbj wdt:instance_of wd:human } |\n",
            "+----------------+------------------------------------------------------------------------------------------------------+\n"
          ]
        }
      ],
      "source": [
        "# From QALD\n",
        "q = \"Who is the mayor of Berlin?\"\n",
        "target = \"SELECT DISTINCT ?uri WHERE { res:Berlin dbp:leader ?uri }\"\n",
        "pretty_translate(target, q)"
      ]
    },
    {
      "cell_type": "code",
      "execution_count": 45,
      "metadata": {},
      "outputs": [
        {
          "name": "stdout",
          "output_type": "stream",
          "text": [
            "+----------------+-------------------------------------------------------------------------------------------------------------------------+\n",
            "|    QUESTION    |                               Which software has been published by Mean Hamster Software?                               |\n",
            "+----------------+-------------------------------------------------------------------------------------------------------------------------+\n",
            "|     Target     | SELECT DISTINCT ?uri WHERE { ?uri rdf:type onto:Software { ?uri prop:publisher \"Mean Hamster Software\"@en } UNION { ?ur |\n",
            "|                |                                     i onto:publisher res:Mean_Hamster_Software } }                                      |\n",
            "+----------------+-------------------------------------------------------------------------------------------------------------------------+\n",
            "| RESULT-DECODED |                    select distinct ?sbj where { ?sbj wdt:P123 wd:Q15070395 . ?sbj wdt:P31 wd:Q7397 }                    |\n",
            "+----------------+-------------------------------------------------------------------------------------------------------------------------+\n",
            "|   RESULT-Raw   |    select distinct ?sbj where { ?sbj wdt:published_by wd:mean_hamster_software . ?sbj wdt:instance_of wd:software }     |\n",
            "+----------------+-------------------------------------------------------------------------------------------------------------------------+\n"
          ]
        }
      ],
      "source": [
        "# From QALD\n",
        "q = \"Which software has been published by Mean Hamster Software?\"\n",
        "target = \"SELECT DISTINCT ?uri WHERE { ?uri rdf:type onto:Software { ?uri prop:publisher \\\"Mean Hamster Software\\\"@en } UNION { ?uri onto:publisher res:Mean_Hamster_Software } }\"\n",
        "pretty_translate(target, q)"
      ]
    },
    {
      "cell_type": "code",
      "execution_count": 46,
      "metadata": {},
      "outputs": [
        {
          "name": "stdout",
          "output_type": "stream",
          "text": [
            "+----------------+-------------------------------------------------------------------------------------------------------------------------+\n",
            "|    QUESTION    |                                          Which country was Bill Gates born in?                                          |\n",
            "+----------------+-------------------------------------------------------------------------------------------------------------------------+\n",
            "|     Target     | SELECT DISTINCT ?country WHERE { { dbr:Bill_Gates dbo:birthPlace ?birthPlace . ?birthPlace dbo:country ?country } UNION |\n",
            "|                |     { dbr:Bill_Gates dbo:birthPlace ?birthPlace . ?birthPlace dbo:isPartOf ?place . ?place dbo:country ?country } }     |\n",
            "+----------------+-------------------------------------------------------------------------------------------------------------------------+\n",
            "| RESULT-DECODED |                      select distinct ?sbj where { ?sbj wdt:P19 wd:Q5284 . ?sbj wdt:P31 wd:Q6256 }                       |\n",
            "+----------------+-------------------------------------------------------------------------------------------------------------------------+\n",
            "|   RESULT-Raw   |         select distinct ?sbj where { ?sbj wdt:place_of_birth wd:bill_gates . ?sbj wdt:instance_of wd:country }          |\n",
            "+----------------+-------------------------------------------------------------------------------------------------------------------------+\n"
          ]
        }
      ],
      "source": [
        "# From QALD\n",
        "q = \"Which country was Bill Gates born in?\"\n",
        "target = \"SELECT DISTINCT ?country WHERE { { dbr:Bill_Gates dbo:birthPlace ?birthPlace . ?birthPlace dbo:country ?country } UNION { dbr:Bill_Gates dbo:birthPlace ?birthPlace . ?birthPlace dbo:isPartOf ?place . ?place dbo:country ?country } }\"\n",
        "pretty_translate(target, q)"
      ]
    },
    {
      "cell_type": "code",
      "execution_count": 47,
      "metadata": {},
      "outputs": [
        {
          "name": "stdout",
          "output_type": "stream",
          "text": [
            "+----------------+-------------------------------------------------------------------------------------------------------------------------+\n",
            "|    QUESTION    |                                   How many grand-children did Jacques Cousteau have?                                    |\n",
            "+----------------+-------------------------------------------------------------------------------------------------------------------------+\n",
            "|     Target     | SELECT COUNT(DISTINCT ?y AS ?y) WHERE { <http://dbpedia.org/resource/Jacques_Cousteau> <http://dbpedia.org/ontology/chi |\n",
            "|                |                                 ld> ?x . ?x <http://dbpedia.org/ontology/child> ?y . }                                  |\n",
            "+----------------+-------------------------------------------------------------------------------------------------------------------------+\n",
            "| RESULT-DECODED |                          select (COUNT(?sub) AS ?value ) { ?sub wdt:Q247153-child wd:Q83233 }                           |\n",
            "+----------------+-------------------------------------------------------------------------------------------------------------------------+\n",
            "|   RESULT-Raw   |                      select (COUNT(?sub) AS ?value ) { ?sub wdt:grand-child wd:jacques_cousteau }                       |\n",
            "+----------------+-------------------------------------------------------------------------------------------------------------------------+\n"
          ]
        }
      ],
      "source": [
        "# From QALD\n",
        "q = \"How many grand-children did Jacques Cousteau have?\"\n",
        "target = \"SELECT COUNT(DISTINCT ?y AS ?y) WHERE { <http://dbpedia.org/resource/Jacques_Cousteau> <http://dbpedia.org/ontology/child> ?x . ?x <http://dbpedia.org/ontology/child> ?y . }\"\n",
        "pretty_translate(target, q)"
      ]
    },
    {
      "cell_type": "code",
      "execution_count": 48,
      "metadata": {},
      "outputs": [
        {
          "name": "stdout",
          "output_type": "stream",
          "text": [
            "<re.Match object; span=(36, 62), match=':professional_skateboarder'>\n",
            "+----------------+-------------------------------------------------------------------------------------------------------------------------+\n",
            "|    QUESTION    |                                   Give me all professional skateboarders from Sweden.                                   |\n",
            "+----------------+-------------------------------------------------------------------------------------------------------------------------+\n",
            "|     Target     | SELECT DISTINCT ?uri WHERE { ?uri dbo:occupation dbr:Skateboarder { ?uri dbo:birthPlace dbr:Sweden } UNION { ?uri dbo:b |\n",
            "|                |                                  irthPlace ?place . ?place dbo:country dbr:Sweden } }                                   |\n",
            "+----------------+-------------------------------------------------------------------------------------------------------------------------+\n",
            "| RESULT-DECODED |                  select ?answer where { wd:Q34 wdt:professional_skateboarder ?X . ?X wdt:P17 ?answer}                   |\n",
            "+----------------+-------------------------------------------------------------------------------------------------------------------------+\n",
            "|   RESULT-Raw   |               select ?answer where { wd:sweden wdt:professional_skateboarder ?X . ?X wdt:country ?answer}               |\n",
            "+----------------+-------------------------------------------------------------------------------------------------------------------------+\n"
          ]
        }
      ],
      "source": [
        "# From QALD\n",
        "q = \"Give me all professional skateboarders from Sweden.\"\n",
        "target = \"SELECT DISTINCT ?uri WHERE { ?uri dbo:occupation dbr:Skateboarder { ?uri dbo:birthPlace dbr:Sweden } UNION { ?uri dbo:birthPlace ?place . ?place dbo:country dbr:Sweden } }\"\n",
        "pretty_translate(target, q)"
      ]
    },
    {
      "cell_type": "code",
      "execution_count": 49,
      "metadata": {},
      "outputs": [
        {
          "name": "stdout",
          "output_type": "stream",
          "text": [
            "<re.Match object; span=(80, 111), match=':monarchs_of_the_united_kingdom'>\n",
            "+----------------+-------------------------------------------------------------------------------------------------------------------------+\n",
            "|    QUESTION    |                             Which monarchs of the United Kingdom were married to a German?                              |\n",
            "+----------------+-------------------------------------------------------------------------------------------------------------------------+\n",
            "|     Target     | SELECT DISTINCT ?uri WHERE { ?uri rdf:type yago:WikicatMonarchsOfTheUnitedKingdom ; dbo:spouse ?spouse . ?spouse dbo:bi |\n",
            "|                |                                                 rthPlace res:Germany }                                                  |\n",
            "+----------------+-------------------------------------------------------------------------------------------------------------------------+\n",
            "| RESULT-DECODED |          select distinct ?sbj where { ?sbj wdt:P26 wd:Q188 . ?sbj wdt:P31 wd:monarchs_of_the_united_kingdom }           |\n",
            "+----------------+-------------------------------------------------------------------------------------------------------------------------+\n",
            "|   RESULT-Raw   |    select distinct ?sbj where { ?sbj wdt:spouse wd:german . ?sbj wdt:instance_of wd:monarchs_of_the_united_kingdom }    |\n",
            "+----------------+-------------------------------------------------------------------------------------------------------------------------+\n"
          ]
        }
      ],
      "source": [
        "# From QALD\n",
        "q = \"Which monarchs of the United Kingdom were married to a German?\"\n",
        "target = \"SELECT DISTINCT ?uri WHERE { ?uri rdf:type yago:WikicatMonarchsOfTheUnitedKingdom ; dbo:spouse ?spouse . ?spouse dbo:birthPlace res:Germany }\"\n",
        "pretty_translate(target, q)"
      ]
    },
    {
      "cell_type": "code",
      "execution_count": 50,
      "metadata": {},
      "outputs": [
        {
          "name": "stdout",
          "output_type": "stream",
          "text": [
            "+----------------+-------------------------------------------------------------------------------------------------------------------------+\n",
            "|    QUESTION    |                                              Give me all Argentine films.                                               |\n",
            "+----------------+-------------------------------------------------------------------------------------------------------------------------+\n",
            "|     Target     | SELECT DISTINCT ?uri WHERE { { ?uri rdf:type yago:ArgentineFilms } UNION { ?uri rdf:type dbo:Film { ?uri dbo:country re |\n",
            "|                |                               s:Argentina } UNION { ?uri dbp:country \"Argentina\"@en } } }                               |\n",
            "+----------------+-------------------------------------------------------------------------------------------------------------------------+\n",
            "| RESULT-DECODED |                          select ?answer where { wd:Q414 wdt:Q5449034 ?X . ?X wdt:P17 ?answer}                           |\n",
            "+----------------+-------------------------------------------------------------------------------------------------------------------------+\n",
            "|   RESULT-Raw   |                    select ?answer where { wd:argentina wdt:film_release ?X . ?X wdt:country ?answer}                    |\n",
            "+----------------+-------------------------------------------------------------------------------------------------------------------------+\n"
          ]
        }
      ],
      "source": [
        "# From QALD\n",
        "q = \"Give me all Argentine films.\"\n",
        "target = \"SELECT DISTINCT ?uri WHERE { { ?uri rdf:type yago:ArgentineFilms } UNION { ?uri rdf:type dbo:Film { ?uri dbo:country res:Argentina } UNION { ?uri dbp:country \\\"Argentina\\\"@en } } }\"\n",
        "pretty_translate(target, q)"
      ]
    },
    {
      "cell_type": "code",
      "execution_count": 51,
      "metadata": {},
      "outputs": [
        {
          "name": "stdout",
          "output_type": "stream",
          "text": [
            "+----------------+------------------------------------------------------------------------------------------------------------------------+\n",
            "|    QUESTION    |                                              How did Michael Jackson die?                                              |\n",
            "+----------------+------------------------------------------------------------------------------------------------------------------------+\n",
            "|     Target     | SELECT DISTINCT ?s WHERE { <http://dbpedia.org/resource/Michael_Jackson> <http://dbpedia.org/property/deathCause> ?s } |\n",
            "+----------------+------------------------------------------------------------------------------------------------------------------------+\n",
            "| RESULT-DECODED |                            select ?answer where { wd:Q2831 wdt:P20 ?X . ?X wdt:P20 ?answer}                            |\n",
            "+----------------+------------------------------------------------------------------------------------------------------------------------+\n",
            "|   RESULT-Raw   |            select ?answer where { wd:michael_jackson wdt:place_of_death ?X . ?X wdt:place_of_death ?answer}            |\n",
            "+----------------+------------------------------------------------------------------------------------------------------------------------+\n"
          ]
        }
      ],
      "source": [
        "# From QALD\n",
        "q = \"How did Michael Jackson die?\"\n",
        "target = \"SELECT DISTINCT ?s WHERE { <http://dbpedia.org/resource/Michael_Jackson> <http://dbpedia.org/property/deathCause> ?s }\"\n",
        "pretty_translate(target, q)"
      ]
    },
    {
      "cell_type": "code",
      "execution_count": 54,
      "metadata": {},
      "outputs": [
        {
          "name": "stdout",
          "output_type": "stream",
          "text": [
            "+----------------+--------------------------------------------------------------------------------------------------+\n",
            "|    QUESTION    |                                 Where did Michael Jackson died?                                  |\n",
            "+----------------+--------------------------------------------------------------------------------------------------+\n",
            "|     Target     |                                                .                                                 |\n",
            "+----------------+--------------------------------------------------------------------------------------------------+\n",
            "| RESULT-DECODED |                 select ?answer where { wd:Q2831 wdt:P20 ?X . ?X wdt:P20 ?answer}                 |\n",
            "+----------------+--------------------------------------------------------------------------------------------------+\n",
            "|   RESULT-Raw   | select ?answer where { wd:michael_jackson wdt:place_of_death ?X . ?X wdt:place_of_death ?answer} |\n",
            "+----------------+--------------------------------------------------------------------------------------------------+\n"
          ]
        }
      ],
      "source": [
        "# From QALD\n",
        "q = \"Where did Michael Jackson died?\"\n",
        "target = \".\"\n",
        "pretty_translate(target, q)"
      ]
    },
    {
      "cell_type": "code",
      "execution_count": 55,
      "metadata": {},
      "outputs": [
        {
          "name": "stdout",
          "output_type": "stream",
          "text": [
            "<re.Match object; span=(37, 58), match=':classes_of_millepede'>\n",
            "<re.Match object; span=(84, 103), match=':classes_of_science'>\n",
            "+----------------+-----------------------------------------------------------------------------------------------------------+\n",
            "|    QUESTION    |                                Which classes does the Millepede belong to?                                |\n",
            "+----------------+-----------------------------------------------------------------------------------------------------------+\n",
            "|     Target     |                     SELECT DISTINCT ?String WHERE { res:Millipede dbp:taxon ?String }                     |\n",
            "+----------------+-----------------------------------------------------------------------------------------------------------+\n",
            "| RESULT-DECODED |     select distinct ?sbj where { ?sbj wdt:classes_of_millepede . ?sbj wdt:P31 wd:classes_of_science }     |\n",
            "+----------------+-----------------------------------------------------------------------------------------------------------+\n",
            "|   RESULT-Raw   | select distinct ?sbj where { ?sbj wdt:classes_of_millepede . ?sbj wdt:instance_of wd:classes_of_science } |\n",
            "+----------------+-----------------------------------------------------------------------------------------------------------+\n"
          ]
        }
      ],
      "source": [
        "# From QALD\n",
        "q = \"Which classes does the Millepede belong to?\"\n",
        "target = \"SELECT DISTINCT ?String WHERE { res:Millipede dbp:taxon ?String }\"\n",
        "pretty_translate(target, q)"
      ]
    },
    {
      "cell_type": "code",
      "execution_count": null,
      "metadata": {},
      "outputs": [],
      "source": [
        "# From QALD\n",
        "q = \"Which classes does the Millepede belong to?\"\n",
        "target = \"SELECT DISTINCT ?String WHERE { res:Millipede dbp:taxon ?String }\"\n",
        "pretty_translate(target, q)"
      ]
    }
  ],
  "metadata": {
    "colab": {
      "name": "seq2seq-t5-use.ipynb",
      "provenance": []
    },
    "interpreter": {
      "hash": "e7370f93d1d0cde622a1f8e1c04877d8463912d04d973331ad4851f04de6915a"
    },
    "kernelspec": {
      "display_name": "Python 3.8.5 64-bit",
      "name": "python3"
    },
    "language_info": {
      "codemirror_mode": {
        "name": "ipython",
        "version": 3
      },
      "file_extension": ".py",
      "mimetype": "text/x-python",
      "name": "python",
      "nbconvert_exporter": "python",
      "pygments_lexer": "ipython3",
      "version": "3.8.5"
    },
    "orig_nbformat": 4
  },
  "nbformat": 4,
  "nbformat_minor": 2
}
