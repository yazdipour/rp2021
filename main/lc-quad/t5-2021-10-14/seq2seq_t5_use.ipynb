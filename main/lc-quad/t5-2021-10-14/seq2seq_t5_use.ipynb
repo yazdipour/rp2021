{
  "cells": [
    {
      "cell_type": "code",
      "execution_count": 1,
      "metadata": {
        "id": "dKV8MCK1Y12g"
      },
      "outputs": [],
      "source": [
        "!pip install datasets transformers pandasql dask -qqq"
      ]
    },
    {
      "cell_type": "code",
      "execution_count": 2,
      "metadata": {
        "id": "-oei2ojLYoHV"
      },
      "outputs": [],
      "source": [
        "from transformers import T5TokenizerFast\n",
        "model_checkpoint = \"t5-small\"\n",
        "model_date = '2021-07-09`'\n",
        "prefix = \"translate english to sparql: \"\n",
        "model_path=f'../../../data/models/sparql-translator-t5-2021-07-09'\n",
        "tokenizer = T5TokenizerFast.from_pretrained(model_checkpoint, src_lang=\"en\", tgt_lang=\"sparql\")"
      ]
    },
    {
      "cell_type": "code",
      "execution_count": 3,
      "metadata": {
        "id": "qqNrJWWEYoHa"
      },
      "outputs": [],
      "source": [
        "from transformers import pipeline, AutoModelForSeq2SeqLM\n",
        "model = AutoModelForSeq2SeqLM.from_pretrained('../../../data/models/sparql-translator-t5-2021-07-09').to(\"cuda\")"
      ]
    },
    {
      "cell_type": "code",
      "execution_count": 4,
      "metadata": {},
      "outputs": [],
      "source": [
        "translator = pipeline(\n",
        "    \"translation_xx_to_yy\",\n",
        "    model=model,\n",
        "    tokenizer=tokenizer,\n",
        "    device=0 #0 for cuda, -1 for cpu\n",
        ")"
      ]
    },
    {
      "cell_type": "code",
      "execution_count": 5,
      "metadata": {},
      "outputs": [],
      "source": [
        "import pandas as pd\n",
        "import re\n",
        "kdwd_date = '2021-10-11'\n",
        "df_q = pd.read_csv(f'../../../data/kdwd/{kdwd_date}/q.csv')\n",
        "df_p = pd.read_csv(f'../../../data/kdwd/{kdwd_date}/p.csv')"
      ]
    },
    {
      "cell_type": "code",
      "execution_count": 6,
      "metadata": {},
      "outputs": [
        {
          "name": "stdout",
          "output_type": "stream",
          "text": [
            "(15616, 7) (21837273, 9)\n"
          ]
        }
      ],
      "source": [
        "print(df_p.shape, df_q.shape)"
      ]
    },
    {
      "cell_type": "code",
      "execution_count": 7,
      "metadata": {},
      "outputs": [],
      "source": [
        "from pandasql import sqldf\n",
        "pysqldf = lambda q: sqldf(q, globals())"
      ]
    },
    {
      "cell_type": "code",
      "execution_count": 8,
      "metadata": {},
      "outputs": [
        {
          "ename": "PandaSQLException",
          "evalue": "(sqlite3.OperationalError) no such column: en_label\n[SQL: SELECT * FROM df_p WHERE en_label LIKE '%web%science%' LIMIT 1;]\n(Background on this error at: https://sqlalche.me/e/14/e3q8)",
          "output_type": "error",
          "traceback": [
            "\u001b[0;31m---------------------------------------------------------------------------\u001b[0m",
            "\u001b[0;31mOperationalError\u001b[0m                          Traceback (most recent call last)",
            "\u001b[0;32m~/.local/lib/python3.8/site-packages/sqlalchemy/engine/base.py\u001b[0m in \u001b[0;36m_execute_context\u001b[0;34m(self, dialect, constructor, statement, parameters, execution_options, *args, **kw)\u001b[0m\n\u001b[1;32m   1798\u001b[0m                 \u001b[0;32mif\u001b[0m \u001b[0;32mnot\u001b[0m \u001b[0mevt_handled\u001b[0m\u001b[0;34m:\u001b[0m\u001b[0;34m\u001b[0m\u001b[0;34m\u001b[0m\u001b[0m\n\u001b[0;32m-> 1799\u001b[0;31m                     self.dialect.do_execute(\n\u001b[0m\u001b[1;32m   1800\u001b[0m                         \u001b[0mcursor\u001b[0m\u001b[0;34m,\u001b[0m \u001b[0mstatement\u001b[0m\u001b[0;34m,\u001b[0m \u001b[0mparameters\u001b[0m\u001b[0;34m,\u001b[0m \u001b[0mcontext\u001b[0m\u001b[0;34m\u001b[0m\u001b[0;34m\u001b[0m\u001b[0m\n",
            "\u001b[0;32m~/.local/lib/python3.8/site-packages/sqlalchemy/engine/default.py\u001b[0m in \u001b[0;36mdo_execute\u001b[0;34m(self, cursor, statement, parameters, context)\u001b[0m\n\u001b[1;32m    716\u001b[0m     \u001b[0;32mdef\u001b[0m \u001b[0mdo_execute\u001b[0m\u001b[0;34m(\u001b[0m\u001b[0mself\u001b[0m\u001b[0;34m,\u001b[0m \u001b[0mcursor\u001b[0m\u001b[0;34m,\u001b[0m \u001b[0mstatement\u001b[0m\u001b[0;34m,\u001b[0m \u001b[0mparameters\u001b[0m\u001b[0;34m,\u001b[0m \u001b[0mcontext\u001b[0m\u001b[0;34m=\u001b[0m\u001b[0;32mNone\u001b[0m\u001b[0;34m)\u001b[0m\u001b[0;34m:\u001b[0m\u001b[0;34m\u001b[0m\u001b[0;34m\u001b[0m\u001b[0m\n\u001b[0;32m--> 717\u001b[0;31m         \u001b[0mcursor\u001b[0m\u001b[0;34m.\u001b[0m\u001b[0mexecute\u001b[0m\u001b[0;34m(\u001b[0m\u001b[0mstatement\u001b[0m\u001b[0;34m,\u001b[0m \u001b[0mparameters\u001b[0m\u001b[0;34m)\u001b[0m\u001b[0;34m\u001b[0m\u001b[0;34m\u001b[0m\u001b[0m\n\u001b[0m\u001b[1;32m    718\u001b[0m \u001b[0;34m\u001b[0m\u001b[0m\n",
            "\u001b[0;31mOperationalError\u001b[0m: no such column: en_label",
            "\nThe above exception was the direct cause of the following exception:\n",
            "\u001b[0;31mOperationalError\u001b[0m                          Traceback (most recent call last)",
            "\u001b[0;32m~/.local/lib/python3.8/site-packages/pandasql/sqldf.py\u001b[0m in \u001b[0;36m__call__\u001b[0;34m(self, query, env)\u001b[0m\n\u001b[1;32m     60\u001b[0m             \u001b[0;32mtry\u001b[0m\u001b[0;34m:\u001b[0m\u001b[0;34m\u001b[0m\u001b[0;34m\u001b[0m\u001b[0m\n\u001b[0;32m---> 61\u001b[0;31m                 \u001b[0mresult\u001b[0m \u001b[0;34m=\u001b[0m \u001b[0mread_sql\u001b[0m\u001b[0;34m(\u001b[0m\u001b[0mquery\u001b[0m\u001b[0;34m,\u001b[0m \u001b[0mconn\u001b[0m\u001b[0;34m)\u001b[0m\u001b[0;34m\u001b[0m\u001b[0;34m\u001b[0m\u001b[0m\n\u001b[0m\u001b[1;32m     62\u001b[0m             \u001b[0;32mexcept\u001b[0m \u001b[0mDatabaseError\u001b[0m \u001b[0;32mas\u001b[0m \u001b[0mex\u001b[0m\u001b[0;34m:\u001b[0m\u001b[0;34m\u001b[0m\u001b[0;34m\u001b[0m\u001b[0m\n",
            "\u001b[0;32m~/.local/lib/python3.8/site-packages/pandas/io/sql.py\u001b[0m in \u001b[0;36mread_sql\u001b[0;34m(sql, con, index_col, coerce_float, params, parse_dates, columns, chunksize)\u001b[0m\n\u001b[1;32m    627\u001b[0m     \u001b[0;32melse\u001b[0m\u001b[0;34m:\u001b[0m\u001b[0;34m\u001b[0m\u001b[0;34m\u001b[0m\u001b[0m\n\u001b[0;32m--> 628\u001b[0;31m         return pandas_sql.read_query(\n\u001b[0m\u001b[1;32m    629\u001b[0m             \u001b[0msql\u001b[0m\u001b[0;34m,\u001b[0m\u001b[0;34m\u001b[0m\u001b[0;34m\u001b[0m\u001b[0m\n",
            "\u001b[0;32m~/.local/lib/python3.8/site-packages/pandas/io/sql.py\u001b[0m in \u001b[0;36mread_query\u001b[0;34m(self, sql, index_col, coerce_float, parse_dates, params, chunksize, dtype)\u001b[0m\n\u001b[1;32m   1578\u001b[0m \u001b[0;34m\u001b[0m\u001b[0m\n\u001b[0;32m-> 1579\u001b[0;31m         \u001b[0mresult\u001b[0m \u001b[0;34m=\u001b[0m \u001b[0mself\u001b[0m\u001b[0;34m.\u001b[0m\u001b[0mexecute\u001b[0m\u001b[0;34m(\u001b[0m\u001b[0;34m*\u001b[0m\u001b[0margs\u001b[0m\u001b[0;34m)\u001b[0m\u001b[0;34m\u001b[0m\u001b[0;34m\u001b[0m\u001b[0m\n\u001b[0m\u001b[1;32m   1580\u001b[0m         \u001b[0mcolumns\u001b[0m \u001b[0;34m=\u001b[0m \u001b[0mresult\u001b[0m\u001b[0;34m.\u001b[0m\u001b[0mkeys\u001b[0m\u001b[0;34m(\u001b[0m\u001b[0;34m)\u001b[0m\u001b[0;34m\u001b[0m\u001b[0;34m\u001b[0m\u001b[0m\n",
            "\u001b[0;32m~/.local/lib/python3.8/site-packages/pandas/io/sql.py\u001b[0m in \u001b[0;36mexecute\u001b[0;34m(self, *args, **kwargs)\u001b[0m\n\u001b[1;32m   1423\u001b[0m         \u001b[0;34m\"\"\"Simple passthrough to SQLAlchemy connectable\"\"\"\u001b[0m\u001b[0;34m\u001b[0m\u001b[0;34m\u001b[0m\u001b[0m\n\u001b[0;32m-> 1424\u001b[0;31m         \u001b[0;32mreturn\u001b[0m \u001b[0mself\u001b[0m\u001b[0;34m.\u001b[0m\u001b[0mconnectable\u001b[0m\u001b[0;34m.\u001b[0m\u001b[0mexecution_options\u001b[0m\u001b[0;34m(\u001b[0m\u001b[0;34m)\u001b[0m\u001b[0;34m.\u001b[0m\u001b[0mexecute\u001b[0m\u001b[0;34m(\u001b[0m\u001b[0;34m*\u001b[0m\u001b[0margs\u001b[0m\u001b[0;34m,\u001b[0m \u001b[0;34m**\u001b[0m\u001b[0mkwargs\u001b[0m\u001b[0;34m)\u001b[0m\u001b[0;34m\u001b[0m\u001b[0;34m\u001b[0m\u001b[0m\n\u001b[0m\u001b[1;32m   1425\u001b[0m \u001b[0;34m\u001b[0m\u001b[0m\n",
            "\u001b[0;32m~/.local/lib/python3.8/site-packages/sqlalchemy/engine/base.py\u001b[0m in \u001b[0;36mexecute\u001b[0;34m(self, statement, *multiparams, **params)\u001b[0m\n\u001b[1;32m   1270\u001b[0m \u001b[0;34m\u001b[0m\u001b[0m\n\u001b[0;32m-> 1271\u001b[0;31m             return self._exec_driver_sql(\n\u001b[0m\u001b[1;32m   1272\u001b[0m                 \u001b[0mstatement\u001b[0m\u001b[0;34m,\u001b[0m\u001b[0;34m\u001b[0m\u001b[0;34m\u001b[0m\u001b[0m\n",
            "\u001b[0;32m~/.local/lib/python3.8/site-packages/sqlalchemy/engine/base.py\u001b[0m in \u001b[0;36m_exec_driver_sql\u001b[0;34m(self, statement, multiparams, params, execution_options, future)\u001b[0m\n\u001b[1;32m   1574\u001b[0m         \u001b[0mdialect\u001b[0m \u001b[0;34m=\u001b[0m \u001b[0mself\u001b[0m\u001b[0;34m.\u001b[0m\u001b[0mdialect\u001b[0m\u001b[0;34m\u001b[0m\u001b[0;34m\u001b[0m\u001b[0m\n\u001b[0;32m-> 1575\u001b[0;31m         ret = self._execute_context(\n\u001b[0m\u001b[1;32m   1576\u001b[0m             \u001b[0mdialect\u001b[0m\u001b[0;34m,\u001b[0m\u001b[0;34m\u001b[0m\u001b[0;34m\u001b[0m\u001b[0m\n",
            "\u001b[0;32m~/.local/lib/python3.8/site-packages/sqlalchemy/engine/base.py\u001b[0m in \u001b[0;36m_execute_context\u001b[0;34m(self, dialect, constructor, statement, parameters, execution_options, *args, **kw)\u001b[0m\n\u001b[1;32m   1841\u001b[0m         \u001b[0;32mexcept\u001b[0m \u001b[0mBaseException\u001b[0m \u001b[0;32mas\u001b[0m \u001b[0me\u001b[0m\u001b[0;34m:\u001b[0m\u001b[0;34m\u001b[0m\u001b[0;34m\u001b[0m\u001b[0m\n\u001b[0;32m-> 1842\u001b[0;31m             self._handle_dbapi_exception(\n\u001b[0m\u001b[1;32m   1843\u001b[0m                 \u001b[0me\u001b[0m\u001b[0;34m,\u001b[0m \u001b[0mstatement\u001b[0m\u001b[0;34m,\u001b[0m \u001b[0mparameters\u001b[0m\u001b[0;34m,\u001b[0m \u001b[0mcursor\u001b[0m\u001b[0;34m,\u001b[0m \u001b[0mcontext\u001b[0m\u001b[0;34m\u001b[0m\u001b[0;34m\u001b[0m\u001b[0m\n",
            "\u001b[0;32m~/.local/lib/python3.8/site-packages/sqlalchemy/engine/base.py\u001b[0m in \u001b[0;36m_handle_dbapi_exception\u001b[0;34m(self, e, statement, parameters, cursor, context)\u001b[0m\n\u001b[1;32m   2022\u001b[0m             \u001b[0;32melif\u001b[0m \u001b[0mshould_wrap\u001b[0m\u001b[0;34m:\u001b[0m\u001b[0;34m\u001b[0m\u001b[0;34m\u001b[0m\u001b[0m\n\u001b[0;32m-> 2023\u001b[0;31m                 util.raise_(\n\u001b[0m\u001b[1;32m   2024\u001b[0m                     \u001b[0msqlalchemy_exception\u001b[0m\u001b[0;34m,\u001b[0m \u001b[0mwith_traceback\u001b[0m\u001b[0;34m=\u001b[0m\u001b[0mexc_info\u001b[0m\u001b[0;34m[\u001b[0m\u001b[0;36m2\u001b[0m\u001b[0;34m]\u001b[0m\u001b[0;34m,\u001b[0m \u001b[0mfrom_\u001b[0m\u001b[0;34m=\u001b[0m\u001b[0me\u001b[0m\u001b[0;34m\u001b[0m\u001b[0;34m\u001b[0m\u001b[0m\n",
            "\u001b[0;32m~/.local/lib/python3.8/site-packages/sqlalchemy/util/compat.py\u001b[0m in \u001b[0;36mraise_\u001b[0;34m(***failed resolving arguments***)\u001b[0m\n\u001b[1;32m    206\u001b[0m         \u001b[0;32mtry\u001b[0m\u001b[0;34m:\u001b[0m\u001b[0;34m\u001b[0m\u001b[0;34m\u001b[0m\u001b[0m\n\u001b[0;32m--> 207\u001b[0;31m             \u001b[0;32mraise\u001b[0m \u001b[0mexception\u001b[0m\u001b[0;34m\u001b[0m\u001b[0;34m\u001b[0m\u001b[0m\n\u001b[0m\u001b[1;32m    208\u001b[0m         \u001b[0;32mfinally\u001b[0m\u001b[0;34m:\u001b[0m\u001b[0;34m\u001b[0m\u001b[0;34m\u001b[0m\u001b[0m\n",
            "\u001b[0;32m~/.local/lib/python3.8/site-packages/sqlalchemy/engine/base.py\u001b[0m in \u001b[0;36m_execute_context\u001b[0;34m(self, dialect, constructor, statement, parameters, execution_options, *args, **kw)\u001b[0m\n\u001b[1;32m   1798\u001b[0m                 \u001b[0;32mif\u001b[0m \u001b[0;32mnot\u001b[0m \u001b[0mevt_handled\u001b[0m\u001b[0;34m:\u001b[0m\u001b[0;34m\u001b[0m\u001b[0;34m\u001b[0m\u001b[0m\n\u001b[0;32m-> 1799\u001b[0;31m                     self.dialect.do_execute(\n\u001b[0m\u001b[1;32m   1800\u001b[0m                         \u001b[0mcursor\u001b[0m\u001b[0;34m,\u001b[0m \u001b[0mstatement\u001b[0m\u001b[0;34m,\u001b[0m \u001b[0mparameters\u001b[0m\u001b[0;34m,\u001b[0m \u001b[0mcontext\u001b[0m\u001b[0;34m\u001b[0m\u001b[0;34m\u001b[0m\u001b[0m\n",
            "\u001b[0;32m~/.local/lib/python3.8/site-packages/sqlalchemy/engine/default.py\u001b[0m in \u001b[0;36mdo_execute\u001b[0;34m(self, cursor, statement, parameters, context)\u001b[0m\n\u001b[1;32m    716\u001b[0m     \u001b[0;32mdef\u001b[0m \u001b[0mdo_execute\u001b[0m\u001b[0;34m(\u001b[0m\u001b[0mself\u001b[0m\u001b[0;34m,\u001b[0m \u001b[0mcursor\u001b[0m\u001b[0;34m,\u001b[0m \u001b[0mstatement\u001b[0m\u001b[0;34m,\u001b[0m \u001b[0mparameters\u001b[0m\u001b[0;34m,\u001b[0m \u001b[0mcontext\u001b[0m\u001b[0;34m=\u001b[0m\u001b[0;32mNone\u001b[0m\u001b[0;34m)\u001b[0m\u001b[0;34m:\u001b[0m\u001b[0;34m\u001b[0m\u001b[0;34m\u001b[0m\u001b[0m\n\u001b[0;32m--> 717\u001b[0;31m         \u001b[0mcursor\u001b[0m\u001b[0;34m.\u001b[0m\u001b[0mexecute\u001b[0m\u001b[0;34m(\u001b[0m\u001b[0mstatement\u001b[0m\u001b[0;34m,\u001b[0m \u001b[0mparameters\u001b[0m\u001b[0;34m)\u001b[0m\u001b[0;34m\u001b[0m\u001b[0;34m\u001b[0m\u001b[0m\n\u001b[0m\u001b[1;32m    718\u001b[0m \u001b[0;34m\u001b[0m\u001b[0m\n",
            "\u001b[0;31mOperationalError\u001b[0m: (sqlite3.OperationalError) no such column: en_label\n[SQL: SELECT * FROM df_p WHERE en_label LIKE '%web%science%' LIMIT 1;]\n(Background on this error at: https://sqlalche.me/e/14/e3q8)",
            "\nDuring handling of the above exception, another exception occurred:\n",
            "\u001b[0;31mPandaSQLException\u001b[0m                         Traceback (most recent call last)",
            "\u001b[0;32m<ipython-input-8-d51b130bf4fa>\u001b[0m in \u001b[0;36m<module>\u001b[0;34m\u001b[0m\n\u001b[0;32m----> 1\u001b[0;31m \u001b[0mquery_result\u001b[0m \u001b[0;34m=\u001b[0m \u001b[0mpysqldf\u001b[0m\u001b[0;34m(\u001b[0m\u001b[0;34m\"SELECT * FROM df_p WHERE en_label LIKE '%web%science%' LIMIT 1;\"\u001b[0m\u001b[0;34m)\u001b[0m\u001b[0;34m\u001b[0m\u001b[0;34m\u001b[0m\u001b[0m\n\u001b[0m\u001b[1;32m      2\u001b[0m \u001b[0;32mif\u001b[0m \u001b[0;34m~\u001b[0m\u001b[0mquery_result\u001b[0m\u001b[0;34m.\u001b[0m\u001b[0mempty\u001b[0m\u001b[0;34m:\u001b[0m\u001b[0;34m\u001b[0m\u001b[0;34m\u001b[0m\u001b[0m\n\u001b[1;32m      3\u001b[0m     \u001b[0mprint\u001b[0m\u001b[0;34m(\u001b[0m\u001b[0mquery_result\u001b[0m\u001b[0;34m.\u001b[0m\u001b[0miloc\u001b[0m\u001b[0;34m[\u001b[0m\u001b[0;36m0\u001b[0m\u001b[0;34m]\u001b[0m\u001b[0;34m[\u001b[0m\u001b[0;34m'property_id'\u001b[0m\u001b[0;34m]\u001b[0m\u001b[0;34m)\u001b[0m\u001b[0;34m\u001b[0m\u001b[0;34m\u001b[0m\u001b[0m\n",
            "\u001b[0;32m<ipython-input-7-2dfd6df8c35f>\u001b[0m in \u001b[0;36m<lambda>\u001b[0;34m(q)\u001b[0m\n\u001b[1;32m      1\u001b[0m \u001b[0;32mfrom\u001b[0m \u001b[0mpandasql\u001b[0m \u001b[0;32mimport\u001b[0m \u001b[0msqldf\u001b[0m\u001b[0;34m\u001b[0m\u001b[0;34m\u001b[0m\u001b[0m\n\u001b[0;32m----> 2\u001b[0;31m \u001b[0mpysqldf\u001b[0m \u001b[0;34m=\u001b[0m \u001b[0;32mlambda\u001b[0m \u001b[0mq\u001b[0m\u001b[0;34m:\u001b[0m \u001b[0msqldf\u001b[0m\u001b[0;34m(\u001b[0m\u001b[0mq\u001b[0m\u001b[0;34m,\u001b[0m \u001b[0mglobals\u001b[0m\u001b[0;34m(\u001b[0m\u001b[0;34m)\u001b[0m\u001b[0;34m)\u001b[0m\u001b[0;34m\u001b[0m\u001b[0;34m\u001b[0m\u001b[0m\n\u001b[0m",
            "\u001b[0;32m~/.local/lib/python3.8/site-packages/pandasql/sqldf.py\u001b[0m in \u001b[0;36msqldf\u001b[0;34m(query, env, db_uri)\u001b[0m\n\u001b[1;32m    154\u001b[0m     \u001b[0;34m>>\u001b[0m\u001b[0;34m>\u001b[0m \u001b[0msqldf\u001b[0m\u001b[0;34m(\u001b[0m\u001b[0;34m\"select avg(x) from df;\"\u001b[0m\u001b[0;34m,\u001b[0m \u001b[0mlocals\u001b[0m\u001b[0;34m(\u001b[0m\u001b[0;34m)\u001b[0m\u001b[0;34m)\u001b[0m\u001b[0;34m\u001b[0m\u001b[0;34m\u001b[0m\u001b[0m\n\u001b[1;32m    155\u001b[0m     \"\"\"\n\u001b[0;32m--> 156\u001b[0;31m     \u001b[0;32mreturn\u001b[0m \u001b[0mPandaSQL\u001b[0m\u001b[0;34m(\u001b[0m\u001b[0mdb_uri\u001b[0m\u001b[0;34m)\u001b[0m\u001b[0;34m(\u001b[0m\u001b[0mquery\u001b[0m\u001b[0;34m,\u001b[0m \u001b[0menv\u001b[0m\u001b[0;34m)\u001b[0m\u001b[0;34m\u001b[0m\u001b[0;34m\u001b[0m\u001b[0m\n\u001b[0m",
            "\u001b[0;32m~/.local/lib/python3.8/site-packages/pandasql/sqldf.py\u001b[0m in \u001b[0;36m__call__\u001b[0;34m(self, query, env)\u001b[0m\n\u001b[1;32m     61\u001b[0m                 \u001b[0mresult\u001b[0m \u001b[0;34m=\u001b[0m \u001b[0mread_sql\u001b[0m\u001b[0;34m(\u001b[0m\u001b[0mquery\u001b[0m\u001b[0;34m,\u001b[0m \u001b[0mconn\u001b[0m\u001b[0;34m)\u001b[0m\u001b[0;34m\u001b[0m\u001b[0;34m\u001b[0m\u001b[0m\n\u001b[1;32m     62\u001b[0m             \u001b[0;32mexcept\u001b[0m \u001b[0mDatabaseError\u001b[0m \u001b[0;32mas\u001b[0m \u001b[0mex\u001b[0m\u001b[0;34m:\u001b[0m\u001b[0;34m\u001b[0m\u001b[0;34m\u001b[0m\u001b[0m\n\u001b[0;32m---> 63\u001b[0;31m                 \u001b[0;32mraise\u001b[0m \u001b[0mPandaSQLException\u001b[0m\u001b[0;34m(\u001b[0m\u001b[0mex\u001b[0m\u001b[0;34m)\u001b[0m\u001b[0;34m\u001b[0m\u001b[0;34m\u001b[0m\u001b[0m\n\u001b[0m\u001b[1;32m     64\u001b[0m             \u001b[0;32mexcept\u001b[0m \u001b[0mResourceClosedError\u001b[0m\u001b[0;34m:\u001b[0m\u001b[0;34m\u001b[0m\u001b[0;34m\u001b[0m\u001b[0m\n\u001b[1;32m     65\u001b[0m                 \u001b[0;31m# query returns nothing\u001b[0m\u001b[0;34m\u001b[0m\u001b[0;34m\u001b[0m\u001b[0;34m\u001b[0m\u001b[0m\n",
            "\u001b[0;31mPandaSQLException\u001b[0m: (sqlite3.OperationalError) no such column: en_label\n[SQL: SELECT * FROM df_p WHERE en_label LIKE '%web%science%' LIMIT 1;]\n(Background on this error at: https://sqlalche.me/e/14/e3q8)"
          ]
        }
      ],
      "source": [
        "query_result = pysqldf(\"SELECT * FROM df_p WHERE en_label LIKE '%web%science%' LIMIT 1;\")\n",
        "if ~query_result.empty:\n",
        "    print(query_result.iloc[0]['property_id'])"
      ]
    },
    {
      "cell_type": "code",
      "execution_count": null,
      "metadata": {},
      "outputs": [],
      "source": [
        "def replace_all(text, dict):\n",
        "    for i, j in dict.items():\n",
        "        text = text.replace(i, j)\n",
        "    return text"
      ]
    },
    {
      "cell_type": "code",
      "execution_count": null,
      "metadata": {},
      "outputs": [
        {
          "data": {
            "text/plain": [
              "(\"select ?obj where { wd:somalia p:population ?s . ?s ps:population ?obj . ?s pq:point_in_time ?x filter(contains(YEAR(?x),'2009')) }\",\n",
              " \"select ?obj where { wd:Q1045 p:P1082 ?s . ?s ps:P1082 ?obj . ?s pq:point_in_time ?x filter(contains(YEAR(?x),'2009')) }\")"
            ]
          },
          "execution_count": 8,
          "metadata": {},
          "output_type": "execute_result"
        }
      ],
      "source": [
        "def decode_props(qry):\n",
        "    rep_dict = {}\n",
        "    qry = qry.replace(\"[\", \"{\").replace(\"]\", \"}\")\n",
        "    for m in re.finditer(\":\\w+\", qry):\n",
        "        pref = qry[m.start(0) - 2 : m.start(0)]\n",
        "        try:\n",
        "            x = m.group(0)[1:].replace(\"_\", \" \")\n",
        "            if \"wd\" not in pref:\n",
        "                word = x.replace(\"-\", \"%\").replace(\" \", \"%\")\n",
        "                query_result = pysqldf(\n",
        "                    f\"SELECT * FROM df_p WHERE en_label LIKE '%{word}%' LIMIT 1;\"\n",
        "                )\n",
        "                if not query_result.empty:\n",
        "                    rep_dict[x] = \"P\" + str(query_result.iloc[0][\"property_id\"])\n",
        "                    continue\n",
        "                # s = df_p[df_p[\"en_label\"] == x.replace(\"_\", \" \")]\n",
        "                # if len(s) > 0:\n",
        "                # rep_dict[x] = \"P\" + str(s.iloc[0][0])\n",
        "                # continue\n",
        "            # Use else to do not replace missing Ps with Qs\n",
        "            # s = df_q[df_q[\"en_label\"] == x]\n",
        "            s = df_q[df_q.en_label.str.contains(x, na=False)].sort_values(by='item_id')\n",
        "            rep_dict[x] = \"Q\" + str(s.iloc[0].name)\n",
        "        except:\n",
        "            print(f\"Could not find {x} in our database.\")\n",
        "    return (qry, replace_all(qry, rep_dict))\n",
        "\n"
      ]
    },
    {
      "cell_type": "code",
      "execution_count": null,
      "metadata": {},
      "outputs": [
        {
          "data": {
            "text/plain": [
              "(\"select ?obj where { wd:somalia p:population ?s . ?s ps:population ?obj . ?s pq:point_in_time ?x filter(contains(YEAR(?x),'2009')) }\",\n",
              " \"select ?obj where { wd:Q982 p:P817 ?s . ?s ps:P817 ?obj . ?s pq:P380 ?x filter(contains(YEAR(?x),'2009')) }\")"
            ]
          },
          "execution_count": 27,
          "metadata": {},
          "output_type": "execute_result"
        }
      ],
      "source": [
        "\n",
        "# Test\n",
        "decode_props(\n",
        "    \"select ?obj where [ wd:somalia p:population ?s . ?s ps:population ?obj . ?s pq:point_in_time ?x filter(contains(YEAR(?x),'2009')) ]\"\n",
        ")\n",
        "# rplc_props('SELECT ?obj WHERE { wd:Q1045 p:P1082 ?s . ?s ps:P1082 ?obj . ?s pq:P585 ?x filter(contains(YEAR(?x),\\'2009\\')) }')\n"
      ]
    },
    {
      "cell_type": "code",
      "execution_count": null,
      "metadata": {},
      "outputs": [],
      "source": [
        "def decode_props(qry):\n",
        "    rep_dict = {}\n",
        "    qry = qry.replace(\"[\", \"{\").replace(\"]\", \"}\")\n",
        "    for m in re.finditer(\":\\w+\", qry):\n",
        "        pref = qry[m.start(0) - 2 : m.start(0)]\n",
        "        try:\n",
        "            x = m.group(0)[1:]\n",
        "            if \"wd\" not in pref:\n",
        "                s = df_p[df_p.en.str.contains(x.replace(\"_\", \" \"), na=False)].sort_values(by='id')\n",
        "                if not s.empty:\n",
        "                    rep_dict[x] = \"P\" + str(s.iloc[0].name)\n",
        "                    continue\n",
        "            s2 = df_q[df_q.en.str.contains(x.replace(\"_\", \" \"), na=False)].sort_values(by='id')\n",
        "            rep_dict[x] = \"Q\" + str(s2.iloc[0].name)\n",
        "        except:\n",
        "            print(f\"Could not find {x} in our database.\")\n",
        "    return (qry, replace_all(qry, rep_dict))\n"
      ]
    },
    {
      "cell_type": "code",
      "execution_count": null,
      "metadata": {},
      "outputs": [],
      "source": [
        "def decode_props(qry):\n",
        "    rep_dict = {}\n",
        "    qry = qry.replace('[','{').replace(']','}')\n",
        "    for m in re.finditer(\":\\w+\", qry):\n",
        "        pref = qry[m.start(0)-2:m.start(0)]\n",
        "        try:\n",
        "            x = m.group(0)[1:]\n",
        "            if 'wd' not in pref:\n",
        "                s = df_p[df_p['en']==x.replace(\"_\", \" \")]\n",
        "                if len(s)>0:\n",
        "                    id = s.iloc[0][0]\n",
        "                    rep_dict[x]='P'+str(id)\n",
        "                    continue\n",
        "            # Use else to do not replace missing Ps with Qs\n",
        "            s = df_q[df_q['en']==x.replace(\"_\", \" \")]\n",
        "            id = s.iloc[0][0]\n",
        "            rep_dict[x]='Q'+str(id)\n",
        "        except: print(m)\n",
        "    return (qry, replace_all(qry, rep_dict))"
      ]
    },
    {
      "cell_type": "code",
      "execution_count": null,
      "metadata": {},
      "outputs": [],
      "source": [
        "translate= lambda q: decode_props(translator(prefix+q, max_length=100)[0]['translation_text'])"
      ]
    },
    {
      "cell_type": "code",
      "execution_count": null,
      "metadata": {},
      "outputs": [],
      "source": [
        "!pip install beautifultable -qqq"
      ]
    },
    {
      "cell_type": "code",
      "execution_count": null,
      "metadata": {},
      "outputs": [],
      "source": [
        "from beautifultable import BeautifulTable\n",
        "def pretty_translate(t,q): \n",
        "    ans = translate(q)\n",
        "    # print('QUESTION:\\n' + q + '\\nTARGET:\\n'+ t +'\\nRESULT:\\n' + ans[0]+ '\\nRESULT-DECODED:\\n' + ans[1])\n",
        "    table = BeautifulTable(maxwidth=140)\n",
        "    # table.column_headers = [\"\", \"Man Utd\",\"Man City\",\"T Hotspur\"]\n",
        "    table.rows.append(['QUESTION', q])\n",
        "    table.rows.append(['Target', t])\n",
        "    table.rows.append(['RESULT-DECODED', ans[1]])\n",
        "    table.rows.append(['RESULT-Raw', ans[0]])\n",
        "    print(table)"
      ]
    },
    {
      "cell_type": "markdown",
      "metadata": {},
      "source": [
        "# TESTING"
      ]
    },
    {
      "cell_type": "code",
      "execution_count": null,
      "metadata": {},
      "outputs": [
        {
          "data": {
            "text/plain": [
              "[{'translation_text': 'select ?answer where [ wd:marlin_manson wdt:instance_of wd:marlin_manson . ?answer wdt:instance_of wd:marlin_manson ]'}]"
            ]
          },
          "execution_count": 9,
          "metadata": {},
          "output_type": "execute_result"
        }
      ],
      "source": [
        "translator(prefix+'Who is Marlin Manson?', max_length=100)"
      ]
    },
    {
      "cell_type": "code",
      "execution_count": null,
      "metadata": {},
      "outputs": [
        {
          "name": "stdout",
          "output_type": "stream",
          "text": [
            "Could not find marlin_manson in our database.\n",
            "Could not find marlin_manson in our database.\n"
          ]
        },
        {
          "data": {
            "text/plain": [
              "('select ?answer where { wd:marlin_manson wdt:instance_of wd:marlin_manson }',\n",
              " 'select ?answer where { wd:marlin_manson wdt:P15 wd:marlin_manson }')"
            ]
          },
          "execution_count": 29,
          "metadata": {},
          "output_type": "execute_result"
        }
      ],
      "source": [
        "# <re.Match object; span=(52, 66), match=':marlin_manson'>\n",
        "# ('select distinct ?sbj where { ?sbj wdt:instance_of wd:marlin_manson . ?sbj wdt:instance_of wd:human }',\n",
        "#  'select distinct ?sbj where { ?sbj wdt:P31 wd:marlin_manson . ?sbj wdt:P31 wd:Q5 }')\n",
        "translate('Who is Marlin Manson?')"
      ]
    },
    {
      "cell_type": "code",
      "execution_count": null,
      "metadata": {},
      "outputs": [
        {
          "name": "stdout",
          "output_type": "stream",
          "text": [
            "Could not find billy_gates in our database.\n"
          ]
        },
        {
          "data": {
            "text/plain": [
              "('select ?answer where { wd:billy_gates wdt:instance_of wd:law }',\n",
              " 'select ?answer where { wd:billy_gates wdt:P15 wd:Q17909804 }')"
            ]
          },
          "execution_count": 14,
          "metadata": {},
          "output_type": "execute_result"
        }
      ],
      "source": [
        "translate('Who is Bill Gates?')"
      ]
    },
    {
      "cell_type": "code",
      "execution_count": null,
      "metadata": {},
      "outputs": [
        {
          "data": {
            "text/plain": [
              "('select ?answer where { wd:salt_lake_city wdt:time_zone ?X . ?X wdt:time_zone ?answer}',\n",
              " 'select ?answer where { wd:Q17926467 wdt:P242 ?X . ?X wdt:P242 ?answer}')"
            ]
          },
          "execution_count": 15,
          "metadata": {},
          "output_type": "execute_result"
        }
      ],
      "source": [
        "translate('What is the time zone of Salt Lake City?')"
      ]
    },
    {
      "cell_type": "code",
      "execution_count": null,
      "metadata": {},
      "outputs": [
        {
          "name": "stdout",
          "output_type": "stream",
          "text": [
            "Could not find mamoud_abbas in our database.\n",
            "Could not find country_of_state in our database.\n",
            "Could not find country_of_state in our database.\n",
            "+----------------+---------------------------------------------------------------------------------------------------+\n",
            "|    QUESTION    |                      Who is the country for head of state of Mahmoud Abbas?                       |\n",
            "+----------------+---------------------------------------------------------------------------------------------------+\n",
            "|     Target     |          select distinct ?sbj where { ?sbj wdt:P35 wd:Q127998 . ?sbj wdt:P31 wd:Q6256 }           |\n",
            "+----------------+---------------------------------------------------------------------------------------------------+\n",
            "| RESULT-DECODED | select ?answer where { wd:mamoud_abbas wdt:country_of_state ?X . ?X wdt:country_of_state ?answer} |\n",
            "+----------------+---------------------------------------------------------------------------------------------------+\n",
            "|   RESULT-Raw   | select ?answer where { wd:mamoud_abbas wdt:country_of_state ?X . ?X wdt:country_of_state ?answer} |\n",
            "+----------------+---------------------------------------------------------------------------------------------------+\n"
          ]
        }
      ],
      "source": [
        "pretty_translate('select distinct ?sbj where { ?sbj wdt:P35 wd:Q127998 . ?sbj wdt:P31 wd:Q6256 }','Who is the country for head of state of Mahmoud Abbas?')"
      ]
    },
    {
      "cell_type": "code",
      "execution_count": null,
      "metadata": {},
      "outputs": [
        {
          "name": "stdout",
          "output_type": "stream",
          "text": [
            "Could not find country_of_state in our database.\n",
            "+----------------+---------------------------------------------------------------------------------------------------------------+\n",
            "|    QUESTION    |                              What country is Mahmoud Abbas the head of state of?                              |\n",
            "+----------------+---------------------------------------------------------------------------------------------------------------+\n",
            "|     Target     |                select distinct ?sbj where { ?sbj wdt:P35 wd:Q127998 . ?sbj wdt:P31 wd:Q6256 }                 |\n",
            "+----------------+---------------------------------------------------------------------------------------------------------------+\n",
            "| RESULT-DECODED |          select ?answer where { wd:Q112639 wdt:P16 ?X . ?X wdt:country_of_state wd:Q9475910 ?answer}          |\n",
            "+----------------+---------------------------------------------------------------------------------------------------------------+\n",
            "|   RESULT-Raw   | select ?answer where { wd:mahmoud_abbas wdt:head_of_state ?X . ?X wdt:country_of_state wd:state_head ?answer} |\n",
            "+----------------+---------------------------------------------------------------------------------------------------------------+\n"
          ]
        }
      ],
      "source": [
        "pretty_translate('select distinct ?sbj where { ?sbj wdt:P35 wd:Q127998 . ?sbj wdt:P31 wd:Q6256 }',\"What country is Mahmoud Abbas the head of state of?\")"
      ]
    },
    {
      "cell_type": "code",
      "execution_count": null,
      "metadata": {},
      "outputs": [
        {
          "name": "stdout",
          "output_type": "stream",
          "text": [
            "Could not find mamoud_abbas in our database.\n",
            "Could not find country_of_state in our database.\n",
            "Could not find country_of_state in our database.\n",
            "+----------------+---------------------------------------------------------------------------------------------------+\n",
            "|    QUESTION    |                      Who is the country for head of state of Mahmoud Abbas?                       |\n",
            "+----------------+---------------------------------------------------------------------------------------------------+\n",
            "|     Target     |          select distinct ?sbj where { ?sbj wdt:P35 wd:Q127998 . ?sbj wdt:P31 wd:Q6256 }           |\n",
            "+----------------+---------------------------------------------------------------------------------------------------+\n",
            "| RESULT-DECODED | select ?answer where { wd:mamoud_abbas wdt:country_of_state ?X . ?X wdt:country_of_state ?answer} |\n",
            "+----------------+---------------------------------------------------------------------------------------------------+\n",
            "|   RESULT-Raw   | select ?answer where { wd:mamoud_abbas wdt:country_of_state ?X . ?X wdt:country_of_state ?answer} |\n",
            "+----------------+---------------------------------------------------------------------------------------------------+\n"
          ]
        }
      ],
      "source": [
        "pretty_translate('select distinct ?sbj where { ?sbj wdt:P35 wd:Q127998 . ?sbj wdt:P31 wd:Q6256 }','Who is the country for head of state of Mahmoud Abbas?')"
      ]
    },
    {
      "cell_type": "code",
      "execution_count": null,
      "metadata": {},
      "outputs": [
        {
          "name": "stdout",
          "output_type": "stream",
          "text": [
            "+----------------+-------------------------------------------------------------------------------------------------------------------------+\n",
            "|    QUESTION    |                    which female actress is the voice over on south park and is employed as a singer?                    |\n",
            "+----------------+-------------------------------------------------------------------------------------------------------------------------+\n",
            "|     Target     |                    SELECT ?answer WHERE { wd:Q16538 wdt:P725 ?answer . ?answer wdt:P106 wd:Q177220}                     |\n",
            "+----------------+-------------------------------------------------------------------------------------------------------------------------+\n",
            "| RESULT-DECODED | select ?answer where { wd:Q15037 wdt:Q72122 ?answer . ?answer wdt:Q72122 ?answer . ?answer wdt:Q72122 ?answer . ?answer |\n",
            "|                |                                       wdt:Q72122 ?answer . ?answer wdt:Q72122 ?ans                                      |\n",
            "+----------------+-------------------------------------------------------------------------------------------------------------------------+\n",
            "|   RESULT-Raw   | select ?answer where { wd:south_park wdt:voice_over ?answer . ?answer wdt:voice_over ?answer . ?answer wdt:voice_over ? |\n",
            "|                |                          answer . ?answer wdt:voice_over ?answer . ?answer wdt:voice_over ?ans                          |\n",
            "+----------------+-------------------------------------------------------------------------------------------------------------------------+\n"
          ]
        }
      ],
      "source": [
        "pretty_translate(\"SELECT ?answer WHERE { wd:Q16538 wdt:P725 ?answer . ?answer wdt:P106 wd:Q177220}\",\"Which female actress is the voice over on South Park and is employed as a singer?\".lower())"
      ]
    },
    {
      "cell_type": "code",
      "execution_count": null,
      "metadata": {},
      "outputs": [
        {
          "name": "stdout",
          "output_type": "stream",
          "text": [
            "+----------------+-----------------------------------------------------------------------------------+\n",
            "|    QUESTION    |   Which female actress on South Park is the voice over and is used as a singer?   |\n",
            "+----------------+-----------------------------------------------------------------------------------+\n",
            "|     Target     | SELECT ?answer WHERE { wd:Q16538 wdt:P725 ?answer . ?answer wdt:P106 wd:Q177220}  |\n",
            "+----------------+-----------------------------------------------------------------------------------+\n",
            "| RESULT-DECODED |   select ?answer where { wd:Q16538 wdt:Q12280274 ?answer . ?answer wdt:Q177220}   |\n",
            "+----------------+-----------------------------------------------------------------------------------+\n",
            "|   RESULT-Raw   | select ?answer where { wd:south_park wdt:voice_over ?answer . ?answer wdt:singer} |\n",
            "+----------------+-----------------------------------------------------------------------------------+\n"
          ]
        }
      ],
      "source": [
        "pretty_translate(\"SELECT ?answer WHERE { wd:Q16538 wdt:P725 ?answer . ?answer wdt:P106 wd:Q177220}\",\"Which female actress on South Park is the voice over and is used as a singer?\")"
      ]
    },
    {
      "cell_type": "code",
      "execution_count": null,
      "metadata": {},
      "outputs": [
        {
          "name": "stdout",
          "output_type": "stream",
          "text": [
            "<re.Match object; span=(25, 34), match=':paul_erd'>\n",
            "+----------------+-----------------------------------------------------------------------------------+\n",
            "|    QUESTION    |                    Which is the PIM authority ID of Paul Erd?                     |\n",
            "+----------------+-----------------------------------------------------------------------------------+\n",
            "|     Target     |           select distinct ?answer where { wd:Q173746 wdt:P3973 ?answer}           |\n",
            "+----------------+-----------------------------------------------------------------------------------+\n",
            "| RESULT-DECODED |       select ?answer where { wd:paul_erd wdt:P797 ?X . ?X wdt:P31 ?answer}        |\n",
            "+----------------+-----------------------------------------------------------------------------------+\n",
            "|   RESULT-Raw   | select ?answer where { wd:paul_erd wdt:authority ?X . ?X wdt:instance_of ?answer} |\n",
            "+----------------+-----------------------------------------------------------------------------------+\n"
          ]
        }
      ],
      "source": [
        "# Paul Erdős (Q173746)\n",
        "pretty_translate(\"select distinct ?answer where { wd:Q173746 wdt:P3973 ?answer}\",\"Which is the PIM authority ID of Paul Erd?\")"
      ]
    },
    {
      "cell_type": "code",
      "execution_count": null,
      "metadata": {},
      "outputs": [],
      "source": []
    },
    {
      "cell_type": "code",
      "execution_count": null,
      "metadata": {},
      "outputs": [
        {
          "name": "stdout",
          "output_type": "stream",
          "text": [
            "+----------------+-------------------------------------------------------------------------------------------------------------------------+\n",
            "|    QUESTION    |                                     What was the population of Somalia in 2009-0-0?                                     |\n",
            "+----------------+-------------------------------------------------------------------------------------------------------------------------+\n",
            "|     Target     |     SELECT ?obj WHERE { wd:Q1045 p:P1082 ?s . ?s ps:P1082 ?obj . ?s pq:P585 ?x filter(contains(YEAR(?x),'2009')) }      |\n",
            "+----------------+-------------------------------------------------------------------------------------------------------------------------+\n",
            "| RESULT-DECODED |     select ?obj where { wd:Q1045 p:P1082 ?s . ?s ps:P1082 ?obj . ?s pq:P585 ?x filter(contains(YEAR(?x),'2009')) }      |\n",
            "+----------------+-------------------------------------------------------------------------------------------------------------------------+\n",
            "|   RESULT-Raw   | select ?obj where { wd:somalia p:population ?s . ?s ps:population ?obj . ?s pq:point_in_time ?x filter(contains(YEAR(?x |\n",
            "|                |                                                      ),'2009')) }                                                       |\n",
            "+----------------+-------------------------------------------------------------------------------------------------------------------------+\n"
          ]
        }
      ],
      "source": [
        "pretty_translate(\"SELECT ?obj WHERE { wd:Q1045 p:P1082 ?s . ?s ps:P1082 ?obj . ?s pq:P585 ?x filter(contains(YEAR(?x),'2009')) }\", \n",
        "            \"What was the population of Somalia in 2009-0-0?\")"
      ]
    },
    {
      "cell_type": "code",
      "execution_count": null,
      "metadata": {},
      "outputs": [
        {
          "data": {
            "text/plain": [
              "('select distinct ?sbj where { ?sbj wdt:place_of_birth wd:new_york_city . ?sbj wdt:instance_of wd:human }',\n",
              " 'select distinct ?sbj where { ?sbj wdt:P19 wd:Q60 . ?sbj wdt:P31 wd:Q5 }')"
            ]
          },
          "execution_count": 27,
          "metadata": {},
          "output_type": "execute_result"
        }
      ],
      "source": [
        "translate('Humans born in New York City') #random query - answer seems correct"
      ]
    },
    {
      "cell_type": "code",
      "execution_count": null,
      "metadata": {},
      "outputs": [
        {
          "name": "stdout",
          "output_type": "stream",
          "text": [
            "+----------------+-----------------------------------------------------------------------------------------------------------------------+\n",
            "|    QUESTION    |                                  Are Taiko some kind of Japanese musical instrument?                                  |\n",
            "+----------------+-----------------------------------------------------------------------------------------------------------------------+\n",
            "|     Target     | ASK WHERE { <http://dbpedia.org/resource/Taiko> a <http://dbpedia.org/class/yago/WikicatJapaneseMusicalInstruments> } |\n",
            "+----------------+-----------------------------------------------------------------------------------------------------------------------+\n",
            "| RESULT-DECODED |                                      ask where { wd:Q221769 wdt:P1303 wd:Q5287 }                                      |\n",
            "+----------------+-----------------------------------------------------------------------------------------------------------------------+\n",
            "|   RESULT-Raw   |                                   ask where { wd:taiko wdt:instrument wd:japanese }                                   |\n",
            "+----------------+-----------------------------------------------------------------------------------------------------------------------+\n"
          ]
        }
      ],
      "source": [
        "# From QALD\n",
        "target = \"ASK WHERE { <http://dbpedia.org/resource/Taiko> a <http://dbpedia.org/class/yago/WikicatJapaneseMusicalInstruments> }\"\n",
        "q =  \"Are Taiko some kind of Japanese musical instrument?\"\n",
        "pretty_translate(target, q)"
      ]
    },
    {
      "cell_type": "code",
      "execution_count": null,
      "metadata": {},
      "outputs": [
        {
          "name": "stdout",
          "output_type": "stream",
          "text": [
            "<re.Match object; span=(37, 46), match=':death_of'>\n",
            "+----------------+-------------------------------------------------------------------------------------------------------------------------+\n",
            "|    QUESTION    |                                                   Who killed Caesar?                                                    |\n",
            "+----------------+-------------------------------------------------------------------------------------------------------------------------+\n",
            "|     Target     | PREFIX dct: <http://purl.org/dc/terms/> PREFIX dbc: <http://dbpedia.org/resource/Category:> SELECT DISTINCT ?uri WHERE  |\n",
            "|                |                                   { ?uri dct:subject dbc:Assassins_of_Julius_Caesar }                                   |\n",
            "+----------------+-------------------------------------------------------------------------------------------------------------------------+\n",
            "| RESULT-DECODED |                     select distinct ?sbj where { ?sbj wdt:death_of wd:Q29288 . ?sbj wdt:P31 wd:Q5 }                     |\n",
            "+----------------+-------------------------------------------------------------------------------------------------------------------------+\n",
            "|   RESULT-Raw   |               select distinct ?sbj where { ?sbj wdt:death_of wd:caesar . ?sbj wdt:instance_of wd:human }                |\n",
            "+----------------+-------------------------------------------------------------------------------------------------------------------------+\n"
          ]
        }
      ],
      "source": [
        "# From QALD\n",
        "target = \"PREFIX dct: <http://purl.org/dc/terms/> PREFIX dbc: <http://dbpedia.org/resource/Category:> SELECT DISTINCT ?uri WHERE { ?uri dct:subject dbc:Assassins_of_Julius_Caesar }\"\n",
        "q =  \"Who killed Caesar?\"\n",
        "pretty_translate(target, q)"
      ]
    },
    {
      "cell_type": "code",
      "execution_count": null,
      "metadata": {},
      "outputs": [
        {
          "name": "stdout",
          "output_type": "stream",
          "text": [
            "+----------------+-------------------------------------------------------------------------------------------------------------------------+\n",
            "|    QUESTION    |                                        What is the highest mountain in Germany?                                         |\n",
            "+----------------+-------------------------------------------------------------------------------------------------------------------------+\n",
            "|     Target     | PREFIX rdfs: <http://www.w3.org/2000/01/rdf-schema#> PREFIX rdf: <http://www.w3.org/1999/02/22-rdf-syntax-ns#> PREFIX o |\n",
            "|                |                                          nto: <http://dbpedia.org/ontology/>                                            |\n",
            "|                | SELECT ?uri WHERE { ?uri rdf:type onto:Mountain ; onto:elevation ?elevation ; onto:locatedInArea <http://dbpedia.org/re |\n",
            "|                |                                   source/Germany> } ORDER BY DESC(?elevation) LIMIT 1                                   |\n",
            "+----------------+-------------------------------------------------------------------------------------------------------------------------+\n",
            "| RESULT-DECODED |                      select distinct ?sbj where { ?sbj wdt:P131 wd:Q183 . ?sbj wdt:P31 wd:Q8502 }                       |\n",
            "+----------------+-------------------------------------------------------------------------------------------------------------------------+\n",
            "|   RESULT-Raw   | select distinct ?sbj where { ?sbj wdt:located_in_the_administrative_territorial_entity wd:germany . ?sbj wdt:instance_o |\n",
            "|                |                                                     f wd:mountain }                                                     |\n",
            "+----------------+-------------------------------------------------------------------------------------------------------------------------+\n"
          ]
        }
      ],
      "source": [
        "# From QALD\n",
        "q = 'What is the highest mountain in Germany?'\n",
        "target = \"PREFIX rdfs: <http://www.w3.org/2000/01/rdf-schema#> PREFIX rdf: <http://www.w3.org/1999/02/22-rdf-syntax-ns#> PREFIX onto: <http://dbpedia.org/ontology/>  \\nSELECT ?uri WHERE { ?uri rdf:type onto:Mountain ; onto:elevation ?elevation ; onto:locatedInArea <http://dbpedia.org/resource/Germany> } ORDER BY DESC(?elevation) LIMIT 1\"\n",
        "pretty_translate(target, q)"
      ]
    },
    {
      "cell_type": "code",
      "execution_count": null,
      "metadata": {},
      "outputs": [
        {
          "name": "stdout",
          "output_type": "stream",
          "text": [
            "<re.Match object; span=(90, 110), match=':american_presidency'>\n",
            "+----------------+-------------------------------------------------------------------------------------------------------------------------+\n",
            "|    QUESTION    |                            Which American presidents were in office during the Vietnam War?                             |\n",
            "+----------------+-------------------------------------------------------------------------------------------------------------------------+\n",
            "|     Target     | PREFIX dbo: <http://dbpedia.org/ontology/> PREFIX res: <http://dbpedia.org/resource/> PREFIX dct: <http://purl.org/dc/t |\n",
            "|                | erms/> PREFIX dbc: <http://dbpedia.org/resource/Category:> SELECT ?uri WHERE { ?uri dct:subject dbc:Presidents_of_the_U |\n",
            "|                |                                   nited_States . res:Vietnam_War dbo:commander ?uri }                                   |\n",
            "+----------------+-------------------------------------------------------------------------------------------------------------------------+\n",
            "| RESULT-DECODED |               select distinct ?sbj where { ?sbj wdt:P39 wd:Q8740 . ?sbj wdt:P31 wd:american_presidency }                |\n",
            "+----------------+-------------------------------------------------------------------------------------------------------------------------+\n",
            "|   RESULT-Raw   |    select distinct ?sbj where { ?sbj wdt:office_held wd:vietnam_war . ?sbj wdt:instance_of wd:american_presidency }     |\n",
            "+----------------+-------------------------------------------------------------------------------------------------------------------------+\n"
          ]
        }
      ],
      "source": [
        "# From QALD\n",
        "q = 'Which American presidents were in office during the Vietnam War?'\n",
        "target = \"PREFIX dbo: <http://dbpedia.org/ontology/> PREFIX res: <http://dbpedia.org/resource/> PREFIX dct: <http://purl.org/dc/terms/> PREFIX dbc: <http://dbpedia.org/resource/Category:> SELECT ?uri WHERE { ?uri dct:subject dbc:Presidents_of_the_United_States . res:Vietnam_War dbo:commander ?uri }\"\n",
        "pretty_translate(target, q)"
      ]
    },
    {
      "cell_type": "code",
      "execution_count": null,
      "metadata": {},
      "outputs": [
        {
          "name": "stdout",
          "output_type": "stream",
          "text": [
            "<re.Match object; span=(42, 60), match=':gold_medal_winner'>\n",
            "+----------------+-------------------------------------------------------------------------------------------------------------------------+\n",
            "|    QUESTION    |                            How many gold medals did Michael Phelps win at the 2008 Olympics?                            |\n",
            "+----------------+-------------------------------------------------------------------------------------------------------------------------+\n",
            "|     Target     | PREFIX dbo: <http://dbpedia.org/ontology/> PREFIX dbr: <http://dbpedia.org/resource/> PREFIX rdf: <http://www.w3.org/19 |\n",
            "|                | 99/02/22-rdf-syntax-ns#> PREFIX rdfs: <http://www.w3.org/2000/01/rdf-schema#> SELECT Count(?sub) as ?c WHERE { ?sub dbo |\n",
            "|                |     :goldMedalist dbr:Michael_Phelps . filter (contains (str(?sub), \"2008\") && contains (str(?sub), \"Olympics\")) }      |\n",
            "+----------------+-------------------------------------------------------------------------------------------------------------------------+\n",
            "| RESULT-DECODED |                        select (COUNT(?sub) AS ?value ) { ?sub wdt:gold_medal_winner wd:Q39562 }                         |\n",
            "+----------------+-------------------------------------------------------------------------------------------------------------------------+\n",
            "|   RESULT-Raw   |                    select (COUNT(?sub) AS ?value ) { ?sub wdt:gold_medal_winner wd:michael_phelps }                     |\n",
            "+----------------+-------------------------------------------------------------------------------------------------------------------------+\n"
          ]
        }
      ],
      "source": [
        "# From QALD\n",
        "q = 'How many gold medals did Michael Phelps win at the 2008 Olympics?'\n",
        "target = \"PREFIX dbo: <http://dbpedia.org/ontology/> PREFIX dbr: <http://dbpedia.org/resource/> PREFIX rdf: <http://www.w3.org/1999/02/22-rdf-syntax-ns#> PREFIX rdfs: <http://www.w3.org/2000/01/rdf-schema#> SELECT Count(?sub) as ?c WHERE { ?sub dbo:goldMedalist dbr:Michael_Phelps . filter (contains (str(?sub), \\\"2008\\\") && contains (str(?sub), \\\"Olympics\\\")) }\"\n",
        "pretty_translate(target, q)"
      ]
    },
    {
      "cell_type": "code",
      "execution_count": null,
      "metadata": {},
      "outputs": [
        {
          "name": "stdout",
          "output_type": "stream",
          "text": [
            "<re.Match object; span=(31, 45), match=':franc_herbert'>\n",
            "<re.Match object; span=(91, 108), match=':professional_job'>\n",
            "+----------------+-------------------------------------------------------------------------------------------------------------------------+\n",
            "|    QUESTION    |                                        What is the profession of Frank Herbert?                                         |\n",
            "+----------------+-------------------------------------------------------------------------------------------------------------------------+\n",
            "|     Target     | PREFIX dbpedia2: <http://dbpedia.org/property/> PREFIX res: <http://dbpedia.org/resource/> SELECT DISTINCT ?string WHER |\n",
            "|                |                                   E { res:Frank_Herbert dbpedia2:occupation ?string }                                   |\n",
            "+----------------+-------------------------------------------------------------------------------------------------------------------------+\n",
            "| RESULT-DECODED |            select distinct ?obj where { wd:franc_herbert wdt:P106 ?obj . ?obj wdt:P31 wd:professional_job }             |\n",
            "+----------------+-------------------------------------------------------------------------------------------------------------------------+\n",
            "|   RESULT-Raw   |     select distinct ?obj where { wd:franc_herbert wdt:occupation ?obj . ?obj wdt:instance_of wd:professional_job }      |\n",
            "+----------------+-------------------------------------------------------------------------------------------------------------------------+\n"
          ]
        }
      ],
      "source": [
        "# From QALD\n",
        "q = 'What is the profession of Frank Herbert?'\n",
        "target = \"PREFIX dbpedia2: <http://dbpedia.org/property/> PREFIX res: <http://dbpedia.org/resource/> SELECT DISTINCT ?string WHERE { res:Frank_Herbert dbpedia2:occupation ?string }\"\n",
        "pretty_translate(target, q)"
      ]
    },
    {
      "cell_type": "code",
      "execution_count": null,
      "metadata": {},
      "outputs": [
        {
          "name": "stdout",
          "output_type": "stream",
          "text": [
            "<re.Match object; span=(42, 55), match=':home_stadium'>\n",
            "<re.Match object; span=(58, 67), match=':fc_porto'>\n",
            "+----------------+-------------------------------------------------------------------------------------------------------------------------+\n",
            "|    QUESTION    |                                 How many seats does the home stadium of FC Porto have?                                  |\n",
            "+----------------+-------------------------------------------------------------------------------------------------------------------------+\n",
            "|     Target     | PREFIX dbo: <http://dbpedia.org/ontology/> PREFIX dbp: <http://dbpedia.org/property/> PREFIX dbr: <http://dbpedia.org/r |\n",
            "|                | esource/> PREFIX rdf: <http://www.w3.org/1999/02/22-rdf-syntax-ns#> PREFIX rdfs: <http://www.w3.org/2000/01/rdf-schema# |\n",
            "|                | > PREFIX db: <http://dbpedia.org/> SELECT ?capacity WHERE { { dbr:FC_Porto dbo:ground ?ground . ?ground dbo:capacity ?c |\n",
            "|                |                 apacity } UNION { dbr:FC_Porto dbo:ground ?ground . ?ground dbp:capacity ?capacity } }                  |\n",
            "+----------------+-------------------------------------------------------------------------------------------------------------------------+\n",
            "| RESULT-DECODED |                          select (COUNT(?sub) AS ?value ) { ?sub wdt:home_stadium wd:fc_porto }                          |\n",
            "+----------------+-------------------------------------------------------------------------------------------------------------------------+\n",
            "|   RESULT-Raw   |                          select (COUNT(?sub) AS ?value ) { ?sub wdt:home_stadium wd:fc_porto }                          |\n",
            "+----------------+-------------------------------------------------------------------------------------------------------------------------+\n"
          ]
        }
      ],
      "source": [
        "# From QALD\n",
        "q = 'How many seats does the home stadium of FC Porto have?'\n",
        "target = \"PREFIX dbo: <http://dbpedia.org/ontology/> PREFIX dbp: <http://dbpedia.org/property/> PREFIX dbr: <http://dbpedia.org/resource/> PREFIX rdf: <http://www.w3.org/1999/02/22-rdf-syntax-ns#> PREFIX rdfs: <http://www.w3.org/2000/01/rdf-schema#> PREFIX db: <http://dbpedia.org/> SELECT ?capacity WHERE { { dbr:FC_Porto dbo:ground ?ground . ?ground dbo:capacity ?capacity } UNION { dbr:FC_Porto dbo:ground ?ground . ?ground dbp:capacity ?capacity } }\"\n",
        "pretty_translate(target, q)"
      ]
    },
    {
      "cell_type": "code",
      "execution_count": null,
      "metadata": {},
      "outputs": [
        {
          "name": "stdout",
          "output_type": "stream",
          "text": [
            "<re.Match object; span=(77, 89), match=':flight_time'>\n",
            "+----------------+-------------------------------------------------------------------------------------------------------------------------+\n",
            "|    QUESTION    |                                   Which frequent flyer program has the most airlines?                                   |\n",
            "+----------------+-------------------------------------------------------------------------------------------------------------------------+\n",
            "|     Target     | SELECT ?uri WHERE { ?airline <http://www.w3.org/1999/02/22-rdf-syntax-ns#type> <http://dbpedia.org/ontology/Airline> .  |\n",
            "|                | ?airline <http://dbpedia.org/property/frequentFlyer> ?uri. } GROUP BY ?uri ORDER BY DESC(COUNT(DISTINCT ?airline)) OFFS |\n",
            "|                |                                                      ET 0 LIMIT 1                                                       |\n",
            "+----------------+-------------------------------------------------------------------------------------------------------------------------+\n",
            "| RESULT-DECODED |          select ?ent where { ?ent wdt:P31 wd:Q5502885 . ?ent wdt:flight_time ?obj } ORDER BY DESC(?obj)LIMIT 5          |\n",
            "+----------------+-------------------------------------------------------------------------------------------------------------------------+\n",
            "|   RESULT-Raw   | select ?ent where { ?ent wdt:instance_of wd:frequent_flyer_program . ?ent wdt:flight_time ?obj } ORDER BY DESC(?obj)LIM |\n",
            "|                |                                                          IT 5                                                           |\n",
            "+----------------+-------------------------------------------------------------------------------------------------------------------------+\n"
          ]
        }
      ],
      "source": [
        "# From QALD\n",
        "q = 'Which frequent flyer program has the most airlines?'\n",
        "target = \"SELECT ?uri WHERE { ?airline <http://www.w3.org/1999/02/22-rdf-syntax-ns#type> <http://dbpedia.org/ontology/Airline> . ?airline <http://dbpedia.org/property/frequentFlyer> ?uri. } GROUP BY ?uri ORDER BY DESC(COUNT(DISTINCT ?airline)) OFFSET 0 LIMIT 1\"\n",
        "pretty_translate(target, q)"
      ]
    },
    {
      "cell_type": "code",
      "execution_count": null,
      "metadata": {},
      "outputs": [
        {
          "name": "stdout",
          "output_type": "stream",
          "text": [
            "+----------------+-------------------------------------------------------------------------------------------------------------------------+\n",
            "|    QUESTION    |                                Which European countries have a constitutional monarchy?                                 |\n",
            "+----------------+-------------------------------------------------------------------------------------------------------------------------+\n",
            "|     Target     | PREFIX dbo: <http://dbpedia.org/ontology/> PREFIX dct: <http://purl.org/dc/terms/> PREFIX dbc: <http://dbpedia.org/reso |\n",
            "|                | urce/Category:> PREFIX dbr: <http://dbpedia.org/resource/> SELECT ?uri WHERE { ?uri dct:subject dbc:Countries_in_Europe |\n",
            "|                |                                    ; dbo:governmentType dbr:Constitutional_monarchy }                                   |\n",
            "+----------------+-------------------------------------------------------------------------------------------------------------------------+\n",
            "| RESULT-DECODED |                      select distinct ?sbj where { ?sbj wdt:Q41614 wd:Q46 . ?sbj wdt:P31 wd:Q6256 }                      |\n",
            "+----------------+-------------------------------------------------------------------------------------------------------------------------+\n",
            "|   RESULT-Raw   |       select distinct ?sbj where { ?sbj wdt:constitutional_monarchy wd:europe . ?sbj wdt:instance_of wd:country }       |\n",
            "+----------------+-------------------------------------------------------------------------------------------------------------------------+\n"
          ]
        }
      ],
      "source": [
        "# From QALD\n",
        "q = 'Which European countries have a constitutional monarchy?'\n",
        "target = \"PREFIX dbo: <http://dbpedia.org/ontology/> PREFIX dct: <http://purl.org/dc/terms/> PREFIX dbc: <http://dbpedia.org/resource/Category:> PREFIX dbr: <http://dbpedia.org/resource/> SELECT ?uri WHERE { ?uri dct:subject dbc:Countries_in_Europe ; dbo:governmentType dbr:Constitutional_monarchy }\"\n",
        "pretty_translate(target, q)"
      ]
    },
    {
      "cell_type": "code",
      "execution_count": null,
      "metadata": {},
      "outputs": [
        {
          "name": "stdout",
          "output_type": "stream",
          "text": [
            "+----------------+-------------------------------------------------------------------------------------------------------------------------+\n",
            "|    QUESTION    |                                  Which countries have places with more than two caves?                                  |\n",
            "+----------------+-------------------------------------------------------------------------------------------------------------------------+\n",
            "|     Target     | PREFIX dbo: <http://dbpedia.org/ontology/> PREFIX rdf: <http://www.w3.org/1999/02/22-rdf-syntax-ns#> SELECT DISTINCT ?u |\n",
            "|                | ri WHERE { ?cave rdf:type dbo:Cave ; dbo:location ?uri . ?uri rdf:type dbo:Country } GROUP BY ?uri HAVING ( COUNT(?cave |\n",
            "|                |                                                         ) > 2 )                                                         |\n",
            "+----------------+-------------------------------------------------------------------------------------------------------------------------+\n",
            "| RESULT-DECODED |                     select distinct ?obj where { wd:Q200886 wdt:P131 ?obj . ?obj wdt:P31 wd:Q6256 }                     |\n",
            "+----------------+-------------------------------------------------------------------------------------------------------------------------+\n",
            "|   RESULT-Raw   | select distinct ?obj where { wd:caves wdt:located_in_the_administrative_territorial_entity ?obj . ?obj wdt:instance_of  |\n",
            "|                |                                                      wd:country }                                                       |\n",
            "+----------------+-------------------------------------------------------------------------------------------------------------------------+\n"
          ]
        }
      ],
      "source": [
        "# From QALD\n",
        "q = 'Which countries have places with more than two caves?'\n",
        "target = \"PREFIX dbo: <http://dbpedia.org/ontology/> PREFIX rdf: <http://www.w3.org/1999/02/22-rdf-syntax-ns#> SELECT DISTINCT ?uri WHERE { ?cave rdf:type dbo:Cave ; dbo:location ?uri . ?uri rdf:type dbo:Country } GROUP BY ?uri HAVING ( COUNT(?cave) > 2 )\"\n",
        "pretty_translate(target, q)"
      ]
    },
    {
      "cell_type": "code",
      "execution_count": null,
      "metadata": {},
      "outputs": [
        {
          "name": "stdout",
          "output_type": "stream",
          "text": [
            "<re.Match object; span=(89, 101), match=':california_'>\n",
            "+----------------+-------------------------------------------------------------------------------------------------------------------------+\n",
            "|    QUESTION    |                                     Which airports are located in California, USA?                                      |\n",
            "+----------------+-------------------------------------------------------------------------------------------------------------------------+\n",
            "|     Target     | SELECT DISTINCT ?uri WHERE { ?uri a <http://dbpedia.org/ontology/Airport> { ?uri <http://dbpedia.org/ontology/location> |\n",
            "|                |  <http://dbpedia.org/resource/California> } UNION { ?uri <http://dbpedia.org/ontology/city> <http://dbpedia.org/resourc |\n",
            "|                | e/California> } UNION { ?uri <http://dbpedia.org/ontology/city> ?city . ?city <http://dbpedia.org/ontology/isPartOf> <h |\n",
            "|                | ttp://dbpedia.org/resource/California> } UNION { ?uri <http://dbpedia.org/ontology/operator> <http://dbpedia.org/resour |\n",
            "|                |                                                   ce/California> } }                                                    |\n",
            "+----------------+-------------------------------------------------------------------------------------------------------------------------+\n",
            "| RESULT-DECODED |               select distinct ?sbj where { ?sbj wdt:P131 wd:california_,_usa . ?sbj wdt:P31 wd:Q409022 }                |\n",
            "+----------------+-------------------------------------------------------------------------------------------------------------------------+\n",
            "|   RESULT-Raw   | select distinct ?sbj where { ?sbj wdt:located_in_the_administrative_territorial_entity wd:california_,_usa . ?sbj wdt:i |\n",
            "|                |                                                 nstance_of wd:airport }                                                 |\n",
            "+----------------+-------------------------------------------------------------------------------------------------------------------------+\n"
          ]
        }
      ],
      "source": [
        "# From QALD\n",
        "q = 'Which airports are located in California, USA?'\n",
        "target = \"SELECT DISTINCT ?uri WHERE { ?uri a <http://dbpedia.org/ontology/Airport> { ?uri <http://dbpedia.org/ontology/location> <http://dbpedia.org/resource/California> } UNION { ?uri <http://dbpedia.org/ontology/city> <http://dbpedia.org/resource/California> } UNION { ?uri <http://dbpedia.org/ontology/city> ?city . ?city <http://dbpedia.org/ontology/isPartOf> <http://dbpedia.org/resource/California> } UNION { ?uri <http://dbpedia.org/ontology/operator> <http://dbpedia.org/resource/California> } }\"\n",
        "pretty_translate(target, q)"
      ]
    },
    {
      "cell_type": "code",
      "execution_count": null,
      "metadata": {},
      "outputs": [
        {
          "name": "stdout",
          "output_type": "stream",
          "text": [
            "+----------------+-----------------------------------------------------------------------------------------------------+\n",
            "|    QUESTION    |                              What are the nicknames of San Francisco?                               |\n",
            "+----------------+-----------------------------------------------------------------------------------------------------+\n",
            "|     Target     |                SELECT DISTINCT ?string WHERE { res:San_Francisco foaf:nick ?string }                |\n",
            "+----------------+-----------------------------------------------------------------------------------------------------+\n",
            "| RESULT-DECODED |            select distinct ?sbj where { ?sbj wdt:P138 wd:Q62 . ?sbj wdt:P31 wd:Q82799 }             |\n",
            "+----------------+-----------------------------------------------------------------------------------------------------+\n",
            "|   RESULT-Raw   | select distinct ?sbj where { ?sbj wdt:named_after wd:san_francisco . ?sbj wdt:instance_of wd:name } |\n",
            "+----------------+-----------------------------------------------------------------------------------------------------+\n"
          ]
        }
      ],
      "source": [
        "# From QALD\n",
        "q = \"What are the nicknames of San Francisco?\"\n",
        "target = \"SELECT DISTINCT ?string WHERE { res:San_Francisco foaf:nick ?string }\"\n",
        "pretty_translate(target, q)"
      ]
    },
    {
      "cell_type": "code",
      "execution_count": null,
      "metadata": {},
      "outputs": [
        {
          "name": "stdout",
          "output_type": "stream",
          "text": [
            "+----------------+------------------------------------------------------------------------------------------------+\n",
            "|    QUESTION    |                              What is Angela Merkel’s birth name?                               |\n",
            "+----------------+------------------------------------------------------------------------------------------------+\n",
            "|     Target     |           SELECT DISTINCT ?string WHERE { res:Angela_Merkel dbp:birthName ?string }            |\n",
            "+----------------+------------------------------------------------------------------------------------------------+\n",
            "| RESULT-DECODED |                select ?answer where { wd:Q567 wdt:P19 ?X . ?X wdt:P19 ?answer}                 |\n",
            "+----------------+------------------------------------------------------------------------------------------------+\n",
            "|   RESULT-Raw   | select ?answer where { wd:angela_merkel wdt:place_of_birth ?X . ?X wdt:place_of_birth ?answer} |\n",
            "+----------------+------------------------------------------------------------------------------------------------+\n"
          ]
        }
      ],
      "source": [
        "# From QALD\n",
        "q = \"What is Angela Merkel’s birth name?\"\n",
        "target = \"SELECT DISTINCT ?string WHERE { res:Angela_Merkel dbp:birthName ?string }\"\n",
        "pretty_translate(target, q)"
      ]
    },
    {
      "cell_type": "code",
      "execution_count": null,
      "metadata": {},
      "outputs": [
        {
          "name": "stdout",
          "output_type": "stream",
          "text": [
            "+----------------+------------------------------------------------------------------------------------------------------+\n",
            "|    QUESTION    |                                     Who is the mayor of Berlin?                                      |\n",
            "+----------------+------------------------------------------------------------------------------------------------------+\n",
            "|     Target     |                      SELECT DISTINCT ?uri WHERE { res:Berlin dbp:leader ?uri }                       |\n",
            "+----------------+------------------------------------------------------------------------------------------------------+\n",
            "| RESULT-DECODED |                select distinct ?sbj where { ?sbj wdt:P6 wd:Q64 . ?sbj wdt:P31 wd:Q5 }                |\n",
            "+----------------+------------------------------------------------------------------------------------------------------+\n",
            "|   RESULT-Raw   | select distinct ?sbj where { ?sbj wdt:head_of_government wd:berlin . ?sbj wdt:instance_of wd:human } |\n",
            "+----------------+------------------------------------------------------------------------------------------------------+\n"
          ]
        }
      ],
      "source": [
        "# From QALD\n",
        "q = \"Who is the mayor of Berlin?\"\n",
        "target = \"SELECT DISTINCT ?uri WHERE { res:Berlin dbp:leader ?uri }\"\n",
        "pretty_translate(target, q)"
      ]
    },
    {
      "cell_type": "code",
      "execution_count": null,
      "metadata": {},
      "outputs": [
        {
          "name": "stdout",
          "output_type": "stream",
          "text": [
            "+----------------+-------------------------------------------------------------------------------------------------------------------------+\n",
            "|    QUESTION    |                               Which software has been published by Mean Hamster Software?                               |\n",
            "+----------------+-------------------------------------------------------------------------------------------------------------------------+\n",
            "|     Target     | SELECT DISTINCT ?uri WHERE { ?uri rdf:type onto:Software { ?uri prop:publisher \"Mean Hamster Software\"@en } UNION { ?ur |\n",
            "|                |                                     i onto:publisher res:Mean_Hamster_Software } }                                      |\n",
            "+----------------+-------------------------------------------------------------------------------------------------------------------------+\n",
            "| RESULT-DECODED |                    select distinct ?sbj where { ?sbj wdt:P123 wd:Q15070395 . ?sbj wdt:P31 wd:Q7397 }                    |\n",
            "+----------------+-------------------------------------------------------------------------------------------------------------------------+\n",
            "|   RESULT-Raw   |    select distinct ?sbj where { ?sbj wdt:published_by wd:mean_hamster_software . ?sbj wdt:instance_of wd:software }     |\n",
            "+----------------+-------------------------------------------------------------------------------------------------------------------------+\n"
          ]
        }
      ],
      "source": [
        "# From QALD\n",
        "q = \"Which software has been published by Mean Hamster Software?\"\n",
        "target = \"SELECT DISTINCT ?uri WHERE { ?uri rdf:type onto:Software { ?uri prop:publisher \\\"Mean Hamster Software\\\"@en } UNION { ?uri onto:publisher res:Mean_Hamster_Software } }\"\n",
        "pretty_translate(target, q)"
      ]
    },
    {
      "cell_type": "code",
      "execution_count": null,
      "metadata": {},
      "outputs": [
        {
          "name": "stdout",
          "output_type": "stream",
          "text": [
            "+----------------+-------------------------------------------------------------------------------------------------------------------------+\n",
            "|    QUESTION    |                                          Which country was Bill Gates born in?                                          |\n",
            "+----------------+-------------------------------------------------------------------------------------------------------------------------+\n",
            "|     Target     | SELECT DISTINCT ?country WHERE { { dbr:Bill_Gates dbo:birthPlace ?birthPlace . ?birthPlace dbo:country ?country } UNION |\n",
            "|                |     { dbr:Bill_Gates dbo:birthPlace ?birthPlace . ?birthPlace dbo:isPartOf ?place . ?place dbo:country ?country } }     |\n",
            "+----------------+-------------------------------------------------------------------------------------------------------------------------+\n",
            "| RESULT-DECODED |                      select distinct ?sbj where { ?sbj wdt:P19 wd:Q5284 . ?sbj wdt:P31 wd:Q6256 }                       |\n",
            "+----------------+-------------------------------------------------------------------------------------------------------------------------+\n",
            "|   RESULT-Raw   |         select distinct ?sbj where { ?sbj wdt:place_of_birth wd:bill_gates . ?sbj wdt:instance_of wd:country }          |\n",
            "+----------------+-------------------------------------------------------------------------------------------------------------------------+\n"
          ]
        }
      ],
      "source": [
        "# From QALD\n",
        "q = \"Which country was Bill Gates born in?\"\n",
        "target = \"SELECT DISTINCT ?country WHERE { { dbr:Bill_Gates dbo:birthPlace ?birthPlace . ?birthPlace dbo:country ?country } UNION { dbr:Bill_Gates dbo:birthPlace ?birthPlace . ?birthPlace dbo:isPartOf ?place . ?place dbo:country ?country } }\"\n",
        "pretty_translate(target, q)"
      ]
    },
    {
      "cell_type": "code",
      "execution_count": null,
      "metadata": {},
      "outputs": [
        {
          "name": "stdout",
          "output_type": "stream",
          "text": [
            "+----------------+-------------------------------------------------------------------------------------------------------------------------+\n",
            "|    QUESTION    |                                   How many grand-children did Jacques Cousteau have?                                    |\n",
            "+----------------+-------------------------------------------------------------------------------------------------------------------------+\n",
            "|     Target     | SELECT COUNT(DISTINCT ?y AS ?y) WHERE { <http://dbpedia.org/resource/Jacques_Cousteau> <http://dbpedia.org/ontology/chi |\n",
            "|                |                                 ld> ?x . ?x <http://dbpedia.org/ontology/child> ?y . }                                  |\n",
            "+----------------+-------------------------------------------------------------------------------------------------------------------------+\n",
            "| RESULT-DECODED |                          select (COUNT(?sub) AS ?value ) { ?sub wdt:Q247153-child wd:Q83233 }                           |\n",
            "+----------------+-------------------------------------------------------------------------------------------------------------------------+\n",
            "|   RESULT-Raw   |                      select (COUNT(?sub) AS ?value ) { ?sub wdt:grand-child wd:jacques_cousteau }                       |\n",
            "+----------------+-------------------------------------------------------------------------------------------------------------------------+\n"
          ]
        }
      ],
      "source": [
        "# From QALD\n",
        "q = \"How many grand-children did Jacques Cousteau have?\"\n",
        "target = \"SELECT COUNT(DISTINCT ?y AS ?y) WHERE { <http://dbpedia.org/resource/Jacques_Cousteau> <http://dbpedia.org/ontology/child> ?x . ?x <http://dbpedia.org/ontology/child> ?y . }\"\n",
        "pretty_translate(target, q)"
      ]
    },
    {
      "cell_type": "code",
      "execution_count": null,
      "metadata": {},
      "outputs": [
        {
          "name": "stdout",
          "output_type": "stream",
          "text": [
            "<re.Match object; span=(36, 62), match=':professional_skateboarder'>\n",
            "+----------------+-------------------------------------------------------------------------------------------------------------------------+\n",
            "|    QUESTION    |                                   Give me all professional skateboarders from Sweden.                                   |\n",
            "+----------------+-------------------------------------------------------------------------------------------------------------------------+\n",
            "|     Target     | SELECT DISTINCT ?uri WHERE { ?uri dbo:occupation dbr:Skateboarder { ?uri dbo:birthPlace dbr:Sweden } UNION { ?uri dbo:b |\n",
            "|                |                                  irthPlace ?place . ?place dbo:country dbr:Sweden } }                                   |\n",
            "+----------------+-------------------------------------------------------------------------------------------------------------------------+\n",
            "| RESULT-DECODED |                  select ?answer where { wd:Q34 wdt:professional_skateboarder ?X . ?X wdt:P17 ?answer}                   |\n",
            "+----------------+-------------------------------------------------------------------------------------------------------------------------+\n",
            "|   RESULT-Raw   |               select ?answer where { wd:sweden wdt:professional_skateboarder ?X . ?X wdt:country ?answer}               |\n",
            "+----------------+-------------------------------------------------------------------------------------------------------------------------+\n"
          ]
        }
      ],
      "source": [
        "# From QALD\n",
        "q = \"Give me all professional skateboarders from Sweden.\"\n",
        "target = \"SELECT DISTINCT ?uri WHERE { ?uri dbo:occupation dbr:Skateboarder { ?uri dbo:birthPlace dbr:Sweden } UNION { ?uri dbo:birthPlace ?place . ?place dbo:country dbr:Sweden } }\"\n",
        "pretty_translate(target, q)"
      ]
    },
    {
      "cell_type": "code",
      "execution_count": null,
      "metadata": {},
      "outputs": [
        {
          "name": "stdout",
          "output_type": "stream",
          "text": [
            "<re.Match object; span=(80, 111), match=':monarchs_of_the_united_kingdom'>\n",
            "+----------------+-------------------------------------------------------------------------------------------------------------------------+\n",
            "|    QUESTION    |                             Which monarchs of the United Kingdom were married to a German?                              |\n",
            "+----------------+-------------------------------------------------------------------------------------------------------------------------+\n",
            "|     Target     | SELECT DISTINCT ?uri WHERE { ?uri rdf:type yago:WikicatMonarchsOfTheUnitedKingdom ; dbo:spouse ?spouse . ?spouse dbo:bi |\n",
            "|                |                                                 rthPlace res:Germany }                                                  |\n",
            "+----------------+-------------------------------------------------------------------------------------------------------------------------+\n",
            "| RESULT-DECODED |          select distinct ?sbj where { ?sbj wdt:P26 wd:Q188 . ?sbj wdt:P31 wd:monarchs_of_the_united_kingdom }           |\n",
            "+----------------+-------------------------------------------------------------------------------------------------------------------------+\n",
            "|   RESULT-Raw   |    select distinct ?sbj where { ?sbj wdt:spouse wd:german . ?sbj wdt:instance_of wd:monarchs_of_the_united_kingdom }    |\n",
            "+----------------+-------------------------------------------------------------------------------------------------------------------------+\n"
          ]
        }
      ],
      "source": [
        "# From QALD\n",
        "q = \"Which monarchs of the United Kingdom were married to a German?\"\n",
        "target = \"SELECT DISTINCT ?uri WHERE { ?uri rdf:type yago:WikicatMonarchsOfTheUnitedKingdom ; dbo:spouse ?spouse . ?spouse dbo:birthPlace res:Germany }\"\n",
        "pretty_translate(target, q)"
      ]
    },
    {
      "cell_type": "code",
      "execution_count": null,
      "metadata": {},
      "outputs": [
        {
          "name": "stdout",
          "output_type": "stream",
          "text": [
            "+----------------+-------------------------------------------------------------------------------------------------------------------------+\n",
            "|    QUESTION    |                                              Give me all Argentine films.                                               |\n",
            "+----------------+-------------------------------------------------------------------------------------------------------------------------+\n",
            "|     Target     | SELECT DISTINCT ?uri WHERE { { ?uri rdf:type yago:ArgentineFilms } UNION { ?uri rdf:type dbo:Film { ?uri dbo:country re |\n",
            "|                |                               s:Argentina } UNION { ?uri dbp:country \"Argentina\"@en } } }                               |\n",
            "+----------------+-------------------------------------------------------------------------------------------------------------------------+\n",
            "| RESULT-DECODED |                          select ?answer where { wd:Q414 wdt:Q5449034 ?X . ?X wdt:P17 ?answer}                           |\n",
            "+----------------+-------------------------------------------------------------------------------------------------------------------------+\n",
            "|   RESULT-Raw   |                    select ?answer where { wd:argentina wdt:film_release ?X . ?X wdt:country ?answer}                    |\n",
            "+----------------+-------------------------------------------------------------------------------------------------------------------------+\n"
          ]
        }
      ],
      "source": [
        "# From QALD\n",
        "q = \"Give me all Argentine films.\"\n",
        "target = \"SELECT DISTINCT ?uri WHERE { { ?uri rdf:type yago:ArgentineFilms } UNION { ?uri rdf:type dbo:Film { ?uri dbo:country res:Argentina } UNION { ?uri dbp:country \\\"Argentina\\\"@en } } }\"\n",
        "pretty_translate(target, q)"
      ]
    },
    {
      "cell_type": "code",
      "execution_count": null,
      "metadata": {},
      "outputs": [
        {
          "name": "stdout",
          "output_type": "stream",
          "text": [
            "+----------------+------------------------------------------------------------------------------------------------------------------------+\n",
            "|    QUESTION    |                                              How did Michael Jackson die?                                              |\n",
            "+----------------+------------------------------------------------------------------------------------------------------------------------+\n",
            "|     Target     | SELECT DISTINCT ?s WHERE { <http://dbpedia.org/resource/Michael_Jackson> <http://dbpedia.org/property/deathCause> ?s } |\n",
            "+----------------+------------------------------------------------------------------------------------------------------------------------+\n",
            "| RESULT-DECODED |                            select ?answer where { wd:Q2831 wdt:P20 ?X . ?X wdt:P20 ?answer}                            |\n",
            "+----------------+------------------------------------------------------------------------------------------------------------------------+\n",
            "|   RESULT-Raw   |            select ?answer where { wd:michael_jackson wdt:place_of_death ?X . ?X wdt:place_of_death ?answer}            |\n",
            "+----------------+------------------------------------------------------------------------------------------------------------------------+\n"
          ]
        }
      ],
      "source": [
        "# From QALD\n",
        "q = \"How did Michael Jackson die?\"\n",
        "target = \"SELECT DISTINCT ?s WHERE { <http://dbpedia.org/resource/Michael_Jackson> <http://dbpedia.org/property/deathCause> ?s }\"\n",
        "pretty_translate(target, q)"
      ]
    },
    {
      "cell_type": "code",
      "execution_count": null,
      "metadata": {},
      "outputs": [
        {
          "name": "stdout",
          "output_type": "stream",
          "text": [
            "+----------------+--------------------------------------------------------------------------------------------------+\n",
            "|    QUESTION    |                                 Where did Michael Jackson died?                                  |\n",
            "+----------------+--------------------------------------------------------------------------------------------------+\n",
            "|     Target     |                                                .                                                 |\n",
            "+----------------+--------------------------------------------------------------------------------------------------+\n",
            "| RESULT-DECODED |                 select ?answer where { wd:Q2831 wdt:P20 ?X . ?X wdt:P20 ?answer}                 |\n",
            "+----------------+--------------------------------------------------------------------------------------------------+\n",
            "|   RESULT-Raw   | select ?answer where { wd:michael_jackson wdt:place_of_death ?X . ?X wdt:place_of_death ?answer} |\n",
            "+----------------+--------------------------------------------------------------------------------------------------+\n"
          ]
        }
      ],
      "source": [
        "# From QALD\n",
        "q = \"Where did Michael Jackson died?\"\n",
        "target = \".\"\n",
        "pretty_translate(target, q)"
      ]
    },
    {
      "cell_type": "code",
      "execution_count": null,
      "metadata": {},
      "outputs": [
        {
          "name": "stdout",
          "output_type": "stream",
          "text": [
            "<re.Match object; span=(37, 58), match=':classes_of_millepede'>\n",
            "<re.Match object; span=(84, 103), match=':classes_of_science'>\n",
            "+----------------+-----------------------------------------------------------------------------------------------------------+\n",
            "|    QUESTION    |                                Which classes does the Millepede belong to?                                |\n",
            "+----------------+-----------------------------------------------------------------------------------------------------------+\n",
            "|     Target     |                     SELECT DISTINCT ?String WHERE { res:Millipede dbp:taxon ?String }                     |\n",
            "+----------------+-----------------------------------------------------------------------------------------------------------+\n",
            "| RESULT-DECODED |     select distinct ?sbj where { ?sbj wdt:classes_of_millepede . ?sbj wdt:P31 wd:classes_of_science }     |\n",
            "+----------------+-----------------------------------------------------------------------------------------------------------+\n",
            "|   RESULT-Raw   | select distinct ?sbj where { ?sbj wdt:classes_of_millepede . ?sbj wdt:instance_of wd:classes_of_science } |\n",
            "+----------------+-----------------------------------------------------------------------------------------------------------+\n"
          ]
        }
      ],
      "source": [
        "# From QALD\n",
        "q = \"Which classes does the Millepede belong to?\"\n",
        "target = \"SELECT DISTINCT ?String WHERE { res:Millipede dbp:taxon ?String }\"\n",
        "pretty_translate(target, q)"
      ]
    },
    {
      "cell_type": "code",
      "execution_count": null,
      "metadata": {},
      "outputs": [],
      "source": [
        "# From QALD\n",
        "q = \"Which classes does the Millepede belong to?\"\n",
        "target = \"SELECT DISTINCT ?String WHERE { res:Millipede dbp:taxon ?String }\"\n",
        "pretty_translate(target, q)"
      ]
    }
  ],
  "metadata": {
    "colab": {
      "name": "seq2seq-t5-use.ipynb",
      "provenance": []
    },
    "interpreter": {
      "hash": "e7370f93d1d0cde622a1f8e1c04877d8463912d04d973331ad4851f04de6915a"
    },
    "kernelspec": {
      "display_name": "Python 3.8.5 64-bit",
      "name": "python3"
    },
    "language_info": {
      "codemirror_mode": {
        "name": "ipython",
        "version": 3
      },
      "file_extension": ".py",
      "mimetype": "text/x-python",
      "name": "python",
      "nbconvert_exporter": "python",
      "pygments_lexer": "ipython3",
      "version": "3.8.5"
    },
    "orig_nbformat": 4
  },
  "nbformat": 4,
  "nbformat_minor": 2
}
