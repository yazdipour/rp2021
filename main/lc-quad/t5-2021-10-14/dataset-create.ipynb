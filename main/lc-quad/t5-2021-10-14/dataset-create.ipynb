{
 "cells": [
  {
   "cell_type": "code",
   "execution_count": 57,
   "metadata": {},
   "outputs": [],
   "source": [
    "from datasets import load_dataset, Dataset, DatasetDict\n",
    "import pandas as pd\n",
    "from tqdm import tqdm\n",
    "import re"
   ]
  },
  {
   "cell_type": "code",
   "execution_count": 58,
   "metadata": {},
   "outputs": [
    {
     "name": "stderr",
     "output_type": "stream",
     "text": [
      "Using custom data configuration default\n",
      "Reusing dataset lc_quad (/home/shyaz/.cache/huggingface/datasets/lc_quad/default/2.0.0/139ee1f12aca006669dcc1f282ec02e126c69e7595453db443ab022643d54086)\n"
     ]
    }
   ],
   "source": [
    "raw_datasets = load_dataset(\"lc_quad\")"
   ]
  },
  {
   "cell_type": "code",
   "execution_count": 59,
   "metadata": {},
   "outputs": [
    {
     "data": {
      "text/plain": [
       "{'NNQT_question': 'What is the {periodical literature} for {mouthpiece} of {Delta Air Lines}',\n",
       " 'paraphrased_question': \"What is Delta Air Line's periodical literature mouthpiece?\",\n",
       " 'question': 'What periodical literature does Delta Air Lines use as a moutpiece?',\n",
       " 'sparql_dbpedia18': 'select distinct ?obj where { ?statement <http://www.w3.org/1999/02/22-rdf-syntax-ns#subject> <http://wikidata.dbpedia.org/resource/Q188920> . ?statement <http://www.w3.org/1999/02/22-rdf-syntax-ns#predicate> <http://www.wikidata.org/entity/P2813> . ?statement <http://www.w3.org/1999/02/22-rdf-syntax-ns#object> ?obj . ?obj <http://www.wikidata.org/entity/P31> <http://wikidata.dbpedia.org/resource/Q1002697> } ',\n",
       " 'sparql_wikidata': ' select distinct ?obj where { wd:Q188920 wdt:P2813 ?obj . ?obj wdt:P31 wd:Q1002697 } ',\n",
       " 'subgraph': 'simple question right',\n",
       " 'template': ' <S P ?O ; ?O instanceOf Type>',\n",
       " 'template_index': 65,\n",
       " 'uid': 19719}"
      ]
     },
     "execution_count": 59,
     "metadata": {},
     "output_type": "execute_result"
    }
   ],
   "source": [
    "raw_datasets[\"train\"][0]"
   ]
  },
  {
   "cell_type": "code",
   "execution_count": 60,
   "metadata": {},
   "outputs": [],
   "source": [
    "rep_dict = {\n",
    "    \"{\": \"[\",\n",
    "    \"}\": \"]\",\n",
    "    \"?sbj\": \"?subject\",\n",
    "    \"?obj\": \"?object\",\n",
    "}\n",
    "rep_dict2 = {\"{\": \"\", \"}\": \"\"}\n",
    "\n",
    "\n",
    "def replace_all(text, dict):\n",
    "    for i, j in dict.items():\n",
    "        text = text.replace(i, j)\n",
    "    return text\n"
   ]
  },
  {
   "cell_type": "markdown",
   "metadata": {},
   "source": [
    "## Goal: Trim + Replace LowerCase + Remove weirdly long Question + replaceQ/P"
   ]
  },
  {
   "cell_type": "code",
   "execution_count": 61,
   "metadata": {},
   "outputs": [],
   "source": [
    "df_property = pd.read_csv('../../../data/kdwd/2021-10-11/property.csv')\n",
    "df_item = pd.read_csv('../../../data/kdwd/2021-10-11/item.csv')\n",
    "df_property2 = pd.read_csv('../../../data/kdwd/2021-10-11/property2.csv')\n",
    "df_item2 = pd.read_csv('../../../data/kdwd/2021-10-11/item2.csv')"
   ]
  },
  {
   "cell_type": "code",
   "execution_count": 62,
   "metadata": {},
   "outputs": [],
   "source": [
    "df_item3 = pd.read_csv('../../../data/kdwd/2021-10-11/item3.csv')"
   ]
  },
  {
   "cell_type": "code",
   "execution_count": 63,
   "metadata": {},
   "outputs": [
    {
     "data": {
      "text/plain": [
       "'population'"
      ]
     },
     "execution_count": 63,
     "metadata": {},
     "output_type": "execute_result"
    }
   ],
   "source": [
    "df_property[df_property.id==1082].en.iloc[0]"
   ]
  },
  {
   "cell_type": "code",
   "execution_count": 73,
   "metadata": {},
   "outputs": [],
   "source": [
    "# id to str\n",
    "couldnotfind = []\n",
    "def encode_ids(x, df, df2):\n",
    "    try:\n",
    "        return df[df.id==int(x[1:])].en.iloc[0]\n",
    "    except:\n",
    "        try:\n",
    "            return df2[df2.id==int(x[1:])].en.iloc[0]\n",
    "        except:\n",
    "            try:\n",
    "                return df_item3[df_item3.id==int(x[1:])].en.iloc[0]\n",
    "            except:\n",
    "                couldnotfind.append(x)\n",
    "                return x"
   ]
  },
  {
   "cell_type": "code",
   "execution_count": 66,
   "metadata": {},
   "outputs": [
    {
     "data": {
      "text/plain": [
       "'Academy Award for Best Original Score'"
      ]
     },
     "execution_count": 66,
     "metadata": {},
     "output_type": "execute_result"
    }
   ],
   "source": [
    "encode_ids('Q488651', df_item, df_item2)"
   ]
  },
  {
   "cell_type": "code",
   "execution_count": 74,
   "metadata": {},
   "outputs": [
    {
     "data": {
      "text/plain": [
       "\"SELECT ?object WHERE [ wd:<somalia> p:<population> ?s . ?s ps:<population> ?object . ?s pq:<point in time> ?x filter(contains(YEAR(?x),'2009')) ]\""
      ]
     },
     "execution_count": 74,
     "metadata": {},
     "output_type": "execute_result"
    }
   ],
   "source": [
    "def encode_props(qry):\n",
    "    qry = replace_all(qry, rep_dict).strip()\n",
    "    # Q\n",
    "    for m in re.finditer(\":Q\\d+\", qry):\n",
    "        x = m.group(0)[1:]\n",
    "        newstring = f'<{encode_ids(x, df_item, df_item2)}>'\n",
    "        # newstring = encode_ids(x, df_item, df_item2).replace(\" \", \"_\")\n",
    "        qry = qry.replace(x, newstring)\n",
    "    # P\n",
    "    for m in re.finditer(\":P\\d+\", qry):\n",
    "        x = m.group(0)[1:]\n",
    "        newstring = f'<{encode_ids(x, df_property, df_property2)}>'\n",
    "        qry = qry.replace(x, newstring)\n",
    "    return qry\n",
    "# Test\n",
    "encode_props('SELECT ?obj WHERE { wd:Q1045 p:P1082 ?s . ?s ps:P1082 ?obj . ?s pq:P585 ?x filter(contains(YEAR(?x),\\'2009\\')) }')\n",
    "# \"select ?obj where [ wd:somalia p:population ?s . ?s ps:population ?obj . ?s pq:point_in_time ?x filter(contains(YEAR(?x),'2009')) ]\""
   ]
  },
  {
   "cell_type": "code",
   "execution_count": 68,
   "metadata": {},
   "outputs": [
    {
     "data": {
      "text/plain": [
       "\"SELECT DISTINCT ?subject ?subject_label WHERE [ ?subject wdt:<instance of> wd:<female beauty pageant> . ?subject wdt:<operating area> wd:<all countries> . ?subject rdfs:label ?subject_label . FILTER(CONTAINS(lcase(?subject_label), 'model')) . FILTER (lang(?subject_label) = 'en') ] LIMIT 25\""
      ]
     },
     "execution_count": 68,
     "metadata": {},
     "output_type": "execute_result"
    }
   ],
   "source": [
    "encode_props(\"SELECT DISTINCT ?sbj ?sbj_label WHERE { ?sbj wdt:P31 wd:Q58863414 . ?sbj wdt:P2541 wd:Q62900839 . ?sbj rdfs:label ?sbj_label . FILTER(CONTAINS(lcase(?sbj_label), 'model')) . FILTER (lang(?sbj_label) = 'en') } LIMIT 25\")"
   ]
  },
  {
   "cell_type": "code",
   "execution_count": 76,
   "metadata": {},
   "outputs": [],
   "source": [
    "def prepare(ds):\n",
    "    col = 'translation'\n",
    "    df = pd.DataFrame(columns=[col])\n",
    "    for d in tqdm(ds):\n",
    "        try:\n",
    "            qry = encode_props(d['sparql_wikidata'])\n",
    "            if d['question'] is not None and d['question']!=[] and len(d['question'])<250: \n",
    "                df = df.append({col: {'en':replace_all(d['question'], rep_dict2).strip(), 'sparql': qry}}, ignore_index=True)\n",
    "            if d['paraphrased_question'] is not None and d['paraphrased_question']!=[] and len(d['paraphrased_question'])<250:\n",
    "                df = df.append({col: {'en':replace_all(d['paraphrased_question'], rep_dict2).strip(), 'sparql': qry}}, ignore_index=True)\n",
    "        except Exception as e: print(e)\n",
    "    return df"
   ]
  },
  {
   "cell_type": "code",
   "execution_count": 77,
   "metadata": {
    "tags": []
   },
   "outputs": [
    {
     "name": "stderr",
     "output_type": "stream",
     "text": [
      "100%|██████████| 4781/4781 [02:31<00:00, 31.56it/s]\n"
     ]
    }
   ],
   "source": [
    "df_test = prepare(raw_datasets[\"test\"])"
   ]
  },
  {
   "cell_type": "code",
   "execution_count": 79,
   "metadata": {},
   "outputs": [
    {
     "name": "stderr",
     "output_type": "stream",
     "text": [
      "100%|██████████| 19293/19293 [10:00<00:00, 32.14it/s]\n"
     ]
    }
   ],
   "source": [
    "df_train = prepare(raw_datasets[\"train\"])"
   ]
  },
  {
   "cell_type": "code",
   "execution_count": 80,
   "metadata": {},
   "outputs": [
    {
     "name": "stdout",
     "output_type": "stream",
     "text": [
      "(9549, 1)\n",
      "(38514, 1)\n"
     ]
    }
   ],
   "source": [
    "print(df_test.shape)\n",
    "print(df_train.shape)"
   ]
  },
  {
   "cell_type": "code",
   "execution_count": 81,
   "metadata": {},
   "outputs": [
    {
     "name": "stdout",
     "output_type": "stream",
     "text": [
      "(48063, 1)\n",
      "(48063, 1)\n"
     ]
    }
   ],
   "source": [
    "df_all = pd.concat([df_train, df_test])\n",
    "print(df_all.shape)\n",
    "# shuffling all\n",
    "df_all  = df_all.sample(frac = 1).reset_index(drop=True)\n",
    "print(df_all.shape)"
   ]
  },
  {
   "cell_type": "code",
   "execution_count": 82,
   "metadata": {},
   "outputs": [],
   "source": [
    "from sklearn.model_selection import train_test_split\n",
    "df_train2, df_test2 = train_test_split(df_all, test_size=0.2)"
   ]
  },
  {
   "cell_type": "code",
   "execution_count": 83,
   "metadata": {},
   "outputs": [
    {
     "name": "stdout",
     "output_type": "stream",
     "text": [
      "(9613, 1)\n",
      "(38450, 1)\n"
     ]
    }
   ],
   "source": [
    "print(df_test2.shape)\n",
    "print(df_train2.shape)"
   ]
  },
  {
   "cell_type": "code",
   "execution_count": 84,
   "metadata": {},
   "outputs": [],
   "source": [
    "ds_train = Dataset.from_pandas(df_train2)\n",
    "ds_test = Dataset.from_pandas(df_test2)"
   ]
  },
  {
   "cell_type": "code",
   "execution_count": 85,
   "metadata": {},
   "outputs": [
    {
     "data": {
      "text/html": [
       "<div>\n",
       "<style scoped>\n",
       "    .dataframe tbody tr th:only-of-type {\n",
       "        vertical-align: middle;\n",
       "    }\n",
       "\n",
       "    .dataframe tbody tr th {\n",
       "        vertical-align: top;\n",
       "    }\n",
       "\n",
       "    .dataframe thead th {\n",
       "        text-align: right;\n",
       "    }\n",
       "</style>\n",
       "<table border=\"1\" class=\"dataframe\">\n",
       "  <thead>\n",
       "    <tr style=\"text-align: right;\">\n",
       "      <th></th>\n",
       "      <th>translation</th>\n",
       "    </tr>\n",
       "  </thead>\n",
       "  <tbody>\n",
       "    <tr>\n",
       "      <th>0</th>\n",
       "      <td>{'en': 'Who is the  country for head of state of Mahmoud Abbas', 'sparql': 'select distinct ?sub...</td>\n",
       "    </tr>\n",
       "    <tr>\n",
       "      <th>1</th>\n",
       "      <td>{'en': 'What country is Mahmoud Abbas the head of state of?', 'sparql': 'select distinct ?subjec...</td>\n",
       "    </tr>\n",
       "    <tr>\n",
       "      <th>2</th>\n",
       "      <td>{'en': 'What was the population of Somalia in 2009-0-0?', 'sparql': 'SELECT ?object WHERE [ wd:&lt;...</td>\n",
       "    </tr>\n",
       "    <tr>\n",
       "      <th>3</th>\n",
       "      <td>{'en': 'As of 2009, how many people lived in Somalia?', 'sparql': 'SELECT ?object WHERE [ wd:&lt;so...</td>\n",
       "    </tr>\n",
       "    <tr>\n",
       "      <th>4</th>\n",
       "      <td>{'en': 'Which female actress is the voice over on South Park and is employed as a singer?', 'spa...</td>\n",
       "    </tr>\n",
       "  </tbody>\n",
       "</table>\n",
       "</div>"
      ],
      "text/plain": [
       "                                                                                           translation\n",
       "0  {'en': 'Who is the  country for head of state of Mahmoud Abbas', 'sparql': 'select distinct ?sub...\n",
       "1  {'en': 'What country is Mahmoud Abbas the head of state of?', 'sparql': 'select distinct ?subjec...\n",
       "2  {'en': 'What was the population of Somalia in 2009-0-0?', 'sparql': 'SELECT ?object WHERE [ wd:<...\n",
       "3  {'en': 'As of 2009, how many people lived in Somalia?', 'sparql': 'SELECT ?object WHERE [ wd:<so...\n",
       "4  {'en': 'Which female actress is the voice over on South Park and is employed as a singer?', 'spa..."
      ]
     },
     "execution_count": 85,
     "metadata": {},
     "output_type": "execute_result"
    }
   ],
   "source": [
    "pd.options.display.max_colwidth = 100\n",
    "df_test.head()"
   ]
  },
  {
   "cell_type": "code",
   "execution_count": 86,
   "metadata": {},
   "outputs": [
    {
     "data": {
      "text/plain": [
       "{'en': 'Who is the  country for head of state of Mahmoud Abbas',\n",
       " 'sparql': 'select distinct ?subject where [ ?subject wdt:<head of state> wd:<mahmoud abbas> . ?subject wdt:<instance of> wd:<country> ]'}"
      ]
     },
     "execution_count": 86,
     "metadata": {},
     "output_type": "execute_result"
    }
   ],
   "source": [
    "df_test.iloc[0].translation    "
   ]
  },
  {
   "cell_type": "code",
   "execution_count": 87,
   "metadata": {},
   "outputs": [],
   "source": [
    "mother_ds = DatasetDict({'train': ds_train, 'test':ds_test})"
   ]
  },
  {
   "cell_type": "code",
   "execution_count": 88,
   "metadata": {},
   "outputs": [],
   "source": [
    "ds_path='../../../data/dataset/lc-quad-wikidata-2021-10-15'\n",
    "mother_ds.save_to_disk(ds_path)"
   ]
  },
  {
   "cell_type": "code",
   "execution_count": 89,
   "metadata": {},
   "outputs": [],
   "source": [
    "df_train2.to_csv(f'{ds_path}/train.csv')\n",
    "df_test2.to_csv(f'{ds_path}/test.csv')"
   ]
  }
 ],
 "metadata": {
  "interpreter": {
   "hash": "e7370f93d1d0cde622a1f8e1c04877d8463912d04d973331ad4851f04de6915a"
  },
  "kernelspec": {
   "display_name": "Python 3.8.5 64-bit",
   "name": "python3"
  },
  "language_info": {
   "codemirror_mode": {
    "name": "ipython",
    "version": 3
   },
   "file_extension": ".py",
   "mimetype": "text/x-python",
   "name": "python",
   "nbconvert_exporter": "python",
   "pygments_lexer": "ipython3",
   "version": "3.8.5"
  },
  "orig_nbformat": 4
 },
 "nbformat": 4,
 "nbformat_minor": 2
}
