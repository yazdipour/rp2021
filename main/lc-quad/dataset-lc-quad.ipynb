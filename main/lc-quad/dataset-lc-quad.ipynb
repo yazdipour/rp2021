{
 "metadata": {
  "language_info": {
   "codemirror_mode": {
    "name": "ipython",
    "version": 3
   },
   "file_extension": ".py",
   "mimetype": "text/x-python",
   "name": "python",
   "nbconvert_exporter": "python",
   "pygments_lexer": "ipython3",
   "version": "3.8.5"
  },
  "orig_nbformat": 4,
  "kernelspec": {
   "name": "python3",
   "display_name": "Python 3.8.5 64-bit ('usr')"
  },
  "interpreter": {
   "hash": "767d51c1340bd893661ea55ea3124f6de3c7a262a8b4abca0554b478b1e2ff90"
  }
 },
 "nbformat": 4,
 "nbformat_minor": 2,
 "cells": [
  {
   "cell_type": "code",
   "execution_count": 1,
   "metadata": {},
   "outputs": [],
   "source": [
    "from datasets import load_dataset"
   ]
  },
  {
   "cell_type": "code",
   "execution_count": 2,
   "metadata": {},
   "outputs": [
    {
     "output_type": "stream",
     "name": "stderr",
     "text": [
      "Using custom data configuration default\n",
      "Reusing dataset lc_quad (/home/shyaz/.cache/huggingface/datasets/lc_quad/default/2.0.0/139ee1f12aca006669dcc1f282ec02e126c69e7595453db443ab022643d54086)\n"
     ]
    }
   ],
   "source": [
    "dataset = load_dataset(\"lc_quad\")"
   ]
  },
  {
   "cell_type": "code",
   "execution_count": 4,
   "metadata": {},
   "outputs": [
    {
     "output_type": "execute_result",
     "data": {
      "text/plain": [
       "DatasetDict({\n",
       "    train: Dataset({\n",
       "        features: ['NNQT_question', 'uid', 'subgraph', 'template_index', 'question', 'sparql_wikidata', 'sparql_dbpedia18', 'template', 'paraphrased_question'],\n",
       "        num_rows: 19293\n",
       "    })\n",
       "    test: Dataset({\n",
       "        features: ['NNQT_question', 'uid', 'subgraph', 'template_index', 'question', 'sparql_wikidata', 'sparql_dbpedia18', 'template', 'paraphrased_question'],\n",
       "        num_rows: 4781\n",
       "    })\n",
       "})"
      ]
     },
     "metadata": {},
     "execution_count": 4
    }
   ],
   "source": [
    "dataset"
   ]
  },
  {
   "cell_type": "code",
   "execution_count": 12,
   "metadata": {},
   "outputs": [
    {
     "output_type": "execute_result",
     "data": {
      "text/plain": [
       "{'NNQT_question': Value(dtype='string', id=None),\n",
       " 'uid': Value(dtype='int32', id=None),\n",
       " 'subgraph': Value(dtype='string', id=None),\n",
       " 'template_index': Value(dtype='int32', id=None),\n",
       " 'question': Value(dtype='string', id=None),\n",
       " 'sparql_wikidata': Value(dtype='string', id=None),\n",
       " 'sparql_dbpedia18': Value(dtype='string', id=None),\n",
       " 'template': Value(dtype='string', id=None),\n",
       " 'paraphrased_question': Value(dtype='string', id=None)}"
      ]
     },
     "metadata": {},
     "execution_count": 12
    }
   ],
   "source": [
    "dataset['test'].features"
   ]
  }
 ]
}