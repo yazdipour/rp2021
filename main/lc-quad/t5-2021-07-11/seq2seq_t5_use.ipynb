{
  "nbformat": 4,
  "nbformat_minor": 0,
  "metadata": {
    "language_info": {
      "codemirror_mode": {
        "name": "ipython",
        "version": 3
      },
      "file_extension": ".py",
      "mimetype": "text/x-python",
      "name": "python",
      "nbconvert_exporter": "python",
      "pygments_lexer": "ipython3",
      "version": "3.8.5"
    },
    "orig_nbformat": 4,
    "kernelspec": {
      "name": "python3",
      "display_name": "Python 3.8.5 64-bit"
    },
    "interpreter": {
      "hash": "e7370f93d1d0cde622a1f8e1c04877d8463912d04d973331ad4851f04de6915a"
    },
    "colab": {
      "name": "seq2seq-t5-use.ipynb",
      "provenance": []
    }
  },
  "cells": [
    {
      "cell_type": "code",
      "metadata": {
        "id": "dKV8MCK1Y12g"
      },
      "source": [
        "!pip install datasets transformers -qqq"
      ],
      "execution_count": 1,
      "outputs": []
    },
    {
      "cell_type": "code",
      "metadata": {
        "id": "-oei2ojLYoHV"
      },
      "source": [
        "from transformers import AutoTokenizer, T5TokenizerFast\n",
        "model_checkpoint = \"t5-base\"\n",
        "prefix = \"translate English to Sparql: \"\n",
        "model_path='../../../data/models/sparql-translator-t5-2021-07-09'\n",
        "tokenizer = T5TokenizerFast.from_pretrained(model_checkpoint, src_lang=\"en\", tgt_lang=\"sparql\")"
      ],
      "execution_count": 111,
      "outputs": []
    },
    {
      "cell_type": "code",
      "execution_count": 112,
      "metadata": {},
      "outputs": [
        {
          "output_type": "stream",
          "name": "stdout",
          "text": [
            "{'input_ids': [432, 32, 32, 32, 1], 'attention_mask': [1, 1, 1, 1, 1]}\n"
          ]
        }
      ],
      "source": [
        "with tokenizer.as_target_tokenizer():\n",
        "      print(tokenizer('Allooo', max_length=100, truncation=True))"
      ]
    },
    {
      "cell_type": "code",
      "metadata": {
        "colab": {
          "base_uri": "https://localhost:8080/"
        },
        "id": "yHh16lJ1ZGaK",
        "outputId": "11385eca-5674-4d8f-f5fc-0cc3adc934ca"
      },
      "source": [
        "# from google.colab import drive\n",
        "# drive.mount('drive')"
      ],
      "execution_count": 4,
      "outputs": []
    },
    {
      "cell_type": "code",
      "metadata": {
        "id": "QL3k9bCkYoHZ"
      },
      "source": [
        "from transformers import AutoModelForSeq2SeqLM, DataCollatorForSeq2Seq, Seq2SeqTrainingArguments, Seq2SeqTrainer\n",
        "model = AutoModelForSeq2SeqLM.from_pretrained(model_path)#.to(\"cuda\")"
      ],
      "execution_count": 113,
      "outputs": []
    },
    {
      "cell_type": "code",
      "metadata": {
        "id": "qqNrJWWEYoHa"
      },
      "source": [
        "from transformers import pipeline\n",
        "\n",
        "translator = pipeline(\n",
        "    \"translation_xx_to_yy\",\n",
        "    model=model,\n",
        "    tokenizer=tokenizer\n",
        ")"
      ],
      "execution_count": 114,
      "outputs": []
    },
    {
      "cell_type": "code",
      "execution_count": 1,
      "metadata": {},
      "outputs": [],
      "source": [
        "import pandas as pd\n",
        "import re"
      ]
    },
    {
      "cell_type": "code",
      "execution_count": 28,
      "metadata": {},
      "outputs": [],
      "source": [
        "df_item = pd.read_csv('../../../data/kdwd/item_no_desc.csv')#.set_index('item_id')\n",
        "df_property = pd.read_csv('../../../data/kdwd/property.csv')#.set_index('property_id')\n",
        "del df_property['en_description']\n",
        "# del df_item['Unnamed: 0']"
      ]
    },
    {
      "cell_type": "code",
      "execution_count": 4,
      "metadata": {},
      "outputs": [],
      "source": [
        "# Lower Prop Dataset\n",
        "df_property['en_label'] = df_property['en_label'].str.lower()"
      ]
    },
    {
      "cell_type": "code",
      "execution_count": null,
      "metadata": {},
      "outputs": [],
      "source": [
        "df_item_aliases = pd.read_csv('../../../data/kdwd/item_aliases.csv')#.set_index('item_id')\n",
        "df_property_aliases = pd.read_csv('../../../data/kdwd/property_aliases.csv')#.set_index('property_id')\n",
        "df_item_aliases['en_alias'] = df_item_aliases['en_alias'].str.lower()\n",
        "df_property_aliases['en_alias'] = df_property_aliases['en_alias'].str.lower()"
      ]
    },
    {
      "cell_type": "code",
      "execution_count": 6,
      "metadata": {},
      "outputs": [
        {
          "output_type": "execute_result",
          "data": {
            "text/plain": [
              "\"SELECT ?obj WHERE { wd:somalia p:population ?s . ?s ps:population ?obj . ?s pq:point_in_time ?x filter(contains(YEAR(?x),'2009')) }\""
            ]
          },
          "metadata": {},
          "execution_count": 6
        }
      ],
      "source": [
        "def encode_props(qry):\n",
        "    # Q\n",
        "    for m in re.finditer(\":Q\\d+\", qry):\n",
        "        x = m.group(0)[1:]\n",
        "        newstring = df_item.loc[int(x[1:])]['en_label'].replace(\" \", \"_\").lower()\n",
        "        qry = qry.replace(x, newstring)\n",
        "    # P\n",
        "    for m in re.finditer(\":P\\d+\", qry):\n",
        "        x = m.group(0)[1:]\n",
        "        newstring = df_property.loc[int(x[1:])]['en_label'].replace(\" \", \"_\").lower()\n",
        "        qry = qry.replace(x, newstring)\n",
        "    return qry\n",
        "encode_props('SELECT ?obj WHERE { wd:Q1045 p:P1082 ?s . ?s ps:P1082 ?obj . ?s pq:P585 ?x filter(contains(YEAR(?x),\\'2009\\')) }')\n",
        "# \"select ?obj where [ wd:somalia p:population ?s . ?s ps:population ?obj . ?s pq:point_in_time ?x filter(contains(YEAR(?x),'2009')) ]\""
      ]
    },
    {
      "cell_type": "code",
      "execution_count": 123,
      "metadata": {},
      "outputs": [],
      "source": [
        "def replace_all(text, dict):\n",
        "    for i, j in dict.items(): text = text.replace(i, j)\n",
        "    return text"
      ]
    },
    {
      "cell_type": "code",
      "execution_count": 222,
      "metadata": {},
      "outputs": [],
      "source": [
        "def decode_props(qry):\n",
        "    rep_dict = {}\n",
        "    qry = qry.replace('[','{').replace(']','}')\n",
        "    for m in re.finditer(\":\\w+\", qry):\n",
        "        pref = qry[m.start(0)-2:m.start(0)]\n",
        "        try:\n",
        "            x = m.group(0)[1:]\n",
        "            if 'wd' not in pref:\n",
        "                s = df_property[df_property['en_label']==x.replace(\"_\", \" \")]\n",
        "                if len(s)==0:\n",
        "                    s = df_property_aliases[df_property_aliases['en_alias']==x.replace(\"_\", \" \")]\n",
        "                if len(s)>0:\n",
        "                    id = s.iloc[0][0]\n",
        "                    rep_dict[x]='P'+str(id)\n",
        "                    continue\n",
        "            # Use else to do not replace missing Ps with Qs\n",
        "            s = df_item[df_item['en_label']==x.replace(\"_\", \" \")]\n",
        "            if len(s)==0:\n",
        "                s = df_item_aliases[df_item_aliases['en_alias']==x.replace(\"_\", \" \")]\n",
        "            id = s.iloc[0][0]\n",
        "            rep_dict[x]='Q'+str(id)\n",
        "        except: print(m)\n",
        "    return (qry, replace_all(qry, rep_dict))"
      ]
    },
    {
      "cell_type": "code",
      "execution_count": 204,
      "metadata": {},
      "outputs": [
        {
          "output_type": "execute_result",
          "data": {
            "text/plain": [
              "(\"select ?obj where { wd:somalia p:population ?s . ?s ps:population ?obj . ?s pq:point_in_time ?x filter(contains(YEAR(?x),'2009')) }\",\n",
              " \"select ?obj where { wd:Q1045 p:P1082 ?s . ?s ps:P1082 ?obj . ?s pq:P585 ?x filter(contains(YEAR(?x),'2009')) }\")"
            ]
          },
          "metadata": {},
          "execution_count": 204
        }
      ],
      "source": [
        "# rplc_props('SELECT ?obj WHERE { wd:Q1045 p:P1082 ?s . ?s ps:P1082 ?obj . ?s pq:P585 ?x filter(contains(YEAR(?x),\\'2009\\')) }')\n",
        "decode_props(\"select ?obj where [ wd:somalia p:population ?s . ?s ps:population ?obj . ?s pq:point_in_time ?x filter(contains(YEAR(?x),'2009')) ]\")"
      ]
    },
    {
      "cell_type": "code",
      "execution_count": 194,
      "metadata": {},
      "outputs": [],
      "source": [
        "translate= lambda q: decode_props(translator(prefix+q, max_length=100)[0]['translation_text'])"
      ]
    },
    {
      "cell_type": "code",
      "execution_count": 172,
      "metadata": {},
      "outputs": [],
      "source": [
        "!pip install beautifultable -qqq"
      ]
    },
    {
      "cell_type": "code",
      "execution_count": 195,
      "metadata": {},
      "outputs": [],
      "source": [
        "def pretty_translate(t,q): \n",
        "    ans = translate(q)\n",
        "    # print('QUESTION:\\n' + q + '\\nTARGET:\\n'+ t +'\\nRESULT:\\n' + ans[0]+ '\\nRESULT-DECODED:\\n' + ans[1])\n",
        "    from beautifultable import BeautifulTable\n",
        "    table = BeautifulTable(maxwidth=140)\n",
        "    # table.column_headers = [\"\", \"Man Utd\",\"Man City\",\"T Hotspur\"]\n",
        "    table.rows.append(['QUESTION', q])\n",
        "    table.rows.append(['Target', t])\n",
        "    table.rows.append(['RESULT-DECODED', ans[1]])\n",
        "    table.rows.append(['RESULT-Raw', ans[0]])\n",
        "    print(table)"
      ]
    },
    {
      "source": [
        "# TESTING"
      ],
      "cell_type": "markdown",
      "metadata": {}
    },
    {
      "cell_type": "code",
      "execution_count": 152,
      "metadata": {},
      "outputs": [
        {
          "output_type": "stream",
          "name": "stdout",
          "text": [
            "Generated by the model:\nselect distinct ?sbj where [ ?sbj wdt:instance_of wd:marlin_manson . ?sbj wdt:instance_of wd:human ]\n<re.Match object; span=(52, 66), match=':marlin_manson'>\n"
          ]
        },
        {
          "output_type": "execute_result",
          "data": {
            "text/plain": [
              "'select distinct ?sbj where { ?sbj wdt:P31 wd:marlin_manson . ?sbj wdt:P31 wd:Q5 }'"
            ]
          },
          "metadata": {},
          "execution_count": 152
        }
      ],
      "source": [
        "translate('Who is Marlin Manson?')"
      ]
    },
    {
      "cell_type": "code",
      "execution_count": 153,
      "metadata": {},
      "outputs": [
        {
          "output_type": "stream",
          "name": "stdout",
          "text": [
            "Generated by the model:\nselect distinct ?sbj where [ ?sbj wdt:instance_of wd:bill_gates . ?sbj wdt:instance_of wd:human ]\n"
          ]
        },
        {
          "output_type": "execute_result",
          "data": {
            "text/plain": [
              "'select distinct ?sbj where { ?sbj wdt:P31 wd:Q5284 . ?sbj wdt:P31 wd:Q5 }'"
            ]
          },
          "metadata": {},
          "execution_count": 153
        }
      ],
      "source": [
        "translate('Who is Bill Gates?')"
      ]
    },
    {
      "cell_type": "code",
      "execution_count": 148,
      "metadata": {},
      "outputs": [
        {
          "output_type": "stream",
          "name": "stdout",
          "text": [
            "Generated by the model:\nselect ?answer where [ wd:salt_lake_city wdt:located_in_time_zone ?X . ?X wdt:location ?answer]\n"
          ]
        },
        {
          "output_type": "execute_result",
          "data": {
            "text/plain": [
              "'select ?answer where { wd:Q23337 wdt:P421 ?X . ?X wdt:P276 ?answer}'"
            ]
          },
          "metadata": {},
          "execution_count": 148
        }
      ],
      "source": [
        "translate('What is the time zone of Salt Lake City?')"
      ]
    },
    {
      "cell_type": "code",
      "execution_count": 196,
      "metadata": {},
      "outputs": [
        {
          "output_type": "stream",
          "name": "stdout",
          "text": [
            "+----------------+----------------------------------------------------------------------------------------------------------+\n|    QUESTION    |                          Who is the country for head of state of Mahmoud Abbas?                          |\n+----------------+----------------------------------------------------------------------------------------------------------+\n|     Target     |              select distinct ?sbj where { ?sbj wdt:P35 wd:Q127998 . ?sbj wdt:P31 wd:Q6256 }              |\n+----------------+----------------------------------------------------------------------------------------------------------+\n| RESULT-DECODED |              select distinct ?obj where { wd:Q127998 wdt:P35 ?obj . ?obj wdt:P31 wd:Q6256 }              |\n+----------------+----------------------------------------------------------------------------------------------------------+\n|   RESULT-Raw   | select distinct ?obj where { wd:mahmoud_abbas wdt:head_of_state ?obj . ?obj wdt:instance_of wd:country } |\n+----------------+----------------------------------------------------------------------------------------------------------+\n"
          ]
        }
      ],
      "source": [
        "pretty_translate('select distinct ?sbj where { ?sbj wdt:P35 wd:Q127998 . ?sbj wdt:P31 wd:Q6256 }','Who is the country for head of state of Mahmoud Abbas?')"
      ]
    },
    {
      "cell_type": "code",
      "execution_count": 197,
      "metadata": {},
      "outputs": [
        {
          "output_type": "stream",
          "name": "stdout",
          "text": [
            "+----------------+----------------------------------------------------------------------------------------------------------+\n|    QUESTION    |                           What country is Mahmoud Abbas the head of state of?                            |\n+----------------+----------------------------------------------------------------------------------------------------------+\n|     Target     |              select distinct ?sbj where { ?sbj wdt:P35 wd:Q127998 . ?sbj wdt:P31 wd:Q6256 }              |\n+----------------+----------------------------------------------------------------------------------------------------------+\n| RESULT-DECODED |              select distinct ?sbj where { ?sbj wdt:P35 wd:Q127998 . ?sbj wdt:P31 wd:Q6256 }              |\n+----------------+----------------------------------------------------------------------------------------------------------+\n|   RESULT-Raw   | select distinct ?sbj where { ?sbj wdt:head_of_state wd:mahmoud_abbas . ?sbj wdt:instance_of wd:country } |\n+----------------+----------------------------------------------------------------------------------------------------------+\n"
          ]
        }
      ],
      "source": [
        "pretty_translate('select distinct ?sbj where { ?sbj wdt:P35 wd:Q127998 . ?sbj wdt:P31 wd:Q6256 }',\"What country is Mahmoud Abbas the head of state of?\")"
      ]
    },
    {
      "cell_type": "code",
      "execution_count": 198,
      "metadata": {},
      "outputs": [
        {
          "output_type": "stream",
          "name": "stdout",
          "text": [
            "+----------------+----------------------------------------------------------------------------------------------------------+\n|    QUESTION    |                          Who is the country for head of state of Mahmoud Abbas?                          |\n+----------------+----------------------------------------------------------------------------------------------------------+\n|     Target     |              select distinct ?sbj where { ?sbj wdt:P35 wd:Q127998 . ?sbj wdt:P31 wd:Q6256 }              |\n+----------------+----------------------------------------------------------------------------------------------------------+\n| RESULT-DECODED |              select distinct ?obj where { wd:Q127998 wdt:P35 ?obj . ?obj wdt:P31 wd:Q6256 }              |\n+----------------+----------------------------------------------------------------------------------------------------------+\n|   RESULT-Raw   | select distinct ?obj where { wd:mahmoud_abbas wdt:head_of_state ?obj . ?obj wdt:instance_of wd:country } |\n+----------------+----------------------------------------------------------------------------------------------------------+\n"
          ]
        }
      ],
      "source": [
        "pretty_translate('select distinct ?sbj where { ?sbj wdt:P35 wd:Q127998 . ?sbj wdt:P31 wd:Q6256 }','Who is the country for head of state of Mahmoud Abbas?')"
      ]
    },
    {
      "cell_type": "code",
      "execution_count": 223,
      "metadata": {},
      "outputs": [
        {
          "output_type": "stream",
          "name": "stdout",
          "text": [
            "+----------------+-----------------------------------------------------------------------------------------------+\n|    QUESTION    |       which female actress is the voice over on south park and is employed as a singer?       |\n+----------------+-----------------------------------------------------------------------------------------------+\n|     Target     |       SELECT ?answer WHERE { wd:Q16538 wdt:P725 ?answer . ?answer wdt:P106 wd:Q177220}        |\n+----------------+-----------------------------------------------------------------------------------------------+\n| RESULT-DECODED |     select ?answer where { wd:Q16538 wdt:Q12280274 ?answer . ?answer wdt:P108 wd:Q177220}     |\n+----------------+-----------------------------------------------------------------------------------------------+\n|   RESULT-Raw   | select ?answer where { wd:south_park wdt:voice_over ?answer . ?answer wdt:employer wd:singer} |\n+----------------+-----------------------------------------------------------------------------------------------+\n"
          ]
        }
      ],
      "source": [
        "pretty_translate(\"SELECT ?answer WHERE { wd:Q16538 wdt:P725 ?answer . ?answer wdt:P106 wd:Q177220}\",\"Which female actress is the voice over on South Park and is employed as a singer?\".lower())"
      ]
    },
    {
      "cell_type": "code",
      "execution_count": 224,
      "metadata": {},
      "outputs": [
        {
          "output_type": "stream",
          "name": "stdout",
          "text": [
            "+----------------+-----------------------------------------------------------------------------------+\n|    QUESTION    |   Which female actress on South Park is the voice over and is used as a singer?   |\n+----------------+-----------------------------------------------------------------------------------+\n|     Target     | SELECT ?answer WHERE { wd:Q16538 wdt:P725 ?answer . ?answer wdt:P106 wd:Q177220}  |\n+----------------+-----------------------------------------------------------------------------------+\n| RESULT-DECODED |   select ?answer where { wd:Q16538 wdt:Q12280274 ?answer . ?answer wdt:Q177220}   |\n+----------------+-----------------------------------------------------------------------------------+\n|   RESULT-Raw   | select ?answer where { wd:south_park wdt:voice_over ?answer . ?answer wdt:singer} |\n+----------------+-----------------------------------------------------------------------------------+\n"
          ]
        }
      ],
      "source": [
        "pretty_translate(\"SELECT ?answer WHERE { wd:Q16538 wdt:P725 ?answer . ?answer wdt:P106 wd:Q177220}\",\"Which female actress on South Park is the voice over and is used as a singer?\")"
      ]
    },
    {
      "cell_type": "code",
      "execution_count": 225,
      "metadata": {},
      "outputs": [
        {
          "output_type": "stream",
          "name": "stdout",
          "text": [
            "<re.Match object; span=(25, 34), match=':paul_erd'>\n+----------------+-----------------------------------------------------------------------------------+\n|    QUESTION    |                    Which is the PIM authority ID of Paul Erd?                     |\n+----------------+-----------------------------------------------------------------------------------+\n|     Target     |           select distinct ?answer where { wd:Q173746 wdt:P3973 ?answer}           |\n+----------------+-----------------------------------------------------------------------------------+\n| RESULT-DECODED |       select ?answer where { wd:paul_erd wdt:P797 ?X . ?X wdt:P31 ?answer}        |\n+----------------+-----------------------------------------------------------------------------------+\n|   RESULT-Raw   | select ?answer where { wd:paul_erd wdt:authority ?X . ?X wdt:instance_of ?answer} |\n+----------------+-----------------------------------------------------------------------------------+\n"
          ]
        }
      ],
      "source": [
        "# Paul Erdős (Q173746)\n",
        "pretty_translate(\"select distinct ?answer where { wd:Q173746 wdt:P3973 ?answer}\",\"Which is the PIM authority ID of Paul Erd?\")"
      ]
    },
    {
      "cell_type": "code",
      "execution_count": 226,
      "metadata": {},
      "outputs": [
        {
          "output_type": "stream",
          "name": "stdout",
          "text": [
            "+----------------+-------------------------------------------------------------------------------------------------------------------------+\n|    QUESTION    |                                     What was the population of Somalia in 2009-0-0?                                     |\n+----------------+-------------------------------------------------------------------------------------------------------------------------+\n|     Target     |     SELECT ?obj WHERE { wd:Q1045 p:P1082 ?s . ?s ps:P1082 ?obj . ?s pq:P585 ?x filter(contains(YEAR(?x),'2009')) }      |\n+----------------+-------------------------------------------------------------------------------------------------------------------------+\n| RESULT-DECODED |     select ?obj where { wd:Q1045 p:P1082 ?s . ?s ps:P1082 ?obj . ?s pq:P585 ?x filter(contains(YEAR(?x),'2009')) }      |\n+----------------+-------------------------------------------------------------------------------------------------------------------------+\n|   RESULT-Raw   | select ?obj where { wd:somalia p:population ?s . ?s ps:population ?obj . ?s pq:point_in_time ?x filter(contains(YEAR(?x |\n|                |                                                      ),'2009')) }                                                       |\n+----------------+-------------------------------------------------------------------------------------------------------------------------+\n"
          ]
        }
      ],
      "source": [
        "pretty_translate(\"SELECT ?obj WHERE { wd:Q1045 p:P1082 ?s . ?s ps:P1082 ?obj . ?s pq:P585 ?x filter(contains(YEAR(?x),'2009')) }\", \n",
        "            \"What was the population of Somalia in 2009-0-0?\")"
      ]
    },
    {
      "cell_type": "code",
      "execution_count": 229,
      "metadata": {},
      "outputs": [
        {
          "output_type": "execute_result",
          "data": {
            "text/plain": [
              "('select distinct ?sbj where { ?sbj wdt:place_of_birth wd:new_york_city . ?sbj wdt:instance_of wd:human }',\n",
              " 'select distinct ?sbj where { ?sbj wdt:P19 wd:Q60 . ?sbj wdt:P31 wd:Q5 }')"
            ]
          },
          "metadata": {},
          "execution_count": 229
        }
      ],
      "source": [
        "translate('Humans born in New York City') #random query - answer seems correct"
      ]
    }
  ]
}