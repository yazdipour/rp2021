{
 "metadata": {
  "language_info": {
   "codemirror_mode": {
    "name": "ipython",
    "version": 3
   },
   "file_extension": ".py",
   "mimetype": "text/x-python",
   "name": "python",
   "nbconvert_exporter": "python",
   "pygments_lexer": "ipython3",
   "version": "3.8.5"
  },
  "orig_nbformat": 4,
  "kernelspec": {
   "name": "python3",
   "display_name": "Python 3.8.5 64-bit ('usr')"
  },
  "interpreter": {
   "hash": "767d51c1340bd893661ea55ea3124f6de3c7a262a8b4abca0554b478b1e2ff90"
  }
 },
 "nbformat": 4,
 "nbformat_minor": 2,
 "cells": [
  {
   "cell_type": "code",
   "execution_count": 1,
   "metadata": {},
   "outputs": [],
   "source": [
    "! pip install datasets transformers sacrebleu -qq"
   ]
  },
  {
   "cell_type": "code",
   "execution_count": null,
   "metadata": {},
   "outputs": [],
   "source": [
    "ds_path='../../data/dataset/lc-quad-wikidata-2021-06-20'"
   ]
  },
  {
   "cell_type": "code",
   "execution_count": 2,
   "metadata": {},
   "outputs": [],
   "source": [
    "from datasets import load_dataset, load_metric, Dataset, DatasetDict\n",
    "import pandas as pd\n",
    "from tqdm import tqdm"
   ]
  },
  {
   "cell_type": "code",
   "execution_count": 3,
   "metadata": {},
   "outputs": [
    {
     "output_type": "stream",
     "name": "stderr",
     "text": [
      "Using custom data configuration default\n",
      "Reusing dataset lc_quad (/home/shyaz/.cache/huggingface/datasets/lc_quad/default/2.0.0/139ee1f12aca006669dcc1f282ec02e126c69e7595453db443ab022643d54086)\n"
     ]
    }
   ],
   "source": [
    "raw_datasets = load_dataset(\"lc_quad\")"
   ]
  },
  {
   "cell_type": "code",
   "execution_count": 4,
   "metadata": {},
   "outputs": [
    {
     "output_type": "execute_result",
     "data": {
      "text/plain": [
       "DatasetDict({\n",
       "    train: Dataset({\n",
       "        features: ['NNQT_question', 'uid', 'subgraph', 'template_index', 'question', 'sparql_wikidata', 'sparql_dbpedia18', 'template', 'paraphrased_question'],\n",
       "        num_rows: 19293\n",
       "    })\n",
       "    test: Dataset({\n",
       "        features: ['NNQT_question', 'uid', 'subgraph', 'template_index', 'question', 'sparql_wikidata', 'sparql_dbpedia18', 'template', 'paraphrased_question'],\n",
       "        num_rows: 4781\n",
       "    })\n",
       "})"
      ]
     },
     "metadata": {},
     "execution_count": 4
    }
   ],
   "source": [
    "raw_datasets"
   ]
  },
  {
   "cell_type": "code",
   "execution_count": 5,
   "metadata": {},
   "outputs": [
    {
     "output_type": "execute_result",
     "data": {
      "text/plain": [
       "{'NNQT_question': 'What is the {periodical literature} for {mouthpiece} of {Delta Air Lines}',\n",
       " 'paraphrased_question': \"What is Delta Air Line's periodical literature mouthpiece?\",\n",
       " 'question': 'What periodical literature does Delta Air Lines use as a moutpiece?',\n",
       " 'sparql_dbpedia18': 'select distinct ?obj where { ?statement <http://www.w3.org/1999/02/22-rdf-syntax-ns#subject> <http://wikidata.dbpedia.org/resource/Q188920> . ?statement <http://www.w3.org/1999/02/22-rdf-syntax-ns#predicate> <http://www.wikidata.org/entity/P2813> . ?statement <http://www.w3.org/1999/02/22-rdf-syntax-ns#object> ?obj . ?obj <http://www.wikidata.org/entity/P31> <http://wikidata.dbpedia.org/resource/Q1002697> } ',\n",
       " 'sparql_wikidata': ' select distinct ?obj where { wd:Q188920 wdt:P2813 ?obj . ?obj wdt:P31 wd:Q1002697 } ',\n",
       " 'subgraph': 'simple question right',\n",
       " 'template': ' <S P ?O ; ?O instanceOf Type>',\n",
       " 'template_index': 65,\n",
       " 'uid': 19719}"
      ]
     },
     "metadata": {},
     "execution_count": 5
    }
   ],
   "source": [
    "raw_datasets[\"train\"][0]"
   ]
  },
  {
   "cell_type": "code",
   "execution_count": 6,
   "metadata": {},
   "outputs": [],
   "source": [
    "rep_dict = {\"ASK\": \"ask\", \"WHERE\": \"where\", \"SELECT\": \"select\"}\n",
    "def replace_all(text):\n",
    "    for i, j in rep_dict.items(): text = text.replace(i, j)\n",
    "    return text"
   ]
  },
  {
   "cell_type": "code",
   "execution_count": 7,
   "metadata": {},
   "outputs": [],
   "source": [
    "# Trim + Replace LowerCase + Remove weirdly long Question"
   ]
  },
  {
   "cell_type": "code",
   "execution_count": 8,
   "metadata": {},
   "outputs": [],
   "source": [
    "def prepare(ds):\n",
    "    col = 'translation'\n",
    "    df = pd.DataFrame(columns=[col])\n",
    "    for d in tqdm(ds):\n",
    "        try:\n",
    "            qry = replace_all(d['sparql_wikidata']).strip()\n",
    "            if len(d['question'])<250:\n",
    "                df = df.append({col: {'en':d['question'], 'sparql': qry}}, ignore_index=True)\n",
    "            if len(d['paraphrased_question'])<250:\n",
    "                df = df.append({col: {'en':d['paraphrased_question'], 'sparql': qry}}, ignore_index=True)\n",
    "        except: pass\n",
    "    return df"
   ]
  },
  {
   "cell_type": "code",
   "execution_count": 9,
   "metadata": {
    "tags": []
   },
   "outputs": [
    {
     "output_type": "stream",
     "name": "stderr",
     "text": [
      "100%|██████████| 4781/4781 [00:15<00:00, 314.18it/s]\n"
     ]
    }
   ],
   "source": [
    "df_test = prepare(raw_datasets[\"test\"])"
   ]
  },
  {
   "cell_type": "code",
   "execution_count": 10,
   "metadata": {},
   "outputs": [
    {
     "output_type": "execute_result",
     "data": {
      "text/plain": [
       "                                            translation\n",
       "0     {'en': 'Who is the  {country} for {head of sta...\n",
       "1     {'en': 'What country is Mahmoud Abbas the head...\n",
       "2     {'en': 'What was the population of Somalia in ...\n",
       "3     {'en': 'As of 2009, how many people lived in S...\n",
       "4     {'en': 'Which female actress is the voice over...\n",
       "...                                                 ...\n",
       "9542  {'en': 'Bernard Devoto received the Pulizer Pr...\n",
       "9543  {'en': 'What is antonym of of spore print colo...\n",
       "9544  {'en': 'What is antonym of of spore print colo...\n",
       "9545  {'en': 'Tell me mixture whose name has the wor...\n",
       "9546  {'en': 'Let me know blend whose title has the ...\n",
       "\n",
       "[9547 rows x 1 columns]"
      ],
      "text/html": "<div>\n<style scoped>\n    .dataframe tbody tr th:only-of-type {\n        vertical-align: middle;\n    }\n\n    .dataframe tbody tr th {\n        vertical-align: top;\n    }\n\n    .dataframe thead th {\n        text-align: right;\n    }\n</style>\n<table border=\"1\" class=\"dataframe\">\n  <thead>\n    <tr style=\"text-align: right;\">\n      <th></th>\n      <th>translation</th>\n    </tr>\n  </thead>\n  <tbody>\n    <tr>\n      <th>0</th>\n      <td>{'en': 'Who is the  {country} for {head of sta...</td>\n    </tr>\n    <tr>\n      <th>1</th>\n      <td>{'en': 'What country is Mahmoud Abbas the head...</td>\n    </tr>\n    <tr>\n      <th>2</th>\n      <td>{'en': 'What was the population of Somalia in ...</td>\n    </tr>\n    <tr>\n      <th>3</th>\n      <td>{'en': 'As of 2009, how many people lived in S...</td>\n    </tr>\n    <tr>\n      <th>4</th>\n      <td>{'en': 'Which female actress is the voice over...</td>\n    </tr>\n    <tr>\n      <th>...</th>\n      <td>...</td>\n    </tr>\n    <tr>\n      <th>9542</th>\n      <td>{'en': 'Bernard Devoto received the Pulizer Pr...</td>\n    </tr>\n    <tr>\n      <th>9543</th>\n      <td>{'en': 'What is antonym of of spore print colo...</td>\n    </tr>\n    <tr>\n      <th>9544</th>\n      <td>{'en': 'What is antonym of of spore print colo...</td>\n    </tr>\n    <tr>\n      <th>9545</th>\n      <td>{'en': 'Tell me mixture whose name has the wor...</td>\n    </tr>\n    <tr>\n      <th>9546</th>\n      <td>{'en': 'Let me know blend whose title has the ...</td>\n    </tr>\n  </tbody>\n</table>\n<p>9547 rows × 1 columns</p>\n</div>"
     },
     "metadata": {},
     "execution_count": 10
    }
   ],
   "source": [
    "df_test"
   ]
  },
  {
   "cell_type": "code",
   "execution_count": 11,
   "metadata": {},
   "outputs": [
    {
     "output_type": "stream",
     "name": "stderr",
     "text": [
      "100%|██████████| 19293/19293 [00:55<00:00, 344.93it/s]\n"
     ]
    }
   ],
   "source": [
    "df_train = prepare(raw_datasets[\"train\"])"
   ]
  },
  {
   "cell_type": "code",
   "execution_count": 12,
   "metadata": {},
   "outputs": [],
   "source": [
    "ds_train = Dataset.from_pandas(df_train)\n",
    "ds_test = Dataset.from_pandas(df_test)"
   ]
  },
  {
   "cell_type": "code",
   "execution_count": 13,
   "metadata": {},
   "outputs": [
    {
     "output_type": "execute_result",
     "data": {
      "text/plain": [
       "Dataset({\n",
       "    features: ['translation'],\n",
       "    num_rows: 38513\n",
       "})"
      ]
     },
     "metadata": {},
     "execution_count": 13
    }
   ],
   "source": [
    "ds_train"
   ]
  },
  {
   "cell_type": "code",
   "execution_count": 14,
   "metadata": {},
   "outputs": [],
   "source": [
    "mother_ds = DatasetDict({'train': ds_train, 'test':ds_test})"
   ]
  },
  {
   "cell_type": "code",
   "execution_count": 15,
   "metadata": {},
   "outputs": [],
   "source": [
    "mother_ds.save_to_disk(ds_path)"
   ]
  },
  {
   "cell_type": "code",
   "execution_count": null,
   "metadata": {},
   "outputs": [],
   "source": []
  }
 ]
}