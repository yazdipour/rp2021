{
 "metadata": {
  "language_info": {
   "codemirror_mode": {
    "name": "ipython",
    "version": 3
   },
   "file_extension": ".py",
   "mimetype": "text/x-python",
   "name": "python",
   "nbconvert_exporter": "python",
   "pygments_lexer": "ipython3",
   "version": "3.8.5"
  },
  "orig_nbformat": 4,
  "kernelspec": {
   "name": "python3",
   "display_name": "Python 3.8.5 64-bit ('usr')"
  },
  "interpreter": {
   "hash": "767d51c1340bd893661ea55ea3124f6de3c7a262a8b4abca0554b478b1e2ff90"
  }
 },
 "nbformat": 4,
 "nbformat_minor": 2,
 "cells": [
  {
   "cell_type": "code",
   "execution_count": 1,
   "metadata": {},
   "outputs": [
    {
     "output_type": "stream",
     "name": "stderr",
     "text": [
      "comet_ml is installed but `COMET_API_KEY` is not set.\n"
     ]
    }
   ],
   "source": [
    "from transformers import AutoTokenizer\n",
    "model_checkpoint = \"t5-small\"\n",
    "prefix = \"translate English to Sparql: \"\n",
    "tokenizer = AutoTokenizer.from_pretrained(model_checkpoint)"
   ]
  },
  {
   "cell_type": "code",
   "execution_count": 2,
   "metadata": {},
   "outputs": [],
   "source": [
    "from transformers import AutoModelForSeq2SeqLM, DataCollatorForSeq2Seq, Seq2SeqTrainingArguments, Seq2SeqTrainer\n",
    "\n",
    "model2 = AutoModelForSeq2SeqLM.from_pretrained('../../../data/models/sparql-translator-t5-2021-06-20')#.to(\"cuda\")"
   ]
  },
  {
   "cell_type": "code",
   "execution_count": 3,
   "metadata": {},
   "outputs": [],
   "source": [
    "from transformers import pipeline\n",
    "\n",
    "translator = pipeline(\n",
    "    \"translation_xx_to_yy\",\n",
    "    model=model2,\n",
    "    tokenizer=tokenizer\n",
    ")"
   ]
  },
  {
   "cell_type": "code",
   "execution_count": 4,
   "metadata": {},
   "outputs": [
    {
     "output_type": "execute_result",
     "data": {
      "text/plain": [
       "[{'translation_text': 'select distinct ?obj where  wd:Q257 p'}]"
      ]
     },
     "metadata": {},
     "execution_count": 4
    }
   ],
   "source": [
    "translator(prefix+'Who is Marlin Manson?')#.to(\"cpu\")"
   ]
  },
  {
   "cell_type": "code",
   "execution_count": 5,
   "metadata": {},
   "outputs": [
    {
     "output_type": "execute_result",
     "data": {
      "text/plain": [
       "[{'translation_text': 'select distinct ?obj where  wd:Q19 p:'}]"
      ]
     },
     "metadata": {},
     "execution_count": 5
    }
   ],
   "source": [
    "translator(prefix+'Who is Bill Gates?')"
   ]
  },
  {
   "cell_type": "code",
   "execution_count": 6,
   "metadata": {},
   "outputs": [
    {
     "output_type": "execute_result",
     "data": {
      "text/plain": [
       "[{'translation_text': 'select distinct ?obj where  wd:Q218 p'}]"
      ]
     },
     "metadata": {},
     "execution_count": 6
    }
   ],
   "source": [
    "translator(prefix+'What is the time zone of Salt Lake City?')"
   ]
  },
  {
   "cell_type": "code",
   "execution_count": 7,
   "metadata": {},
   "outputs": [
    {
     "output_type": "execute_result",
     "data": {
      "text/plain": [
       "[{'translation_text': 'select ?answer where  wd:Q1980 wdt:P31 ?answer . ?answer wdt:P31 wd:Q1980'}]"
      ]
     },
     "metadata": {},
     "execution_count": 7
    }
   ],
   "source": [
    "translator(prefix+'Who is the country for head of state of Mahmoud Abbas', max_length=100)\n",
    "# \"question\": \"Who is the  {country} for {head of state} of {Mahmoud Abbas}\",\n",
    "# select distinct ?sbj where { ?sbj wdt:P35 wd:Q127998 . ?sbj wdt:P31 wd:Q6256 } "
   ]
  },
  {
   "cell_type": "code",
   "execution_count": 8,
   "metadata": {},
   "outputs": [
    {
     "output_type": "execute_result",
     "data": {
      "text/plain": [
       "[{'translation_text': \"select distinct ?obj where  wd:Q18 p:P31 ?s . ?s ps:P31 wd:Q18 . ?s pq:P585 ?x filter(contains(YEAR(?x),'Madoud Abbas')) \"}]"
      ]
     },
     "metadata": {},
     "execution_count": 8
    }
   ],
   "source": [
    "translator(prefix+\"What country is Mahmoud Abbas the head of state of?\", max_length=100)\n",
    "# \"paraphrased_question\": \"What country is Mahmoud Abbas the head of state of?\"\n",
    "# select distinct ?sbj where <T> ?sbj wdt:P35 wd:Q127998 . ?sbj wdt:P31 wd:Q6256 </T> "
   ]
  },
  {
   "cell_type": "code",
   "execution_count": null,
   "metadata": {},
   "outputs": [],
   "source": [
    "# \"sparql_wikidata\": \"SELECT ?answer WHERE { wd:Q16538 wdt:P725 ?answer . ?answer wdt:P106 wd:Q177220}\",\n",
    "# \"question\": \"Which female actress is the voice over on South Park and is employed as a singer?\",\n",
    "# \"paraphrased_question\": \"Which female actress on South Park is the voice over and is used as a singer?\""
   ]
  },
  {
   "cell_type": "code",
   "execution_count": 22,
   "metadata": {},
   "outputs": [
    {
     "output_type": "execute_result",
     "data": {
      "text/plain": [
       "[{'translation_text': 'select ?answer where  wd:Q1818 wdt:P31 ?answer . ?answer wdt:P31 wd:Q181818'}]"
      ]
     },
     "metadata": {},
     "execution_count": 22
    }
   ],
   "source": [
    "translator(prefix+\"Which female actress is the voice over on South Park and is employed as a singer?\", max_length=100)"
   ]
  },
  {
   "cell_type": "code",
   "execution_count": 23,
   "metadata": {},
   "outputs": [
    {
     "output_type": "execute_result",
     "data": {
      "text/plain": [
       "[{'translation_text': 'select ?answer where  wd:Q1818 wdt:P31 ?answer . ?answer wdt:P31 wd:Q181818'}]"
      ]
     },
     "metadata": {},
     "execution_count": 23
    }
   ],
   "source": [
    "translator(prefix+\"Which female actress on South Park is the voice over and is used as a singer?\", max_length=100)"
   ]
  },
  {
   "cell_type": "code",
   "execution_count": 9,
   "metadata": {},
   "outputs": [
    {
     "output_type": "execute_result",
     "data": {
      "text/plain": [
       "[{'translation_text': 'ask where  wd:Q218 wdt:P31 wd:Q218 . wd:Q218 wdt:P31 wd:Q218 '}]"
      ]
     },
     "metadata": {},
     "execution_count": 9
    }
   ],
   "source": [
    "#\"sparql_wikidata\": \"ASK WHERE { wd:Q15605 wdt:P2076 ?obj filter(?obj = 2.72548) } \",\n",
    "translator(prefix+\"Is the temperature of cosmic microwave background radiation equal to 2.72548?\", max_length=100)"
   ]
  },
  {
   "cell_type": "code",
   "execution_count": 38,
   "metadata": {},
   "outputs": [
    {
     "output_type": "execute_result",
     "data": {
      "text/plain": [
       "[{'translation_text': \"select distinct ?obj where  wd:Q18 p:P31 ?s . ?s ps:P31 wd:Q18 . ?s pq:P585 ?x filter(contains(?x,'Paul Erd')) \"}]"
      ]
     },
     "metadata": {},
     "execution_count": 38
    }
   ],
   "source": [
    "# \"question\": \"Which is the PIM authority ID of Paul Erd\\u0151s?\",\n",
    "# \"sparql_wikidata\": \"select distinct ?answer where { wd:Q173746 wdt:P3973 ?answer}\",\n",
    "translator(prefix+\"Which is the PIM authority ID of Paul Erd?\", max_length=100)"
   ]
  },
  {
   "cell_type": "code",
   "execution_count": null,
   "metadata": {},
   "outputs": [],
   "source": []
  }
 ]
}