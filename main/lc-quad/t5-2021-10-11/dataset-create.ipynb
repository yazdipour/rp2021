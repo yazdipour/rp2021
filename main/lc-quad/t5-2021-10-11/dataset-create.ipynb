{
 "cells": [
  {
   "cell_type": "code",
   "execution_count": 3,
   "metadata": {},
   "outputs": [],
   "source": [
    "from datasets import load_dataset, Dataset, DatasetDict\n",
    "import pandas as pd\n",
    "from tqdm import tqdm"
   ]
  },
  {
   "cell_type": "code",
   "execution_count": 4,
   "metadata": {},
   "outputs": [
    {
     "name": "stderr",
     "output_type": "stream",
     "text": [
      "Using custom data configuration default\n",
      "Reusing dataset lc_quad (/home/shyaz/.cache/huggingface/datasets/lc_quad/default/2.0.0/139ee1f12aca006669dcc1f282ec02e126c69e7595453db443ab022643d54086)\n"
     ]
    }
   ],
   "source": [
    "raw_datasets = load_dataset(\"lc_quad\")"
   ]
  },
  {
   "cell_type": "code",
   "execution_count": 5,
   "metadata": {},
   "outputs": [
    {
     "data": {
      "text/plain": [
       "{'NNQT_question': 'What is the {periodical literature} for {mouthpiece} of {Delta Air Lines}',\n",
       " 'paraphrased_question': \"What is Delta Air Line's periodical literature mouthpiece?\",\n",
       " 'question': 'What periodical literature does Delta Air Lines use as a moutpiece?',\n",
       " 'sparql_dbpedia18': 'select distinct ?obj where { ?statement <http://www.w3.org/1999/02/22-rdf-syntax-ns#subject> <http://wikidata.dbpedia.org/resource/Q188920> . ?statement <http://www.w3.org/1999/02/22-rdf-syntax-ns#predicate> <http://www.wikidata.org/entity/P2813> . ?statement <http://www.w3.org/1999/02/22-rdf-syntax-ns#object> ?obj . ?obj <http://www.wikidata.org/entity/P31> <http://wikidata.dbpedia.org/resource/Q1002697> } ',\n",
       " 'sparql_wikidata': ' select distinct ?obj where { wd:Q188920 wdt:P2813 ?obj . ?obj wdt:P31 wd:Q1002697 } ',\n",
       " 'subgraph': 'simple question right',\n",
       " 'template': ' <S P ?O ; ?O instanceOf Type>',\n",
       " 'template_index': 65,\n",
       " 'uid': 19719}"
      ]
     },
     "execution_count": 5,
     "metadata": {},
     "output_type": "execute_result"
    }
   ],
   "source": [
    "raw_datasets[\"train\"][0]"
   ]
  },
  {
   "cell_type": "code",
   "execution_count": 56,
   "metadata": {},
   "outputs": [],
   "source": [
    "rep_dict = {\n",
    "    \"ASK\": \"ask\",\n",
    "    \"WHERE\": \"where\",\n",
    "    \"SELECT\": \"select\",\n",
    "    \"{\": \"[\",\n",
    "    \"}\": \"]\",\n",
    "    \"DISTINCT\": \"distinct\",\n",
    "    \"ORDER\": \"order\",\n",
    "    \"LIMIT\": \"limit\",\n",
    "    \"FILTER\": \"filter\",\n",
    "    \"?sbj\": \"?subject\",\n",
    "    \"?obj\": \"?object\",\n",
    "}\n",
    "rep_dict2 = {\"{\": \"\", \"}\": \"\"}\n",
    "\n",
    "\n",
    "def replace_all(text, dict):\n",
    "    for i, j in dict.items():\n",
    "        text = text.replace(i, j)\n",
    "    return text\n"
   ]
  },
  {
   "cell_type": "markdown",
   "metadata": {},
   "source": [
    "## Goal: Trim + Replace LowerCase + Remove weirdly long Question + replaceQ/P"
   ]
  },
  {
   "cell_type": "code",
   "execution_count": 8,
   "metadata": {},
   "outputs": [],
   "source": [
    "import pandas as pd\n",
    "import re\n",
    "kdwd_date = '2021-10-11'\n",
    "df_q = pd.read_csv(f'../../../data/kdwd/{kdwd_date}/q.csv')\n",
    "df_p = pd.read_csv(f'../../../data/kdwd/{kdwd_date}/p.csv')"
   ]
  },
  {
   "cell_type": "code",
   "execution_count": 16,
   "metadata": {},
   "outputs": [],
   "source": [
    "df_q.set_index('Unnamed: 0', inplace=True)\n",
    "df_p.set_index('Unnamed: 0', inplace=True)"
   ]
  },
  {
   "cell_type": "code",
   "execution_count": 57,
   "metadata": {},
   "outputs": [
    {
     "data": {
      "text/html": [
       "<div>\n",
       "<style scoped>\n",
       "    .dataframe tbody tr th:only-of-type {\n",
       "        vertical-align: middle;\n",
       "    }\n",
       "\n",
       "    .dataframe tbody tr th {\n",
       "        vertical-align: top;\n",
       "    }\n",
       "\n",
       "    .dataframe thead th {\n",
       "        text-align: right;\n",
       "    }\n",
       "</style>\n",
       "<table border=\"1\" class=\"dataframe\">\n",
       "  <thead>\n",
       "    <tr style=\"text-align: right;\">\n",
       "      <th></th>\n",
       "      <th>id</th>\n",
       "      <th>en</th>\n",
       "    </tr>\n",
       "    <tr>\n",
       "      <th>Unnamed: 0</th>\n",
       "      <th></th>\n",
       "      <th></th>\n",
       "    </tr>\n",
       "  </thead>\n",
       "  <tbody>\n",
       "    <tr>\n",
       "      <th>7</th>\n",
       "      <td>19</td>\n",
       "      <td>place of birth</td>\n",
       "    </tr>\n",
       "    <tr>\n",
       "      <th>7041</th>\n",
       "      <td>19</td>\n",
       "      <td>birthplace</td>\n",
       "    </tr>\n",
       "    <tr>\n",
       "      <th>7042</th>\n",
       "      <td>19</td>\n",
       "      <td>born in</td>\n",
       "    </tr>\n",
       "    <tr>\n",
       "      <th>7043</th>\n",
       "      <td>19</td>\n",
       "      <td>pob</td>\n",
       "    </tr>\n",
       "    <tr>\n",
       "      <th>7044</th>\n",
       "      <td>19</td>\n",
       "      <td>birth place</td>\n",
       "    </tr>\n",
       "    <tr>\n",
       "      <th>7045</th>\n",
       "      <td>19</td>\n",
       "      <td>location born</td>\n",
       "    </tr>\n",
       "    <tr>\n",
       "      <th>7046</th>\n",
       "      <td>19</td>\n",
       "      <td>born at</td>\n",
       "    </tr>\n",
       "    <tr>\n",
       "      <th>7047</th>\n",
       "      <td>19</td>\n",
       "      <td>birth location</td>\n",
       "    </tr>\n",
       "    <tr>\n",
       "      <th>7048</th>\n",
       "      <td>19</td>\n",
       "      <td>location of birth</td>\n",
       "    </tr>\n",
       "    <tr>\n",
       "      <th>7049</th>\n",
       "      <td>19</td>\n",
       "      <td>birth city</td>\n",
       "    </tr>\n",
       "  </tbody>\n",
       "</table>\n",
       "</div>"
      ],
      "text/plain": [
       "            id                 en\n",
       "Unnamed: 0                       \n",
       "7           19     place of birth\n",
       "7041        19         birthplace\n",
       "7042        19            born in\n",
       "7043        19                pob\n",
       "7044        19        birth place\n",
       "7045        19      location born\n",
       "7046        19            born at\n",
       "7047        19     birth location\n",
       "7048        19  location of birth\n",
       "7049        19         birth city"
      ]
     },
     "execution_count": 57,
     "metadata": {},
     "output_type": "execute_result"
    }
   ],
   "source": [
    "df_p[df_p.id==19]"
   ]
  },
  {
   "cell_type": "code",
   "execution_count": 31,
   "metadata": {},
   "outputs": [
    {
     "data": {
      "text/plain": [
       "'place_of_birth'"
      ]
     },
     "execution_count": 31,
     "metadata": {},
     "output_type": "execute_result"
    }
   ],
   "source": [
    "df_p[df_p.id==19].en.iloc[0].replace(\" \", \"_\").replace(\"-\", \"_\")"
   ]
  },
  {
   "cell_type": "code",
   "execution_count": 48,
   "metadata": {},
   "outputs": [],
   "source": [
    "# id to str\n",
    "def encode_ids(x, df):\n",
    "    try:\n",
    "        return df[df.id==int(x[1:])].en.iloc[0]\n",
    "    except:\n",
    "        return x"
   ]
  },
  {
   "cell_type": "code",
   "execution_count": 53,
   "metadata": {},
   "outputs": [
    {
     "data": {
      "text/plain": [
       "\"select ?object where [ wd:somalia p:population ?s . ?s ps:population ?object . ?s pq:point_in_time ?x filter(contains(YEAR(?x),'2009')) ]\""
      ]
     },
     "execution_count": 53,
     "metadata": {},
     "output_type": "execute_result"
    }
   ],
   "source": [
    "def encode_props(qry):\n",
    "    qry = replace_all(qry, rep_dict).strip()\n",
    "    # Q\n",
    "    for m in re.finditer(\":Q\\d+\", qry):\n",
    "        x = m.group(0)[1:]\n",
    "        newstring = encode_ids(x, df_q).replace(\" \", \"_\").replace(\"-\", \"_\")\n",
    "        qry = qry.replace(x, newstring)\n",
    "    # P\n",
    "    for m in re.finditer(\":P\\d+\", qry):\n",
    "        x = m.group(0)[1:]\n",
    "        newstring = encode_ids(x, df_p).replace(\" \", \"_\").replace(\"-\", \"_\")\n",
    "        qry = qry.replace(x, newstring)\n",
    "    return qry\n",
    "# Test\n",
    "encode_props('SELECT ?obj WHERE { wd:Q1045 p:P1082 ?s . ?s ps:P1082 ?obj . ?s pq:P585 ?x filter(contains(YEAR(?x),\\'2009\\')) }')\n",
    "# \"select ?obj where [ wd:somalia p:population ?s . ?s ps:population ?obj . ?s pq:point_in_time ?x filter(contains(YEAR(?x),'2009')) ]\""
   ]
  },
  {
   "cell_type": "code",
   "execution_count": 54,
   "metadata": {},
   "outputs": [
    {
     "data": {
      "text/plain": [
       "\"select distinct ?subject ?subject_label where [ ?subject wdt:instance_of wd:female_beauty_pageant . ?subject wdt:operating_area wd:all_countries . ?subject rdfs:label ?subject_label . filter(CONTAINS(lcase(?subject_label), 'model')) . filter (lang(?subject_label) = 'en') ] limit 25\""
      ]
     },
     "execution_count": 54,
     "metadata": {},
     "output_type": "execute_result"
    }
   ],
   "source": [
    "encode_props(\"SELECT DISTINCT ?sbj ?sbj_label WHERE { ?sbj wdt:P31 wd:Q58863414 . ?sbj wdt:P2541 wd:Q62900839 . ?sbj rdfs:label ?sbj_label . FILTER(CONTAINS(lcase(?sbj_label), 'model')) . FILTER (lang(?sbj_label) = 'en') } LIMIT 25\")"
   ]
  },
  {
   "cell_type": "code",
   "execution_count": 66,
   "metadata": {},
   "outputs": [],
   "source": [
    "def prepare(ds):\n",
    "    col = 'translation'\n",
    "    df = pd.DataFrame(columns=[col])\n",
    "    for d in tqdm(ds):\n",
    "        try:\n",
    "            qry = encode_props(d['sparql_wikidata'])\n",
    "            if len(d['question'])<250: \n",
    "                q = d['question'].strip().strip(\"\\\"\").lower()\n",
    "                q = replace_all(q, rep_dict2)\n",
    "                df = df.append({col: {'en':q, 'sparql': qry}}, ignore_index=True)\n",
    "            if d['paraphrased_question']!=[] and len(d['paraphrased_question'])<250:\n",
    "                q = d['paraphrased_question'].strip().strip(\"\\\"\").lower()\n",
    "                q = replace_all(q, rep_dict2)\n",
    "                df = df.append({col: {'en':q, 'sparql': qry}}, ignore_index=True)\n",
    "        except: \n",
    "            print(\"err\")\n",
    "    return df"
   ]
  },
  {
   "cell_type": "code",
   "execution_count": 67,
   "metadata": {
    "tags": []
   },
   "outputs": [
    {
     "name": "stderr",
     "output_type": "stream",
     "text": [
      " 57%|█████▋    | 2732/4781 [01:24<01:01, 33.22it/s]"
     ]
    },
    {
     "name": "stdout",
     "output_type": "stream",
     "text": [
      "err\n"
     ]
    },
    {
     "name": "stderr",
     "output_type": "stream",
     "text": [
      " 84%|████████▍ | 4032/4781 [02:04<00:23, 32.21it/s]"
     ]
    },
    {
     "name": "stdout",
     "output_type": "stream",
     "text": [
      "err\n"
     ]
    },
    {
     "name": "stderr",
     "output_type": "stream",
     "text": [
      "100%|██████████| 4781/4781 [02:27<00:00, 32.38it/s]\n"
     ]
    }
   ],
   "source": [
    "df_test = prepare(raw_datasets[\"test\"])"
   ]
  },
  {
   "cell_type": "code",
   "execution_count": 69,
   "metadata": {},
   "outputs": [
    {
     "name": "stderr",
     "output_type": "stream",
     "text": [
      " 51%|█████     | 9792/19293 [05:00<04:21, 36.32it/s]"
     ]
    },
    {
     "name": "stdout",
     "output_type": "stream",
     "text": [
      "err\n"
     ]
    },
    {
     "name": "stderr",
     "output_type": "stream",
     "text": [
      "100%|██████████| 19293/19293 [10:05<00:00, 31.86it/s]\n"
     ]
    }
   ],
   "source": [
    "df_train = prepare(raw_datasets[\"train\"])"
   ]
  },
  {
   "cell_type": "code",
   "execution_count": 72,
   "metadata": {},
   "outputs": [
    {
     "name": "stdout",
     "output_type": "stream",
     "text": [
      "(9547, 1)\n",
      "(38513, 1)\n"
     ]
    }
   ],
   "source": [
    "print(df_test.shape)\n",
    "print(df_train.shape)"
   ]
  },
  {
   "cell_type": "code",
   "execution_count": 70,
   "metadata": {},
   "outputs": [
    {
     "data": {
      "text/html": [
       "<div>\n",
       "<style scoped>\n",
       "    .dataframe tbody tr th:only-of-type {\n",
       "        vertical-align: middle;\n",
       "    }\n",
       "\n",
       "    .dataframe tbody tr th {\n",
       "        vertical-align: top;\n",
       "    }\n",
       "\n",
       "    .dataframe thead th {\n",
       "        text-align: right;\n",
       "    }\n",
       "</style>\n",
       "<table border=\"1\" class=\"dataframe\">\n",
       "  <thead>\n",
       "    <tr style=\"text-align: right;\">\n",
       "      <th></th>\n",
       "      <th>translation</th>\n",
       "    </tr>\n",
       "  </thead>\n",
       "  <tbody>\n",
       "    <tr>\n",
       "      <th>0</th>\n",
       "      <td>{'en': 'who is the  country for head of state ...</td>\n",
       "    </tr>\n",
       "    <tr>\n",
       "      <th>1</th>\n",
       "      <td>{'en': 'what country is mahmoud abbas the head...</td>\n",
       "    </tr>\n",
       "  </tbody>\n",
       "</table>\n",
       "</div>"
      ],
      "text/plain": [
       "                                         translation\n",
       "0  {'en': 'who is the  country for head of state ...\n",
       "1  {'en': 'what country is mahmoud abbas the head..."
      ]
     },
     "execution_count": 70,
     "metadata": {},
     "output_type": "execute_result"
    }
   ],
   "source": [
    "df_test.head(2)"
   ]
  },
  {
   "cell_type": "code",
   "execution_count": 71,
   "metadata": {},
   "outputs": [
    {
     "name": "stdout",
     "output_type": "stream",
     "text": [
      "(48060, 1)\n",
      "(48060, 1)\n"
     ]
    }
   ],
   "source": [
    "df_all = pd.concat([df_train, df_test])\n",
    "print(df_all.shape)\n",
    "# shuffling all\n",
    "df_all  = df_all.sample(frac = 1).reset_index(drop=True)\n",
    "print(df_all.shape)"
   ]
  },
  {
   "cell_type": "code",
   "execution_count": 73,
   "metadata": {},
   "outputs": [],
   "source": [
    "from sklearn.model_selection import train_test_split\n",
    "df_train2, df_test2 = train_test_split(df_all, test_size=0.2)"
   ]
  },
  {
   "cell_type": "code",
   "execution_count": 76,
   "metadata": {},
   "outputs": [
    {
     "name": "stdout",
     "output_type": "stream",
     "text": [
      "(9612, 1)\n",
      "(38448, 1)\n"
     ]
    }
   ],
   "source": [
    "print(df_test2.shape)\n",
    "print(df_train2.shape)"
   ]
  },
  {
   "cell_type": "code",
   "execution_count": 77,
   "metadata": {},
   "outputs": [],
   "source": [
    "ds_train = Dataset.from_pandas(df_train2)\n",
    "ds_test = Dataset.from_pandas(df_test2)"
   ]
  },
  {
   "cell_type": "code",
   "execution_count": 79,
   "metadata": {},
   "outputs": [
    {
     "data": {
      "text/html": [
       "<div>\n",
       "<style scoped>\n",
       "    .dataframe tbody tr th:only-of-type {\n",
       "        vertical-align: middle;\n",
       "    }\n",
       "\n",
       "    .dataframe tbody tr th {\n",
       "        vertical-align: top;\n",
       "    }\n",
       "\n",
       "    .dataframe thead th {\n",
       "        text-align: right;\n",
       "    }\n",
       "</style>\n",
       "<table border=\"1\" class=\"dataframe\">\n",
       "  <thead>\n",
       "    <tr style=\"text-align: right;\">\n",
       "      <th></th>\n",
       "      <th>translation</th>\n",
       "    </tr>\n",
       "  </thead>\n",
       "  <tbody>\n",
       "    <tr>\n",
       "      <th>0</th>\n",
       "      <td>{'en': 'who is the  country for head of state of mahmoud abbas', 'sparql': 'select distinct ?sub...</td>\n",
       "    </tr>\n",
       "    <tr>\n",
       "      <th>1</th>\n",
       "      <td>{'en': 'what country is mahmoud abbas the head of state of?', 'sparql': 'select distinct ?subjec...</td>\n",
       "    </tr>\n",
       "    <tr>\n",
       "      <th>2</th>\n",
       "      <td>{'en': 'what was the population of somalia in 2009-0-0?', 'sparql': 'select ?object where [ wd:s...</td>\n",
       "    </tr>\n",
       "    <tr>\n",
       "      <th>3</th>\n",
       "      <td>{'en': 'as of 2009, how many people lived in somalia?', 'sparql': 'select ?object where [ wd:som...</td>\n",
       "    </tr>\n",
       "    <tr>\n",
       "      <th>4</th>\n",
       "      <td>{'en': 'which female actress is the voice over on south park and is employed as a singer?', 'spa...</td>\n",
       "    </tr>\n",
       "  </tbody>\n",
       "</table>\n",
       "</div>"
      ],
      "text/plain": [
       "                                                                                           translation\n",
       "0  {'en': 'who is the  country for head of state of mahmoud abbas', 'sparql': 'select distinct ?sub...\n",
       "1  {'en': 'what country is mahmoud abbas the head of state of?', 'sparql': 'select distinct ?subjec...\n",
       "2  {'en': 'what was the population of somalia in 2009-0-0?', 'sparql': 'select ?object where [ wd:s...\n",
       "3  {'en': 'as of 2009, how many people lived in somalia?', 'sparql': 'select ?object where [ wd:som...\n",
       "4  {'en': 'which female actress is the voice over on south park and is employed as a singer?', 'spa..."
      ]
     },
     "execution_count": 79,
     "metadata": {},
     "output_type": "execute_result"
    }
   ],
   "source": [
    "pd.options.display.max_colwidth = 100\n",
    "df_test.head()"
   ]
  },
  {
   "cell_type": "code",
   "execution_count": 80,
   "metadata": {},
   "outputs": [
    {
     "data": {
      "text/plain": [
       "{'en': 'who is the  country for head of state of mahmoud abbas',\n",
       " 'sparql': 'select distinct ?subject where [ ?subject wdt:head_of_state wd:mahmoud_abbas . ?subject wdt:instance_of wd:country ]'}"
      ]
     },
     "execution_count": 80,
     "metadata": {},
     "output_type": "execute_result"
    }
   ],
   "source": [
    "df_test.iloc[0].translation    "
   ]
  },
  {
   "cell_type": "code",
   "execution_count": 82,
   "metadata": {},
   "outputs": [],
   "source": [
    "mother_ds = DatasetDict({'train': ds_train, 'test':ds_test})"
   ]
  },
  {
   "cell_type": "code",
   "execution_count": 83,
   "metadata": {},
   "outputs": [],
   "source": [
    "ds_path='../../../data/dataset/lc-quad-wikidata-2021-10-11'\n",
    "mother_ds.save_to_disk(ds_path)"
   ]
  },
  {
   "cell_type": "code",
   "execution_count": 84,
   "metadata": {},
   "outputs": [],
   "source": [
    "df_train2.to_csv(f'{ds_path}/train.csv')\n",
    "df_test2.to_csv(f'{ds_path}/test.csv')"
   ]
  },
  {
   "cell_type": "code",
   "execution_count": 85,
   "metadata": {},
   "outputs": [
    {
     "data": {
      "text/html": [
       "<div>\n",
       "<style scoped>\n",
       "    .dataframe tbody tr th:only-of-type {\n",
       "        vertical-align: middle;\n",
       "    }\n",
       "\n",
       "    .dataframe tbody tr th {\n",
       "        vertical-align: top;\n",
       "    }\n",
       "\n",
       "    .dataframe thead th {\n",
       "        text-align: right;\n",
       "    }\n",
       "</style>\n",
       "<table border=\"1\" class=\"dataframe\">\n",
       "  <thead>\n",
       "    <tr style=\"text-align: right;\">\n",
       "      <th></th>\n",
       "      <th>translation</th>\n",
       "    </tr>\n",
       "  </thead>\n",
       "  <tbody>\n",
       "    <tr>\n",
       "      <th>38355</th>\n",
       "      <td>{'en': 'who colors of player of nico yennaris ?', 'sparql': 'select ?answer where [ wd:nico_yenn...</td>\n",
       "    </tr>\n",
       "    <tr>\n",
       "      <th>17094</th>\n",
       "      <td>{'en': 'what are the basic forms of government in syria?', 'sparql': 'select (COUNT(?object) AS ...</td>\n",
       "    </tr>\n",
       "    <tr>\n",
       "      <th>41619</th>\n",
       "      <td>{'en': 'for what was isabelle adjani nominated for in the year 1995.', 'sparql': 'select ?object...</td>\n",
       "    </tr>\n",
       "    <tr>\n",
       "      <th>18625</th>\n",
       "      <td>{'en': 'what is the origin of aiesec, that borders ans?', 'sparql': 'select ?answer where [ wd:a...</td>\n",
       "    </tr>\n",
       "    <tr>\n",
       "      <th>33956</th>\n",
       "      <td>{'en': 'how long is passover in israel?', 'sparql': 'select ?object where [ wd:passover p:durati...</td>\n",
       "    </tr>\n",
       "    <tr>\n",
       "      <th>...</th>\n",
       "      <td>...</td>\n",
       "    </tr>\n",
       "    <tr>\n",
       "      <th>4151</th>\n",
       "      <td>{'en': 'which is the way to determine the number of out of school children in north africa?', 's...</td>\n",
       "    </tr>\n",
       "    <tr>\n",
       "      <th>33487</th>\n",
       "      <td>{'en': 'let me know almost moon of saturn begins with the letter t', 'sparql': 'select distinct ...</td>\n",
       "    </tr>\n",
       "    <tr>\n",
       "      <th>5822</th>\n",
       "      <td>{'en': 'where is the bombarded city of nagasaki located?', 'sparql': 'select distinct ?subject w...</td>\n",
       "    </tr>\n",
       "    <tr>\n",
       "      <th>34431</th>\n",
       "      <td>{'en': 'the electric conductivity of galinstan is equivalent to 3460000?', 'sparql': 'ask where ...</td>\n",
       "    </tr>\n",
       "    <tr>\n",
       "      <th>11377</th>\n",
       "      <td>{'en': 'which is the wikidata property for things about individuals which was a subject to the n...</td>\n",
       "    </tr>\n",
       "  </tbody>\n",
       "</table>\n",
       "<p>9612 rows × 1 columns</p>\n",
       "</div>"
      ],
      "text/plain": [
       "                                                                                               translation\n",
       "38355  {'en': 'who colors of player of nico yennaris ?', 'sparql': 'select ?answer where [ wd:nico_yenn...\n",
       "17094  {'en': 'what are the basic forms of government in syria?', 'sparql': 'select (COUNT(?object) AS ...\n",
       "41619  {'en': 'for what was isabelle adjani nominated for in the year 1995.', 'sparql': 'select ?object...\n",
       "18625  {'en': 'what is the origin of aiesec, that borders ans?', 'sparql': 'select ?answer where [ wd:a...\n",
       "33956  {'en': 'how long is passover in israel?', 'sparql': 'select ?object where [ wd:passover p:durati...\n",
       "...                                                                                                    ...\n",
       "4151   {'en': 'which is the way to determine the number of out of school children in north africa?', 's...\n",
       "33487  {'en': 'let me know almost moon of saturn begins with the letter t', 'sparql': 'select distinct ...\n",
       "5822   {'en': 'where is the bombarded city of nagasaki located?', 'sparql': 'select distinct ?subject w...\n",
       "34431  {'en': 'the electric conductivity of galinstan is equivalent to 3460000?', 'sparql': 'ask where ...\n",
       "11377  {'en': 'which is the wikidata property for things about individuals which was a subject to the n...\n",
       "\n",
       "[9612 rows x 1 columns]"
      ]
     },
     "execution_count": 85,
     "metadata": {},
     "output_type": "execute_result"
    }
   ],
   "source": [
    "df_test2"
   ]
  }
 ],
 "metadata": {
  "interpreter": {
   "hash": "e7370f93d1d0cde622a1f8e1c04877d8463912d04d973331ad4851f04de6915a"
  },
  "kernelspec": {
   "display_name": "Python 3.8.5 64-bit",
   "name": "python3"
  },
  "language_info": {
   "codemirror_mode": {
    "name": "ipython",
    "version": 3
   },
   "file_extension": ".py",
   "mimetype": "text/x-python",
   "name": "python",
   "nbconvert_exporter": "python",
   "pygments_lexer": "ipython3",
   "version": "3.8.5"
  },
  "orig_nbformat": 4
 },
 "nbformat": 4,
 "nbformat_minor": 2
}
