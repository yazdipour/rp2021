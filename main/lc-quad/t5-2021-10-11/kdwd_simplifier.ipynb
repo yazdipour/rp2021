{
 "cells": [
  {
   "cell_type": "code",
   "execution_count": 32,
   "metadata": {},
   "outputs": [],
   "source": [
    "import pandas as pd\n",
    "pd.options.display.max_colwidth = 100"
   ]
  },
  {
   "cell_type": "code",
   "execution_count": 33,
   "metadata": {},
   "outputs": [],
   "source": [
    "import datetime\n",
    "todaydate = datetime.datetime.now().strftime(\"%Y-%m-%d\")"
   ]
  },
  {
   "cell_type": "code",
   "execution_count": 3,
   "metadata": {},
   "outputs": [],
   "source": [
    "df = pd.read_csv(\"../../../data/kdwd/item_no_desc.csv\").dropna()\n",
    "df.rename(columns = {'item_id':'id'}, inplace=True)\n",
    "df = df.set_index(\"id\")\n",
    "# Dropna 43232907 to 43232888 (-19)"
   ]
  },
  {
   "cell_type": "code",
   "execution_count": 4,
   "metadata": {},
   "outputs": [
    {
     "name": "stdout",
     "output_type": "stream",
     "text": [
      "52.43109199644493\n",
      "0    15\n",
      "dtype: int64\n"
     ]
    }
   ],
   "source": [
    "df['length'] = df.en_label.str.len()\n",
    "print(df[\"length\"].mean())\n",
    "print(df[\"length\"].mode())"
   ]
  },
  {
   "cell_type": "code",
   "execution_count": 5,
   "metadata": {},
   "outputs": [
    {
     "data": {
      "text/html": [
       "<div>\n",
       "<style scoped>\n",
       "    .dataframe tbody tr th:only-of-type {\n",
       "        vertical-align: middle;\n",
       "    }\n",
       "\n",
       "    .dataframe tbody tr th {\n",
       "        vertical-align: top;\n",
       "    }\n",
       "\n",
       "    .dataframe thead th {\n",
       "        text-align: right;\n",
       "    }\n",
       "</style>\n",
       "<table border=\"1\" class=\"dataframe\">\n",
       "  <thead>\n",
       "    <tr style=\"text-align: right;\">\n",
       "      <th></th>\n",
       "      <th>en_label</th>\n",
       "      <th>length</th>\n",
       "    </tr>\n",
       "    <tr>\n",
       "      <th>item_id</th>\n",
       "      <th></th>\n",
       "      <th></th>\n",
       "    </tr>\n",
       "  </thead>\n",
       "  <tbody>\n",
       "    <tr>\n",
       "      <th>101</th>\n",
       "      <td>lopado temacho selacho galeo kranio leipsano drim hypo trimmato silphio parao melito katakechy m...</td>\n",
       "      <td>210</td>\n",
       "    </tr>\n",
       "    <tr>\n",
       "      <th>102</th>\n",
       "      <td>pneumonoultramicroscopicsilicovolcanoconiosis</td>\n",
       "      <td>45</td>\n",
       "    </tr>\n",
       "    <tr>\n",
       "      <th>103</th>\n",
       "      <td>supercalifragilisticexpialidocious</td>\n",
       "      <td>34</td>\n",
       "    </tr>\n",
       "    <tr>\n",
       "      <th>133</th>\n",
       "      <td>mixed-member proportional representation</td>\n",
       "      <td>40</td>\n",
       "    </tr>\n",
       "    <tr>\n",
       "      <th>488</th>\n",
       "      <td>atomic bombings of hiroshima and nagasaki</td>\n",
       "      <td>41</td>\n",
       "    </tr>\n",
       "  </tbody>\n",
       "</table>\n",
       "</div>"
      ],
      "text/plain": [
       "                                                                                                    en_label  \\\n",
       "item_id                                                                                                        \n",
       "101      lopado temacho selacho galeo kranio leipsano drim hypo trimmato silphio parao melito katakechy m...   \n",
       "102                                                            pneumonoultramicroscopicsilicovolcanoconiosis   \n",
       "103                                                                       supercalifragilisticexpialidocious   \n",
       "133                                                                 mixed-member proportional representation   \n",
       "488                                                                atomic bombings of hiroshima and nagasaki   \n",
       "\n",
       "         length  \n",
       "item_id          \n",
       "101         210  \n",
       "102          45  \n",
       "103          34  \n",
       "133          40  \n",
       "488          41  "
      ]
     },
     "execution_count": 5,
     "metadata": {},
     "output_type": "execute_result"
    }
   ],
   "source": [
    "df[df.en_label.str.len()>30].head()"
   ]
  },
  {
   "cell_type": "code",
   "execution_count": 6,
   "metadata": {},
   "outputs": [
    {
     "name": "stdout",
     "output_type": "stream",
     "text": [
      "(43232888, 2)\n",
      "(21216344, 2)\n"
     ]
    }
   ],
   "source": [
    "print(df.shape)\n",
    "df = df[df.en_label.str.len()<31]\n",
    "print(df.shape)\n",
    "del df['length']"
   ]
  },
  {
   "cell_type": "code",
   "execution_count": 7,
   "metadata": {},
   "outputs": [
    {
     "name": "stdout",
     "output_type": "stream",
     "text": [
      "(21216344,)\n"
     ]
    }
   ],
   "source": [
    "mask = df.en_label.str.contains(r'2dfgrs', na=True)\n",
    "print(mask.shape)"
   ]
  },
  {
   "cell_type": "code",
   "execution_count": 8,
   "metadata": {},
   "outputs": [
    {
     "data": {
      "text/html": [
       "<div>\n",
       "<style scoped>\n",
       "    .dataframe tbody tr th:only-of-type {\n",
       "        vertical-align: middle;\n",
       "    }\n",
       "\n",
       "    .dataframe tbody tr th {\n",
       "        vertical-align: top;\n",
       "    }\n",
       "\n",
       "    .dataframe thead th {\n",
       "        text-align: right;\n",
       "    }\n",
       "</style>\n",
       "<table border=\"1\" class=\"dataframe\">\n",
       "  <thead>\n",
       "    <tr style=\"text-align: right;\">\n",
       "      <th></th>\n",
       "      <th>en_label</th>\n",
       "    </tr>\n",
       "    <tr>\n",
       "      <th>item_id</th>\n",
       "      <th></th>\n",
       "    </tr>\n",
       "  </thead>\n",
       "  <tbody>\n",
       "    <tr>\n",
       "      <th>3711575</th>\n",
       "      <td>2dfgrs tgn137z299</td>\n",
       "    </tr>\n",
       "    <tr>\n",
       "      <th>3712242</th>\n",
       "      <td>2dfgrs tgn094z194</td>\n",
       "    </tr>\n",
       "    <tr>\n",
       "      <th>67844446</th>\n",
       "      <td>2dfgrs tgn289z069</td>\n",
       "    </tr>\n",
       "    <tr>\n",
       "      <th>74666428</th>\n",
       "      <td>2dfgrs tgn321z057</td>\n",
       "    </tr>\n",
       "    <tr>\n",
       "      <th>74666434</th>\n",
       "      <td>2dfgrs tgn183z141</td>\n",
       "    </tr>\n",
       "  </tbody>\n",
       "</table>\n",
       "</div>"
      ],
      "text/plain": [
       "                   en_label\n",
       "item_id                    \n",
       "3711575   2dfgrs tgn137z299\n",
       "3712242   2dfgrs tgn094z194\n",
       "67844446  2dfgrs tgn289z069\n",
       "74666428  2dfgrs tgn321z057\n",
       "74666434  2dfgrs tgn183z141"
      ]
     },
     "execution_count": 8,
     "metadata": {},
     "output_type": "execute_result"
    }
   ],
   "source": [
    "df[mask==True].head()"
   ]
  },
  {
   "cell_type": "code",
   "execution_count": 9,
   "metadata": {},
   "outputs": [
    {
     "name": "stdout",
     "output_type": "stream",
     "text": [
      "(21216344, 1)\n",
      "(21200600, 1)\n"
     ]
    }
   ],
   "source": [
    "print(df.shape)\n",
    "df = df[mask==False]\n",
    "print(df.shape)"
   ]
  },
  {
   "cell_type": "code",
   "execution_count": 10,
   "metadata": {},
   "outputs": [
    {
     "name": "stdout",
     "output_type": "stream",
     "text": [
      "(21200600, 1)\n",
      "(17909114, 1)\n"
     ]
    }
   ],
   "source": [
    "print(df.shape)\n",
    "df[\"en_label\"] = df[\"en_label\"].str.lower()\n",
    "df.drop_duplicates(subset=[\"en_label\"], keep=\"first\", inplace=True)\n",
    "print(df.shape)"
   ]
  },
  {
   "cell_type": "code",
   "execution_count": 11,
   "metadata": {},
   "outputs": [],
   "source": [
    "df.rename(columns = {'en_label':'en'}, inplace=True)\n",
    "df.to_csv(f\"../../../data/kdwd/{todaydate}/item.csv\")"
   ]
  },
  {
   "cell_type": "code",
   "execution_count": 12,
   "metadata": {},
   "outputs": [
    {
     "name": "stdout",
     "output_type": "stream",
     "text": [
      "(4687734, 1)\n",
      "(3928159, 1)\n"
     ]
    }
   ],
   "source": [
    "df = pd.read_csv(\"../../../data/kdwd/item_aliases.csv\")\n",
    "df.rename(columns = {'item_id':'id'}, inplace=True)\n",
    "df = df.set_index(\"id\")\n",
    "df[\"en_alias\"] = df[\"en_alias\"].str.lower()\n",
    "df.drop_duplicates(subset=[\"en_alias\"], keep=\"first\", inplace=True)\n",
    "print(df.shape)\n",
    "df = df[df.en_alias.str.len()<30]\n",
    "df.rename(columns = {'en_alias':'en'}, inplace=True)\n",
    "print(df.shape)\n",
    "df.to_csv(f\"../../../data/kdwd/{todaydate}/item2.csv\")"
   ]
  },
  {
   "cell_type": "code",
   "execution_count": 13,
   "metadata": {},
   "outputs": [
    {
     "name": "stdout",
     "output_type": "stream",
     "text": [
      "(6985, 1)\n"
     ]
    }
   ],
   "source": [
    "df = pd.read_csv(\"../../../data/kdwd/property.csv\")\n",
    "df.rename(columns = {'property_id':'id'}, inplace=True)\n",
    "df = df.set_index(\"id\")\n",
    "del df[\"en_description\"]\n",
    "df[\"en_label\"] = df[\"en_label\"].str.lower()\n",
    "df.drop_duplicates(subset=[\"en_label\"], keep=\"first\", inplace=True)\n",
    "df.rename(columns = {'en_label':'en'}, inplace=True)\n",
    "print(df.shape)\n",
    "df.to_csv(f\"../../../data/kdwd/{todaydate}/property.csv\")"
   ]
  },
  {
   "cell_type": "code",
   "execution_count": 14,
   "metadata": {},
   "outputs": [
    {
     "name": "stdout",
     "output_type": "stream",
     "text": [
      "(9004, 1)\n",
      "(8631, 1)\n"
     ]
    }
   ],
   "source": [
    "df = pd.read_csv(\"../../../data/kdwd/property_aliases.csv\")\n",
    "df.rename(columns = {'property_id':'id'}, inplace=True)\n",
    "df = df.set_index(\"id\")\n",
    "print(df.shape)\n",
    "df[\"en_alias\"] = df[\"en_alias\"].str.lower()\n",
    "df.drop_duplicates(subset=[\"en_alias\"], keep=\"first\", inplace=True)\n",
    "df.rename(columns = {'en_alias':'en'}, inplace=True)\n",
    "print(df.shape)\n",
    "df.to_csv(f\"../../../data/kdwd/{todaydate}/property2.csv\")"
   ]
  },
  {
   "cell_type": "code",
   "execution_count": 34,
   "metadata": {},
   "outputs": [
    {
     "name": "stdout",
     "output_type": "stream",
     "text": [
      "(15616, 2)\n"
     ]
    }
   ],
   "source": [
    "df_p = f\"../../../data/kdwd/{todaydate}/property.csv\"\n",
    "df_p2 = f\"../../../data/kdwd/{todaydate}/property2.csv\"\n",
    "df = pd.concat(map(pd.read_csv, [df_p, df_p2]), ignore_index=True)\n",
    "df.to_csv(f\"../../../data/kdwd/{todaydate}/p.csv\")\n",
    "print(df.shape)"
   ]
  },
  {
   "cell_type": "code",
   "execution_count": 31,
   "metadata": {},
   "outputs": [
    {
     "name": "stdout",
     "output_type": "stream",
     "text": [
      "(21837273, 2)\n"
     ]
    }
   ],
   "source": [
    "df_q = (f'../../../data/kdwd/{todaydate}/item.csv')\n",
    "df_q2 = (f'../../../data/kdwd/{todaydate}/item2.csv')\n",
    "df = pd.concat(map(pd.read_csv, [df_q, df_q2]), ignore_index=True)\n",
    "df.to_csv(f\"../../../data/kdwd/{todaydate}/q.csv\")\n",
    "print(df.shape)"
   ]
  }
 ],
 "metadata": {
  "interpreter": {
   "hash": "e7370f93d1d0cde622a1f8e1c04877d8463912d04d973331ad4851f04de6915a"
  },
  "kernelspec": {
   "display_name": "Python 3.8.5 64-bit",
   "name": "python3"
  },
  "language_info": {
   "codemirror_mode": {
    "name": "ipython",
    "version": 3
   },
   "file_extension": ".py",
   "mimetype": "text/x-python",
   "name": "python",
   "nbconvert_exporter": "python",
   "pygments_lexer": "ipython3",
   "version": "3.8.5"
  },
  "orig_nbformat": 4
 },
 "nbformat": 4,
 "nbformat_minor": 2
}
