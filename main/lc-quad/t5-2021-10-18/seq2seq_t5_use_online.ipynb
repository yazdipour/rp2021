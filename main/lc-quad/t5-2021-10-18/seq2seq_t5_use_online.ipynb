{
  "cells": [
    {
      "cell_type": "code",
      "execution_count": 1,
      "metadata": {
        "id": "dKV8MCK1Y12g"
      },
      "outputs": [],
      "source": [
        "# !pip install datasets transformers pandasql beautifultable -qqq\n",
        "# torch.cuda.empty_cache()"
      ]
    },
    {
      "cell_type": "code",
      "execution_count": 2,
      "metadata": {},
      "outputs": [],
      "source": [
        "import pandas as pd\n",
        "import re"
      ]
    },
    {
      "cell_type": "code",
      "execution_count": 3,
      "metadata": {
        "id": "-oei2ojLYoHV"
      },
      "outputs": [],
      "source": [
        "model_checkpoint = \"t5-small\"\n",
        "model_date = '2021-10-17`'\n",
        "prefix = \"translate english to sparql: \"\n",
        "model_name = \"yazdipour/text-to-sparql-t5-small-2021-10-18_12-12\""
      ]
    },
    {
      "cell_type": "code",
      "execution_count": 4,
      "metadata": {},
      "outputs": [
        {
          "data": {
            "application/vnd.jupyter.widget-view+json": {
              "model_id": "fd07dc78771a49c1acea45f864a79a62",
              "version_major": 2,
              "version_minor": 0
            },
            "text/plain": [
              "HBox(children=(FloatProgress(value=0.0, description='Downloading', max=1415.0, style=ProgressStyle(description…"
            ]
          },
          "metadata": {},
          "output_type": "display_data"
        },
        {
          "name": "stdout",
          "output_type": "stream",
          "text": [
            "\n"
          ]
        },
        {
          "data": {
            "application/vnd.jupyter.widget-view+json": {
              "model_id": "80c06a544ccf4b36a5aa80936431012f",
              "version_major": 2,
              "version_minor": 0
            },
            "text/plain": [
              "HBox(children=(FloatProgress(value=0.0, description='Downloading', max=242085627.0, style=ProgressStyle(descri…"
            ]
          },
          "metadata": {},
          "output_type": "display_data"
        },
        {
          "name": "stdout",
          "output_type": "stream",
          "text": [
            "\n"
          ]
        }
      ],
      "source": [
        "from transformers import pipeline, AutoTokenizer, AutoModelForSeq2SeqLM, T5TokenizerFast\n",
        "model = AutoModelForSeq2SeqLM.from_pretrained(model_name).to(\"cuda\")"
      ]
    },
    {
      "cell_type": "code",
      "execution_count": 5,
      "metadata": {},
      "outputs": [],
      "source": [
        "# tokenizer = AutoTokenizer.from_pretrained(model_name)\n",
        "# tokenizer = T5TokenizerFast.from_pretrained(model_name)\n",
        "tokenizer = T5TokenizerFast.from_pretrained(model_checkpoint, src_lang=\"en\", tgt_lang=\"sparql\")"
      ]
    },
    {
      "cell_type": "code",
      "execution_count": 6,
      "metadata": {},
      "outputs": [],
      "source": [
        "translator = pipeline(\n",
        "    \"translation_xx_to_yy\",\n",
        "    model=model,\n",
        "    tokenizer=tokenizer,\n",
        "    device=0 #0 for cuda, -1 for cpu\n",
        ")"
      ]
    },
    {
      "cell_type": "code",
      "execution_count": 7,
      "metadata": {},
      "outputs": [],
      "source": [
        "def replace_all(text, dict):\n",
        "    for i, j in dict.items():\n",
        "        text = text.replace(i, j)\n",
        "    return text"
      ]
    },
    {
      "cell_type": "code",
      "execution_count": 8,
      "metadata": {},
      "outputs": [],
      "source": [
        "kdwd_date = '2021-10-11'\n",
        "df_q = pd.read_csv(f'../../../data/kdwd/{kdwd_date}/q.csv')\n",
        "df_p = pd.read_csv(f'../../../data/kdwd/{kdwd_date}/p.csv')"
      ]
    },
    {
      "cell_type": "code",
      "execution_count": 57,
      "metadata": {},
      "outputs": [],
      "source": [
        "def findID(pref, x):\n",
        "    word = x.replace(\"_\", \" \").lower()\n",
        "    try:\n",
        "        if 'wd' != pref:\n",
        "            # s = df_p[df_p.en.str.contains(word, na=False)]\n",
        "            s = df_p[df_p['en']==word]\n",
        "            if len(s)>0:\n",
        "                id = s.iloc[0]['id']\n",
        "                return 'P'+str(id)\n",
        "        # Use else to do not replace missing Ps with Qs\n",
        "        s = df_q[df_q['en']==word]\n",
        "        # s = df_q[df_q.en.str.contains(word, na=False)]\n",
        "        id = s.iloc[0]['id']\n",
        "        return 'Q'+str(id)\n",
        "    except: return x"
      ]
    },
    {
      "cell_type": "code",
      "execution_count": 10,
      "metadata": {},
      "outputs": [
        {
          "data": {
            "text/plain": [
              "'Q1664689'"
            ]
          },
          "execution_count": 10,
          "metadata": {},
          "output_type": "execute_result"
        }
      ],
      "source": [
        "findID('wd', 'instance')"
      ]
    },
    {
      "cell_type": "code",
      "execution_count": 11,
      "metadata": {},
      "outputs": [],
      "source": [
        "def decode_props(qry):\n",
        "    rep_dict = {}\n",
        "    qry = qry.replace(\"[\", \"{\").replace(\"]\", \"}\")\n",
        "    for m in re.finditer(\":\\w+\", qry):\n",
        "        pref = qry[m.start(0) - 3 : m.start(0)].strip()\n",
        "        rep_dict[m.group(0)[1:]] = findID(pref, m.group(0)[1:])\n",
        "    return replace_all(qry, rep_dict)\n"
      ]
    },
    {
      "cell_type": "code",
      "execution_count": 12,
      "metadata": {},
      "outputs": [
        {
          "data": {
            "text/plain": [
              "'SELECT ?answer WHERE { wd:Q64 wdt:instance_of ?answer . ?answer wdt:instance_of wd:Q30185 }'"
            ]
          },
          "execution_count": 12,
          "metadata": {},
          "output_type": "execute_result"
        }
      ],
      "source": [
        "decode_props('SELECT ?answer WHERE [ wd:berlin wdt:instance_of ?answer . ?answer wdt:instance_of wd:mayor ]')"
      ]
    },
    {
      "cell_type": "code",
      "execution_count": 13,
      "metadata": {},
      "outputs": [],
      "source": [
        "def translate(q):\n",
        "    tr = translator(prefix+q, max_length=100)[0]['translation_text']\n",
        "    return (tr, decode_props(tr))"
      ]
    },
    {
      "cell_type": "code",
      "execution_count": 14,
      "metadata": {},
      "outputs": [],
      "source": [
        "from beautifultable import BeautifulTable\n",
        "def pretty_translate(t,q): \n",
        "    ans = translate(q)\n",
        "    # print('QUESTION:\\n' + q + '\\nTARGET:\\n'+ t +'\\nRESULT:\\n' + ans[0]+ '\\nRESULT-DECODED:\\n' + ans[1])\n",
        "    table = BeautifulTable(maxwidth=140)\n",
        "    # table.column_headers = [\"\", \"Man Utd\",\"Man City\",\"T Hotspur\"]\n",
        "    table.rows.append(['QUESTION', q])\n",
        "    table.rows.append(['Target', t])\n",
        "    table.rows.append(['RawRESULT', ans[0]])\n",
        "    table.rows.append(['RESULT', ans[1]])\n",
        "    print(table)"
      ]
    },
    {
      "cell_type": "markdown",
      "metadata": {},
      "source": [
        "# TESTING"
      ]
    },
    {
      "cell_type": "code",
      "execution_count": 15,
      "metadata": {},
      "outputs": [
        {
          "data": {
            "text/plain": [
              "'translate english to sparql: '"
            ]
          },
          "execution_count": 15,
          "metadata": {},
          "output_type": "execute_result"
        }
      ],
      "source": [
        "prefix"
      ]
    },
    {
      "cell_type": "code",
      "execution_count": 16,
      "metadata": {},
      "outputs": [
        {
          "data": {
            "text/plain": [
              "[{'translation_text': 'select distinct ?obj where [ wd:marlin_manson wdt:head_of_work ?obj . ?obj wdt:instance_of wd:human ]'}]"
            ]
          },
          "execution_count": 16,
          "metadata": {},
          "output_type": "execute_result"
        }
      ],
      "source": [
        "translator(prefix+'Who is Marlin Manson?', max_length=100)"
      ]
    },
    {
      "cell_type": "code",
      "execution_count": 58,
      "metadata": {},
      "outputs": [
        {
          "data": {
            "text/plain": [
              "('select distinct ?obj where [ wd:marlin_manson wdt:head_of_work ?obj . ?obj wdt:instance_of wd:human ]',\n",
              " 'select distinct ?obj where { wd:marlin_manson wdt:Q1592254 ?obj . ?obj wdt:P31 wd:Q5 }')"
            ]
          },
          "execution_count": 58,
          "metadata": {},
          "output_type": "execute_result"
        }
      ],
      "source": [
        "# <re.Match object; span=(52, 66), match=':marlin_manson'>\n",
        "# ('select distinct ?sbj where { ?sbj wdt:instance_of wd:marlin_manson . ?sbj wdt:instance_of wd:human }',\n",
        "#  'select distinct ?sbj where { ?sbj wdt:P31 wd:marlin_manson . ?sbj wdt:P31 wd:Q5 }')\n",
        "translate('Who is Marlin Manson?')"
      ]
    },
    {
      "cell_type": "code",
      "execution_count": 59,
      "metadata": {},
      "outputs": [
        {
          "data": {
            "text/plain": [
              "(\"select ?value where [ wd:bill_gates p:date_of_birth ?s . ?s ps:date_of_birth ?x filter(contains(YEAR(?x),'1980')) . ?s pq:point_in_time ?value]\",\n",
              " \"select ?value where { wd:Q5284 p:P569 ?s . ?s ps:P569 ?x filter(contains(YEAR(?x),'1980')) . ?s pq:P585 ?value}\")"
            ]
          },
          "execution_count": 59,
          "metadata": {},
          "output_type": "execute_result"
        }
      ],
      "source": [
        "translate('How old is Bill Gates?')"
      ]
    },
    {
      "cell_type": "code",
      "execution_count": 60,
      "metadata": {},
      "outputs": [
        {
          "name": "stdout",
          "output_type": "stream",
          "text": [
            "+-----------+---------------------------------------------------------------------------------------------------------+\n",
            "| QUESTION  |                         Who is the country for head of state of Mahmoud Abbas?                          |\n",
            "+-----------+---------------------------------------------------------------------------------------------------------+\n",
            "|  Target   |             select distinct ?sbj where { ?sbj wdt:P35 wd:Q127998 . ?sbj wdt:P31 wd:Q6256 }              |\n",
            "+-----------+---------------------------------------------------------------------------------------------------------+\n",
            "| RawRESULT | select distinct ?obj where [ wd:mamoud_abbas wdt:head_of_state ?obj . ?obj wdt:instance_of wd:country ] |\n",
            "+-----------+---------------------------------------------------------------------------------------------------------+\n",
            "|  RESULT   |           select distinct ?obj where { wd:mamoud_abbas wdt:P35 ?obj . ?obj wdt:P31 wd:Q6256 }           |\n",
            "+-----------+---------------------------------------------------------------------------------------------------------+\n"
          ]
        }
      ],
      "source": [
        "pretty_translate('select distinct ?sbj where { ?sbj wdt:P35 wd:Q127998 . ?sbj wdt:P31 wd:Q6256 }','Who is the country for head of state of Mahmoud Abbas?')"
      ]
    },
    {
      "cell_type": "code",
      "execution_count": 61,
      "metadata": {},
      "outputs": [
        {
          "name": "stdout",
          "output_type": "stream",
          "text": [
            "+-----------+---------------------------------------------------------------------------------------------------------+\n",
            "| QUESTION  |                           What country is Mahmoud Abbas the head of state of?                           |\n",
            "+-----------+---------------------------------------------------------------------------------------------------------+\n",
            "|  Target   |             select distinct ?sbj where { ?sbj wdt:P35 wd:Q127998 . ?sbj wdt:P31 wd:Q6256 }              |\n",
            "+-----------+---------------------------------------------------------------------------------------------------------+\n",
            "| RawRESULT | select distinct ?obj where [ wd:mamoud_abbas wdt:head_of_state ?obj . ?obj wdt:instance_of wd:country ] |\n",
            "+-----------+---------------------------------------------------------------------------------------------------------+\n",
            "|  RESULT   |           select distinct ?obj where { wd:mamoud_abbas wdt:P35 ?obj . ?obj wdt:P31 wd:Q6256 }           |\n",
            "+-----------+---------------------------------------------------------------------------------------------------------+\n"
          ]
        }
      ],
      "source": [
        "pretty_translate('select distinct ?sbj where { ?sbj wdt:P35 wd:Q127998 . ?sbj wdt:P31 wd:Q6256 }',\"What country is Mahmoud Abbas the head of state of?\")"
      ]
    },
    {
      "cell_type": "code",
      "execution_count": 62,
      "metadata": {},
      "outputs": [
        {
          "name": "stdout",
          "output_type": "stream",
          "text": [
            "+-----------+---------------------------------------------------------------------------------------------------------+\n",
            "| QUESTION  |                         Who is the country for head of state of Mahmoud Abbas?                          |\n",
            "+-----------+---------------------------------------------------------------------------------------------------------+\n",
            "|  Target   |             select distinct ?sbj where { ?sbj wdt:P35 wd:Q127998 . ?sbj wdt:P31 wd:Q6256 }              |\n",
            "+-----------+---------------------------------------------------------------------------------------------------------+\n",
            "| RawRESULT | select distinct ?obj where [ wd:mamoud_abbas wdt:head_of_state ?obj . ?obj wdt:instance_of wd:country ] |\n",
            "+-----------+---------------------------------------------------------------------------------------------------------+\n",
            "|  RESULT   |           select distinct ?obj where { wd:mamoud_abbas wdt:P35 ?obj . ?obj wdt:P31 wd:Q6256 }           |\n",
            "+-----------+---------------------------------------------------------------------------------------------------------+\n"
          ]
        }
      ],
      "source": [
        "pretty_translate('select distinct ?sbj where { ?sbj wdt:P35 wd:Q127998 . ?sbj wdt:P31 wd:Q6256 }','Who is the country for head of state of Mahmoud Abbas?')"
      ]
    },
    {
      "cell_type": "code",
      "execution_count": 63,
      "metadata": {},
      "outputs": [
        {
          "name": "stdout",
          "output_type": "stream",
          "text": [
            "+-----------+--------------------------------------------------------------------------------------------------------------+\n",
            "| QUESTION  |              which female actress is the voice over on south park and is employed as a singer?               |\n",
            "+-----------+--------------------------------------------------------------------------------------------------------------+\n",
            "|  Target   |               SELECT ?answer WHERE { wd:Q16538 wdt:P725 ?answer . ?answer wdt:P106 wd:Q177220}               |\n",
            "+-----------+--------------------------------------------------------------------------------------------------------------+\n",
            "| RawRESULT | select ?answer where [ wd:south_park wdt:voice_over ?answer . ?answer wdt:position_held wd:single_and_song ] |\n",
            "+-----------+--------------------------------------------------------------------------------------------------------------+\n",
            "|  RESULT   |        select ?answer where { wd:Q16538 wdt:Q12280274 ?answer . ?answer wdt:P39 wd:single_and_song }         |\n",
            "+-----------+--------------------------------------------------------------------------------------------------------------+\n"
          ]
        }
      ],
      "source": [
        "pretty_translate(\"SELECT ?answer WHERE { wd:Q16538 wdt:P725 ?answer . ?answer wdt:P106 wd:Q177220}\",\"Which female actress is the voice over on South Park and is employed as a singer?\".lower())"
      ]
    },
    {
      "cell_type": "code",
      "execution_count": 64,
      "metadata": {},
      "outputs": [
        {
          "name": "stdout",
          "output_type": "stream",
          "text": [
            "+-----------+-------------------------------------------------------------------------------------------------+\n",
            "| QUESTION  |          Which female actress on South Park is the voice over and is used as a singer?          |\n",
            "+-----------+-------------------------------------------------------------------------------------------------+\n",
            "|  Target   |        SELECT ?answer WHERE { wd:Q16538 wdt:P725 ?answer . ?answer wdt:P106 wd:Q177220}         |\n",
            "+-----------+-------------------------------------------------------------------------------------------------+\n",
            "| RawRESULT | select ?answer where [ wd:south_park wdt:voice_over ?answer . ?answer wdt:voice_over wd:single] |\n",
            "+-----------+-------------------------------------------------------------------------------------------------+\n",
            "|  RESULT   |   select ?answer where { wd:Q16538 wdt:Q12280274 ?answer . ?answer wdt:Q12280274 wd:Q134556}    |\n",
            "+-----------+-------------------------------------------------------------------------------------------------+\n"
          ]
        }
      ],
      "source": [
        "pretty_translate(\"SELECT ?answer WHERE { wd:Q16538 wdt:P725 ?answer . ?answer wdt:P106 wd:Q177220}\",\"Which female actress on South Park is the voice over and is used as a singer?\")"
      ]
    },
    {
      "cell_type": "code",
      "execution_count": 65,
      "metadata": {},
      "outputs": [
        {
          "name": "stdout",
          "output_type": "stream",
          "text": [
            "+-----------+--------------------------------------------------------------------------------------+\n",
            "| QUESTION  |                      Which is the PIM authority ID of Paul Erd?                      |\n",
            "+-----------+--------------------------------------------------------------------------------------+\n",
            "|  Target   |            select distinct ?answer where { wd:Q173746 wdt:P3973 ?answer}             |\n",
            "+-----------+--------------------------------------------------------------------------------------+\n",
            "| RawRESULT | select ?answer where [ wd:paul_ölt wdt:authority_id ?X . ?X wdt:named_after ?answer] |\n",
            "+-----------+--------------------------------------------------------------------------------------+\n",
            "|  RESULT   |    select ?answer where { wd:paul_ölt wdt:authority_id ?X . ?X wdt:P138 ?answer}     |\n",
            "+-----------+--------------------------------------------------------------------------------------+\n"
          ]
        }
      ],
      "source": [
        "# Paul Erdős (Q173746)\n",
        "pretty_translate(\"select distinct ?answer where { wd:Q173746 wdt:P3973 ?answer}\",\"Which is the PIM authority ID of Paul Erd?\")"
      ]
    },
    {
      "cell_type": "code",
      "execution_count": 66,
      "metadata": {},
      "outputs": [
        {
          "name": "stdout",
          "output_type": "stream",
          "text": [
            "+-----------+------------------------------------------------------------------------------------------------------------------------------+\n",
            "| QUESTION  |                                       What was the population of Somalia in 2009-0-0?                                        |\n",
            "+-----------+------------------------------------------------------------------------------------------------------------------------------+\n",
            "|  Target   |        SELECT ?obj WHERE { wd:Q1045 p:P1082 ?s . ?s ps:P1082 ?obj . ?s pq:P585 ?x filter(contains(YEAR(?x),'2009')) }        |\n",
            "+-----------+------------------------------------------------------------------------------------------------------------------------------+\n",
            "| RawRESULT | select ?obj where [ wd:samala p:population ?s . ?s ps:population ?obj . ?s pq:point_in_time ?x filter(contains(YEAR(?x),'200 |\n",
            "|           |                                                            9')) ]                                                            |\n",
            "+-----------+------------------------------------------------------------------------------------------------------------------------------+\n",
            "|  RESULT   |      select ?obj where { wd:Q2216714 p:P1082 ?s . ?s ps:P1082 ?obj . ?s pq:P585 ?x filter(contains(YEAR(?x),'2009')) }       |\n",
            "+-----------+------------------------------------------------------------------------------------------------------------------------------+\n"
          ]
        }
      ],
      "source": [
        "pretty_translate(\"SELECT ?obj WHERE { wd:Q1045 p:P1082 ?s . ?s ps:P1082 ?obj . ?s pq:P585 ?x filter(contains(YEAR(?x),'2009')) }\", \n",
        "            \"What was the population of Somalia in 2009-0-0?\")"
      ]
    },
    {
      "cell_type": "code",
      "execution_count": 67,
      "metadata": {},
      "outputs": [
        {
          "data": {
            "text/plain": [
              "('select distinct ?obj where [ wd:new_york_city wdt:born_of ?obj . ?obj wdt:instance_of wd:human ]',\n",
              " 'select distinct ?obj where { wd:Q60 wdt:born_of ?obj . ?obj wdt:P31 wd:Q5 }')"
            ]
          },
          "execution_count": 67,
          "metadata": {},
          "output_type": "execute_result"
        }
      ],
      "source": [
        "translate('Humans born in New York City') #random query - answer seems correct"
      ]
    },
    {
      "cell_type": "code",
      "execution_count": 68,
      "metadata": {},
      "outputs": [
        {
          "name": "stdout",
          "output_type": "stream",
          "text": [
            "+-----------+-----------------------------------------------------------------------------------------------------------------------+\n",
            "| QUESTION  |                                  Are Taiko some kind of Japanese musical instrument?                                  |\n",
            "+-----------+-----------------------------------------------------------------------------------------------------------------------+\n",
            "|  Target   | ASK WHERE { <http://dbpedia.org/resource/Taiko> a <http://dbpedia.org/class/yago/WikicatJapaneseMusicalInstruments> } |\n",
            "+-----------+-----------------------------------------------------------------------------------------------------------------------+\n",
            "| RawRESULT |                               ask where [ wd:taiko wdt:musical_instrument wd:japanese ]                               |\n",
            "+-----------+-----------------------------------------------------------------------------------------------------------------------+\n",
            "|  RESULT   |                                      ask where { wd:Q221769 wdt:P1303 wd:Q5287 }                                      |\n",
            "+-----------+-----------------------------------------------------------------------------------------------------------------------+\n"
          ]
        }
      ],
      "source": [
        "# From QALD\n",
        "target = \"ASK WHERE { <http://dbpedia.org/resource/Taiko> a <http://dbpedia.org/class/yago/WikicatJapaneseMusicalInstruments> }\"\n",
        "q =  \"Are Taiko some kind of Japanese musical instrument?\"\n",
        "pretty_translate(target, q)"
      ]
    },
    {
      "cell_type": "code",
      "execution_count": 69,
      "metadata": {},
      "outputs": [
        {
          "name": "stdout",
          "output_type": "stream",
          "text": [
            "+-----------+------------------------------------------------------------------------------------------------------------------------------+\n",
            "| QUESTION  |                                                      Who killed Caesar?                                                      |\n",
            "+-----------+------------------------------------------------------------------------------------------------------------------------------+\n",
            "|  Target   | PREFIX dct: <http://purl.org/dc/terms/> PREFIX dbc: <http://dbpedia.org/resource/Category:> SELECT DISTINCT ?uri WHERE { ?ur |\n",
            "|           |                                        i dct:subject dbc:Assassins_of_Julius_Caesar }                                        |\n",
            "+-----------+------------------------------------------------------------------------------------------------------------------------------+\n",
            "| RawRESULT |               select distinct ?obj where [ wd:cescar wdt:place_of_death ?obj . ?obj wdt:instance_of wd:human ]               |\n",
            "+-----------+------------------------------------------------------------------------------------------------------------------------------+\n",
            "|  RESULT   |                          select distinct ?obj where { wd:cescar wdt:P20 ?obj . ?obj wdt:P31 wd:Q5 }                          |\n",
            "+-----------+------------------------------------------------------------------------------------------------------------------------------+\n"
          ]
        }
      ],
      "source": [
        "# From QALD\n",
        "target = \"PREFIX dct: <http://purl.org/dc/terms/> PREFIX dbc: <http://dbpedia.org/resource/Category:> SELECT DISTINCT ?uri WHERE { ?uri dct:subject dbc:Assassins_of_Julius_Caesar }\"\n",
        "q =  \"Who killed Caesar?\"\n",
        "pretty_translate(target, q)"
      ]
    },
    {
      "cell_type": "code",
      "execution_count": 70,
      "metadata": {},
      "outputs": [
        {
          "name": "stdout",
          "output_type": "stream",
          "text": [
            "+-----------+------------------------------------------------------------------------------------------------------------------------------+\n",
            "| QUESTION  |                                           What is the highest mountain in Germany?                                           |\n",
            "+-----------+------------------------------------------------------------------------------------------------------------------------------+\n",
            "|  Target   | PREFIX rdfs: <http://www.w3.org/2000/01/rdf-schema#> PREFIX rdf: <http://www.w3.org/1999/02/22-rdf-syntax-ns#> PREFIX onto:  |\n",
            "|           |                                               <http://dbpedia.org/ontology/>                                                 |\n",
            "|           | SELECT ?uri WHERE { ?uri rdf:type onto:Mountain ; onto:elevation ?elevation ; onto:locatedInArea <http://dbpedia.org/resourc |\n",
            "|           |                                        e/Germany> } ORDER BY DESC(?elevation) LIMIT 1                                        |\n",
            "+-----------+------------------------------------------------------------------------------------------------------------------------------+\n",
            "| RawRESULT |                          select ?answer where [ wd:german wdt:country ?X . ?X wdt:country ?answer]                           |\n",
            "+-----------+------------------------------------------------------------------------------------------------------------------------------+\n",
            "|  RESULT   |                               select ?answer where { wd:Q188 wdt:P17 ?X . ?X wdt:P17 ?answer}                                |\n",
            "+-----------+------------------------------------------------------------------------------------------------------------------------------+\n"
          ]
        }
      ],
      "source": [
        "# From QALD\n",
        "q = 'What is the highest mountain in Germany?'\n",
        "target = \"PREFIX rdfs: <http://www.w3.org/2000/01/rdf-schema#> PREFIX rdf: <http://www.w3.org/1999/02/22-rdf-syntax-ns#> PREFIX onto: <http://dbpedia.org/ontology/>  \\nSELECT ?uri WHERE { ?uri rdf:type onto:Mountain ; onto:elevation ?elevation ; onto:locatedInArea <http://dbpedia.org/resource/Germany> } ORDER BY DESC(?elevation) LIMIT 1\"\n",
        "pretty_translate(target, q)"
      ]
    },
    {
      "cell_type": "code",
      "execution_count": 71,
      "metadata": {},
      "outputs": [
        {
          "name": "stdout",
          "output_type": "stream",
          "text": [
            "+-----------+------------------------------------------------------------------------------------------------------------------------------+\n",
            "| QUESTION  |                               Which American presidents were in office during the Vietnam War?                               |\n",
            "+-----------+------------------------------------------------------------------------------------------------------------------------------+\n",
            "|  Target   | PREFIX dbo: <http://dbpedia.org/ontology/> PREFIX res: <http://dbpedia.org/resource/> PREFIX dct: <http://purl.org/dc/terms/ |\n",
            "|           | > PREFIX dbc: <http://dbpedia.org/resource/Category:> SELECT ?uri WHERE { ?uri dct:subject dbc:Presidents_of_the_United_Stat |\n",
            "|           |                                          es . res:Vietnam_War dbo:commander ?uri }                                           |\n",
            "+-----------+------------------------------------------------------------------------------------------------------------------------------+\n",
            "| RawRESULT |      select distinct ?obj where [ wd:vietnam_war wdt:position_held ?obj . ?obj wdt:instance_of wd:american_president ]       |\n",
            "+-----------+------------------------------------------------------------------------------------------------------------------------------+\n",
            "|  RESULT   |                        select distinct ?obj where { wd:Q8740 wdt:P39 ?obj . ?obj wdt:P31 wd:Q429311 }                        |\n",
            "+-----------+------------------------------------------------------------------------------------------------------------------------------+\n"
          ]
        }
      ],
      "source": [
        "# From QALD\n",
        "q = 'Which American presidents were in office during the Vietnam War?'\n",
        "target = \"PREFIX dbo: <http://dbpedia.org/ontology/> PREFIX res: <http://dbpedia.org/resource/> PREFIX dct: <http://purl.org/dc/terms/> PREFIX dbc: <http://dbpedia.org/resource/Category:> SELECT ?uri WHERE { ?uri dct:subject dbc:Presidents_of_the_United_States . res:Vietnam_War dbo:commander ?uri }\"\n",
        "pretty_translate(target, q)"
      ]
    },
    {
      "cell_type": "code",
      "execution_count": 72,
      "metadata": {},
      "outputs": [
        {
          "name": "stdout",
          "output_type": "stream",
          "text": [
            "+-----------+------------------------------------------------------------------------------------------------------------------------------+\n",
            "| QUESTION  |                              How many gold medals did Michael Phelps win at the 2008 Olympics?                               |\n",
            "+-----------+------------------------------------------------------------------------------------------------------------------------------+\n",
            "|  Target   | PREFIX dbo: <http://dbpedia.org/ontology/> PREFIX dbr: <http://dbpedia.org/resource/> PREFIX rdf: <http://www.w3.org/1999/02 |\n",
            "|           | /22-rdf-syntax-ns#> PREFIX rdfs: <http://www.w3.org/2000/01/rdf-schema#> SELECT Count(?sub) as ?c WHERE { ?sub dbo:goldMedal |\n",
            "|           |             ist dbr:Michael_Phelps . filter (contains (str(?sub), \"2008\") && contains (str(?sub), \"Olympics\")) }             |\n",
            "+-----------+------------------------------------------------------------------------------------------------------------------------------+\n",
            "| RawRESULT |                          select (COUNT(?sub) AS ?value ) [ ?sub wdt:gold_medal wd:michael_phelps ]                           |\n",
            "+-----------+------------------------------------------------------------------------------------------------------------------------------+\n",
            "|  RESULT   |                                select (COUNT(?sub) AS ?value ) { ?sub wdt:Q406039 wd:Q39562 }                                |\n",
            "+-----------+------------------------------------------------------------------------------------------------------------------------------+\n"
          ]
        }
      ],
      "source": [
        "# From QALD\n",
        "q = 'How many gold medals did Michael Phelps win at the 2008 Olympics?'\n",
        "target = \"PREFIX dbo: <http://dbpedia.org/ontology/> PREFIX dbr: <http://dbpedia.org/resource/> PREFIX rdf: <http://www.w3.org/1999/02/22-rdf-syntax-ns#> PREFIX rdfs: <http://www.w3.org/2000/01/rdf-schema#> SELECT Count(?sub) as ?c WHERE { ?sub dbo:goldMedalist dbr:Michael_Phelps . filter (contains (str(?sub), \\\"2008\\\") && contains (str(?sub), \\\"Olympics\\\")) }\"\n",
        "pretty_translate(target, q)"
      ]
    },
    {
      "cell_type": "code",
      "execution_count": 73,
      "metadata": {},
      "outputs": [
        {
          "name": "stdout",
          "output_type": "stream",
          "text": [
            "+-----------+------------------------------------------------------------------------------------------------------------------------------+\n",
            "| QUESTION  |                                           What is the profession of Frank Herbert?                                           |\n",
            "+-----------+------------------------------------------------------------------------------------------------------------------------------+\n",
            "|  Target   | PREFIX dbpedia2: <http://dbpedia.org/property/> PREFIX res: <http://dbpedia.org/resource/> SELECT DISTINCT ?string WHERE { r |\n",
            "|           |                                        es:Frank_Herbert dbpedia2:occupation ?string }                                        |\n",
            "+-----------+------------------------------------------------------------------------------------------------------------------------------+\n",
            "| RawRESULT |          select distinct ?obj where [ wd:frank_herrand wdt:profession ?obj . ?obj wdt:instance_of wd:professional ]          |\n",
            "+-----------+------------------------------------------------------------------------------------------------------------------------------+\n",
            "|  RESULT   |                    select distinct ?obj where { wd:frank_herrand wdt:P106 ?obj . ?obj wdt:P31 wd:P106al }                    |\n",
            "+-----------+------------------------------------------------------------------------------------------------------------------------------+\n"
          ]
        }
      ],
      "source": [
        "# From QALD\n",
        "q = 'What is the profession of Frank Herbert?'\n",
        "target = \"PREFIX dbpedia2: <http://dbpedia.org/property/> PREFIX res: <http://dbpedia.org/resource/> SELECT DISTINCT ?string WHERE { res:Frank_Herbert dbpedia2:occupation ?string }\"\n",
        "pretty_translate(target, q)"
      ]
    },
    {
      "cell_type": "code",
      "execution_count": 74,
      "metadata": {},
      "outputs": [
        {
          "name": "stdout",
          "output_type": "stream",
          "text": [
            "+-----------+------------------------------------------------------------------------------------------------------------------------------+\n",
            "| QUESTION  |                                    How many seats does the home stadium of FC Porto have?                                    |\n",
            "+-----------+------------------------------------------------------------------------------------------------------------------------------+\n",
            "|  Target   | PREFIX dbo: <http://dbpedia.org/ontology/> PREFIX dbp: <http://dbpedia.org/property/> PREFIX dbr: <http://dbpedia.org/resour |\n",
            "|           | ce/> PREFIX rdf: <http://www.w3.org/1999/02/22-rdf-syntax-ns#> PREFIX rdfs: <http://www.w3.org/2000/01/rdf-schema#> PREFIX d |\n",
            "|           | b: <http://dbpedia.org/> SELECT ?capacity WHERE { { dbr:FC_Porto dbo:ground ?ground . ?ground dbo:capacity ?capacity } UNION |\n",
            "|           |                            { dbr:FC_Porto dbo:ground ?ground . ?ground dbp:capacity ?capacity } }                            |\n",
            "+-----------+------------------------------------------------------------------------------------------------------------------------------+\n",
            "| RawRESULT |          select (COUNT(?sub) AS ?value ) [ ?sub wdt:located_in_the_administrative_territorial_entity wd:fc_porto ]           |\n",
            "+-----------+------------------------------------------------------------------------------------------------------------------------------+\n",
            "|  RESULT   |                                 select (COUNT(?sub) AS ?value ) { ?sub wdt:P131 wd:Q128446 }                                 |\n",
            "+-----------+------------------------------------------------------------------------------------------------------------------------------+\n"
          ]
        }
      ],
      "source": [
        "# From QALD\n",
        "q = 'How many seats does the home stadium of FC Porto have?'\n",
        "target = \"PREFIX dbo: <http://dbpedia.org/ontology/> PREFIX dbp: <http://dbpedia.org/property/> PREFIX dbr: <http://dbpedia.org/resource/> PREFIX rdf: <http://www.w3.org/1999/02/22-rdf-syntax-ns#> PREFIX rdfs: <http://www.w3.org/2000/01/rdf-schema#> PREFIX db: <http://dbpedia.org/> SELECT ?capacity WHERE { { dbr:FC_Porto dbo:ground ?ground . ?ground dbo:capacity ?capacity } UNION { dbr:FC_Porto dbo:ground ?ground . ?ground dbp:capacity ?capacity } }\"\n",
        "pretty_translate(target, q)"
      ]
    },
    {
      "cell_type": "code",
      "execution_count": 75,
      "metadata": {},
      "outputs": [
        {
          "name": "stdout",
          "output_type": "stream",
          "text": [
            "+-----------+------------------------------------------------------------------------------------------------------------------------------+\n",
            "| QUESTION  |                                     Which frequent flyer program has the most airlines?                                      |\n",
            "+-----------+------------------------------------------------------------------------------------------------------------------------------+\n",
            "|  Target   | SELECT ?uri WHERE { ?airline <http://www.w3.org/1999/02/22-rdf-syntax-ns#type> <http://dbpedia.org/ontology/Airline> . ?airl |\n",
            "|           | ine <http://dbpedia.org/property/frequentFlyer> ?uri. } GROUP BY ?uri ORDER BY DESC(COUNT(DISTINCT ?airline)) OFFSET 0 LIMIT |\n",
            "|           |                                                               1                                                              |\n",
            "+-----------+------------------------------------------------------------------------------------------------------------------------------+\n",
            "| RawRESULT |  select ?ent where [ ?ent wdt:instance_of wd:frequent_flyer_programm . ?ent wdt:airlines ?obj ] ORDER BY DESC(?obj)LIMIT 5   |\n",
            "+-----------+------------------------------------------------------------------------------------------------------------------------------+\n",
            "|  RESULT   |      select ?ent where { ?ent wdt:P31 wd:frequent_flyer_programm . ?ent wdt:Q4698794 ?obj } ORDER BY DESC(?obj)LIMIT 5       |\n",
            "+-----------+------------------------------------------------------------------------------------------------------------------------------+\n"
          ]
        }
      ],
      "source": [
        "# From QALD\n",
        "q = 'Which frequent flyer program has the most airlines?'\n",
        "target = \"SELECT ?uri WHERE { ?airline <http://www.w3.org/1999/02/22-rdf-syntax-ns#type> <http://dbpedia.org/ontology/Airline> . ?airline <http://dbpedia.org/property/frequentFlyer> ?uri. } GROUP BY ?uri ORDER BY DESC(COUNT(DISTINCT ?airline)) OFFSET 0 LIMIT 1\"\n",
        "pretty_translate(target, q)"
      ]
    },
    {
      "cell_type": "code",
      "execution_count": 76,
      "metadata": {},
      "outputs": [
        {
          "name": "stdout",
          "output_type": "stream",
          "text": [
            "+-----------+------------------------------------------------------------------------------------------------------------------------------+\n",
            "| QUESTION  |                                   Which European countries have a constitutional monarchy?                                   |\n",
            "+-----------+------------------------------------------------------------------------------------------------------------------------------+\n",
            "|  Target   | PREFIX dbo: <http://dbpedia.org/ontology/> PREFIX dct: <http://purl.org/dc/terms/> PREFIX dbc: <http://dbpedia.org/resource/ |\n",
            "|           | Category:> PREFIX dbr: <http://dbpedia.org/resource/> SELECT ?uri WHERE { ?uri dct:subject dbc:Countries_in_Europe ; dbo:gov |\n",
            "|           |                                          ernmentType dbr:Constitutional_monarchy }                                           |\n",
            "+-----------+------------------------------------------------------------------------------------------------------------------------------+\n",
            "| RawRESULT | select distinct ?obj where [ wd:european_country wdt:constitutional_monarchy ?obj . ?obj wdt:instance_of wd:european_country |\n",
            "|           |                                                               ]                                                              |\n",
            "+-----------+------------------------------------------------------------------------------------------------------------------------------+\n",
            "|  RESULT   |            select distinct ?obj where { wd:european_country wdt:Q41614 ?obj . ?obj wdt:P31 wd:european_country }             |\n",
            "+-----------+------------------------------------------------------------------------------------------------------------------------------+\n"
          ]
        }
      ],
      "source": [
        "# From QALD\n",
        "q = 'Which European countries have a constitutional monarchy?'\n",
        "target = \"PREFIX dbo: <http://dbpedia.org/ontology/> PREFIX dct: <http://purl.org/dc/terms/> PREFIX dbc: <http://dbpedia.org/resource/Category:> PREFIX dbr: <http://dbpedia.org/resource/> SELECT ?uri WHERE { ?uri dct:subject dbc:Countries_in_Europe ; dbo:governmentType dbr:Constitutional_monarchy }\"\n",
        "pretty_translate(target, q)"
      ]
    },
    {
      "cell_type": "code",
      "execution_count": 77,
      "metadata": {},
      "outputs": [
        {
          "name": "stdout",
          "output_type": "stream",
          "text": [
            "+-----------+------------------------------------------------------------------------------------------------------------------------------+\n",
            "| QUESTION  |                                    Which countries have places with more than two caves?                                     |\n",
            "+-----------+------------------------------------------------------------------------------------------------------------------------------+\n",
            "|  Target   | PREFIX dbo: <http://dbpedia.org/ontology/> PREFIX rdf: <http://www.w3.org/1999/02/22-rdf-syntax-ns#> SELECT DISTINCT ?uri WH |\n",
            "|           |  ERE { ?cave rdf:type dbo:Cave ; dbo:location ?uri . ?uri rdf:type dbo:Country } GROUP BY ?uri HAVING ( COUNT(?cave) > 2 )   |\n",
            "+-----------+------------------------------------------------------------------------------------------------------------------------------+\n",
            "| RawRESULT |                       select ?answer where [ wd:horse wdt:place_of_birth ?X . ?X wdt:country ?answer]                        |\n",
            "+-----------+------------------------------------------------------------------------------------------------------------------------------+\n",
            "|  RESULT   |                               select ?answer where { wd:Q726 wdt:P19 ?X . ?X wdt:P17 ?answer}                                |\n",
            "+-----------+------------------------------------------------------------------------------------------------------------------------------+\n"
          ]
        }
      ],
      "source": [
        "# From QALD\n",
        "q = 'Which countries have places with more than two caves?'\n",
        "target = \"PREFIX dbo: <http://dbpedia.org/ontology/> PREFIX rdf: <http://www.w3.org/1999/02/22-rdf-syntax-ns#> SELECT DISTINCT ?uri WHERE { ?cave rdf:type dbo:Cave ; dbo:location ?uri . ?uri rdf:type dbo:Country } GROUP BY ?uri HAVING ( COUNT(?cave) > 2 )\"\n",
        "pretty_translate(target, q)"
      ]
    },
    {
      "cell_type": "code",
      "execution_count": 78,
      "metadata": {},
      "outputs": [
        {
          "name": "stdout",
          "output_type": "stream",
          "text": [
            "+-----------+------------------------------------------------------------------------------------------------------------------------------+\n",
            "| QUESTION  |                                        Which airports are located in California, USA?                                        |\n",
            "+-----------+------------------------------------------------------------------------------------------------------------------------------+\n",
            "|  Target   | SELECT DISTINCT ?uri WHERE { ?uri a <http://dbpedia.org/ontology/Airport> { ?uri <http://dbpedia.org/ontology/location> <htt |\n",
            "|           | p://dbpedia.org/resource/California> } UNION { ?uri <http://dbpedia.org/ontology/city> <http://dbpedia.org/resource/Californ |\n",
            "|           | ia> } UNION { ?uri <http://dbpedia.org/ontology/city> ?city . ?city <http://dbpedia.org/ontology/isPartOf> <http://dbpedia.o |\n",
            "|           |  rg/resource/California> } UNION { ?uri <http://dbpedia.org/ontology/operator> <http://dbpedia.org/resource/California> } }  |\n",
            "+-----------+------------------------------------------------------------------------------------------------------------------------------+\n",
            "| RawRESULT |                       select ?answer where [ wd:california wdt:location ?X . ?X wdt:location ?answer]                        |\n",
            "+-----------+------------------------------------------------------------------------------------------------------------------------------+\n",
            "|  RESULT   |                               select ?answer where { wd:Q99 wdt:P276 ?X . ?X wdt:P276 ?answer}                               |\n",
            "+-----------+------------------------------------------------------------------------------------------------------------------------------+\n"
          ]
        }
      ],
      "source": [
        "# From QALD\n",
        "q = 'Which airports are located in California, USA?'\n",
        "target = \"SELECT DISTINCT ?uri WHERE { ?uri a <http://dbpedia.org/ontology/Airport> { ?uri <http://dbpedia.org/ontology/location> <http://dbpedia.org/resource/California> } UNION { ?uri <http://dbpedia.org/ontology/city> <http://dbpedia.org/resource/California> } UNION { ?uri <http://dbpedia.org/ontology/city> ?city . ?city <http://dbpedia.org/ontology/isPartOf> <http://dbpedia.org/resource/California> } UNION { ?uri <http://dbpedia.org/ontology/operator> <http://dbpedia.org/resource/California> } }\"\n",
        "pretty_translate(target, q)"
      ]
    },
    {
      "cell_type": "code",
      "execution_count": 79,
      "metadata": {},
      "outputs": [
        {
          "name": "stdout",
          "output_type": "stream",
          "text": [
            "+-----------+--------------------------------------------------------------------------------------------------+\n",
            "| QUESTION  |                             What are the nicknames of San Francisco?                             |\n",
            "+-----------+--------------------------------------------------------------------------------------------------+\n",
            "|  Target   |              SELECT DISTINCT ?string WHERE { res:San_Francisco foaf:nick ?string }               |\n",
            "+-----------+--------------------------------------------------------------------------------------------------+\n",
            "| RawRESULT | select distinct ?obj where [ wd:san_france wdt:named_after ?obj . ?obj wdt:instance_of wd:name ] |\n",
            "+-----------+--------------------------------------------------------------------------------------------------+\n",
            "|  RESULT   |       select distinct ?obj where { wd:san_france wdt:P138 ?obj . ?obj wdt:P31 wd:Q82799 }        |\n",
            "+-----------+--------------------------------------------------------------------------------------------------+\n"
          ]
        }
      ],
      "source": [
        "# From QALD\n",
        "q = \"What are the nicknames of San Francisco?\"\n",
        "target = \"SELECT DISTINCT ?string WHERE { res:San_Francisco foaf:nick ?string }\"\n",
        "pretty_translate(target, q)"
      ]
    },
    {
      "cell_type": "code",
      "execution_count": 80,
      "metadata": {},
      "outputs": [
        {
          "name": "stdout",
          "output_type": "stream",
          "text": [
            "+-----------+---------------------------------------------------------------------------------------+\n",
            "| QUESTION  |                          What is Angela Merkel’s birth name?                          |\n",
            "+-----------+---------------------------------------------------------------------------------------+\n",
            "|  Target   |       SELECT DISTINCT ?string WHERE { res:Angela_Merkel dbp:birthName ?string }       |\n",
            "+-----------+---------------------------------------------------------------------------------------+\n",
            "| RawRESULT | select ?answer where [ wd:angela_familia wdt:born_of ?X . ?X wdt:named_after ?answer] |\n",
            "+-----------+---------------------------------------------------------------------------------------+\n",
            "|  RESULT   |    select ?answer where { wd:angela_familia wdt:born_of ?X . ?X wdt:P138 ?answer}     |\n",
            "+-----------+---------------------------------------------------------------------------------------+\n"
          ]
        }
      ],
      "source": [
        "# From QALD\n",
        "q = \"What is Angela Merkel’s birth name?\"\n",
        "target = \"SELECT DISTINCT ?string WHERE { res:Angela_Merkel dbp:birthName ?string }\"\n",
        "pretty_translate(target, q)"
      ]
    },
    {
      "cell_type": "code",
      "execution_count": 81,
      "metadata": {},
      "outputs": [
        {
          "name": "stdout",
          "output_type": "stream",
          "text": [
            "+-----------+------------------------------------------------------------------------------------------------------+\n",
            "| QUESTION  |                                     Who is the mayor of Berlin?                                      |\n",
            "+-----------+------------------------------------------------------------------------------------------------------+\n",
            "|  Target   |                      SELECT DISTINCT ?uri WHERE { res:Berlin dbp:leader ?uri }                       |\n",
            "+-----------+------------------------------------------------------------------------------------------------------+\n",
            "| RawRESULT | select distinct ?obj where [ wd:berlin wdt:head_of_government ?obj . ?obj wdt:instance_of wd:human ] |\n",
            "+-----------+------------------------------------------------------------------------------------------------------+\n",
            "|  RESULT   |                select distinct ?obj where { wd:Q64 wdt:P6 ?obj . ?obj wdt:P31 wd:Q5 }                |\n",
            "+-----------+------------------------------------------------------------------------------------------------------+\n"
          ]
        }
      ],
      "source": [
        "# From QALD\n",
        "q = \"Who is the mayor of Berlin?\"\n",
        "target = \"SELECT DISTINCT ?uri WHERE { res:Berlin dbp:leader ?uri }\"\n",
        "pretty_translate(target, q)"
      ]
    },
    {
      "cell_type": "code",
      "execution_count": 82,
      "metadata": {},
      "outputs": [
        {
          "name": "stdout",
          "output_type": "stream",
          "text": [
            "+-----------+------------------------------------------------------------------------------------------------------------------------------+\n",
            "| QUESTION  |                                 Which software has been published by Mean Hamster Software?                                  |\n",
            "+-----------+------------------------------------------------------------------------------------------------------------------------------+\n",
            "|  Target   | SELECT DISTINCT ?uri WHERE { ?uri rdf:type onto:Software { ?uri prop:publisher \"Mean Hamster Software\"@en } UNION { ?uri ont |\n",
            "|           |                                          o:publisher res:Mean_Hamster_Software } }                                           |\n",
            "+-----------+------------------------------------------------------------------------------------------------------------------------------+\n",
            "| RawRESULT |             select ?answer where [ wd:moyen_hamster_software wdt:published_by ?X . ?X wdt:published_by ?answer]              |\n",
            "+-----------+------------------------------------------------------------------------------------------------------------------------------+\n",
            "|  RESULT   |                     select ?answer where { wd:moyen_hamster_software wdt:P123 ?X . ?X wdt:P123 ?answer}                      |\n",
            "+-----------+------------------------------------------------------------------------------------------------------------------------------+\n"
          ]
        }
      ],
      "source": [
        "# From QALD\n",
        "q = \"Which software has been published by Mean Hamster Software?\"\n",
        "target = \"SELECT DISTINCT ?uri WHERE { ?uri rdf:type onto:Software { ?uri prop:publisher \\\"Mean Hamster Software\\\"@en } UNION { ?uri onto:publisher res:Mean_Hamster_Software } }\"\n",
        "pretty_translate(target, q)"
      ]
    },
    {
      "cell_type": "code",
      "execution_count": 83,
      "metadata": {},
      "outputs": [
        {
          "name": "stdout",
          "output_type": "stream",
          "text": [
            "+-----------+------------------------------------------------------------------------------------------------------------------------------+\n",
            "| QUESTION  |                                            Which country was Bill Gates born in?                                             |\n",
            "+-----------+------------------------------------------------------------------------------------------------------------------------------+\n",
            "|  Target   | SELECT DISTINCT ?country WHERE { { dbr:Bill_Gates dbo:birthPlace ?birthPlace . ?birthPlace dbo:country ?country } UNION { db |\n",
            "|           |         r:Bill_Gates dbo:birthPlace ?birthPlace . ?birthPlace dbo:isPartOf ?place . ?place dbo:country ?country } }          |\n",
            "+-----------+------------------------------------------------------------------------------------------------------------------------------+\n",
            "| RawRESULT |                    select ?answer where [ wd:billy_gates wdt:place_of_birth ?X . ?X wdt:country ?answer]                     |\n",
            "+-----------+------------------------------------------------------------------------------------------------------------------------------+\n",
            "|  RESULT   |                            select ?answer where { wd:billy_gates wdt:P19 ?X . ?X wdt:P17 ?answer}                            |\n",
            "+-----------+------------------------------------------------------------------------------------------------------------------------------+\n"
          ]
        }
      ],
      "source": [
        "# From QALD\n",
        "q = \"Which country was Bill Gates born in?\"\n",
        "target = \"SELECT DISTINCT ?country WHERE { { dbr:Bill_Gates dbo:birthPlace ?birthPlace . ?birthPlace dbo:country ?country } UNION { dbr:Bill_Gates dbo:birthPlace ?birthPlace . ?birthPlace dbo:isPartOf ?place . ?place dbo:country ?country } }\"\n",
        "pretty_translate(target, q)"
      ]
    },
    {
      "cell_type": "code",
      "execution_count": 84,
      "metadata": {},
      "outputs": [
        {
          "name": "stdout",
          "output_type": "stream",
          "text": [
            "+-----------+------------------------------------------------------------------------------------------------------------------------------+\n",
            "| QUESTION  |                                      How many grand-children did Jacques Cousteau have?                                      |\n",
            "+-----------+------------------------------------------------------------------------------------------------------------------------------+\n",
            "|  Target   | SELECT COUNT(DISTINCT ?y AS ?y) WHERE { <http://dbpedia.org/resource/Jacques_Cousteau> <http://dbpedia.org/ontology/child> ? |\n",
            "|           |                                      x . ?x <http://dbpedia.org/ontology/child> ?y . }                                       |\n",
            "+-----------+------------------------------------------------------------------------------------------------------------------------------+\n",
            "| RawRESULT |                         select (COUNT(?sub) AS ?value ) [ ?sub wdt:grand-child wd:jacques_cousteau ]                         |\n",
            "+-----------+------------------------------------------------------------------------------------------------------------------------------+\n",
            "|  RESULT   |                             select (COUNT(?sub) AS ?value ) { ?sub wdt:Q247153-child wd:Q83233 }                             |\n",
            "+-----------+------------------------------------------------------------------------------------------------------------------------------+\n"
          ]
        }
      ],
      "source": [
        "# From QALD\n",
        "q = \"How many grand-children did Jacques Cousteau have?\"\n",
        "target = \"SELECT COUNT(DISTINCT ?y AS ?y) WHERE { <http://dbpedia.org/resource/Jacques_Cousteau> <http://dbpedia.org/ontology/child> ?x . ?x <http://dbpedia.org/ontology/child> ?y . }\"\n",
        "pretty_translate(target, q)"
      ]
    },
    {
      "cell_type": "code",
      "execution_count": 85,
      "metadata": {},
      "outputs": [
        {
          "name": "stdout",
          "output_type": "stream",
          "text": [
            "+-----------+------------------------------------------------------------------------------------------------------------------------------+\n",
            "| QUESTION  |                                     Give me all professional skateboarders from Sweden.                                      |\n",
            "+-----------+------------------------------------------------------------------------------------------------------------------------------+\n",
            "|  Target   | SELECT DISTINCT ?uri WHERE { ?uri dbo:occupation dbr:Skateboarder { ?uri dbo:birthPlace dbr:Sweden } UNION { ?uri dbo:birthP |\n",
            "|           |                                       lace ?place . ?place dbo:country dbr:Sweden } }                                        |\n",
            "+-----------+------------------------------------------------------------------------------------------------------------------------------+\n",
            "| RawRESULT |                select ?answer where [ wd:sweden wdt:professional_skateboarder ?X . ?X wdt:given_name ?answer]                |\n",
            "+-----------+------------------------------------------------------------------------------------------------------------------------------+\n",
            "|  RESULT   |                    select ?answer where { wd:Q34 wdt:professional_skateboarder ?X . ?X wdt:P735 ?answer}                     |\n",
            "+-----------+------------------------------------------------------------------------------------------------------------------------------+\n"
          ]
        }
      ],
      "source": [
        "# From QALD\n",
        "q = \"Give me all professional skateboarders from Sweden.\"\n",
        "target = \"SELECT DISTINCT ?uri WHERE { ?uri dbo:occupation dbr:Skateboarder { ?uri dbo:birthPlace dbr:Sweden } UNION { ?uri dbo:birthPlace ?place . ?place dbo:country dbr:Sweden } }\"\n",
        "pretty_translate(target, q)"
      ]
    },
    {
      "cell_type": "code",
      "execution_count": 86,
      "metadata": {},
      "outputs": [
        {
          "name": "stdout",
          "output_type": "stream",
          "text": [
            "+-----------+------------------------------------------------------------------------------------------------------------------------------+\n",
            "| QUESTION  |                                Which monarchs of the United Kingdom were married to a German?                                |\n",
            "+-----------+------------------------------------------------------------------------------------------------------------------------------+\n",
            "|  Target   | SELECT DISTINCT ?uri WHERE { ?uri rdf:type yago:WikicatMonarchsOfTheUnitedKingdom ; dbo:spouse ?spouse . ?spouse dbo:birthPl |\n",
            "|           |                                                      ace res:Germany }                                                       |\n",
            "+-----------+------------------------------------------------------------------------------------------------------------------------------+\n",
            "| RawRESULT |              select distinct ?obj where [ wd:united_kingdom wdt:spouse ?obj . ?obj wdt:instance_of wd:monarch ]              |\n",
            "+-----------+------------------------------------------------------------------------------------------------------------------------------+\n",
            "|  RESULT   |                          select distinct ?obj where { wd:Q145 wdt:P26 ?obj . ?obj wdt:P31 wd:Q116 }                          |\n",
            "+-----------+------------------------------------------------------------------------------------------------------------------------------+\n"
          ]
        }
      ],
      "source": [
        "# From QALD\n",
        "q = \"Which monarchs of the United Kingdom were married to a German?\"\n",
        "target = \"SELECT DISTINCT ?uri WHERE { ?uri rdf:type yago:WikicatMonarchsOfTheUnitedKingdom ; dbo:spouse ?spouse . ?spouse dbo:birthPlace res:Germany }\"\n",
        "pretty_translate(target, q)"
      ]
    },
    {
      "cell_type": "code",
      "execution_count": 87,
      "metadata": {},
      "outputs": [
        {
          "name": "stdout",
          "output_type": "stream",
          "text": [
            "+-----------+------------------------------------------------------------------------------------------------------------------------------+\n",
            "| QUESTION  |                                                 Give me all Argentine films.                                                 |\n",
            "+-----------+------------------------------------------------------------------------------------------------------------------------------+\n",
            "|  Target   | SELECT DISTINCT ?uri WHERE { { ?uri rdf:type yago:ArgentineFilms } UNION { ?uri rdf:type dbo:Film { ?uri dbo:country res:Arg |\n",
            "|           |                                    entina } UNION { ?uri dbp:country \"Argentina\"@en } } }                                    |\n",
            "+-----------+------------------------------------------------------------------------------------------------------------------------------+\n",
            "| RawRESULT |                   select ?answer where [ wd:argentina wdt:film_director ?X . ?X wdt:film_director ?answer]                   |\n",
            "+-----------+------------------------------------------------------------------------------------------------------------------------------+\n",
            "|  RESULT   |                               select ?answer where { wd:Q414 wdt:P57 ?X . ?X wdt:P57 ?answer}                                |\n",
            "+-----------+------------------------------------------------------------------------------------------------------------------------------+\n"
          ]
        }
      ],
      "source": [
        "# From QALD\n",
        "q = \"Give me all Argentine films.\"\n",
        "target = \"SELECT DISTINCT ?uri WHERE { { ?uri rdf:type yago:ArgentineFilms } UNION { ?uri rdf:type dbo:Film { ?uri dbo:country res:Argentina } UNION { ?uri dbp:country \\\"Argentina\\\"@en } } }\"\n",
        "pretty_translate(target, q)"
      ]
    },
    {
      "cell_type": "code",
      "execution_count": 88,
      "metadata": {},
      "outputs": [
        {
          "name": "stdout",
          "output_type": "stream",
          "text": [
            "+-----------+------------------------------------------------------------------------------------------------------------------------+\n",
            "| QUESTION  |                                              How did Michael Jackson die?                                              |\n",
            "+-----------+------------------------------------------------------------------------------------------------------------------------+\n",
            "|  Target   | SELECT DISTINCT ?s WHERE { <http://dbpedia.org/resource/Michael_Jackson> <http://dbpedia.org/property/deathCause> ?s } |\n",
            "+-----------+------------------------------------------------------------------------------------------------------------------------+\n",
            "| RawRESULT |  select ?value where [ wd:michael_jennifer p:death ?s . ?s ps:death wd:michael_jennifer . ?s pq:point_in_time ?value]  |\n",
            "+-----------+------------------------------------------------------------------------------------------------------------------------+\n",
            "|  RESULT   |       select ?value where { wd:michael_jennifer p:P570 ?s . ?s ps:P570 wd:michael_jennifer . ?s pq:P585 ?value}        |\n",
            "+-----------+------------------------------------------------------------------------------------------------------------------------+\n"
          ]
        }
      ],
      "source": [
        "# From QALD\n",
        "q = \"How did Michael Jackson die?\"\n",
        "target = \"SELECT DISTINCT ?s WHERE { <http://dbpedia.org/resource/Michael_Jackson> <http://dbpedia.org/property/deathCause> ?s }\"\n",
        "pretty_translate(target, q)"
      ]
    },
    {
      "cell_type": "code",
      "execution_count": 89,
      "metadata": {},
      "outputs": [
        {
          "name": "stdout",
          "output_type": "stream",
          "text": [
            "+-----------+---------------------------------------------------------------------------------------------------+\n",
            "| QUESTION  |                                  Where did Michael Jackson died?                                  |\n",
            "+-----------+---------------------------------------------------------------------------------------------------+\n",
            "|  Target   |                                                 .                                                 |\n",
            "+-----------+---------------------------------------------------------------------------------------------------+\n",
            "| RawRESULT | select ?answer where [ wd:michael_jennifer wdt:place_of_death ?X . ?X wdt:place_of_death ?answer] |\n",
            "+-----------+---------------------------------------------------------------------------------------------------+\n",
            "|  RESULT   |            select ?answer where { wd:michael_jennifer wdt:P20 ?X . ?X wdt:P20 ?answer}            |\n",
            "+-----------+---------------------------------------------------------------------------------------------------+\n"
          ]
        }
      ],
      "source": [
        "# From QALD\n",
        "q = \"Where did Michael Jackson died?\"\n",
        "target = \".\"\n",
        "pretty_translate(target, q)"
      ]
    },
    {
      "cell_type": "code",
      "execution_count": 90,
      "metadata": {},
      "outputs": [
        {
          "name": "stdout",
          "output_type": "stream",
          "text": [
            "+-----------+----------------------------------------------------------------------------------------------------+\n",
            "| QUESTION  |                            Which classes does the Millepede belong to?                             |\n",
            "+-----------+----------------------------------------------------------------------------------------------------+\n",
            "|  Target   |                 SELECT DISTINCT ?String WHERE { res:Millipede dbp:taxon ?String }                  |\n",
            "+-----------+----------------------------------------------------------------------------------------------------+\n",
            "| RawRESULT | select ?answer where [ wd:millepede wdt:member_of_the_millepede ?X . ?X wdt:class_of_work ?answer] |\n",
            "+-----------+----------------------------------------------------------------------------------------------------+\n",
            "|  RESULT   | select ?answer where { wd:millepede wdt:member_of_the_millepede ?X . ?X wdt:class_of_work ?answer} |\n",
            "+-----------+----------------------------------------------------------------------------------------------------+\n"
          ]
        }
      ],
      "source": [
        "# From QALD\n",
        "q = \"Which classes does the Millepede belong to?\"\n",
        "target = \"SELECT DISTINCT ?String WHERE { res:Millipede dbp:taxon ?String }\"\n",
        "pretty_translate(target, q)"
      ]
    },
    {
      "cell_type": "code",
      "execution_count": 91,
      "metadata": {},
      "outputs": [
        {
          "name": "stdout",
          "output_type": "stream",
          "text": [
            "+-----------+----------------------------------------------------------------------------------------------------+\n",
            "| QUESTION  |                            Which classes does the Millepede belong to?                             |\n",
            "+-----------+----------------------------------------------------------------------------------------------------+\n",
            "|  Target   |                 SELECT DISTINCT ?String WHERE { res:Millipede dbp:taxon ?String }                  |\n",
            "+-----------+----------------------------------------------------------------------------------------------------+\n",
            "| RawRESULT | select ?answer where [ wd:millepede wdt:member_of_the_millepede ?X . ?X wdt:class_of_work ?answer] |\n",
            "+-----------+----------------------------------------------------------------------------------------------------+\n",
            "|  RESULT   | select ?answer where { wd:millepede wdt:member_of_the_millepede ?X . ?X wdt:class_of_work ?answer} |\n",
            "+-----------+----------------------------------------------------------------------------------------------------+\n"
          ]
        }
      ],
      "source": [
        "# From QALD\n",
        "q = \"Which classes does the Millepede belong to?\"\n",
        "target = \"SELECT DISTINCT ?String WHERE { res:Millipede dbp:taxon ?String }\"\n",
        "pretty_translate(target, q)"
      ]
    }
  ],
  "metadata": {
    "colab": {
      "name": "seq2seq-t5-use.ipynb",
      "provenance": []
    },
    "interpreter": {
      "hash": "e7370f93d1d0cde622a1f8e1c04877d8463912d04d973331ad4851f04de6915a"
    },
    "kernelspec": {
      "display_name": "Python 3.8.5 64-bit",
      "name": "python3"
    },
    "language_info": {
      "codemirror_mode": {
        "name": "ipython",
        "version": 3
      },
      "file_extension": ".py",
      "mimetype": "text/x-python",
      "name": "python",
      "nbconvert_exporter": "python",
      "pygments_lexer": "ipython3",
      "version": "3.8.5"
    },
    "orig_nbformat": 4
  },
  "nbformat": 4,
  "nbformat_minor": 2
}
