{
  "nbformat": 4,
  "nbformat_minor": 0,
  "metadata": {
    "language_info": {
      "codemirror_mode": {
        "name": "ipython",
        "version": 3
      },
      "file_extension": ".py",
      "mimetype": "text/x-python",
      "name": "python",
      "nbconvert_exporter": "python",
      "pygments_lexer": "ipython3",
      "version": "3.8.5"
    },
    "orig_nbformat": 4,
    "kernelspec": {
      "name": "python3",
      "display_name": "Python 3.8.5 64-bit ('usr')"
    },
    "interpreter": {
      "hash": "767d51c1340bd893661ea55ea3124f6de3c7a262a8b4abca0554b478b1e2ff90"
    },
    "colab": {
      "name": "seq2seq-t5-use.ipynb",
      "provenance": []
    }
  },
  "cells": [
    {
      "cell_type": "code",
      "metadata": {
        "id": "dKV8MCK1Y12g"
      },
      "source": [
        "!pip install datasets transformers -qqq"
      ],
      "execution_count": 10,
      "outputs": []
    },
    {
      "cell_type": "code",
      "metadata": {
        "id": "-oei2ojLYoHV"
      },
      "source": [
        "from transformers import AutoTokenizer\n",
        "model_checkpoint = \"t5-base\"\n",
        "prefix = \"translate English to Sparql: \"\n",
        "tokenizer = AutoTokenizer.from_pretrained(model_checkpoint)\n",
        "\n",
        "model_path='../../../data/models/sparql-translator-t5-2021-06-21'"
      ],
      "execution_count": 3,
      "outputs": []
    },
    {
      "cell_type": "code",
      "metadata": {
        "colab": {
          "base_uri": "https://localhost:8080/"
        },
        "id": "yHh16lJ1ZGaK",
        "outputId": "11385eca-5674-4d8f-f5fc-0cc3adc934ca"
      },
      "source": [
        "# from google.colab import drive\n",
        "# drive.mount('drive')"
      ],
      "execution_count": 2,
      "outputs": []
    },
    {
      "cell_type": "code",
      "metadata": {
        "id": "QL3k9bCkYoHZ"
      },
      "source": [
        "from transformers import AutoModelForSeq2SeqLM, DataCollatorForSeq2Seq, Seq2SeqTrainingArguments, Seq2SeqTrainer\n",
        "model2 = AutoModelForSeq2SeqLM.from_pretrained(model_path)#.to(\"cuda\")"
      ],
      "execution_count": 4,
      "outputs": []
    },
    {
      "cell_type": "code",
      "metadata": {
        "id": "qqNrJWWEYoHa"
      },
      "source": [
        "from transformers import pipeline\n",
        "\n",
        "translator = pipeline(\n",
        "    \"translation_xx_to_yy\",\n",
        "    model=model2,\n",
        "    tokenizer=tokenizer\n",
        ")"
      ],
      "execution_count": 5,
      "outputs": []
    },
    {
      "cell_type": "code",
      "metadata": {
        "colab": {
          "base_uri": "https://localhost:8080/",
          "height": 36
        },
        "id": "2mQc1uFcYoHa",
        "outputId": "8727b34b-3cc9-465e-ce8f-390b393c1870"
      },
      "source": [
        "translator(prefix+'Who is Marlin Manson?')[0]['translation_text']"
      ],
      "execution_count": 6,
      "outputs": [
        {
          "output_type": "execute_result",
          "data": {
            "text/plain": [
              "'select distinct ?obj where [ wd:Q218 wd'"
            ]
          },
          "metadata": {},
          "execution_count": 6
        }
      ]
    },
    {
      "cell_type": "code",
      "metadata": {
        "colab": {
          "base_uri": "https://localhost:8080/",
          "height": 36
        },
        "id": "kBxPmrfmYoHb",
        "outputId": "64e930a7-bdd3-4d5e-cafb-58f2881449d4"
      },
      "source": [
        "translator(prefix+'Who is Bill Gates?')[0]['translation_text']"
      ],
      "execution_count": 7,
      "outputs": [
        {
          "output_type": "execute_result",
          "data": {
            "text/plain": [
              "'select distinct ?obj where [ wd:Q218 wd'"
            ]
          },
          "metadata": {},
          "execution_count": 7
        }
      ]
    },
    {
      "cell_type": "code",
      "metadata": {
        "colab": {
          "base_uri": "https://localhost:8080/",
          "height": 36
        },
        "id": "IS1Wmq1UYoHb",
        "outputId": "85cc2c18-3e1f-4fcf-80ed-d016e6f46260"
      },
      "source": [
        "translator(prefix+'What is the time zone of Salt Lake City?')[0]['translation_text']"
      ],
      "execution_count": 8,
      "outputs": [
        {
          "output_type": "execute_result",
          "data": {
            "text/plain": [
              "'select ?answer where [ wd:Q21818 wdt'"
            ]
          },
          "metadata": {},
          "execution_count": 8
        }
      ]
    },
    {
      "cell_type": "code",
      "metadata": {
        "colab": {
          "base_uri": "https://localhost:8080/",
          "height": 36
        },
        "id": "ZRhJW7EVYoHc",
        "outputId": "59ac5238-36bc-451a-b5f1-b850d96dfb42"
      },
      "source": [
        "translator(prefix+'Who is the country for head of state of Mahmoud Abbas', max_length=100)[0]['translation_text']\n",
        "# \"question\": \"Who is the  {country} for {head of state} of {Mahmoud Abbas}\",\n",
        "# select distinct ?sbj where { ?sbj wdt:P35 wd:Q127998 . ?sbj wdt:P31 wd:Q6256 } "
      ],
      "execution_count": 9,
      "outputs": [
        {
          "output_type": "execute_result",
          "data": {
            "text/plain": [
              "'select distinct ?obj where [ wd:Q172 wdt:P1311 ?obj . ?obj wdt:P31 wd:Q5 ]'"
            ]
          },
          "metadata": {},
          "execution_count": 9
        }
      ]
    },
    {
      "cell_type": "code",
      "metadata": {
        "colab": {
          "base_uri": "https://localhost:8080/",
          "height": 36
        },
        "id": "2LQi3VbwYoHc",
        "outputId": "2a33b87c-6a2e-4747-ea46-a58b238b943f"
      },
      "source": [
        "translator(prefix+\"What country is Mahmoud Abbas the head of state of?\", max_length=100)[0]['translation_text']\n",
        "# \"paraphrased_question\": \"What country is Mahmoud Abbas the head of state of?\"\n",
        "# select distinct ?sbj where <T> ?sbj wdt:P35 wd:Q127998 . ?sbj wdt:P31 wd:Q6256 </T> "
      ],
      "execution_count": 10,
      "outputs": [
        {
          "output_type": "execute_result",
          "data": {
            "text/plain": [
              "'select distinct ?obj where [ wd:Q217 wdt:P1311 ?obj . ?obj wdt:P31 wd:Q217 ]'"
            ]
          },
          "metadata": {},
          "execution_count": 10
        }
      ]
    },
    {
      "cell_type": "code",
      "metadata": {
        "id": "GTtfUzE7YoHd"
      },
      "source": [
        "# \"sparql_wikidata\": \"SELECT ?answer WHERE { wd:Q16538 wdt:P725 ?answer . ?answer wdt:P106 wd:Q177220}\",\n",
        "# \"question\": \"Which female actress is the voice over on South Park and is employed as a singer?\",\n",
        "# \"paraphrased_question\": \"Which female actress on South Park is the voice over and is used as a singer?\""
      ],
      "execution_count": 32,
      "outputs": []
    },
    {
      "cell_type": "code",
      "metadata": {
        "colab": {
          "base_uri": "https://localhost:8080/",
          "height": 36
        },
        "id": "sTjuzECCYoHd",
        "outputId": "71ce6c2f-aa43-4522-a36e-277047628592"
      },
      "source": [
        "translator(prefix+\"Which female actress is the voice over on South Park and is employed as a singer?\", max_length=100)[0]['translation_text']"
      ],
      "execution_count": 11,
      "outputs": [
        {
          "output_type": "execute_result",
          "data": {
            "text/plain": [
              "'select ?answer where [ wd:Q172 wdt:P1311 ?X . ?X wdt:P411 ?answer]'"
            ]
          },
          "metadata": {},
          "execution_count": 11
        }
      ]
    },
    {
      "cell_type": "code",
      "metadata": {
        "colab": {
          "base_uri": "https://localhost:8080/",
          "height": 36
        },
        "id": "kuo9ETYnYoHe",
        "outputId": "3f4bfb94-2005-4c34-a502-68b0d2118d34"
      },
      "source": [
        "translator(prefix+\"Which female actress on South Park is the voice over and is used as a singer?\", max_length=100)[0]['translation_text']"
      ],
      "execution_count": 34,
      "outputs": [
        {
          "output_type": "execute_result",
          "data": {
            "application/vnd.google.colaboratory.intrinsic+json": {
              "type": "string"
            },
            "text/plain": [
              "'select ?answer where [ wd:Q172 wdt:P1411 ?X . ?X wdt:P411 ?answer]'"
            ]
          },
          "metadata": {
            "tags": []
          },
          "execution_count": 34
        }
      ]
    },
    {
      "cell_type": "code",
      "metadata": {
        "colab": {
          "base_uri": "https://localhost:8080/",
          "height": 36
        },
        "id": "COBtDj9IYoHe",
        "outputId": "c1301c42-3496-46f3-e097-972555de12af"
      },
      "source": [
        "# \"question\": \"Which is the PIM authority ID of Paul Erd\\u0151s?\",\n",
        "# \"sparql_wikidata\": \"select distinct ?answer where { wd:Q173746 wdt:P3973 ?answer}\",\n",
        "translator(prefix+\"Which is the PIM authority ID of Paul Erd?\", max_length=100)[0]['translation_text']"
      ],
      "execution_count": 35,
      "outputs": [
        {
          "output_type": "execute_result",
          "data": {
            "application/vnd.google.colaboratory.intrinsic+json": {
              "type": "string"
            },
            "text/plain": [
              "'select distinct ?obj where [ wd:Q217 wdt:P17 ?obj . ?obj wdt:P31 wd:Q217 ]'"
            ]
          },
          "metadata": {
            "tags": []
          },
          "execution_count": 35
        }
      ]
    },
    {
      "cell_type": "code",
      "metadata": {
        "id": "QUgH_PwSYoHf"
      },
      "source": [],
      "execution_count": 35,
      "outputs": []
    }
  ]
}