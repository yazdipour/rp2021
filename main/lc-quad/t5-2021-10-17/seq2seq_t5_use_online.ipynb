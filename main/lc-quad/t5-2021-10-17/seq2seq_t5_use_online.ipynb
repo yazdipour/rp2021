{
  "cells": [
    {
      "cell_type": "code",
      "execution_count": 1,
      "metadata": {
        "id": "dKV8MCK1Y12g"
      },
      "outputs": [],
      "source": [
        "!pip install datasets transformers pandasql dask -qqq\n",
        "# torch.cuda.empty_cache()"
      ]
    },
    {
      "cell_type": "code",
      "execution_count": 2,
      "metadata": {},
      "outputs": [],
      "source": [
        "import pandas as pd\n",
        "import re"
      ]
    },
    {
      "cell_type": "code",
      "execution_count": 3,
      "metadata": {},
      "outputs": [
        {
          "data": {
            "application/vnd.jupyter.widget-view+json": {
              "model_id": "be3842dbf32f4a9bb82f16020b9ce030",
              "version_major": 2,
              "version_minor": 0
            },
            "text/plain": [
              "HBox(children=(FloatProgress(value=0.0, description='Downloading', max=1417.0, style=ProgressStyle(description…"
            ]
          },
          "metadata": {},
          "output_type": "display_data"
        },
        {
          "name": "stdout",
          "output_type": "stream",
          "text": [
            "\n"
          ]
        },
        {
          "data": {
            "application/vnd.jupyter.widget-view+json": {
              "model_id": "604fe8779696486da9cf88416644f4f3",
              "version_major": 2,
              "version_minor": 0
            },
            "text/plain": [
              "HBox(children=(FloatProgress(value=0.0, description='Downloading', max=891730879.0, style=ProgressStyle(descri…"
            ]
          },
          "metadata": {},
          "output_type": "display_data"
        },
        {
          "name": "stdout",
          "output_type": "stream",
          "text": [
            "\n"
          ]
        },
        {
          "data": {
            "application/vnd.jupyter.widget-view+json": {
              "model_id": "575a5e5eb6da4fd297f513ebb4d3f615",
              "version_major": 2,
              "version_minor": 0
            },
            "text/plain": [
              "HBox(children=(FloatProgress(value=0.0, description='Downloading', max=1387489.0, style=ProgressStyle(descript…"
            ]
          },
          "metadata": {},
          "output_type": "display_data"
        },
        {
          "name": "stdout",
          "output_type": "stream",
          "text": [
            "\n"
          ]
        },
        {
          "data": {
            "application/vnd.jupyter.widget-view+json": {
              "model_id": "2d1f012e68fa436886abf0d462fcb4a3",
              "version_major": 2,
              "version_minor": 0
            },
            "text/plain": [
              "HBox(children=(FloatProgress(value=0.0, description='Downloading', max=1786.0, style=ProgressStyle(description…"
            ]
          },
          "metadata": {},
          "output_type": "display_data"
        },
        {
          "name": "stdout",
          "output_type": "stream",
          "text": [
            "\n"
          ]
        },
        {
          "data": {
            "application/vnd.jupyter.widget-view+json": {
              "model_id": "9313747976324db8b0ef8ae237a3dfeb",
              "version_major": 2,
              "version_minor": 0
            },
            "text/plain": [
              "HBox(children=(FloatProgress(value=0.0, description='Downloading', max=1923.0, style=ProgressStyle(description…"
            ]
          },
          "metadata": {},
          "output_type": "display_data"
        },
        {
          "name": "stdout",
          "output_type": "stream",
          "text": [
            "\n"
          ]
        }
      ],
      "source": [
        "from transformers import pipeline, AutoTokenizer, AutoModelForSeq2SeqLM, T5TokenizerFast\n",
        "\n",
        "prefix = \"translate english to sparql: \"\n",
        "model_name = \"yazdipour/text-to-sparql-t5-base-2021-10-17_23-40\"\n",
        "model = AutoModelForSeq2SeqLM.from_pretrained(model_name).to(\"cuda\")\n",
        "# tokenizer = AutoTokenizer.from_pretrained(model_name)\n",
        "tokenizer = T5TokenizerFast.from_pretrained(model_name)"
      ]
    },
    {
      "cell_type": "code",
      "execution_count": 4,
      "metadata": {
        "id": "-oei2ojLYoHV"
      },
      "outputs": [],
      "source": [
        "model_checkpoint = \"t5-small\"\n",
        "model_date = '2021-10-17`'\n",
        "prefix = \"translate english to sparql: \""
      ]
    },
    {
      "cell_type": "code",
      "execution_count": 5,
      "metadata": {},
      "outputs": [],
      "source": [
        "translator = pipeline(\n",
        "    \"translation_xx_to_yy\",\n",
        "    model=model,\n",
        "    tokenizer=tokenizer,\n",
        "    device=0 #0 for cuda, -1 for cpu\n",
        ")"
      ]
    },
    {
      "cell_type": "code",
      "execution_count": 6,
      "metadata": {},
      "outputs": [],
      "source": [
        "def replace_all(text, dict):\n",
        "    for i, j in dict.items():\n",
        "        text = text.replace(i, j)\n",
        "    return text"
      ]
    },
    {
      "cell_type": "code",
      "execution_count": 9,
      "metadata": {},
      "outputs": [],
      "source": [
        "kdwd_date = '2021-10-11'\n",
        "df_q = pd.read_csv(f'../../../data/kdwd/{kdwd_date}/q.csv')\n",
        "df_p = pd.read_csv(f'../../../data/kdwd/{kdwd_date}/p.csv')"
      ]
    },
    {
      "cell_type": "code",
      "execution_count": 40,
      "metadata": {},
      "outputs": [],
      "source": [
        "def findID(pref, x):\n",
        "    try:\n",
        "        if 'wd' != pref:\n",
        "            s = df_p[df_p['en']==x.lower()]\n",
        "            if len(s)>0:\n",
        "                id = s.iloc[0]['id']\n",
        "                return 'P'+str(id)\n",
        "        # Use else to do not replace missing Ps with Qs\n",
        "        s = df_q[df_q['en']==x.lower()]\n",
        "        id = s.iloc[0]['id']\n",
        "        return 'Q'+str(id)\n",
        "    except: return x"
      ]
    },
    {
      "cell_type": "code",
      "execution_count": 43,
      "metadata": {},
      "outputs": [
        {
          "data": {
            "text/plain": [
              "'Q1664689'"
            ]
          },
          "execution_count": 43,
          "metadata": {},
          "output_type": "execute_result"
        }
      ],
      "source": [
        "findID('wd', 'instance')"
      ]
    },
    {
      "cell_type": "code",
      "execution_count": 41,
      "metadata": {},
      "outputs": [],
      "source": [
        "# def decode_props(qry):\n",
        "#     qry = qry.replace(\"[\", \"{\").replace(\"]\", \"}\")\n",
        "#     f = re.findall(r\":([^>?.]*)\", qry)\n",
        "#     for i in f:\n",
        "#         prf = re.findall(r\"\\w+:\"+i, qry)\n",
        "#         if len(prf)==0:\n",
        "#             continue\n",
        "#         prf = prf[0].replace(i, '')\n",
        "#         qry = qry.replace(i, findID(prf, i))\n",
        "#     return qry.replace(\">\", \"\")\n",
        "def decode_props(qry):\n",
        "    rep_dict = {}\n",
        "    qry = qry.replace(\"[\", \"{\").replace(\"]\", \"}\")\n",
        "    for m in re.finditer(\":\\w+\", qry):\n",
        "        pref = qry[m.start(0) - 3 : m.start(0)].strip()\n",
        "        rep_dict[m.group(0)[1:]] = findID(pref, m.group(0)[1:])\n",
        "        # try:\n",
        "        #     x = m.group(0)[1:]\n",
        "        #     if \"wd\" not in pref:\n",
        "        #         s = df_p[df_p.en.str.contains(x.lower().replace(\"_\", \" \"), na=False)].sort_values(by='id')\n",
        "        #         if not s.empty:\n",
        "        #             rep_dict[x] = \"P\" + str(s.iloc[0].name)\n",
        "        #             continue\n",
        "        #     s2 = df_q[df_q.en.str.contains(x.lower().replace(\"_\", \" \"), na=False)].sort_values(by='id')\n",
        "        #     rep_dict[x] = \"Q\" + str(s2.iloc[0].name)\n",
        "        # except:\n",
        "        #     print(f\"Could not find {x} in our database.\")\n",
        "    return replace_all(qry, rep_dict)\n"
      ]
    },
    {
      "cell_type": "code",
      "execution_count": 42,
      "metadata": {},
      "outputs": [
        {
          "data": {
            "text/plain": [
              "'SELECT ?answer WHERE { wd:Q64 wdt:instance_of ?answer . ?answer wdt:instance_of wd:Q30185 }'"
            ]
          },
          "execution_count": 42,
          "metadata": {},
          "output_type": "execute_result"
        }
      ],
      "source": [
        "decode_props('SELECT ?answer WHERE [ wd:berlin wdt:instance_of ?answer . ?answer wdt:instance_of wd:mayor ]')"
      ]
    },
    {
      "cell_type": "code",
      "execution_count": 15,
      "metadata": {},
      "outputs": [],
      "source": [
        "def translate(q):\n",
        "    tr = translator(prefix+q, max_length=100)[0]['translation_text']\n",
        "    return (tr, decode_props(tr))"
      ]
    },
    {
      "cell_type": "code",
      "execution_count": 16,
      "metadata": {},
      "outputs": [],
      "source": [
        "!pip install beautifultable -qqq"
      ]
    },
    {
      "cell_type": "code",
      "execution_count": 17,
      "metadata": {},
      "outputs": [],
      "source": [
        "from beautifultable import BeautifulTable\n",
        "def pretty_translate(t,q): \n",
        "    ans = translate(q)\n",
        "    # print('QUESTION:\\n' + q + '\\nTARGET:\\n'+ t +'\\nRESULT:\\n' + ans[0]+ '\\nRESULT-DECODED:\\n' + ans[1])\n",
        "    table = BeautifulTable(maxwidth=140)\n",
        "    # table.column_headers = [\"\", \"Man Utd\",\"Man City\",\"T Hotspur\"]\n",
        "    table.rows.append(['QUESTION', q])\n",
        "    table.rows.append(['Target', t])\n",
        "    table.rows.append(['RawRESULT', ans[0]])\n",
        "    table.rows.append(['RESULT', ans[1]])\n",
        "    print(table)"
      ]
    },
    {
      "cell_type": "markdown",
      "metadata": {},
      "source": [
        "# TESTING"
      ]
    },
    {
      "cell_type": "code",
      "execution_count": 18,
      "metadata": {},
      "outputs": [
        {
          "data": {
            "text/plain": [
              "'translate english to sparql: '"
            ]
          },
          "execution_count": 18,
          "metadata": {},
          "output_type": "execute_result"
        }
      ],
      "source": [
        "prefix"
      ]
    },
    {
      "cell_type": "code",
      "execution_count": 19,
      "metadata": {},
      "outputs": [
        {
          "data": {
            "text/plain": [
              "[{'translation_text': 'select distinct ?sbj where [ ?sbj wdt:instance_of wd:marlin_manson . ?sbj wdt:instance_of wd:human ]'}]"
            ]
          },
          "execution_count": 19,
          "metadata": {},
          "output_type": "execute_result"
        }
      ],
      "source": [
        "translator(prefix+'Who is Marlin Manson?', max_length=100)"
      ]
    },
    {
      "cell_type": "code",
      "execution_count": 20,
      "metadata": {},
      "outputs": [
        {
          "name": "stdout",
          "output_type": "stream",
          "text": [
            "Could not find marlin_manson in our database.\n"
          ]
        },
        {
          "data": {
            "text/plain": [
              "('select distinct ?sbj where [ ?sbj wdt:instance_of wd:marlin_manson . ?sbj wdt:instance_of wd:human ]',\n",
              " ('select distinct ?sbj where { ?sbj wdt:instance_of wd:marlin_manson . ?sbj wdt:instance_of wd:human }',\n",
              "  'select distinct ?sbj where { ?sbj wdt:P15 wd:marlin_manson . ?sbj wdt:P15 wd:Q4 }'))"
            ]
          },
          "execution_count": 20,
          "metadata": {},
          "output_type": "execute_result"
        }
      ],
      "source": [
        "# <re.Match object; span=(52, 66), match=':marlin_manson'>\n",
        "# ('select distinct ?sbj where { ?sbj wdt:instance_of wd:marlin_manson . ?sbj wdt:instance_of wd:human }',\n",
        "#  'select distinct ?sbj where { ?sbj wdt:P31 wd:marlin_manson . ?sbj wdt:P31 wd:Q5 }')\n",
        "translate('Who is Marlin Manson?')"
      ]
    },
    {
      "cell_type": "code",
      "execution_count": 21,
      "metadata": {},
      "outputs": [
        {
          "data": {
            "text/plain": [
              "('select distinct ?sbj where [ ?sbj wdt:instance_of wd:bill_gates . ?sbj wdt:instance_of wd:human ]',\n",
              " ('select distinct ?sbj where { ?sbj wdt:instance_of wd:bill_gates . ?sbj wdt:instance_of wd:human }',\n",
              "  'select distinct ?sbj where { ?sbj wdt:P15 wd:Q4672 . ?sbj wdt:P15 wd:Q4 }'))"
            ]
          },
          "execution_count": 21,
          "metadata": {},
          "output_type": "execute_result"
        }
      ],
      "source": [
        "translate('Who is Bill Gates?')"
      ]
    },
    {
      "cell_type": "code",
      "execution_count": 22,
      "metadata": {},
      "outputs": [
        {
          "data": {
            "text/plain": [
              "('select distinct ?sbj where [ ?sbj wdt:instance_of wd:human ]',\n",
              " ('select distinct ?sbj where { ?sbj wdt:instance_of wd:human }',\n",
              "  'select distinct ?sbj where { ?sbj wdt:P15 wd:Q4 }'))"
            ]
          },
          "execution_count": 22,
          "metadata": {},
          "output_type": "execute_result"
        }
      ],
      "source": [
        "translate('what is?')"
      ]
    },
    {
      "cell_type": "code",
      "execution_count": 23,
      "metadata": {},
      "outputs": [
        {
          "name": "stdout",
          "output_type": "stream",
          "text": [
            "+-----------+------------------------------------------------------------------------------------------------------------------------------+\n",
            "| QUESTION  |                                    Who is the country for head of state of Mahmoud Abbas?                                    |\n",
            "+-----------+------------------------------------------------------------------------------------------------------------------------------+\n",
            "|  Target   |                        select distinct ?sbj where { ?sbj wdt:P35 wd:Q127998 . ?sbj wdt:P31 wd:Q6256 }                        |\n",
            "+-----------+------------------------------------------------------------------------------------------------------------------------------+\n",
            "| RawRESULT |           select distinct ?sbj where [ ?sbj wdt:head_of_state wd:mahmoud_abbas . ?sbj wdt:instance_of wd:country ]           |\n",
            "+-----------+------------------------------------------------------------------------------------------------------------------------------+\n",
            "|  RESULT   | ('select distinct ?sbj where { ?sbj wdt:head_of_state wd:mahmoud_abbas . ?sbj wdt:instance_of wd:country }', 'select distinc |\n",
            "|           |                            t ?sbj where { ?sbj wdt:P16 wd:Q112639 . ?sbj wdt:P15 wd:Q17912917 }')                            |\n",
            "+-----------+------------------------------------------------------------------------------------------------------------------------------+\n"
          ]
        }
      ],
      "source": [
        "pretty_translate('select distinct ?sbj where { ?sbj wdt:P35 wd:Q127998 . ?sbj wdt:P31 wd:Q6256 }','Who is the country for head of state of Mahmoud Abbas?')"
      ]
    },
    {
      "cell_type": "code",
      "execution_count": 24,
      "metadata": {},
      "outputs": [
        {
          "name": "stdout",
          "output_type": "stream",
          "text": [
            "Could not find mahmoud_abbas in our database.\n",
            "+-----------+------------------------------------------------------------------------------------------------------------------------------+\n",
            "| QUESTION  |                                     What country is Mahmoud Abbas the head of state of?                                      |\n",
            "+-----------+------------------------------------------------------------------------------------------------------------------------------+\n",
            "|  Target   |                        select distinct ?sbj where { ?sbj wdt:P35 wd:Q127998 . ?sbj wdt:P31 wd:Q6256 }                        |\n",
            "+-----------+------------------------------------------------------------------------------------------------------------------------------+\n",
            "| RawRESULT |           select distinct ?sbj where [ ?sbj wdt:head_of_state wd:mahmoud_abbas . ?sbj wdt:instance_of wd:country ]           |\n",
            "+-----------+------------------------------------------------------------------------------------------------------------------------------+\n",
            "|  RESULT   | ('select distinct ?sbj where { ?sbj wdt:head_of_state wd:mahmoud_abbas . ?sbj wdt:instance_of wd:country }', 'select distinc |\n",
            "|           |                         t ?sbj where { ?sbj wdt:P16 wd:mahmoud_abbas . ?sbj wdt:P15 wd:Q17912917 }')                         |\n",
            "+-----------+------------------------------------------------------------------------------------------------------------------------------+\n"
          ]
        }
      ],
      "source": [
        "pretty_translate('select distinct ?sbj where { ?sbj wdt:P35 wd:Q127998 . ?sbj wdt:P31 wd:Q6256 }',\"What country is Mahmoud Abbas the head of state of?\")"
      ]
    },
    {
      "cell_type": "code",
      "execution_count": null,
      "metadata": {},
      "outputs": [
        {
          "name": "stdout",
          "output_type": "stream",
          "text": [
            "+-----------+------------------------------------------------------------------------------------------------------------------------------+\n",
            "| QUESTION  |                                    Who is the country for head of state of Mahmoud Abbas?                                    |\n",
            "+-----------+------------------------------------------------------------------------------------------------------------------------------+\n",
            "|  Target   |                        select distinct ?sbj where { ?sbj wdt:P35 wd:Q127998 . ?sbj wdt:P31 wd:Q6256 }                        |\n",
            "+-----------+------------------------------------------------------------------------------------------------------------------------------+\n",
            "| RawRESULT | SELECT ?answer WHERE [ wd:mahmoud abbas> wdt:country> ?answer . ?answer wdt:head of state> ?answer . ?answer wdt:country> ?a |\n",
            "|           |                                                            nswer]                                                            |\n",
            "+-----------+------------------------------------------------------------------------------------------------------------------------------+\n",
            "|  RESULT   |            SELECT ?answer WHERE { wd:Q127998 wdt:P17 ?answer . ?answer wdt:P35 ?answer . ?answer wdt:P17 ?answer}            |\n",
            "+-----------+------------------------------------------------------------------------------------------------------------------------------+\n"
          ]
        }
      ],
      "source": [
        "pretty_translate('select distinct ?sbj where { ?sbj wdt:P35 wd:Q127998 . ?sbj wdt:P31 wd:Q6256 }','Who is the country for head of state of Mahmoud Abbas?')"
      ]
    },
    {
      "cell_type": "code",
      "execution_count": null,
      "metadata": {},
      "outputs": [
        {
          "name": "stdout",
          "output_type": "stream",
          "text": [
            "+-----------+---------------------------------------------------------------------------------------------------+\n",
            "| QUESTION  |         which female actress is the voice over on south park and is employed as a singer?         |\n",
            "+-----------+---------------------------------------------------------------------------------------------------+\n",
            "|  Target   |         SELECT ?answer WHERE { wd:Q16538 wdt:P725 ?answer . ?answer wdt:P106 wd:Q177220}          |\n",
            "+-----------+---------------------------------------------------------------------------------------------------+\n",
            "| RawRESULT | SELECT ?answer WHERE [ wd:south park> wdt:voice over> ?answer . ?answer wdt:voice over> wd:song>] |\n",
            "+-----------+---------------------------------------------------------------------------------------------------+\n",
            "|  RESULT   |      SELECT ?answer WHERE { wd:Q16538 wdt:Q12280274 ?answer . ?answer wdt:Q12280274 wd:P51}       |\n",
            "+-----------+---------------------------------------------------------------------------------------------------+\n"
          ]
        }
      ],
      "source": [
        "pretty_translate(\"SELECT ?answer WHERE { wd:Q16538 wdt:P725 ?answer . ?answer wdt:P106 wd:Q177220}\",\"Which female actress is the voice over on South Park and is employed as a singer?\".lower())"
      ]
    },
    {
      "cell_type": "code",
      "execution_count": null,
      "metadata": {},
      "outputs": [
        {
          "name": "stdout",
          "output_type": "stream",
          "text": [
            "+-----------+---------------------------------------------------------------------------------------------------+\n",
            "| QUESTION  |           Which female actress on South Park is the voice over and is used as a singer?           |\n",
            "+-----------+---------------------------------------------------------------------------------------------------+\n",
            "|  Target   |         SELECT ?answer WHERE { wd:Q16538 wdt:P725 ?answer . ?answer wdt:P106 wd:Q177220}          |\n",
            "+-----------+---------------------------------------------------------------------------------------------------+\n",
            "| RawRESULT | SELECT ?answer WHERE [ wd:south park> wdt:voice over> ?answer . ?answer wdt:voice over> wd:song>] |\n",
            "+-----------+---------------------------------------------------------------------------------------------------+\n",
            "|  RESULT   |      SELECT ?answer WHERE { wd:Q16538 wdt:Q12280274 ?answer . ?answer wdt:Q12280274 wd:P51}       |\n",
            "+-----------+---------------------------------------------------------------------------------------------------+\n"
          ]
        }
      ],
      "source": [
        "pretty_translate(\"SELECT ?answer WHERE { wd:Q16538 wdt:P725 ?answer . ?answer wdt:P106 wd:Q177220}\",\"Which female actress on South Park is the voice over and is used as a singer?\")"
      ]
    },
    {
      "cell_type": "code",
      "execution_count": null,
      "metadata": {},
      "outputs": [
        {
          "name": "stdout",
          "output_type": "stream",
          "text": [
            "+-----------+-----------------------------------------------------------------------------------------------------------+\n",
            "| QUESTION  |                                Which is the PIM authority ID of Paul Erd?                                 |\n",
            "+-----------+-----------------------------------------------------------------------------------------------------------+\n",
            "|  Target   |                       select distinct ?answer where { wd:Q173746 wdt:P3973 ?answer}                       |\n",
            "+-----------+-----------------------------------------------------------------------------------------------------------+\n",
            "| RawRESULT | SELECT ?answer WHERE [ wd:Paul Erd> wdt:pIM authority ID> ?X . ?X wdt:instance of> wd:pim authority ID> ] |\n",
            "+-----------+-----------------------------------------------------------------------------------------------------------+\n",
            "|  RESULT   |                  SELECT ?answer WHERE { wd:Paul Erd wdt:P3973 ?X . ?X wdt:P31 wd:P3973 }                  |\n",
            "+-----------+-----------------------------------------------------------------------------------------------------------+\n"
          ]
        }
      ],
      "source": [
        "# Paul Erdős (Q173746)\n",
        "pretty_translate(\"select distinct ?answer where { wd:Q173746 wdt:P3973 ?answer}\",\"Which is the PIM authority ID of Paul Erd?\")"
      ]
    },
    {
      "cell_type": "code",
      "execution_count": null,
      "metadata": {},
      "outputs": [
        {
          "name": "stdout",
          "output_type": "stream",
          "text": [
            "+-----------+------------------------------------------------------------------------------------------------------------------------------+\n",
            "| QUESTION  |                                       What was the population of Somalia in 2009-0-0?                                        |\n",
            "+-----------+------------------------------------------------------------------------------------------------------------------------------+\n",
            "|  Target   |        SELECT ?obj WHERE { wd:Q1045 p:P1082 ?s . ?s ps:P1082 ?obj . ?s pq:P585 ?x filter(contains(YEAR(?x),'2009')) }        |\n",
            "+-----------+------------------------------------------------------------------------------------------------------------------------------+\n",
            "| RawRESULT | SELECT ?answer WHERE [ wd:simala> wdt:population> ?answer . ?answer wdt:population> ?answer . ?answer wdt:instance of> wd:si |\n",
            "|           |                                                            mala>]                                                            |\n",
            "+-----------+------------------------------------------------------------------------------------------------------------------------------+\n",
            "|  RESULT   |        SELECT ?answer WHERE { wd:Q388440 wdt:P1082 ?answer . ?answer wdt:P1082 ?answer . ?answer wdt:P31 wd:Q388440}         |\n",
            "+-----------+------------------------------------------------------------------------------------------------------------------------------+\n"
          ]
        }
      ],
      "source": [
        "pretty_translate(\"SELECT ?obj WHERE { wd:Q1045 p:P1082 ?s . ?s ps:P1082 ?obj . ?s pq:P585 ?x filter(contains(YEAR(?x),'2009')) }\", \n",
        "            \"What was the population of Somalia in 2009-0-0?\")"
      ]
    },
    {
      "cell_type": "code",
      "execution_count": null,
      "metadata": {},
      "outputs": [
        {
          "data": {
            "text/plain": [
              "('SELECT ?answer WHERE [ wd:new york city> wdt:humans born in> wd:new york city> . ?answer wdt:instance of> wd:humans> ]',\n",
              " 'SELECT ?answer WHERE { wd:Q60 wdt:Q4272038 born in wd:Q60 . ?answer wdt:P31 wd:Q4272038 }')"
            ]
          },
          "execution_count": 34,
          "metadata": {},
          "output_type": "execute_result"
        }
      ],
      "source": [
        "translate('Humans born in New York City') #random query - answer seems correct"
      ]
    },
    {
      "cell_type": "code",
      "execution_count": null,
      "metadata": {},
      "outputs": [
        {
          "name": "stdout",
          "output_type": "stream",
          "text": [
            "+-----------+------------------------------------------------------------------------------------------------------------------------------+\n",
            "| QUESTION  |                                     Are Taiko some kind of Japanese musical instrument?                                      |\n",
            "+-----------+------------------------------------------------------------------------------------------------------------------------------+\n",
            "|  Target   |    ASK WHERE { <http://dbpedia.org/resource/Taiko> a <http://dbpedia.org/class/yago/WikicatJapaneseMusicalInstruments> }     |\n",
            "+-----------+------------------------------------------------------------------------------------------------------------------------------+\n",
            "| RawRESULT | SELECT ?answer WHERE [ wd:taiko> wdt:musical instrument> ?answer . ?answer wdt:musical instrument> ?answer . ?answer wdt:mus |\n",
            "|           |                             ical instrument> ?answer . ?answer wdt:musical instrument> ?answer ]                             |\n",
            "+-----------+------------------------------------------------------------------------------------------------------------------------------+\n",
            "|  RESULT   | SELECT ?answer WHERE { wd:Q221769 wdt:P1303 ?answer . ?answer wdt:P1303 ?answer . ?answer wdt:P1303 ?answer . ?answer wdt:P1 |\n",
            "|           |                                                        303 ?answer }                                                         |\n",
            "+-----------+------------------------------------------------------------------------------------------------------------------------------+\n"
          ]
        }
      ],
      "source": [
        "# From QALD\n",
        "target = \"ASK WHERE { <http://dbpedia.org/resource/Taiko> a <http://dbpedia.org/class/yago/WikicatJapaneseMusicalInstruments> }\"\n",
        "q =  \"Are Taiko some kind of Japanese musical instrument?\"\n",
        "pretty_translate(target, q)"
      ]
    },
    {
      "cell_type": "code",
      "execution_count": null,
      "metadata": {},
      "outputs": [
        {
          "name": "stdout",
          "output_type": "stream",
          "text": [
            "+-----------+------------------------------------------------------------------------------------------------------------------------------+\n",
            "| QUESTION  |                                                      Who killed Caesar?                                                      |\n",
            "+-----------+------------------------------------------------------------------------------------------------------------------------------+\n",
            "|  Target   | PREFIX dct: <http://purl.org/dc/terms/> PREFIX dbc: <http://dbpedia.org/resource/Category:> SELECT DISTINCT ?uri WHERE { ?ur |\n",
            "|           |                                        i dct:subject dbc:Assassins_of_Julius_Caesar }                                        |\n",
            "+-----------+------------------------------------------------------------------------------------------------------------------------------+\n",
            "| RawRESULT |               SELECT ?answer WHERE [ wd:césar> wdt:mortified by> ?answer . ?answer wdt:instance of> wd:césar>]               |\n",
            "+-----------+------------------------------------------------------------------------------------------------------------------------------+\n",
            "|  RESULT   |                    SELECT ?answer WHERE { wd:Q48705 wdt:mortified by ?answer . ?answer wdt:P31 wd:Q48705}                    |\n",
            "+-----------+------------------------------------------------------------------------------------------------------------------------------+\n"
          ]
        }
      ],
      "source": [
        "# From QALD\n",
        "target = \"PREFIX dct: <http://purl.org/dc/terms/> PREFIX dbc: <http://dbpedia.org/resource/Category:> SELECT DISTINCT ?uri WHERE { ?uri dct:subject dbc:Assassins_of_Julius_Caesar }\"\n",
        "q =  \"Who killed Caesar?\"\n",
        "pretty_translate(target, q)"
      ]
    },
    {
      "cell_type": "code",
      "execution_count": null,
      "metadata": {},
      "outputs": [
        {
          "name": "stdout",
          "output_type": "stream",
          "text": [
            "+-----------+------------------------------------------------------------------------------------------------------------------------------+\n",
            "| QUESTION  |                                           What is the highest mountain in Germany?                                           |\n",
            "+-----------+------------------------------------------------------------------------------------------------------------------------------+\n",
            "|  Target   | PREFIX rdfs: <http://www.w3.org/2000/01/rdf-schema#> PREFIX rdf: <http://www.w3.org/1999/02/22-rdf-syntax-ns#> PREFIX onto:  |\n",
            "|           |                                               <http://dbpedia.org/ontology/>                                                 |\n",
            "|           | SELECT ?uri WHERE { ?uri rdf:type onto:Mountain ; onto:elevation ?elevation ; onto:locatedInArea <http://dbpedia.org/resourc |\n",
            "|           |                                        e/Germany> } ORDER BY DESC(?elevation) LIMIT 1                                        |\n",
            "+-----------+------------------------------------------------------------------------------------------------------------------------------+\n",
            "| RawRESULT |           SELECT ?answer WHERE [ wd:deutscher mountain> wdt:highest mountain> ?X . ?X wdt:instance of> wd:berg> ]            |\n",
            "+-----------+------------------------------------------------------------------------------------------------------------------------------+\n",
            "|  RESULT   |                    SELECT ?answer WHERE { wd:deutscher mountain wdt:Q35691748 ?X . ?X wdt:P31 wd:Q67165 }                    |\n",
            "+-----------+------------------------------------------------------------------------------------------------------------------------------+\n"
          ]
        }
      ],
      "source": [
        "# From QALD\n",
        "q = 'What is the highest mountain in Germany?'\n",
        "target = \"PREFIX rdfs: <http://www.w3.org/2000/01/rdf-schema#> PREFIX rdf: <http://www.w3.org/1999/02/22-rdf-syntax-ns#> PREFIX onto: <http://dbpedia.org/ontology/>  \\nSELECT ?uri WHERE { ?uri rdf:type onto:Mountain ; onto:elevation ?elevation ; onto:locatedInArea <http://dbpedia.org/resource/Germany> } ORDER BY DESC(?elevation) LIMIT 1\"\n",
        "pretty_translate(target, q)"
      ]
    },
    {
      "cell_type": "code",
      "execution_count": null,
      "metadata": {},
      "outputs": [
        {
          "name": "stdout",
          "output_type": "stream",
          "text": [
            "+-----------+------------------------------------------------------------------------------------------------------------------------------+\n",
            "| QUESTION  |                               Which American presidents were in office during the Vietnam War?                               |\n",
            "+-----------+------------------------------------------------------------------------------------------------------------------------------+\n",
            "|  Target   | PREFIX dbo: <http://dbpedia.org/ontology/> PREFIX res: <http://dbpedia.org/resource/> PREFIX dct: <http://purl.org/dc/terms/ |\n",
            "|           | > PREFIX dbc: <http://dbpedia.org/resource/Category:> SELECT ?uri WHERE { ?uri dct:subject dbc:Presidents_of_the_United_Stat |\n",
            "|           |                                          es . res:Vietnam_War dbo:commander ?uri }                                           |\n",
            "+-----------+------------------------------------------------------------------------------------------------------------------------------+\n",
            "| RawRESULT | SELECT ?answer WHERE [ wd:vietnam war> wdt:instance of> ?answer . ?answer wdt:instance of> wd:american president> ?answer .  |\n",
            "|           |                                       ?answer wdt:instance of> wd:american president>]                                       |\n",
            "+-----------+------------------------------------------------------------------------------------------------------------------------------+\n",
            "|  RESULT   |      SELECT ?answer WHERE { wd:Q8740 wdt:P31 ?answer . ?answer wdt:P31 wd:Q429311 ?answer . ?answer wdt:P31 wd:Q429311}      |\n",
            "+-----------+------------------------------------------------------------------------------------------------------------------------------+\n"
          ]
        }
      ],
      "source": [
        "# From QALD\n",
        "q = 'Which American presidents were in office during the Vietnam War?'\n",
        "target = \"PREFIX dbo: <http://dbpedia.org/ontology/> PREFIX res: <http://dbpedia.org/resource/> PREFIX dct: <http://purl.org/dc/terms/> PREFIX dbc: <http://dbpedia.org/resource/Category:> SELECT ?uri WHERE { ?uri dct:subject dbc:Presidents_of_the_United_States . res:Vietnam_War dbo:commander ?uri }\"\n",
        "pretty_translate(target, q)"
      ]
    },
    {
      "cell_type": "code",
      "execution_count": null,
      "metadata": {},
      "outputs": [
        {
          "name": "stdout",
          "output_type": "stream",
          "text": [
            "+-----------+------------------------------------------------------------------------------------------------------------------------------+\n",
            "| QUESTION  |                              How many gold medals did Michael Phelps win at the 2008 Olympics?                               |\n",
            "+-----------+------------------------------------------------------------------------------------------------------------------------------+\n",
            "|  Target   | PREFIX dbo: <http://dbpedia.org/ontology/> PREFIX dbr: <http://dbpedia.org/resource/> PREFIX rdf: <http://www.w3.org/1999/02 |\n",
            "|           | /22-rdf-syntax-ns#> PREFIX rdfs: <http://www.w3.org/2000/01/rdf-schema#> SELECT Count(?sub) as ?c WHERE { ?sub dbo:goldMedal |\n",
            "|           |             ist dbr:Michael_Phelps . filter (contains (str(?sub), \"2008\") && contains (str(?sub), \"Olympics\")) }             |\n",
            "+-----------+------------------------------------------------------------------------------------------------------------------------------+\n",
            "| RawRESULT | SELECT ?answer WHERE [ wd:falquier phelps> wdt:gold medals win> ?answer . ?answer wdt:instance of> wd:gold medals> ?answer . |\n",
            "|           |                                           ?answer wdt:instance of> wd:gold medals>]                                          |\n",
            "+-----------+------------------------------------------------------------------------------------------------------------------------------+\n",
            "|  RESULT   | SELECT ?answer WHERE { wd:falquier phelps wdt:gold medals win ?answer . ?answer wdt:P31 wd:gold medals ?answer . ?answer wdt |\n",
            "|           |                                                     :P31 wd:gold medals}                                                     |\n",
            "+-----------+------------------------------------------------------------------------------------------------------------------------------+\n"
          ]
        }
      ],
      "source": [
        "# From QALD\n",
        "q = 'How many gold medals did Michael Phelps win at the 2008 Olympics?'\n",
        "target = \"PREFIX dbo: <http://dbpedia.org/ontology/> PREFIX dbr: <http://dbpedia.org/resource/> PREFIX rdf: <http://www.w3.org/1999/02/22-rdf-syntax-ns#> PREFIX rdfs: <http://www.w3.org/2000/01/rdf-schema#> SELECT Count(?sub) as ?c WHERE { ?sub dbo:goldMedalist dbr:Michael_Phelps . filter (contains (str(?sub), \\\"2008\\\") && contains (str(?sub), \\\"Olympics\\\")) }\"\n",
        "pretty_translate(target, q)"
      ]
    },
    {
      "cell_type": "code",
      "execution_count": null,
      "metadata": {},
      "outputs": [
        {
          "name": "stdout",
          "output_type": "stream",
          "text": [
            "+-----------+------------------------------------------------------------------------------------------------------------------------------+\n",
            "| QUESTION  |                                           What is the profession of Frank Herbert?                                           |\n",
            "+-----------+------------------------------------------------------------------------------------------------------------------------------+\n",
            "|  Target   | PREFIX dbpedia2: <http://dbpedia.org/property/> PREFIX res: <http://dbpedia.org/resource/> SELECT DISTINCT ?string WHERE { r |\n",
            "|           |                                        es:Frank_Herbert dbpedia2:occupation ?string }                                        |\n",
            "+-----------+------------------------------------------------------------------------------------------------------------------------------+\n",
            "| RawRESULT | SELECT ?answer WHERE [ wd:franck hrw> wdt:professional> ?answer . ?answer wdt:professional> ?answer . ?answer wdt:profession |\n",
            "|           |                                                      al> wd:frank hrw>]                                                      |\n",
            "+-----------+------------------------------------------------------------------------------------------------------------------------------+\n",
            "|  RESULT   |  SELECT ?answer WHERE { wd:franck hrw wdt:Q702269 ?answer . ?answer wdt:Q702269 ?answer . ?answer wdt:Q702269 wd:frank hrw}  |\n",
            "+-----------+------------------------------------------------------------------------------------------------------------------------------+\n"
          ]
        }
      ],
      "source": [
        "# From QALD\n",
        "q = 'What is the profession of Frank Herbert?'\n",
        "target = \"PREFIX dbpedia2: <http://dbpedia.org/property/> PREFIX res: <http://dbpedia.org/resource/> SELECT DISTINCT ?string WHERE { res:Frank_Herbert dbpedia2:occupation ?string }\"\n",
        "pretty_translate(target, q)"
      ]
    },
    {
      "cell_type": "code",
      "execution_count": null,
      "metadata": {},
      "outputs": [
        {
          "name": "stdout",
          "output_type": "stream",
          "text": [
            "+-----------+------------------------------------------------------------------------------------------------------------------------------+\n",
            "| QUESTION  |                                    How many seats does the home stadium of FC Porto have?                                    |\n",
            "+-----------+------------------------------------------------------------------------------------------------------------------------------+\n",
            "|  Target   | PREFIX dbo: <http://dbpedia.org/ontology/> PREFIX dbp: <http://dbpedia.org/property/> PREFIX dbr: <http://dbpedia.org/resour |\n",
            "|           | ce/> PREFIX rdf: <http://www.w3.org/1999/02/22-rdf-syntax-ns#> PREFIX rdfs: <http://www.w3.org/2000/01/rdf-schema#> PREFIX d |\n",
            "|           | b: <http://dbpedia.org/> SELECT ?capacity WHERE { { dbr:FC_Porto dbo:ground ?ground . ?ground dbo:capacity ?capacity } UNION |\n",
            "|           |                            { dbr:FC_Porto dbo:ground ?ground . ?ground dbp:capacity ?capacity } }                            |\n",
            "+-----------+------------------------------------------------------------------------------------------------------------------------------+\n",
            "| RawRESULT | SELECT ?answer WHERE [ wd:FC porto> wdt:home stadium> ?answer . ?answer wdt:place of birth> ?answer . ?answer wdt:place of b |\n",
            "|           |                                    irth> ?answer . ?answer wdt:place of birth> ?answer ]                                     |\n",
            "+-----------+------------------------------------------------------------------------------------------------------------------------------+\n",
            "|  RESULT   | SELECT ?answer WHERE { wd:Q128446 wdt:home stadium ?answer . ?answer wdt:P19 ?answer . ?answer wdt:P19 ?answer . ?answer wdt |\n",
            "|           |                                                        :P19 ?answer }                                                        |\n",
            "+-----------+------------------------------------------------------------------------------------------------------------------------------+\n"
          ]
        }
      ],
      "source": [
        "# From QALD\n",
        "q = 'How many seats does the home stadium of FC Porto have?'\n",
        "target = \"PREFIX dbo: <http://dbpedia.org/ontology/> PREFIX dbp: <http://dbpedia.org/property/> PREFIX dbr: <http://dbpedia.org/resource/> PREFIX rdf: <http://www.w3.org/1999/02/22-rdf-syntax-ns#> PREFIX rdfs: <http://www.w3.org/2000/01/rdf-schema#> PREFIX db: <http://dbpedia.org/> SELECT ?capacity WHERE { { dbr:FC_Porto dbo:ground ?ground . ?ground dbo:capacity ?capacity } UNION { dbr:FC_Porto dbo:ground ?ground . ?ground dbp:capacity ?capacity } }\"\n",
        "pretty_translate(target, q)"
      ]
    },
    {
      "cell_type": "code",
      "execution_count": null,
      "metadata": {},
      "outputs": [
        {
          "name": "stdout",
          "output_type": "stream",
          "text": [
            "+-----------+------------------------------------------------------------------------------------------------------------------------------+\n",
            "| QUESTION  |                                     Which frequent flyer program has the most airlines?                                      |\n",
            "+-----------+------------------------------------------------------------------------------------------------------------------------------+\n",
            "|  Target   | SELECT ?uri WHERE { ?airline <http://www.w3.org/1999/02/22-rdf-syntax-ns#type> <http://dbpedia.org/ontology/Airline> . ?airl |\n",
            "|           | ine <http://dbpedia.org/property/frequentFlyer> ?uri. } GROUP BY ?uri ORDER BY DESC(COUNT(DISTINCT ?airline)) OFFSET 0 LIMIT |\n",
            "|           |                                                               1                                                              |\n",
            "+-----------+------------------------------------------------------------------------------------------------------------------------------+\n",
            "| RawRESULT | select distinct ?object where [ wd:french flyer program> wdt:instance of> ?object . ?object wdt:instance of> wd:french flyer |\n",
            "|           |                                                          program> ]                                                          |\n",
            "+-----------+------------------------------------------------------------------------------------------------------------------------------+\n",
            "|  RESULT   |     select distinct ?object where { wd:french flyer program wdt:P31 ?object . ?object wdt:P31 wd:french flyer program }      |\n",
            "+-----------+------------------------------------------------------------------------------------------------------------------------------+\n"
          ]
        }
      ],
      "source": [
        "# From QALD\n",
        "q = 'Which frequent flyer program has the most airlines?'\n",
        "target = \"SELECT ?uri WHERE { ?airline <http://www.w3.org/1999/02/22-rdf-syntax-ns#type> <http://dbpedia.org/ontology/Airline> . ?airline <http://dbpedia.org/property/frequentFlyer> ?uri. } GROUP BY ?uri ORDER BY DESC(COUNT(DISTINCT ?airline)) OFFSET 0 LIMIT 1\"\n",
        "pretty_translate(target, q)"
      ]
    },
    {
      "cell_type": "code",
      "execution_count": null,
      "metadata": {},
      "outputs": [
        {
          "name": "stdout",
          "output_type": "stream",
          "text": [
            "+-----------+------------------------------------------------------------------------------------------------------------------------------+\n",
            "| QUESTION  |                                   Which European countries have a constitutional monarchy?                                   |\n",
            "+-----------+------------------------------------------------------------------------------------------------------------------------------+\n",
            "|  Target   | PREFIX dbo: <http://dbpedia.org/ontology/> PREFIX dct: <http://purl.org/dc/terms/> PREFIX dbc: <http://dbpedia.org/resource/ |\n",
            "|           | Category:> PREFIX dbr: <http://dbpedia.org/resource/> SELECT ?uri WHERE { ?uri dct:subject dbc:Countries_in_Europe ; dbo:gov |\n",
            "|           |                                          ernmentType dbr:Constitutional_monarchy }                                           |\n",
            "+-----------+------------------------------------------------------------------------------------------------------------------------------+\n",
            "| RawRESULT | SELECT ?answer WHERE [ wd:european countries> wdt:constitutional monarchy> ?X . ?X wdt:instance of> wd:european countries> ] |\n",
            "+-----------+------------------------------------------------------------------------------------------------------------------------------+\n",
            "|  RESULT   |               SELECT ?answer WHERE { wd:european countries wdt:Q41614 ?X . ?X wdt:P31 wd:european countries }                |\n",
            "+-----------+------------------------------------------------------------------------------------------------------------------------------+\n"
          ]
        }
      ],
      "source": [
        "# From QALD\n",
        "q = 'Which European countries have a constitutional monarchy?'\n",
        "target = \"PREFIX dbo: <http://dbpedia.org/ontology/> PREFIX dct: <http://purl.org/dc/terms/> PREFIX dbc: <http://dbpedia.org/resource/Category:> PREFIX dbr: <http://dbpedia.org/resource/> SELECT ?uri WHERE { ?uri dct:subject dbc:Countries_in_Europe ; dbo:governmentType dbr:Constitutional_monarchy }\"\n",
        "pretty_translate(target, q)"
      ]
    },
    {
      "cell_type": "code",
      "execution_count": null,
      "metadata": {},
      "outputs": [
        {
          "name": "stdout",
          "output_type": "stream",
          "text": [
            "+-----------+------------------------------------------------------------------------------------------------------------------------------+\n",
            "| QUESTION  |                                    Which countries have places with more than two caves?                                     |\n",
            "+-----------+------------------------------------------------------------------------------------------------------------------------------+\n",
            "|  Target   | PREFIX dbo: <http://dbpedia.org/ontology/> PREFIX rdf: <http://www.w3.org/1999/02/22-rdf-syntax-ns#> SELECT DISTINCT ?uri WH |\n",
            "|           |  ERE { ?cave rdf:type dbo:Cave ; dbo:location ?uri . ?uri rdf:type dbo:Country } GROUP BY ?uri HAVING ( COUNT(?cave) > 2 )   |\n",
            "+-----------+------------------------------------------------------------------------------------------------------------------------------+\n",
            "| RawRESULT | SELECT ?answer WHERE [ wd:horse> wdt:place of birth> ?answer . ?answer wdt:place of birth> ?answer . ?answer wdt:place of bi |\n",
            "|           |                                     rth> ?answer . ?answer wdt:place of birth> ?answer ]                                     |\n",
            "+-----------+------------------------------------------------------------------------------------------------------------------------------+\n",
            "|  RESULT   | SELECT ?answer WHERE { wd:P3091 wdt:P19 ?answer . ?answer wdt:P19 ?answer . ?answer wdt:P19 ?answer . ?answer wdt:P19 ?answe |\n",
            "|           |                                                             r }                                                              |\n",
            "+-----------+------------------------------------------------------------------------------------------------------------------------------+\n"
          ]
        }
      ],
      "source": [
        "# From QALD\n",
        "q = 'Which countries have places with more than two caves?'\n",
        "target = \"PREFIX dbo: <http://dbpedia.org/ontology/> PREFIX rdf: <http://www.w3.org/1999/02/22-rdf-syntax-ns#> SELECT DISTINCT ?uri WHERE { ?cave rdf:type dbo:Cave ; dbo:location ?uri . ?uri rdf:type dbo:Country } GROUP BY ?uri HAVING ( COUNT(?cave) > 2 )\"\n",
        "pretty_translate(target, q)"
      ]
    },
    {
      "cell_type": "code",
      "execution_count": null,
      "metadata": {},
      "outputs": [
        {
          "name": "stdout",
          "output_type": "stream",
          "text": [
            "+-----------+------------------------------------------------------------------------------------------------------------------------------+\n",
            "| QUESTION  |                                        Which airports are located in California, USA?                                        |\n",
            "+-----------+------------------------------------------------------------------------------------------------------------------------------+\n",
            "|  Target   | SELECT DISTINCT ?uri WHERE { ?uri a <http://dbpedia.org/ontology/Airport> { ?uri <http://dbpedia.org/ontology/location> <htt |\n",
            "|           | p://dbpedia.org/resource/California> } UNION { ?uri <http://dbpedia.org/ontology/city> <http://dbpedia.org/resource/Californ |\n",
            "|           | ia> } UNION { ?uri <http://dbpedia.org/ontology/city> ?city . ?city <http://dbpedia.org/ontology/isPartOf> <http://dbpedia.o |\n",
            "|           |  rg/resource/California> } UNION { ?uri <http://dbpedia.org/ontology/operator> <http://dbpedia.org/resource/California> } }  |\n",
            "+-----------+------------------------------------------------------------------------------------------------------------------------------+\n",
            "| RawRESULT | SELECT ?answer WHERE [ wd:california> wdt:local airport> ?answer . ?answer wdt:local airport> ?answer . ?answer wdt:local ai |\n",
            "|           |                                                       rport> ?answer]                                                        |\n",
            "+-----------+------------------------------------------------------------------------------------------------------------------------------+\n",
            "|  RESULT   | SELECT ?answer WHERE { wd:Q99 wdt:local airport ?answer . ?answer wdt:local airport ?answer . ?answer wdt:local airport ?ans |\n",
            "|           |                                                             wer}                                                             |\n",
            "+-----------+------------------------------------------------------------------------------------------------------------------------------+\n"
          ]
        }
      ],
      "source": [
        "# From QALD\n",
        "q = 'Which airports are located in California, USA?'\n",
        "target = \"SELECT DISTINCT ?uri WHERE { ?uri a <http://dbpedia.org/ontology/Airport> { ?uri <http://dbpedia.org/ontology/location> <http://dbpedia.org/resource/California> } UNION { ?uri <http://dbpedia.org/ontology/city> <http://dbpedia.org/resource/California> } UNION { ?uri <http://dbpedia.org/ontology/city> ?city . ?city <http://dbpedia.org/ontology/isPartOf> <http://dbpedia.org/resource/California> } UNION { ?uri <http://dbpedia.org/ontology/operator> <http://dbpedia.org/resource/California> } }\"\n",
        "pretty_translate(target, q)"
      ]
    },
    {
      "cell_type": "code",
      "execution_count": null,
      "metadata": {},
      "outputs": [
        {
          "name": "stdout",
          "output_type": "stream",
          "text": [
            "+-----------+------------------------------------------------------------------------------------------------------------------------------+\n",
            "| QUESTION  |                                           What are the nicknames of San Francisco?                                           |\n",
            "+-----------+------------------------------------------------------------------------------------------------------------------------------+\n",
            "|  Target   |                            SELECT DISTINCT ?string WHERE { res:San_Francisco foaf:nick ?string }                             |\n",
            "+-----------+------------------------------------------------------------------------------------------------------------------------------+\n",
            "| RawRESULT | SELECT ?answer WHERE [ wd:san francisco> wdt:named after> ?answer . ?answer wdt:named after> ?answer . ?answer wdt:instance  |\n",
            "|           |                                                    of> wd:san francisco>]                                                    |\n",
            "+-----------+------------------------------------------------------------------------------------------------------------------------------+\n",
            "|  RESULT   |             SELECT ?answer WHERE { wd:Q62 wdt:P138 ?answer . ?answer wdt:P138 ?answer . ?answer wdt:P31 wd:Q62}              |\n",
            "+-----------+------------------------------------------------------------------------------------------------------------------------------+\n"
          ]
        }
      ],
      "source": [
        "# From QALD\n",
        "q = \"What are the nicknames of San Francisco?\"\n",
        "target = \"SELECT DISTINCT ?string WHERE { res:San_Francisco foaf:nick ?string }\"\n",
        "pretty_translate(target, q)"
      ]
    },
    {
      "cell_type": "code",
      "execution_count": null,
      "metadata": {},
      "outputs": [
        {
          "name": "stdout",
          "output_type": "stream",
          "text": [
            "+-----------+----------------------------------------------------------------------------------------------+\n",
            "| QUESTION  |                             What is Angela Merkel’s birth name?                              |\n",
            "+-----------+----------------------------------------------------------------------------------------------+\n",
            "|  Target   |          SELECT DISTINCT ?string WHERE { res:Angela_Merkel dbp:birthName ?string }           |\n",
            "+-----------+----------------------------------------------------------------------------------------------+\n",
            "| RawRESULT | SELECT ?answer WHERE [ wd:anthona faschina> wdt:birth name> ?X . ?X wdt:birth name> ?answer] |\n",
            "+-----------+----------------------------------------------------------------------------------------------+\n",
            "|  RESULT   |       SELECT ?answer WHERE { wd:anthona faschina wdt:P1477 ?X . ?X wdt:P1477 ?answer}        |\n",
            "+-----------+----------------------------------------------------------------------------------------------+\n"
          ]
        }
      ],
      "source": [
        "# From QALD\n",
        "q = \"What is Angela Merkel’s birth name?\"\n",
        "target = \"SELECT DISTINCT ?string WHERE { res:Angela_Merkel dbp:birthName ?string }\"\n",
        "pretty_translate(target, q)"
      ]
    },
    {
      "cell_type": "code",
      "execution_count": null,
      "metadata": {},
      "outputs": [
        {
          "name": "stdout",
          "output_type": "stream",
          "text": [
            "+-----------+---------------------------------------------------------------------------------------------------+\n",
            "| QUESTION  |                                    Who is the mayor of Berlin?                                    |\n",
            "+-----------+---------------------------------------------------------------------------------------------------+\n",
            "|  Target   |                     SELECT DISTINCT ?uri WHERE { res:Berlin dbp:leader ?uri }                     |\n",
            "+-----------+---------------------------------------------------------------------------------------------------+\n",
            "| RawRESULT | SELECT ?answer WHERE [ wd:berlin> wdt:instance of> ?answer . ?answer wdt:instance of> wd:mayor> ] |\n",
            "+-----------+---------------------------------------------------------------------------------------------------+\n",
            "|  RESULT   |              SELECT ?answer WHERE { wd:Q64 wdt:P31 ?answer . ?answer wdt:P31 wd:P6 }              |\n",
            "+-----------+---------------------------------------------------------------------------------------------------+\n"
          ]
        }
      ],
      "source": [
        "# From QALD\n",
        "q = \"Who is the mayor of Berlin?\"\n",
        "target = \"SELECT DISTINCT ?uri WHERE { res:Berlin dbp:leader ?uri }\"\n",
        "pretty_translate(target, q)"
      ]
    },
    {
      "cell_type": "code",
      "execution_count": null,
      "metadata": {},
      "outputs": [
        {
          "name": "stdout",
          "output_type": "stream",
          "text": [
            "+-----------+------------------------------------------------------------------------------------------------------------------------------+\n",
            "| QUESTION  |                                 Which software has been published by Mean Hamster Software?                                  |\n",
            "+-----------+------------------------------------------------------------------------------------------------------------------------------+\n",
            "|  Target   | SELECT DISTINCT ?uri WHERE { ?uri rdf:type onto:Software { ?uri prop:publisher \"Mean Hamster Software\"@en } UNION { ?uri ont |\n",
            "|           |                                          o:publisher res:Mean_Hamster_Software } }                                           |\n",
            "+-----------+------------------------------------------------------------------------------------------------------------------------------+\n",
            "| RawRESULT |        SELECT ?answer WHERE [ wd:moyen hamster software> wdt:released by> ?answer . ?answer wdt:released by> ?answer]        |\n",
            "+-----------+------------------------------------------------------------------------------------------------------------------------------+\n",
            "|  RESULT   |         SELECT ?answer WHERE { wd:moyen hamster software wdt:released by ?answer . ?answer wdt:released by ?answer}          |\n",
            "+-----------+------------------------------------------------------------------------------------------------------------------------------+\n"
          ]
        }
      ],
      "source": [
        "# From QALD\n",
        "q = \"Which software has been published by Mean Hamster Software?\"\n",
        "target = \"SELECT DISTINCT ?uri WHERE { ?uri rdf:type onto:Software { ?uri prop:publisher \\\"Mean Hamster Software\\\"@en } UNION { ?uri onto:publisher res:Mean_Hamster_Software } }\"\n",
        "pretty_translate(target, q)"
      ]
    },
    {
      "cell_type": "code",
      "execution_count": null,
      "metadata": {},
      "outputs": [
        {
          "name": "stdout",
          "output_type": "stream",
          "text": [
            "+-----------+------------------------------------------------------------------------------------------------------------------------------+\n",
            "| QUESTION  |                                            Which country was Bill Gates born in?                                             |\n",
            "+-----------+------------------------------------------------------------------------------------------------------------------------------+\n",
            "|  Target   | SELECT DISTINCT ?country WHERE { { dbr:Bill_Gates dbo:birthPlace ?birthPlace . ?birthPlace dbo:country ?country } UNION { db |\n",
            "|           |         r:Bill_Gates dbo:birthPlace ?birthPlace . ?birthPlace dbo:isPartOf ?place . ?place dbo:country ?country } }          |\n",
            "+-----------+------------------------------------------------------------------------------------------------------------------------------+\n",
            "| RawRESULT |                SELECT ?answer WHERE [ wd:bilbert gates> wdt:country> ?answer . ?answer wdt:country> ?answer ]                |\n",
            "+-----------+------------------------------------------------------------------------------------------------------------------------------+\n",
            "|  RESULT   |                     SELECT ?answer WHERE { wd:bilbert gates wdt:P17 ?answer . ?answer wdt:P17 ?answer }                      |\n",
            "+-----------+------------------------------------------------------------------------------------------------------------------------------+\n"
          ]
        }
      ],
      "source": [
        "# From QALD\n",
        "q = \"Which country was Bill Gates born in?\"\n",
        "target = \"SELECT DISTINCT ?country WHERE { { dbr:Bill_Gates dbo:birthPlace ?birthPlace . ?birthPlace dbo:country ?country } UNION { dbr:Bill_Gates dbo:birthPlace ?birthPlace . ?birthPlace dbo:isPartOf ?place . ?place dbo:country ?country } }\"\n",
        "pretty_translate(target, q)"
      ]
    },
    {
      "cell_type": "code",
      "execution_count": null,
      "metadata": {},
      "outputs": [
        {
          "name": "stdout",
          "output_type": "stream",
          "text": [
            "+-----------+------------------------------------------------------------------------------------------------------------------------------+\n",
            "| QUESTION  |                                      How many grand-children did Jacques Cousteau have?                                      |\n",
            "+-----------+------------------------------------------------------------------------------------------------------------------------------+\n",
            "|  Target   | SELECT COUNT(DISTINCT ?y AS ?y) WHERE { <http://dbpedia.org/resource/Jacques_Cousteau> <http://dbpedia.org/ontology/child> ? |\n",
            "|           |                                      x . ?x <http://dbpedia.org/ontology/child> ?y . }                                       |\n",
            "+-----------+------------------------------------------------------------------------------------------------------------------------------+\n",
            "| RawRESULT | SELECT ?answer WHERE [ wd:Jacques Cousteau> wdt:grandchildren> ?answer . ?answer wdt:grandchildren> ?answer . ?answer wdt:in |\n",
            "|           |                                                 stance of> wd:grand-child>]                                                  |\n",
            "+-----------+------------------------------------------------------------------------------------------------------------------------------+\n",
            "|  RESULT   |       SELECT ?answer WHERE { wd:Q83233 wdt:P1038 ?answer . ?answer wdt:P1038 ?answer . ?answer wdt:P31 wd:grand-child}       |\n",
            "+-----------+------------------------------------------------------------------------------------------------------------------------------+\n"
          ]
        }
      ],
      "source": [
        "# From QALD\n",
        "q = \"How many grand-children did Jacques Cousteau have?\"\n",
        "target = \"SELECT COUNT(DISTINCT ?y AS ?y) WHERE { <http://dbpedia.org/resource/Jacques_Cousteau> <http://dbpedia.org/ontology/child> ?x . ?x <http://dbpedia.org/ontology/child> ?y . }\"\n",
        "pretty_translate(target, q)"
      ]
    },
    {
      "cell_type": "code",
      "execution_count": null,
      "metadata": {},
      "outputs": [
        {
          "name": "stdout",
          "output_type": "stream",
          "text": [
            "+-----------+------------------------------------------------------------------------------------------------------------------------------+\n",
            "| QUESTION  |                                     Give me all professional skateboarders from Sweden.                                      |\n",
            "+-----------+------------------------------------------------------------------------------------------------------------------------------+\n",
            "|  Target   | SELECT DISTINCT ?uri WHERE { ?uri dbo:occupation dbr:Skateboarder { ?uri dbo:birthPlace dbr:Sweden } UNION { ?uri dbo:birthP |\n",
            "|           |                                       lace ?place . ?place dbo:country dbr:Sweden } }                                        |\n",
            "+-----------+------------------------------------------------------------------------------------------------------------------------------+\n",
            "| RawRESULT | SELECT DISTINCT ?subject ?subject_label WHERE [ ?subject wdt:instance of> wd:professional skateboarder> . ?subject rdfs:labe |\n",
            "|           |                         l ?subject_label . FILTER(STRSTARTS(lcase(?subject_label), 'en')) . FILTER (                         |\n",
            "+-----------+------------------------------------------------------------------------------------------------------------------------------+\n",
            "|  RESULT   | SELECT DISTINCT ?subject ?subject_label WHERE { ?subject wdt:P31 wd:professional skateboarder . ?subject rdfs:label ?subject |\n",
            "|           |                              _label . FILTER(STRSTARTS(lcase(?subject_label), 'en')) . FILTER (                              |\n",
            "+-----------+------------------------------------------------------------------------------------------------------------------------------+\n"
          ]
        }
      ],
      "source": [
        "# From QALD\n",
        "q = \"Give me all professional skateboarders from Sweden.\"\n",
        "target = \"SELECT DISTINCT ?uri WHERE { ?uri dbo:occupation dbr:Skateboarder { ?uri dbo:birthPlace dbr:Sweden } UNION { ?uri dbo:birthPlace ?place . ?place dbo:country dbr:Sweden } }\"\n",
        "pretty_translate(target, q)"
      ]
    },
    {
      "cell_type": "code",
      "execution_count": null,
      "metadata": {},
      "outputs": [
        {
          "name": "stdout",
          "output_type": "stream",
          "text": [
            "+-----------+------------------------------------------------------------------------------------------------------------------------------+\n",
            "| QUESTION  |                                Which monarchs of the United Kingdom were married to a German?                                |\n",
            "+-----------+------------------------------------------------------------------------------------------------------------------------------+\n",
            "|  Target   | SELECT DISTINCT ?uri WHERE { ?uri rdf:type yago:WikicatMonarchsOfTheUnitedKingdom ; dbo:spouse ?spouse . ?spouse dbo:birthPl |\n",
            "|           |                                                      ace res:Germany }                                                       |\n",
            "+-----------+------------------------------------------------------------------------------------------------------------------------------+\n",
            "| RawRESULT |            SELECT ?answer WHERE [ wd:u.s.> wdt:heirated monarch> ?answer . ?answer wdt:heirated monarch> ?answer]            |\n",
            "+-----------+------------------------------------------------------------------------------------------------------------------------------+\n",
            "|  RESULT   |           SELECT ?answer WHERE { wd:Q9747.s. wdt:heirated monarch ?answer . ?answer wdt:heirated monarch ?answer}            |\n",
            "+-----------+------------------------------------------------------------------------------------------------------------------------------+\n"
          ]
        }
      ],
      "source": [
        "# From QALD\n",
        "q = \"Which monarchs of the United Kingdom were married to a German?\"\n",
        "target = \"SELECT DISTINCT ?uri WHERE { ?uri rdf:type yago:WikicatMonarchsOfTheUnitedKingdom ; dbo:spouse ?spouse . ?spouse dbo:birthPlace res:Germany }\"\n",
        "pretty_translate(target, q)"
      ]
    },
    {
      "cell_type": "code",
      "execution_count": null,
      "metadata": {},
      "outputs": [
        {
          "name": "stdout",
          "output_type": "stream",
          "text": [
            "+-----------+------------------------------------------------------------------------------------------------------------------------------+\n",
            "| QUESTION  |                                                 Give me all Argentine films.                                                 |\n",
            "+-----------+------------------------------------------------------------------------------------------------------------------------------+\n",
            "|  Target   | SELECT DISTINCT ?uri WHERE { { ?uri rdf:type yago:ArgentineFilms } UNION { ?uri rdf:type dbo:Film { ?uri dbo:country res:Arg |\n",
            "|           |                                    entina } UNION { ?uri dbp:country \"Argentina\"@en } } }                                    |\n",
            "+-----------+------------------------------------------------------------------------------------------------------------------------------+\n",
            "| RawRESULT | SELECT DISTINCT ?subject ?subject_label WHERE [ ?subject wdt:instance of> wd:argentina> . ?subject rdfs:label ?subject_label |\n",
            "|           |                                . FILTER(STRSTARTS(lcase(?subject_label), 'en')) . FILTER (lang                               |\n",
            "+-----------+------------------------------------------------------------------------------------------------------------------------------+\n",
            "|  RESULT   | SELECT DISTINCT ?subject ?subject_label WHERE { ?subject wdt:P31 wd:Q414 . ?subject rdfs:label ?subject_label . FILTER(STRST |\n",
            "|           |                                      ARTS(lcase(?subject_label), 'en')) . FILTER (lang                                       |\n",
            "+-----------+------------------------------------------------------------------------------------------------------------------------------+\n"
          ]
        }
      ],
      "source": [
        "# From QALD\n",
        "q = \"Give me all Argentine films.\"\n",
        "target = \"SELECT DISTINCT ?uri WHERE { { ?uri rdf:type yago:ArgentineFilms } UNION { ?uri rdf:type dbo:Film { ?uri dbo:country res:Argentina } UNION { ?uri dbp:country \\\"Argentina\\\"@en } } }\"\n",
        "pretty_translate(target, q)"
      ]
    },
    {
      "cell_type": "code",
      "execution_count": null,
      "metadata": {},
      "outputs": [
        {
          "name": "stdout",
          "output_type": "stream",
          "text": [
            "+-----------+------------------------------------------------------------------------------------------------------------------------+\n",
            "| QUESTION  |                                              How did Michael Jackson die?                                              |\n",
            "+-----------+------------------------------------------------------------------------------------------------------------------------+\n",
            "|  Target   | SELECT DISTINCT ?s WHERE { <http://dbpedia.org/resource/Michael_Jackson> <http://dbpedia.org/property/deathCause> ?s } |\n",
            "+-----------+------------------------------------------------------------------------------------------------------------------------+\n",
            "| RawRESULT |                    SELECT ?answer WHERE [ wd:michael jong> wdt:mortem> ?X . ?X wdt:mortem> ?answer]                    |\n",
            "+-----------+------------------------------------------------------------------------------------------------------------------------+\n",
            "|  RESULT   |                   SELECT ?answer WHERE { wd:michael jong wdt:Q1622913 ?X . ?X wdt:Q1622913 ?answer}                    |\n",
            "+-----------+------------------------------------------------------------------------------------------------------------------------+\n"
          ]
        }
      ],
      "source": [
        "# From QALD\n",
        "q = \"How did Michael Jackson die?\"\n",
        "target = \"SELECT DISTINCT ?s WHERE { <http://dbpedia.org/resource/Michael_Jackson> <http://dbpedia.org/property/deathCause> ?s }\"\n",
        "pretty_translate(target, q)"
      ]
    },
    {
      "cell_type": "code",
      "execution_count": null,
      "metadata": {},
      "outputs": [
        {
          "name": "stdout",
          "output_type": "stream",
          "text": [
            "+-----------+------------------------------------------------------------------------------------------------------------------------------+\n",
            "| QUESTION  |                                               Where did Michael Jackson died?                                                |\n",
            "+-----------+------------------------------------------------------------------------------------------------------------------------------+\n",
            "|  Target   |                                                              .                                                               |\n",
            "+-----------+------------------------------------------------------------------------------------------------------------------------------+\n",
            "| RawRESULT | SELECT ?answer WHERE [ wd:michael jong> wdt:place of death> ?answer . ?answer wdt:place of death> ?answer . ?answer wdt:plac |\n",
            "|           |                                                     e of death> ?answer]                                                     |\n",
            "+-----------+------------------------------------------------------------------------------------------------------------------------------+\n",
            "|  RESULT   |         SELECT ?answer WHERE { wd:michael jong wdt:P20 ?answer . ?answer wdt:P20 ?answer . ?answer wdt:P20 ?answer}          |\n",
            "+-----------+------------------------------------------------------------------------------------------------------------------------------+\n"
          ]
        }
      ],
      "source": [
        "# From QALD\n",
        "q = \"Where did Michael Jackson died?\"\n",
        "target = \".\"\n",
        "pretty_translate(target, q)"
      ]
    },
    {
      "cell_type": "code",
      "execution_count": null,
      "metadata": {},
      "outputs": [
        {
          "name": "stdout",
          "output_type": "stream",
          "text": [
            "+-----------+------------------------------------------------------------------------------------------------------------------------------+\n",
            "| QUESTION  |                                         Which classes does the Millepede belong to?                                          |\n",
            "+-----------+------------------------------------------------------------------------------------------------------------------------------+\n",
            "|  Target   |                              SELECT DISTINCT ?String WHERE { res:Millipede dbp:taxon ?String }                               |\n",
            "+-----------+------------------------------------------------------------------------------------------------------------------------------+\n",
            "| RawRESULT | SELECT ?answer WHERE [ wd:millepede> wdt:class> ?answer . ?answer wdt:class> ?answer . ?answer wdt:member of> wd:millepede>] |\n",
            "+-----------+------------------------------------------------------------------------------------------------------------------------------+\n",
            "|  RESULT   |      SELECT ?answer WHERE { wd:millepede wdt:P2308 ?answer . ?answer wdt:P2308 ?answer . ?answer wdt:P463 wd:millepede}      |\n",
            "+-----------+------------------------------------------------------------------------------------------------------------------------------+\n"
          ]
        }
      ],
      "source": [
        "# From QALD\n",
        "q = \"Which classes does the Millepede belong to?\"\n",
        "target = \"SELECT DISTINCT ?String WHERE { res:Millipede dbp:taxon ?String }\"\n",
        "pretty_translate(target, q)"
      ]
    },
    {
      "cell_type": "code",
      "execution_count": null,
      "metadata": {},
      "outputs": [
        {
          "name": "stdout",
          "output_type": "stream",
          "text": [
            "+-----------+------------------------------------------------------------------------------------------------------------------------------+\n",
            "| QUESTION  |                                         Which classes does the Millepede belong to?                                          |\n",
            "+-----------+------------------------------------------------------------------------------------------------------------------------------+\n",
            "|  Target   |                              SELECT DISTINCT ?String WHERE { res:Millipede dbp:taxon ?String }                               |\n",
            "+-----------+------------------------------------------------------------------------------------------------------------------------------+\n",
            "| RawRESULT | SELECT ?answer WHERE [ wd:millepede> wdt:class> ?answer . ?answer wdt:class> ?answer . ?answer wdt:member of> wd:millepede>] |\n",
            "+-----------+------------------------------------------------------------------------------------------------------------------------------+\n",
            "|  RESULT   |      SELECT ?answer WHERE { wd:millepede wdt:P2308 ?answer . ?answer wdt:P2308 ?answer . ?answer wdt:P463 wd:millepede}      |\n",
            "+-----------+------------------------------------------------------------------------------------------------------------------------------+\n"
          ]
        }
      ],
      "source": [
        "# From QALD\n",
        "q = \"Which classes does the Millepede belong to?\"\n",
        "target = \"SELECT DISTINCT ?String WHERE { res:Millipede dbp:taxon ?String }\"\n",
        "pretty_translate(target, q)"
      ]
    }
  ],
  "metadata": {
    "colab": {
      "name": "seq2seq-t5-use.ipynb",
      "provenance": []
    },
    "interpreter": {
      "hash": "e7370f93d1d0cde622a1f8e1c04877d8463912d04d973331ad4851f04de6915a"
    },
    "kernelspec": {
      "display_name": "Python 3.8.5 64-bit",
      "name": "python3"
    },
    "language_info": {
      "codemirror_mode": {
        "name": "ipython",
        "version": 3
      },
      "file_extension": ".py",
      "mimetype": "text/x-python",
      "name": "python",
      "nbconvert_exporter": "python",
      "pygments_lexer": "ipython3",
      "version": "3.8.5"
    },
    "orig_nbformat": 4
  },
  "nbformat": 4,
  "nbformat_minor": 2
}
